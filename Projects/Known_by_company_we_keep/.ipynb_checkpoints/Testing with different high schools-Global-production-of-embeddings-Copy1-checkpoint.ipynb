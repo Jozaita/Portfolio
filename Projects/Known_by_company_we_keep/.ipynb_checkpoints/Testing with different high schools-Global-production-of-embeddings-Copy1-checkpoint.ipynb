{
 "cells": [
  {
   "cell_type": "markdown",
   "id": "1bc7b170",
   "metadata": {},
   "source": [
    "## Build the Data object"
   ]
  },
  {
   "cell_type": "code",
   "execution_count": null,
   "id": "ffbadf66",
   "metadata": {},
   "outputs": [],
   "source": [
    "import numpy as np\n",
    "import pandas as pd \n",
    "import random as rd\n",
    "import seaborn as sns\n",
    "import matplotlib.pyplot as plt\n",
    "import networkx as nx\n",
    "import torch\n",
    "import torch_geometric.data as data\n",
    "from torch_geometric.nn import GCNConv\n",
    "import torch_geometric.transforms as T\n",
    "import torch.nn.functional as F\n",
    "from torch_geometric.utils import negative_sampling,train_test_split_edges,to_dense_adj\n",
    "from torch_geometric.loader import DataLoader\n",
    "from sklearn.metrics import roc_auc_score\n",
    "from torch_geometric.transforms import RandomLinkSplit\n",
    "from sklearn import preprocessing\n",
    "from torch_geometric.nn import Node2Vec\n",
    "\n",
    "device = \"cpu\""
   ]
  },
  {
   "cell_type": "code",
   "execution_count": null,
   "id": "6958ac93",
   "metadata": {},
   "outputs": [],
   "source": [
    "len_datasets = 13\n",
    "datasets_nodes = [0]*len_datasets\n",
    "datasets_edges = [0]*len_datasets\n",
    "data_list = [0]*len_datasets\n",
    "for i in range(0,len_datasets):\n",
    "    datasets_nodes[i] = pd.read_csv(r\"Coles/Nodes/Nodes_t\"+str(i+1)+\".csv\",sep=\",\",encoding = 'unicode_escape')\n",
    "    datasets_edges[i] = pd.read_csv(r\"Coles/Edges/Edges_t\"+str(i+1)+\".csv\",sep=\",\",encoding = 'unicode_escape')\n",
    "    datasets_nodes[i].drop(\"ID\",axis=1,inplace=True)\n",
    "    if i == 0:\n",
    "        datasets_edges[i][[\"from\",\"to\"]] = datasets_edges[i][[\"from\",\"to\"]].apply(lambda x:x-datasets_edges[i][\"from\"].min())\n",
    "    else:\n",
    "        datasets_edges[i][[\"from\",\"to\"]] = datasets_edges[i][[\"from\",\"to\"]].apply(lambda x:x+1+datasets_edges[i-1][\"from\"].max()-datasets_edges[i][\"from\"].min())\n",
    "    datasets_nodes[i][\"Escuela\"] = i\n",
    "    datasets_edges[i][\"Escuela\"] = i\n",
    "    datasets_edges[i][\"weight\"] = datasets_edges[i][\"weight\"].apply(lambda x: np.sign(x)).replace({-1:0}).reset_index().drop(\"index\",axis=1)\n",
    "    data_list[i] = data.Data(edge_index = torch.tensor(datasets_edges[i][[\"from\",\"to\"]].to_numpy().T))\n",
    "\n",
    "data_loader = DataLoader(data_list, batch_size=len_datasets)"
   ]
  },
  {
   "cell_type": "code",
   "execution_count": null,
   "id": "8c1c77f7",
   "metadata": {},
   "outputs": [],
   "source": [
    "total_embeddings = pd.DataFrame()\n",
    "i = 0\n",
    "for data in data_loader.dataset:\n",
    "    print(\"Dataset: {}\".format(i))\n",
    "    model = Node2Vec(data.edge_index, embedding_dim=128, walk_length=40,\n",
    "             context_size=20, walks_per_node=5,\n",
    "             num_negative_samples=1, p=1, q=1, sparse=True).to(device)\n",
    "    loader = model.loader(batch_size=128, shuffle=True, num_workers=4)\n",
    "    optimizer = torch.optim.SparseAdam(list(model.parameters()), lr=0.01)\n",
    "    \n",
    "    #####\n",
    "    def train():\n",
    "        model.train()\n",
    "        total_loss = 0\n",
    "        for pos_rw, neg_rw in loader:\n",
    "            optimizer.zero_grad()\n",
    "            loss = model.loss(pos_rw.to(device), neg_rw.to(device))\n",
    "            loss.backward()\n",
    "            optimizer.step()\n",
    "            total_loss += loss.item()\n",
    "        return total_loss / len(loader)\n",
    "\n",
    "\n",
    "    for epoch in range(1, 121):\n",
    "        loss = train()\n",
    "        if epoch % 10 == 0:\n",
    "            print(f'Epoch: {epoch:02d}, Loss: {loss:.4f}')\n",
    "        ####\n",
    "        \n",
    "    z = model()\n",
    "    # from tensor to numpy\n",
    "    emb_128 = z.detach().cpu().numpy()\n",
    "    \n",
    "    edge_embedding = []\n",
    "    for u,v in data.edge_index.t():\n",
    "        edge_embedding.append(np.maximum(emb_128[u],emb_128[v]))\n",
    "    total_embeddings_temp = pd.DataFrame(edge_embedding)\n",
    "    total_embeddings_temp[\"Escuela\"] = datasets_edges[i][\"Escuela\"]\n",
    "    total_embeddings_temp[\"weight\"] = pd.DataFrame(datasets_edges[i][[\"weight\"]])\n",
    "    total_embeddings = pd.concat([total_embeddings,total_embeddings_temp],axis=0)\n",
    "    i += 1\n",
    "    \n",
    "total_embeddings.to_csv(\"total_embeddings_with_bf_dataloader.csv\",index=\"False\")"
   ]
  },
  {
   "cell_type": "markdown",
   "id": "842da7ba",
   "metadata": {},
   "source": [
    "### Build the dataloader object"
   ]
  },
  {
   "cell_type": "code",
   "execution_count": null,
   "id": "2e2adfa6",
   "metadata": {},
   "outputs": [],
   "source": []
  }
 ],
 "metadata": {
  "kernelspec": {
   "display_name": "Python 3 (ipykernel)",
   "language": "python",
   "name": "python3"
  },
  "language_info": {
   "codemirror_mode": {
    "name": "ipython",
    "version": 3
   },
   "file_extension": ".py",
   "mimetype": "text/x-python",
   "name": "python",
   "nbconvert_exporter": "python",
   "pygments_lexer": "ipython3",
   "version": "3.8.10"
  }
 },
 "nbformat": 4,
 "nbformat_minor": 5
}
