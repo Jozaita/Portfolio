{
 "cells": [
  {
   "cell_type": "markdown",
   "id": "1bc7b170",
   "metadata": {},
   "source": [
    "## Build the Data object"
   ]
  },
  {
   "cell_type": "code",
   "execution_count": 1,
   "id": "ffbadf66",
   "metadata": {},
   "outputs": [],
   "source": [
    "import numpy as np\n",
    "import pandas as pd \n",
    "import random as rd\n",
    "import networkx as nx"
   ]
  },
  {
   "cell_type": "code",
   "execution_count": 2,
   "id": "93008a30",
   "metadata": {},
   "outputs": [],
   "source": [
    "import torch\n",
    "import torch_geometric.data as data\n",
    "import torch_geometric.transforms as T\n",
    "from torch_geometric.utils import negative_sampling,train_test_split_edges,to_dense_adj\n",
    "from torch_geometric.loader import DataLoader\n",
    "from sklearn import preprocessing\n",
    "from torch_geometric.nn import Node2Vec\n",
    "from tqdm import tqdm\n",
    "\n",
    "device = \"cpu\""
   ]
  },
  {
   "cell_type": "code",
   "execution_count": 3,
   "id": "6958ac93",
   "metadata": {},
   "outputs": [],
   "source": [
    "len_datasets = 13\n",
    "datasets_nodes = [0]*len_datasets\n",
    "datasets_edges = [0]*len_datasets\n",
    "data_list = [0]*len_datasets\n",
    "graficas = [0]*len_datasets\n",
    "for i in range(0,len_datasets):\n",
    "    datasets_nodes[i] = pd.read_csv(r\"Coles/Nodes/Nodes_t\"+str(i+1)+\".csv\",sep=\",\",encoding = 'unicode_escape')\n",
    "    datasets_edges[i] = pd.read_csv(r\"Coles/Edges/Edges_t\"+str(i+1)+\".csv\",sep=\",\",encoding = 'unicode_escape')\n",
    "    if i == 0:\n",
    "        datasets_edges[i][[\"from\",\"to\"]] = datasets_edges[i][[\"from\",\"to\"]].apply(lambda x:x-datasets_edges[i][\"from\"].min())\n",
    "        datasets_nodes[i][[\"ID\"]] = datasets_nodes[i][[\"ID\"]].apply(lambda x:x-datasets_nodes[i][\"ID\"].min())\n",
    "    else:\n",
    "        datasets_edges[i][[\"from\",\"to\"]] = datasets_edges[i][[\"from\",\"to\"]].apply(lambda x:x+1+datasets_edges[i-1][\"from\"].max()-datasets_edges[i][\"from\"].min())\n",
    "        datasets_nodes[i][[\"ID\"]] = datasets_nodes[i][[\"ID\"]].apply(lambda x:x+1+datasets_nodes[i-1][\"ID\"].max()-datasets_nodes[i][\"ID\"].min())\n",
    "    \n",
    "    datasets_nodes[i][\"Escuela\"] = i\n",
    "    datasets_edges[i][\"Escuela\"] = i\n",
    "    datasets_edges[i][\"weight\"] = datasets_edges[i][\"weight\"].apply(lambda x: np.sign(x)).replace({-1:0}).reset_index().drop(\"index\",axis=1)\n",
    "\n",
    "    data_list[i] = data.Data(edge_index = torch.tensor(datasets_edges[i][[\"from\",\"to\"]].to_numpy().T))\n",
    "    graficas[i] = nx.from_pandas_edgelist(datasets_edges[i],source=\"from\",target=\"to\",create_using=nx.DiGraph())\n",
    "data_loader = DataLoader(data_list, batch_size=len_datasets)"
   ]
  },
  {
   "cell_type": "markdown",
   "id": "1ac78143",
   "metadata": {},
   "source": [
    "### Final choices for the hyperparameters\n",
    "The parameters that are not described are set as in the code below.\n",
    "\n",
    " <u> Configurations without best friends </u> <br>\n",
    "    -  DeepWalk _(p=1,q=1)_ <br>\n",
    "    - BFS _(p=1,q=10)_ <br>\n",
    "    - DFS _(p=10,q=1)_ <br>"
   ]
  },
  {
   "cell_type": "code",
   "execution_count": 4,
   "id": "acc4e891",
   "metadata": {},
   "outputs": [],
   "source": [
    "def extract_lengths(walk,grafica):\n",
    "    origin = walk[0]\n",
    "    lengths = [0]*(len(walk)-1)\n",
    "    for i,el in enumerate(walk[1:]):\n",
    "            lengths[i] = nx.shortest_path_length(grafica,origin,el)        \n",
    "    return lengths"
   ]
  },
  {
   "cell_type": "code",
   "execution_count": 37,
   "id": "4afb853a",
   "metadata": {},
   "outputs": [
    {
     "name": "stdout",
     "output_type": "stream",
     "text": [
      "Dataset: 0\n"
     ]
    },
    {
     "name": "stderr",
     "output_type": "stream",
     "text": [
      "100%|█████████████████████████████████████████| 409/409 [00:12<00:00, 32.92it/s]\n"
     ]
    },
    {
     "name": "stdout",
     "output_type": "stream",
     "text": [
      "Dataset: 1\n"
     ]
    },
    {
     "name": "stderr",
     "output_type": "stream",
     "text": [
      "  0%|                                                   | 0/647 [00:00<?, ?it/s]\n"
     ]
    },
    {
     "ename": "NodeNotFound",
     "evalue": "Either source 0 or target 0 is not in G",
     "output_type": "error",
     "traceback": [
      "\u001b[0;31m---------------------------------------------------------------------------\u001b[0m",
      "\u001b[0;31mNodeNotFound\u001b[0m                              Traceback (most recent call last)",
      "Input \u001b[0;32mIn [37]\u001b[0m, in \u001b[0;36m<cell line: 13>\u001b[0;34m()\u001b[0m\n\u001b[1;32m     21\u001b[0m \u001b[38;5;28;01mfor\u001b[39;00m item \u001b[38;5;129;01min\u001b[39;00m tqdm(loader):\n\u001b[1;32m     22\u001b[0m     \u001b[38;5;66;03m#for node in network\u001b[39;00m\n\u001b[1;32m     23\u001b[0m     \u001b[38;5;28;01mfor\u001b[39;00m el \u001b[38;5;129;01min\u001b[39;00m item[\u001b[38;5;241m0\u001b[39m]:\n\u001b[1;32m     24\u001b[0m             \u001b[38;5;66;03m#el is a random walk\u001b[39;00m\n\u001b[0;32m---> 25\u001b[0m             sh_path \u001b[38;5;241m=\u001b[39m \u001b[43mextract_lengths\u001b[49m\u001b[43m(\u001b[49m\u001b[43mel\u001b[49m\u001b[38;5;241;43m.\u001b[39;49m\u001b[43mnumpy\u001b[49m\u001b[43m(\u001b[49m\u001b[43m)\u001b[49m\u001b[43m,\u001b[49m\u001b[43mgraficas\u001b[49m\u001b[43m[\u001b[49m\u001b[43mi\u001b[49m\u001b[43m]\u001b[49m\u001b[43m)\u001b[49m\n\u001b[1;32m     26\u001b[0m             sh_max \u001b[38;5;241m+\u001b[39m\u001b[38;5;241m=\u001b[39m \u001b[38;5;28mmax\u001b[39m(sh_path)\n\u001b[1;32m     27\u001b[0m             sh_max_2 \u001b[38;5;241m+\u001b[39m\u001b[38;5;241m=\u001b[39m \u001b[38;5;28mmax\u001b[39m(sh_path)\u001b[38;5;241m*\u001b[39m\u001b[38;5;241m*\u001b[39m\u001b[38;5;241m2\u001b[39m\n",
      "Input \u001b[0;32mIn [4]\u001b[0m, in \u001b[0;36mextract_lengths\u001b[0;34m(walk, grafica)\u001b[0m\n\u001b[1;32m      3\u001b[0m lengths \u001b[38;5;241m=\u001b[39m [\u001b[38;5;241m0\u001b[39m]\u001b[38;5;241m*\u001b[39m(\u001b[38;5;28mlen\u001b[39m(walk)\u001b[38;5;241m-\u001b[39m\u001b[38;5;241m1\u001b[39m)\n\u001b[1;32m      4\u001b[0m \u001b[38;5;28;01mfor\u001b[39;00m i,el \u001b[38;5;129;01min\u001b[39;00m \u001b[38;5;28menumerate\u001b[39m(walk[\u001b[38;5;241m1\u001b[39m:]):\n\u001b[0;32m----> 5\u001b[0m         lengths[i] \u001b[38;5;241m=\u001b[39m \u001b[43mnx\u001b[49m\u001b[38;5;241;43m.\u001b[39;49m\u001b[43mshortest_path_length\u001b[49m\u001b[43m(\u001b[49m\u001b[43mgrafica\u001b[49m\u001b[43m,\u001b[49m\u001b[43morigin\u001b[49m\u001b[43m,\u001b[49m\u001b[43mel\u001b[49m\u001b[43m)\u001b[49m        \n\u001b[1;32m      6\u001b[0m \u001b[38;5;28;01mreturn\u001b[39;00m lengths\n",
      "File \u001b[0;32m~/.local/lib/python3.8/site-packages/networkx/algorithms/shortest_paths/generic.py:307\u001b[0m, in \u001b[0;36mshortest_path_length\u001b[0;34m(G, source, target, weight, method)\u001b[0m\n\u001b[1;32m    304\u001b[0m \u001b[38;5;28;01melse\u001b[39;00m:\n\u001b[1;32m    305\u001b[0m     \u001b[38;5;66;03m# Find shortest source-target path.\u001b[39;00m\n\u001b[1;32m    306\u001b[0m     \u001b[38;5;28;01mif\u001b[39;00m method \u001b[38;5;241m==\u001b[39m \u001b[38;5;124m\"\u001b[39m\u001b[38;5;124munweighted\u001b[39m\u001b[38;5;124m\"\u001b[39m:\n\u001b[0;32m--> 307\u001b[0m         p \u001b[38;5;241m=\u001b[39m \u001b[43mnx\u001b[49m\u001b[38;5;241;43m.\u001b[39;49m\u001b[43mbidirectional_shortest_path\u001b[49m\u001b[43m(\u001b[49m\u001b[43mG\u001b[49m\u001b[43m,\u001b[49m\u001b[43m \u001b[49m\u001b[43msource\u001b[49m\u001b[43m,\u001b[49m\u001b[43m \u001b[49m\u001b[43mtarget\u001b[49m\u001b[43m)\u001b[49m\n\u001b[1;32m    308\u001b[0m         paths \u001b[38;5;241m=\u001b[39m \u001b[38;5;28mlen\u001b[39m(p) \u001b[38;5;241m-\u001b[39m \u001b[38;5;241m1\u001b[39m\n\u001b[1;32m    309\u001b[0m     \u001b[38;5;28;01melif\u001b[39;00m method \u001b[38;5;241m==\u001b[39m \u001b[38;5;124m\"\u001b[39m\u001b[38;5;124mdijkstra\u001b[39m\u001b[38;5;124m\"\u001b[39m:\n",
      "File \u001b[0;32m~/.local/lib/python3.8/site-packages/networkx/algorithms/shortest_paths/unweighted.py:221\u001b[0m, in \u001b[0;36mbidirectional_shortest_path\u001b[0;34m(G, source, target)\u001b[0m\n\u001b[1;32m    219\u001b[0m \u001b[38;5;28;01mif\u001b[39;00m source \u001b[38;5;129;01mnot\u001b[39;00m \u001b[38;5;129;01min\u001b[39;00m G \u001b[38;5;129;01mor\u001b[39;00m target \u001b[38;5;129;01mnot\u001b[39;00m \u001b[38;5;129;01min\u001b[39;00m G:\n\u001b[1;32m    220\u001b[0m     msg \u001b[38;5;241m=\u001b[39m \u001b[38;5;124mf\u001b[39m\u001b[38;5;124m\"\u001b[39m\u001b[38;5;124mEither source \u001b[39m\u001b[38;5;132;01m{\u001b[39;00msource\u001b[38;5;132;01m}\u001b[39;00m\u001b[38;5;124m or target \u001b[39m\u001b[38;5;132;01m{\u001b[39;00mtarget\u001b[38;5;132;01m}\u001b[39;00m\u001b[38;5;124m is not in G\u001b[39m\u001b[38;5;124m\"\u001b[39m\n\u001b[0;32m--> 221\u001b[0m     \u001b[38;5;28;01mraise\u001b[39;00m nx\u001b[38;5;241m.\u001b[39mNodeNotFound(msg)\n\u001b[1;32m    223\u001b[0m \u001b[38;5;66;03m# call helper to do the real work\u001b[39;00m\n\u001b[1;32m    224\u001b[0m results \u001b[38;5;241m=\u001b[39m _bidirectional_pred_succ(G, source, target)\n",
      "\u001b[0;31mNodeNotFound\u001b[0m: Either source 0 or target 0 is not in G"
     ]
    }
   ],
   "source": [
    "\n",
    "#_local p=0.5 q = 4 w_l = 40 ,c_s = 20 #same with local hyperparameters\n",
    "#_local_2 p=0.5 q = 4, w_l = 10 c_s = 5 # same as former restricted to more begginings \n",
    "#should not be very trustworthy as c_s = 5 and c_s = 20 do not offer results\n",
    "#0.25 with more nodes\n",
    "total_embeddings = pd.DataFrame()\n",
    "i = 0\n",
    "j = 0\n",
    "###metrics\n",
    "sh_hist = np.zeros(10)\n",
    "sh_max = 0\n",
    "sh_max_2 = 0\n",
    "###\n",
    "for data in data_loader.dataset:\n",
    "    print(\"Dataset: {}\".format(i))\n",
    "    model = Node2Vec(data.edge_index, embedding_dim=128, walk_length=30,\n",
    "             context_size=10, walks_per_node=10,\n",
    "             num_negative_samples=1, p=1, q=4, sparse=True).to(device)\n",
    "    loader = model.loader(num_workers=4)\n",
    "    #####\n",
    "    for item in tqdm(loader):\n",
    "        #for node in network\n",
    "        for el in item[0]:\n",
    "                #el is a random walk\n",
    "                sh_path = extract_lengths(el.numpy(),graficas[i])\n",
    "                sh_max += max(sh_path)\n",
    "                sh_max_2 += max(sh_path)**2\n",
    "                sh_hist += np.histogram(sh_path,bins=10,range=(0,10))[0]\n",
    "                j += 1\n",
    "    i+=1\n"
   ]
  },
  {
   "cell_type": "markdown",
   "id": "cf491235",
   "metadata": {},
   "source": [
    "   for item in loader:\n",
    "        for el in tqdm(item[0]):\n",
    "            #el is a random walk\n",
    "            sh_path = extract_lengths(el)\n",
    "            sh_path_2 = [path**2 for path in sh_path]\n",
    "            sh_path_mean += sum(sh_path)/9\n",
    "            sh_path_var += sum(sh_path_2)/9\n",
    "    i+=1"
   ]
  },
  {
   "cell_type": "code",
   "execution_count": null,
   "id": "ef6cd911",
   "metadata": {},
   "outputs": [],
   "source": [
    "for item in loader:\n",
    "    print(item[0][0])"
   ]
  },
  {
   "cell_type": "code",
   "execution_count": null,
   "id": "54fb2f09",
   "metadata": {},
   "outputs": [],
   "source": [
    "print(data.edge_index[1,:].min(),data.edge_index[1,:].max())\n"
   ]
  },
  {
   "cell_type": "code",
   "execution_count": null,
   "id": "ced11e5d",
   "metadata": {},
   "outputs": [],
   "source": [
    "print(f\"{sh_max/j:.2f} +/- {(sh_max_2/j-(sh_max/j)**2):.2f}\")"
   ]
  },
  {
   "cell_type": "code",
   "execution_count": null,
   "id": "dc58cf87",
   "metadata": {},
   "outputs": [],
   "source": [
    "import matplotlib.pyplot as plt\n",
    "plt.plot(sh_hist/j)"
   ]
  },
  {
   "cell_type": "code",
   "execution_count": 15,
   "id": "bda5719b",
   "metadata": {},
   "outputs": [],
   "source": [
    "model = Node2Vec(data.edge_index, embedding_dim=128, walk_length=30,\n",
    "         context_size=10, walks_per_node=10,\n",
    "         num_negative_samples=1, p=1, q=4, sparse=True).to(device)\n",
    "loader = model.loader(num_workers=4)"
   ]
  },
  {
   "cell_type": "code",
   "execution_count": 23,
   "id": "63f92965",
   "metadata": {},
   "outputs": [
    {
     "data": {
      "text/plain": [
       "1"
      ]
     },
     "execution_count": 23,
     "metadata": {},
     "output_type": "execute_result"
    }
   ],
   "source": [
    "loader.dataset[1]"
   ]
  },
  {
   "cell_type": "code",
   "execution_count": 43,
   "id": "ba0f15f0",
   "metadata": {},
   "outputs": [],
   "source": [
    "    model = Node2Vec(data.edge_index, embedding_dim=128, walk_length=30,\n",
    "             context_size=10, walks_per_node=10,\n",
    "             num_negative_samples=1, p=1, q=4, sparse=True).to(device)\n",
    "    loader = model.loader(num_workers=4)"
   ]
  },
  {
   "cell_type": "code",
   "execution_count": 54,
   "id": "5efcfebe",
   "metadata": {},
   "outputs": [],
   "source": [
    "for item in loader:\n",
    "    break"
   ]
  },
  {
   "cell_type": "code",
   "execution_count": 71,
   "id": "d69e5c41",
   "metadata": {},
   "outputs": [
    {
     "data": {
      "text/plain": [
       "[0, 0, 0, 0, 0, 0, 0, 0, 0, 0]"
      ]
     },
     "execution_count": 71,
     "metadata": {},
     "output_type": "execute_result"
    }
   ],
   "source": [
    "next(enumerate(loader))[1][0][0].tolist()"
   ]
  },
  {
   "cell_type": "code",
   "execution_count": null,
   "id": "a47a3bb4",
   "metadata": {},
   "outputs": [],
   "source": []
  },
  {
   "cell_type": "code",
   "execution_count": null,
   "id": "4857bfd2",
   "metadata": {},
   "outputs": [],
   "source": []
  }
 ],
 "metadata": {
  "kernelspec": {
   "display_name": "Python 3 (ipykernel)",
   "language": "python",
   "name": "python3"
  },
  "language_info": {
   "codemirror_mode": {
    "name": "ipython",
    "version": 3
   },
   "file_extension": ".py",
   "mimetype": "text/x-python",
   "name": "python",
   "nbconvert_exporter": "python",
   "pygments_lexer": "ipython3",
   "version": "3.8.10"
  }
 },
 "nbformat": 4,
 "nbformat_minor": 5
}
