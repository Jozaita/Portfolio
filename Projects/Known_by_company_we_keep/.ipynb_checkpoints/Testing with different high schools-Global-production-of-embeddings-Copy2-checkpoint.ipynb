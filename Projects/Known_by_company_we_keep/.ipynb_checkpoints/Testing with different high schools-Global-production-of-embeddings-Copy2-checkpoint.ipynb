{
 "cells": [
  {
   "cell_type": "markdown",
   "id": "1bc7b170",
   "metadata": {},
   "source": [
    "## Build the Data object"
   ]
  },
  {
   "cell_type": "code",
   "execution_count": 1,
   "id": "ffbadf66",
   "metadata": {},
   "outputs": [],
   "source": [
    "import numpy as np\n",
    "import pandas as pd \n",
    "import random as rd\n",
    "import seaborn as sns\n",
    "import matplotlib.pyplot as plt\n",
    "import networkx as nx\n",
    "import torch\n",
    "import torch_geometric.data as data\n",
    "from torch_geometric.nn import GCNConv\n",
    "import torch_geometric.transforms as T\n",
    "import torch.nn.functional as F\n",
    "from torch_geometric.utils import negative_sampling,train_test_split_edges,to_dense_adj\n",
    "from torch_geometric.loader import DataLoader\n",
    "from sklearn.metrics import roc_auc_score\n",
    "from torch_geometric.transforms import RandomLinkSplit\n",
    "from sklearn import preprocessing\n",
    "from torch_geometric.nn import Node2Vec\n",
    "\n",
    "device = \"cpu\""
   ]
  },
  {
   "cell_type": "code",
   "execution_count": 2,
   "id": "d8e41d25",
   "metadata": {},
   "outputs": [],
   "source": [
    "def f_edges(nodes,edges):\n",
    "    class_classi = []\n",
    "    for edge in edges.iterrows():\n",
    "        try:\n",
    "            agent_from = nodes.iloc[list(nodes[\"ID\"]).index(edge[1][\"from\"])]\n",
    "            agent_to = nodes.iloc[list(nodes[\"ID\"]).index(edge[1][\"to\"])]\n",
    "            if (agent_from[\"Curso\"] == agent_to[\"Curso\"]) and (agent_from[\"Grupo\"] == agent_to[\"Grupo\"]):\n",
    "                    class_classi.append(str(agent_from[\"Curso\"])+str(agent_from[\"Grupo\"]))\n",
    "            else:\n",
    "                    class_classi.append(\"Interclass\")\n",
    "        except:\n",
    "            class_classi.append(\"Missing\")\n",
    "    return class_classi"
   ]
  },
  {
   "cell_type": "code",
   "execution_count": 3,
   "id": "6958ac93",
   "metadata": {},
   "outputs": [],
   "source": [
    "len_datasets = 13\n",
    "datasets_nodes = [0]*len_datasets\n",
    "datasets_edges = [0]*len_datasets\n",
    "data_list = [0]*len_datasets\n",
    "for i in range(0,len_datasets):\n",
    "    datasets_nodes[i] = pd.read_csv(r\"Coles/Nodes/Nodes_t\"+str(i+1)+\".csv\",sep=\",\",encoding = 'unicode_escape')\n",
    "    datasets_edges[i] = pd.read_csv(r\"Coles/Edges/Edges_t\"+str(i+1)+\".csv\",sep=\",\",encoding = 'unicode_escape')\n",
    "    if i == 0:\n",
    "        datasets_edges[i][[\"from\",\"to\"]] = datasets_edges[i][[\"from\",\"to\"]].apply(lambda x:x-datasets_edges[i][\"from\"].min())\n",
    "        datasets_nodes[i][[\"ID\"]] = datasets_nodes[i][[\"ID\"]].apply(lambda x:x-datasets_nodes[i][\"ID\"].min())\n",
    "    else:\n",
    "        datasets_edges[i][[\"from\",\"to\"]] = datasets_edges[i][[\"from\",\"to\"]].apply(lambda x:x+1+datasets_edges[i-1][\"from\"].max()-datasets_edges[i][\"from\"].min())\n",
    "        datasets_nodes[i][[\"ID\"]] = datasets_nodes[i][[\"ID\"]].apply(lambda x:x+1+datasets_nodes[i-1][\"ID\"].max()-datasets_nodes[i][\"ID\"].min())\n",
    "    \n",
    "    datasets_nodes[i][\"Escuela\"] = i\n",
    "    datasets_edges[i][\"Escuela\"] = i\n",
    "    datasets_edges[i][\"weight\"] = datasets_edges[i][\"weight\"].apply(lambda x: np.sign(x)).replace({-1:0}).reset_index().drop(\"index\",axis=1)\n",
    "    datasets_edges[i][\"class_clasif\"] = f_edges(datasets_nodes[i],datasets_edges[i])\n",
    "\n",
    "    data_list[i] = data.Data(edge_index = torch.tensor(datasets_edges[i][[\"from\",\"to\"]].to_numpy().T))\n",
    "\n",
    "data_loader = DataLoader(data_list, batch_size=len_datasets)"
   ]
  },
  {
   "cell_type": "markdown",
   "id": "1ac78143",
   "metadata": {},
   "source": [
    "### Final choices for the hyperparameters\n",
    "The parameters that are not described are set as in the code below.\n",
    "\n",
    " <u> Configurations without best friends </u> <br>\n",
    "    -  DeepWalk _(p=1,q=1)_ <br>\n",
    "    - BFS _(p=1,q=4)_ <br>\n",
    "    - DFS _(p=4,q=1)_ <br>"
   ]
  },
  {
   "cell_type": "code",
   "execution_count": 4,
   "id": "4afb853a",
   "metadata": {},
   "outputs": [
    {
     "name": "stdout",
     "output_type": "stream",
     "text": [
      "Dataset: 0\n",
      "The Node2vec algorithm converged at epoch: 51, with loss: 1.1472\n",
      "Dataset: 1\n",
      "The Node2vec algorithm converged at epoch: 59, with loss: 0.7824\n",
      "Dataset: 2\n",
      "The Node2vec algorithm converged at epoch: 40, with loss: 0.7755\n",
      "Dataset: 3\n",
      "The Node2vec algorithm converged at epoch: 33, with loss: 0.7350\n",
      "Dataset: 4\n",
      "The Node2vec algorithm converged at epoch: 27, with loss: 0.7383\n",
      "Dataset: 5\n",
      "The Node2vec algorithm converged at epoch: 23, with loss: 0.7279\n",
      "Dataset: 6\n",
      "The Node2vec algorithm converged at epoch: 22, with loss: 0.7275\n",
      "Dataset: 7\n",
      "The Node2vec algorithm converged at epoch: 16, with loss: 0.7293\n",
      "Dataset: 8\n",
      "The Node2vec algorithm converged at epoch: 15, with loss: 0.7268\n",
      "Dataset: 9\n",
      "The Node2vec algorithm converged at epoch: 16, with loss: 0.7263\n",
      "Dataset: 10\n",
      "The Node2vec algorithm converged at epoch: 15, with loss: 0.7277\n",
      "Dataset: 11\n",
      "The Node2vec algorithm converged at epoch: 12, with loss: 0.7285\n",
      "Dataset: 12\n",
      "The Node2vec algorithm converged at epoch: 11, with loss: 0.7301\n"
     ]
    }
   ],
   "source": [
    "tolerance = 1e-3\n",
    "#_local p=0.5 q = 4 w_l = 40 ,c_s = 20 #same with local hyperparameters\n",
    "#_local_2 p=0.5 q = 4, w_l = 10 c_s = 5 # same as former restricted to more begginings \n",
    "#should not be very trustworthy as c_s = 5 and c_s = 20 do not offer results\n",
    "#0.25 with more nodes\n",
    "total_embeddings = pd.DataFrame()\n",
    "i = 0\n",
    "for data in data_loader.dataset:\n",
    "    print(\"Dataset: {}\".format(i))\n",
    "    model = Node2Vec(data.edge_index, embedding_dim=128, walk_length=30,\n",
    "             context_size=10, walks_per_node=10,\n",
    "             num_negative_samples=1, p=10, q=1, sparse=True).to(device)\n",
    "    loader = model.loader(batch_size=128, shuffle=True, num_workers=4)\n",
    "    optimizer = torch.optim.SparseAdam(list(model.parameters()), lr=0.01)\n",
    "    \n",
    "    #####\n",
    "    def train():\n",
    "        model.train()\n",
    "        total_loss = 0\n",
    "        for pos_rw, neg_rw in loader:\n",
    "            optimizer.zero_grad()\n",
    "            loss = model.loss(pos_rw.to(device), neg_rw.to(device))\n",
    "            loss.backward()\n",
    "            optimizer.step()\n",
    "            total_loss += loss.item()\n",
    "        return total_loss / len(loader)\n",
    "\n",
    "    pre_value_loss,curr_value_loss = 100,0\n",
    "    epoch = 0\n",
    "    while (abs(pre_value_loss - curr_value_loss) > tolerance):\n",
    "        loss = train()\n",
    "        epoch += 1\n",
    "        pre_value_loss = curr_value_loss\n",
    "        curr_value_loss = loss\n",
    "    print(f'The Node2vec algorithm converged at epoch: {epoch:02d}, with loss: {loss:.4f}')\n",
    "            \n",
    "\n",
    "        \n",
    "        ####\n",
    "        \n",
    "    z = model()\n",
    "    # from tensor to numpy\n",
    "    emb_128 = z.detach().cpu().numpy()\n",
    "    \n",
    "    edge_embedding = []\n",
    "    for u,v in data.edge_index.t():\n",
    "        edge_embedding.append(np.maximum(emb_128[u],emb_128[v]))\n",
    "    total_embeddings_temp = pd.DataFrame(edge_embedding)\n",
    "    total_embeddings_temp[\"Escuela\"] = datasets_edges[i][\"Escuela\"]\n",
    "    total_embeddings_temp[\"weight\"] = datasets_edges[i][\"weight\"]\n",
    "    total_embeddings_temp[\"class_classif\"] = datasets_edges[i][\"class_clasif\"]\n",
    "    total_embeddings = pd.concat([total_embeddings,total_embeddings_temp],axis=0)\n",
    "    i += 1\n",
    "    \n",
    "total_embeddings.to_csv(\"total_embeddings_with_bf_p10q1.csv\",index=\"False\")"
   ]
  },
  {
   "cell_type": "markdown",
   "id": "842da7ba",
   "metadata": {},
   "source": [
    "### Build the dataloader object"
   ]
  },
  {
   "cell_type": "code",
   "execution_count": null,
   "id": "dd4fd4b8",
   "metadata": {},
   "outputs": [],
   "source": []
  },
  {
   "cell_type": "code",
   "execution_count": null,
   "id": "1bf1899a",
   "metadata": {},
   "outputs": [],
   "source": [
    "\n"
   ]
  },
  {
   "cell_type": "code",
   "execution_count": null,
   "id": "ebde4947",
   "metadata": {},
   "outputs": [],
   "source": []
  }
 ],
 "metadata": {
  "kernelspec": {
   "display_name": "Python 3 (ipykernel)",
   "language": "python",
   "name": "python3"
  },
  "language_info": {
   "codemirror_mode": {
    "name": "ipython",
    "version": 3
   },
   "file_extension": ".py",
   "mimetype": "text/x-python",
   "name": "python",
   "nbconvert_exporter": "python",
   "pygments_lexer": "ipython3",
   "version": "3.8.10"
  }
 },
 "nbformat": 4,
 "nbformat_minor": 5
}
