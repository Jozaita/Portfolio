{
 "cells": [
  {
   "cell_type": "code",
   "execution_count": 1,
   "id": "4bd0c16c",
   "metadata": {},
   "outputs": [],
   "source": [
    "from torch_geometric.nn import Node2Vec\n",
    "import os.path as osp\n",
    "import torch\n",
    "import torch_geometric.data as data\n",
    "import os\n",
    "import matplotlib.pyplot as plt\n",
    "from sklearn.manifold import TSNE\n",
    "import pandas as pd \n",
    "import numpy as np"
   ]
  },
  {
   "cell_type": "code",
   "execution_count": 2,
   "id": "f8c558fb",
   "metadata": {},
   "outputs": [],
   "source": [
    "import networkx as nx \n",
    "# Load the network\n",
    "df = pd.read_csv(\"prueba_gephi/Edges_una_clase_interno.csv\")\n",
    "df[\"weight\"] = df[\"weight\"].apply(lambda x: np.sign(x))\n",
    "df[[\"source\",\"target\"]] = df[[\"source\",\"target\"]].apply(lambda x:x-df[\"source\"].min())\n",
    "G = nx.from_pandas_edgelist(df,create_using=nx.DiGraph())\n",
    "pos = nx.spring_layout(G, center=[0.5, 0.5])\n",
    "nx.set_node_attributes(G, pos, 'pos')"
   ]
  },
  {
   "cell_type": "markdown",
   "id": "ff7193f3",
   "metadata": {},
   "source": [
    "datasets_nodes = pd.read_csv(r\"Coles/Nodes/Nodes_t10.csv\",sep=\",\",encoding = 'unicode_escape')\n",
    "datasets_edges = pd.read_csv(r\"Coles/Edges/Edges_t10.csv\",sep=\",\",encoding = 'unicode_escape')\n",
    "\n",
    "datasets_nodes[\"Escuela\"] = 10\n",
    "datasets_edges[\"Escuela\"] = 10\n",
    "datasets_edges[\"weight\"] = datasets_edges[\"weight\"].apply(lambda x: np.sign(x)).replace({-1:0}).reset_index().drop(\"index\",axis=1)\n",
    "datasets_edges[\"class_clasif\"] = f_edges(datasets_nodes,datasets_edges)\n",
    "\n",
    "data = data.Data(edge_index = torch.tensor(datasets_edges[[\"from\",\"to\"]].to_numpy().T))"
   ]
  },
  {
   "cell_type": "code",
   "execution_count": 3,
   "id": "a63c4731",
   "metadata": {},
   "outputs": [],
   "source": [
    "network = data.Data(edge_index=torch.tensor(df[[\"source\",\"target\"]].to_numpy().T))"
   ]
  },
  {
   "cell_type": "code",
   "execution_count": 4,
   "id": "6f0b86f1",
   "metadata": {},
   "outputs": [],
   "source": [
    "device = 'cuda' if torch.cuda.is_available() else 'cpu'\n",
    "model = Node2Vec(network.edge_index, embedding_dim=128, \n",
    "                 walk_length=10,                        # lenght of rw\n",
    "                 context_size=10, walks_per_node=20,\n",
    "                 num_negative_samples=1, \n",
    "                 p=200, q=1,                             # bias parameters\n",
    "                 sparse=True).to(device)"
   ]
  },
  {
   "cell_type": "code",
   "execution_count": 5,
   "id": "873f5f8e",
   "metadata": {},
   "outputs": [],
   "source": [
    "loader = model.loader(shuffle=True, num_workers=4)"
   ]
  },
  {
   "cell_type": "code",
   "execution_count": null,
   "id": "871734ec",
   "metadata": {},
   "outputs": [],
   "source": [
    "nodelist = next(enumerate(loader))[1][0][0].tolist()\n",
    "walk = nx.path_graph(len(nodelist))\n",
    "nx.set_node_attributes(walk, {idx: pos[node_id] for idx, node_id in enumerate(nodelist)}, 'pos')\n",
    "\n",
    "fig = plt.figure(figsize=(10, 10))\n",
    "ax = fig.add_axes([0,0,1,1])\n",
    "#ax = fig.add_subplot(1, 2, 1)\n",
    "nx.draw_networkx(G, \n",
    "               ax=ax,\n",
    "               pos=nx.get_node_attributes(G, 'pos'), \n",
    "               node_size=40,\n",
    "               alpha=0.3,\n",
    "               node_color='b')\n",
    "nx.draw(walk, \n",
    "        node_size=40,\n",
    "        node_color='r',\n",
    "        alpha=0.5,\n",
    "        ax=ax,\n",
    "        pos=nx.get_node_attributes(walk, 'pos'), \n",
    "        width=2,\n",
    "        edge_color='r'\n",
    "        ) \n",
    "#ax = fig.add_subplot(1, 2, 2)\n",
    "nx.draw(walk, \n",
    "        node_size=40,\n",
    "        node_color='r',\n",
    "        alpha=0.5,\n",
    "        ax=ax,\n",
    "        pos=nx.get_node_attributes(walk, 'pos'), \n",
    "        width=2,\n",
    "        edge_color='r') "
   ]
  },
  {
   "cell_type": "code",
   "execution_count": null,
   "id": "412aad13",
   "metadata": {},
   "outputs": [],
   "source": [
    "walk.nodes(data=True)"
   ]
  },
  {
   "cell_type": "code",
   "execution_count": null,
   "id": "5d504db0",
   "metadata": {},
   "outputs": [],
   "source": [
    "G.nodes(data=True)"
   ]
  },
  {
   "cell_type": "code",
   "execution_count": null,
   "id": "8105e72a",
   "metadata": {},
   "outputs": [],
   "source": [
    "for item in loader:\n",
    "    print(item[1])"
   ]
  },
  {
   "cell_type": "code",
   "execution_count": null,
   "id": "031da7dd",
   "metadata": {},
   "outputs": [],
   "source": [
    "{idx: pos[node_id] for idx, node_id in enumerate(nodelist)}"
   ]
  },
  {
   "cell_type": "code",
   "execution_count": null,
   "id": "7d03258f",
   "metadata": {},
   "outputs": [],
   "source": [
    "nodelist"
   ]
  },
  {
   "cell_type": "code",
   "execution_count": null,
   "id": "223b45a5",
   "metadata": {},
   "outputs": [],
   "source": []
  },
  {
   "cell_type": "code",
   "execution_count": null,
   "id": "6a0a99f1",
   "metadata": {},
   "outputs": [],
   "source": []
  }
 ],
 "metadata": {
  "kernelspec": {
   "display_name": "Python 3 (ipykernel)",
   "language": "python",
   "name": "python3"
  },
  "language_info": {
   "codemirror_mode": {
    "name": "ipython",
    "version": 3
   },
   "file_extension": ".py",
   "mimetype": "text/x-python",
   "name": "python",
   "nbconvert_exporter": "python",
   "pygments_lexer": "ipython3",
   "version": "3.8.10"
  }
 },
 "nbformat": 4,
 "nbformat_minor": 5
}
