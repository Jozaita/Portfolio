{
 "cells": [
  {
   "cell_type": "markdown",
   "id": "1bc7b170",
   "metadata": {},
   "source": [
    "## Build the Data object"
   ]
  },
  {
   "cell_type": "code",
   "execution_count": 1,
   "id": "ffbadf66",
   "metadata": {},
   "outputs": [],
   "source": [
    "import numpy as np\n",
    "import pandas as pd \n",
    "import random as rd\n",
    "import seaborn as sns\n",
    "import matplotlib.pyplot as plt\n",
    "import networkx as nx\n",
    "import torch\n",
    "import torch_geometric.data as data\n",
    "from torch_geometric.nn import GCNConv\n",
    "import torch_geometric.transforms as T\n",
    "import torch.nn.functional as F\n",
    "from torch_geometric.utils import negative_sampling,train_test_split_edges,to_dense_adj\n",
    "from sklearn.metrics import roc_auc_score\n",
    "from torch_geometric.transforms import RandomLinkSplit\n",
    "from sklearn import preprocessing\n",
    "from torch_geometric.nn import Node2Vec\n",
    "\n",
    "device = \"cpu\""
   ]
  },
  {
   "cell_type": "code",
   "execution_count": 2,
   "id": "c572ed8e",
   "metadata": {},
   "outputs": [],
   "source": [
    "##Clean and normalize data\n",
    "###Cole para adestrar\n",
    "nodes_h1 = pd.read_csv(r\"Nodes_t2.csv\",sep=\",\",encoding = 'unicode_escape')\n",
    "edges_h1 = pd.read_csv(r\"Edges_t2.csv\",sep=\",\",encoding = 'unicode_escape')\n",
    "nodes_h1.drop(\"ID\",axis=1,inplace=True)\n",
    "##cole para testear\n",
    "nodes_h2 = pd.read_csv(r\"Nodes_t1.csv\",sep=\",\",encoding = 'unicode_escape')\n",
    "edges_h2 = pd.read_csv(r\"Edges_t1.csv\",sep=\";\",encoding = 'unicode_escape')\n",
    "nodes_h2 = nodes_h2[nodes_h1.columns]\n",
    "nodes_h1[\"Escuela\"] = \"h1\"\n",
    "nodes_h2[\"Escuela\"] = \"h2\"\n",
    "edges_h1[\"Escuela\"] = \"h1\"\n",
    "edges_h2[\"Escuela\"] = \"h2\"\n",
    "#edges_h2.drop(\"relacion\",axis=1,inplace = True)\n",
    "edges_h2.columns = edges_h1.columns\n",
    "edges_h1[[\"from\",\"to\"]] = edges_h1[[\"from\",\"to\"]].apply(lambda x:x-edges_h1[\"from\"].min())\n",
    "edges_h2[[\"from\",\"to\"]] = edges_h2[[\"from\",\"to\"]].apply(lambda x:x+1+edges_h1[\"from\"].max()-edges_h2[\"from\"].min())"
   ]
  },
  {
   "cell_type": "code",
   "execution_count": 3,
   "id": "70333e9b",
   "metadata": {},
   "outputs": [],
   "source": [
    "edges_total = pd.concat([edges_h1,edges_h2],axis=0).reset_index().drop(\"index\",axis=1)\n",
    "edges_total = edges_total[edges_total[\"weight\"] != 1].reset_index().drop(\"index\",axis=1)\n",
    "edges_total[\"weight\"] = edges_total[\"weight\"].apply(lambda x: np.sign(x)).replace({-1:0})\n",
    "nodes_total = pd.concat([nodes_h1,nodes_h2],axis=0).reset_index().drop(\"index\",axis=1)\n"
   ]
  },
  {
   "cell_type": "markdown",
   "id": "842da7ba",
   "metadata": {},
   "source": [
    "### EDA"
   ]
  },
  {
   "cell_type": "code",
   "execution_count": 4,
   "id": "12d916f2",
   "metadata": {},
   "outputs": [
    {
     "data": {
      "text/plain": [
       "(3755, 8557)"
      ]
     },
     "execution_count": 4,
     "metadata": {},
     "output_type": "execute_result"
    }
   ],
   "source": [
    "len(edges_h1),len(edges_h2)"
   ]
  },
  {
   "cell_type": "code",
   "execution_count": 5,
   "id": "7238b230",
   "metadata": {},
   "outputs": [
    {
     "data": {
      "text/plain": [
       "<AxesSubplot:xlabel='weight', ylabel='count'>"
      ]
     },
     "execution_count": 5,
     "metadata": {},
     "output_type": "execute_result"
    },
    {
     "data": {
      "image/png": "[encoded data removed]",
      "text/plain": [
       "<Figure size 432x288 with 1 Axes>"
      ]
     },
     "metadata": {
      "needs_background": "light"
     },
     "output_type": "display_data"
    }
   ],
   "source": [
    "sns.countplot(data=edges_total,x=\"weight\")"
   ]
  },
  {
   "cell_type": "code",
   "execution_count": 6,
   "id": "371cb427",
   "metadata": {},
   "outputs": [
    {
     "data": {
      "text/plain": [
       "<AxesSubplot:xlabel='Escuela,Curso,Grupo'>"
      ]
     },
     "execution_count": 6,
     "metadata": {},
     "output_type": "execute_result"
    },
    {
     "data": {
      "image/png": "[encoded data removed]",
      "text/plain": [
       "<Figure size 432x288 with 1 Axes>"
      ]
     },
     "metadata": {
      "needs_background": "light"
     },
     "output_type": "display_data"
    }
   ],
   "source": [
    "nodes_total.groupby(by=[\"Escuela\",\"Curso\",\"Grupo\"]).count().plot(kind=\"bar\")"
   ]
  },
  {
   "cell_type": "code",
   "execution_count": 7,
   "id": "8b5d6e02",
   "metadata": {},
   "outputs": [
    {
     "data": {
      "text/plain": [
       "<AxesSubplot:ylabel='Frequency'>"
      ]
     },
     "execution_count": 7,
     "metadata": {},
     "output_type": "execute_result"
    },
    {
     "data": {
      "image/png": "[encoded data removed]",
      "text/plain": [
       "<Figure size 432x288 with 1 Axes>"
      ]
     },
     "metadata": {
      "needs_background": "light"
     },
     "output_type": "display_data"
    }
   ],
   "source": [
    "edges_total.groupby(\"from\").count()[\"to\"].plot(kind=\"hist\",label=\"from\")\n",
    "edges_total.groupby(\"to\").count()[\"from\"].plot(kind=\"hist\",label=\"to\")"
   ]
  },
  {
   "cell_type": "code",
   "execution_count": 8,
   "id": "33b0ea38",
   "metadata": {},
   "outputs": [],
   "source": [
    "nodes_dummy = pd.get_dummies(nodes_total,drop_first=True)\n",
    "x = nodes_dummy.values \n",
    "min_max_scaler = preprocessing.MinMaxScaler()\n",
    "x_scaled = min_max_scaler.fit_transform(x)\n",
    "nodes_norm = pd.DataFrame(x_scaled,columns = nodes_dummy.columns)\n"
   ]
  },
  {
   "cell_type": "code",
   "execution_count": 9,
   "id": "a3919349",
   "metadata": {},
   "outputs": [
    {
     "data": {
      "text/plain": [
       "Data(x=[647, 12], edge_index=[2, 5442], edge_attr=[5442, 1])"
      ]
     },
     "execution_count": 9,
     "metadata": {},
     "output_type": "execute_result"
    }
   ],
   "source": [
    "total_data = data.Data(x=torch.tensor(nodes_norm.to_numpy(),dtype=torch.float32),\n",
    "                          edge_index=torch.tensor(edges_total[[\"from\",\"to\"]].to_numpy().T),\n",
    "                          edge_attr=torch.tensor((pd.get_dummies(edges_total[[\"weight\"]]).to_numpy())))\n",
    "total_data"
   ]
  },
  {
   "cell_type": "code",
   "execution_count": 10,
   "id": "e081fb5f",
   "metadata": {},
   "outputs": [
    {
     "name": "stdout",
     "output_type": "stream",
     "text": [
      "190 409 48\n",
      "True\n",
      "train set\t [202, 234, 161, 182, 137, 41, 220, 176, 154, 150]\n",
      "test set \t [314, 469, 541, 595, 477, 267, 243, 610, 594, 522]\n",
      "val set  \t [80, 53, 3, 19, 151, 86, 113, 105, 32, 33]\n"
     ]
    }
   ],
   "source": [
    "node_list = list(range(len(nodes_total)))\n",
    "train_val_set = node_list[0:len(nodes_h1)]\n",
    "rd.shuffle(train_val_set)\n",
    "train_set = train_val_set[0:round(len(train_val_set)*0.8)]\n",
    "val_set = train_val_set[len(train_set):len(train_val_set)]\n",
    "test_set = node_list[len(nodes_h1):len(nodes_h1)+len(nodes_h2)]\n",
    "rd.shuffle(test_set)\n",
    "print(len(train_set),len(test_set),len(val_set))\n",
    "print(len(train_set)+len(test_set)+len(val_set) == len(nodes_total))\n",
    "\n",
    "print(\"train set\\t\",train_set[:10])\n",
    "print(\"test set \\t\",test_set[:10])\n",
    "print(\"val set  \\t\",val_set[:10])"
   ]
  },
  {
   "cell_type": "code",
   "execution_count": 11,
   "id": "5174e8c7",
   "metadata": {},
   "outputs": [
    {
     "name": "stdout",
     "output_type": "stream",
     "text": [
      "train mask \t tensor([0, 0, 1, 0, 1, 1, 0, 1, 1, 1, 0, 1, 1, 1, 1])\n",
      "test mask  \t tensor([0, 0, 0, 0, 0, 0, 0, 0, 0, 0, 0, 0, 0, 0, 0])\n",
      "val mask   \t tensor([1, 1, 0, 1, 0, 0, 1, 0, 0, 0, 1, 0, 0, 0, 0])\n"
     ]
    }
   ],
   "source": [
    "# build test train val masks\n",
    "\n",
    "train_mask = torch.zeros(len(nodes_total),dtype=torch.long, device=device)\n",
    "for i in train_set:\n",
    "    train_mask[i] = 1.\n",
    "\n",
    "test_mask = torch.zeros(len(nodes_total),dtype=torch.long, device=device)\n",
    "for i in test_set:\n",
    "    test_mask[i] = 1.\n",
    "    \n",
    "val_mask = torch.zeros(len(nodes_total),dtype=torch.long, device=device)\n",
    "for i in val_set:\n",
    "    val_mask[i] = 1.\n",
    "    \n",
    "print(\"train mask \\t\",train_mask[0:15])\n",
    "print(\"test mask  \\t\",test_mask[0:15])\n",
    "print(\"val mask   \\t\",val_mask[0:15]) "
   ]
  },
  {
   "cell_type": "code",
   "execution_count": 12,
   "id": "93b09dd4",
   "metadata": {},
   "outputs": [
    {
     "data": {
      "text/plain": [
       "Data(x=[647, 12], edge_index=[2, 5442], edge_attr=[5442, 1])"
      ]
     },
     "execution_count": 12,
     "metadata": {},
     "output_type": "execute_result"
    }
   ],
   "source": [
    "total_data"
   ]
  },
  {
   "cell_type": "code",
   "execution_count": 13,
   "id": "2a876e88",
   "metadata": {},
   "outputs": [
    {
     "name": "stdout",
     "output_type": "stream",
     "text": [
      "befor\t\t Data(x=[647, 12], edge_index=[2, 5442], edge_attr=[5442, 1])\n"
     ]
    }
   ],
   "source": [
    "print(\"befor\\t\\t\",total_data)\n",
    "total_data.x = None\n",
    "total_data.edge_attr = None\n"
   ]
  },
  {
   "cell_type": "code",
   "execution_count": 14,
   "id": "0819cf3b",
   "metadata": {},
   "outputs": [
    {
     "name": "stdout",
     "output_type": "stream",
     "text": [
      "after\t\t Data(edge_index=[2, 5442], train_mask=[647], test_mask=[647], val_mask=[647])\n"
     ]
    }
   ],
   "source": [
    "# add masks\n",
    "total_data.train_mask = train_mask\n",
    "total_data.test_mask = test_mask\n",
    "total_data.val_mask = val_mask\n",
    "\n",
    "print(\"after\\t\\t\",total_data)"
   ]
  },
  {
   "cell_type": "code",
   "execution_count": 15,
   "id": "cf65ae6d",
   "metadata": {},
   "outputs": [],
   "source": [
    "device = 'cuda' if torch.cuda.is_available() else 'cpu'\n",
    "\n",
    "model = Node2Vec(total_data.edge_index, embedding_dim=128, walk_length=40,\n",
    "             context_size=20, walks_per_node=5,\n",
    "             num_negative_samples=1, p=1, q=1, sparse=True).to(device)\n",
    "\n",
    "loader = model.loader(batch_size=128, shuffle=True, num_workers=4)\n",
    "optimizer = torch.optim.SparseAdam(list(model.parameters()), lr=0.01)\n"
   ]
  },
  {
   "cell_type": "code",
   "execution_count": 16,
   "id": "d549f573",
   "metadata": {},
   "outputs": [
    {
     "name": "stdout",
     "output_type": "stream",
     "text": [
      "Epoch: 10, Loss: 4.5485\n",
      "Epoch: 20, Loss: 3.1786\n",
      "Epoch: 30, Loss: 2.3662\n",
      "Epoch: 40, Loss: 1.8164\n",
      "Epoch: 50, Loss: 1.5498\n",
      "Epoch: 60, Loss: 1.2538\n",
      "Epoch: 70, Loss: 1.1362\n",
      "Epoch: 80, Loss: 1.0422\n",
      "Epoch: 90, Loss: 0.9826\n",
      "Epoch: 100, Loss: 0.9377\n",
      "Epoch: 110, Loss: 0.9156\n",
      "Epoch: 120, Loss: 0.8719\n"
     ]
    }
   ],
   "source": [
    "def train():\n",
    "    model.train()\n",
    "    total_loss = 0\n",
    "    for pos_rw, neg_rw in loader:\n",
    "        optimizer.zero_grad()\n",
    "        loss = model.loss(pos_rw.to(device), neg_rw.to(device))\n",
    "        loss.backward()\n",
    "        optimizer.step()\n",
    "        total_loss += loss.item()\n",
    "    return total_loss / len(loader)\n",
    "\n",
    "\n",
    "@torch.no_grad()\n",
    "def test():\n",
    "    model.eval()\n",
    "    z = model()\n",
    "    acc = model.test(z[total_data.train_mask], total_data.y[total_data.train_mask],\n",
    "                     z[total_data.test_mask], total_data.y[total_data.test_mask],\n",
    "                     max_iter=10)\n",
    "    return acc\n",
    "\n",
    "\n",
    "for epoch in range(1, 121):\n",
    "    loss = train()\n",
    "    #acc = test()\n",
    "    if epoch % 10 == 0:\n",
    "        print(f'Epoch: {epoch:02d}, Loss: {loss:.4f}')\n",
    "        "
   ]
  },
  {
   "cell_type": "code",
   "execution_count": 17,
   "id": "f13fdc99",
   "metadata": {},
   "outputs": [
    {
     "data": {
      "text/plain": [
       "Data(x=[647, 12], edge_index=[2, 5442], edge_attr=[5442, 2])"
      ]
     },
     "execution_count": 17,
     "metadata": {},
     "output_type": "execute_result"
    }
   ],
   "source": [
    "total_data = data.Data(x=torch.tensor(nodes_norm.to_numpy(),dtype=torch.float32),\n",
    "                          edge_index=torch.tensor(edges_total[[\"from\",\"to\"]].to_numpy().T),\n",
    "                          edge_attr=torch.tensor((pd.get_dummies(edges_total[\"weight\"]).to_numpy())))\n",
    "total_data"
   ]
  },
  {
   "cell_type": "code",
   "execution_count": 18,
   "id": "bf2278fd",
   "metadata": {},
   "outputs": [
    {
     "name": "stdout",
     "output_type": "stream",
     "text": [
      "Categorical edge attributes:\n",
      " [[0 1]\n",
      " [0 1]\n",
      " [0 1]]\n",
      "\n",
      "\n",
      "Numerical edge attributes:\n",
      " [1, 1, 1]\n"
     ]
    }
   ],
   "source": [
    "z = model()\n",
    "# from tensor to numpy\n",
    "emb_128 = z.detach().cpu().numpy()\n",
    "\n",
    "# convert edge attributes from categorical to numerical\n",
    "edge_attr_cat = total_data.edge_attr.numpy()\n",
    "print(\"Categorical edge attributes:\\n\",edge_attr_cat[:3])\n",
    "\n",
    "edge_attr = []\n",
    "for i in edge_attr_cat:\n",
    "    edge_attr.append(np.nonzero(i)[0][0])\n",
    "\n",
    "print(\"\\n\\nNumerical edge attributes:\\n\",edge_attr[:3])"
   ]
  },
  {
   "cell_type": "markdown",
   "id": "65504ca5",
   "metadata": {},
   "source": [
    "## Compute edge embedding"
   ]
  },
  {
   "cell_type": "code",
   "execution_count": 19,
   "id": "c19ba474",
   "metadata": {},
   "outputs": [],
   "source": [
    "edge_embedding = []\n",
    "for u,v in total_data.edge_index.t():\n",
    "    edge_embedding.append(np.maximum(emb_128[u],emb_128[v]))"
   ]
  },
  {
   "cell_type": "markdown",
   "id": "08222d45",
   "metadata": {},
   "source": [
    "### Make dataframe from embedding and scale"
   ]
  },
  {
   "cell_type": "code",
   "execution_count": 20,
   "id": "82a455f3",
   "metadata": {},
   "outputs": [],
   "source": [
    "len_h1 = len(edges_total[edges_total[\"Escuela\"] == \"h1\"])\n",
    "emb_df_h1 = pd.concat([pd.DataFrame(edge_embedding[:len_h1]),pd.DataFrame(edge_attr[:len_h1],columns=[\"label\"])],axis=1)\n",
    "\n",
    "emb_df_h2 = pd.concat([pd.DataFrame(edge_embedding[len_h1:]),pd.DataFrame(edge_attr[len_h1:],columns=[\"label\"])],axis=1)"
   ]
  },
  {
   "cell_type": "code",
   "execution_count": 21,
   "id": "4c8bb9b9",
   "metadata": {},
   "outputs": [],
   "source": [
    "emb_df_h1 = emb_df_h1.sample(frac=1)\n",
    "emb_df_h2 = emb_df_h2.sample(frac=1)"
   ]
  },
  {
   "cell_type": "code",
   "execution_count": 22,
   "id": "f41f7620",
   "metadata": {},
   "outputs": [],
   "source": [
    "from sklearn.preprocessing import MinMaxScaler\n",
    "from sklearn.model_selection import train_test_split\n",
    "sc = MinMaxScaler()"
   ]
  },
  {
   "cell_type": "code",
   "execution_count": 23,
   "id": "0c4e92ff",
   "metadata": {},
   "outputs": [],
   "source": [
    "X_train = emb_df_h1.drop(\"label\",axis=1)\n",
    "y_train = emb_df_h1[\"label\"]\n",
    "X_test = emb_df_h2.drop(\"label\",axis=1)\n",
    "y_test = emb_df_h2[\"label\"]"
   ]
  },
  {
   "cell_type": "code",
   "execution_count": 24,
   "id": "73bf0f65",
   "metadata": {},
   "outputs": [],
   "source": [
    "sc.fit(X_train)\n",
    "emb_x_train = sc.transform(X_train)\n",
    "emb_y_train = y_train\n",
    "emb_x_test = sc.transform(X_test)\n",
    "emb_y_test = y_test"
   ]
  },
  {
   "cell_type": "markdown",
   "id": "35c5f38b",
   "metadata": {},
   "source": [
    "### Oversample minority class"
   ]
  },
  {
   "cell_type": "code",
   "execution_count": 25,
   "id": "6dde46cd",
   "metadata": {},
   "outputs": [],
   "source": [
    "from imblearn.over_sampling import SMOTE"
   ]
  },
  {
   "cell_type": "code",
   "execution_count": 26,
   "id": "09c9807f",
   "metadata": {},
   "outputs": [],
   "source": [
    "ros = SMOTE(random_state=0,sampling_strategy=\"minority\")\n",
    "emb_x_resampled, emb_y_resampled = ros.fit_resample(emb_x_train, emb_y_train)"
   ]
  },
  {
   "cell_type": "markdown",
   "id": "ba04a6bf",
   "metadata": {},
   "source": [
    "### Training and prediction "
   ]
  },
  {
   "cell_type": "code",
   "execution_count": 27,
   "id": "29fa712a",
   "metadata": {},
   "outputs": [],
   "source": [
    "import matplotlib.pyplot as plt\n",
    "import seaborn as sns\n",
    "from sklearn.ensemble import RandomForestClassifier"
   ]
  },
  {
   "cell_type": "code",
   "execution_count": 28,
   "id": "af91c150",
   "metadata": {},
   "outputs": [],
   "source": [
    "clf = RandomForestClassifier(max_depth=7,random_state=10,class_weight=\"balanced\")"
   ]
  },
  {
   "cell_type": "code",
   "execution_count": 29,
   "id": "5f43a368",
   "metadata": {},
   "outputs": [
    {
     "data": {
      "text/plain": [
       "RandomForestClassifier(class_weight='balanced', max_depth=7, random_state=10)"
      ]
     },
     "execution_count": 29,
     "metadata": {},
     "output_type": "execute_result"
    }
   ],
   "source": [
    "clf.fit(emb_x_resampled,emb_y_resampled)"
   ]
  },
  {
   "cell_type": "code",
   "execution_count": 30,
   "id": "478d81d4",
   "metadata": {},
   "outputs": [
    {
     "name": "stdout",
     "output_type": "stream",
     "text": [
      "\n",
      "\n",
      "              precision    recall  f1-score   support\n",
      "\n",
      "           0       0.40      0.04      0.07      1255\n",
      "           1       0.66      0.97      0.79      2419\n",
      "\n",
      "    accuracy                           0.65      3674\n",
      "   macro avg       0.53      0.50      0.43      3674\n",
      "weighted avg       0.57      0.65      0.54      3674\n",
      "\n"
     ]
    },
    {
     "data": {
      "image/png": "[encoded data removed]",
      "text/plain": [
       "<Figure size 432x288 with 2 Axes>"
      ]
     },
     "metadata": {
      "needs_background": "light"
     },
     "output_type": "display_data"
    }
   ],
   "source": [
    "from sklearn.metrics import confusion_matrix,classification_report\n",
    "fig= plt.figure()\n",
    "ax = fig.add_axes([0,0,1,1])\n",
    "sns.heatmap(np.round(confusion_matrix(emb_y_test,np.around(clf.predict(emb_x_test)))/len(emb_y_test)*100,2),\n",
    "            annot=True,ax=ax,cmap=\"coolwarm\")\n",
    "ax.set_xlabel(\"Predicted\")\n",
    "ax.set_ylabel(\"Current\")\n",
    "print(\"\\n\")\n",
    "print(classification_report(emb_y_test,clf.predict(emb_x_test)))\n"
   ]
  },
  {
   "cell_type": "code",
   "execution_count": 31,
   "id": "5defae98",
   "metadata": {},
   "outputs": [
    {
     "name": "stderr",
     "output_type": "stream",
     "text": [
      "2022-03-17 18:14:46.259503: W tensorflow/stream_executor/platform/default/dso_loader.cc:64] Could not load dynamic library 'libcudart.so.11.0'; dlerror: libcudart.so.11.0: cannot open shared object file: No such file or directory\n",
      "2022-03-17 18:14:46.259552: I tensorflow/stream_executor/cuda/cudart_stub.cc:29] Ignore above cudart dlerror if you do not have a GPU set up on your machine.\n"
     ]
    }
   ],
   "source": [
    "import tensorflow as tf"
   ]
  },
  {
   "cell_type": "code",
   "execution_count": 55,
   "id": "e5cfed4c",
   "metadata": {},
   "outputs": [
    {
     "name": "stdout",
     "output_type": "stream",
     "text": [
      "Epoch 1/500\n",
      "WARNING:tensorflow:AutoGraph could not transform <function Model.make_train_function.<locals>.train_function at 0x7fcb147d04c0> and will run it as-is.\n",
      "Please report this to the TensorFlow team. When filing the bug, set the verbosity to 10 (on Linux, `export AUTOGRAPH_VERBOSITY=10`) and attach the full output.\n",
      "Cause: module 'gast' has no attribute 'Constant'\n",
      "To silence this warning, decorate the function with @tf.autograph.experimental.do_not_convert\n",
      "WARNING: AutoGraph could not transform <function Model.make_train_function.<locals>.train_function at 0x7fcb147d04c0> and will run it as-is.\n",
      "Please report this to the TensorFlow team. When filing the bug, set the verbosity to 10 (on Linux, `export AUTOGRAPH_VERBOSITY=10`) and attach the full output.\n",
      "Cause: module 'gast' has no attribute 'Constant'\n",
      "To silence this warning, decorate the function with @tf.autograph.experimental.do_not_convert\n"
     ]
    },
    {
     "name": "stderr",
     "output_type": "stream",
     "text": [
      "/home/juan/.local/lib/python3.8/site-packages/keras/optimizer_v2/adam.py:105: UserWarning: The `lr` argument is deprecated, use `learning_rate` instead.\n",
      "  super(Adam, self).__init__(name, **kwargs)\n"
     ]
    },
    {
     "name": "stdout",
     "output_type": "stream",
     "text": [
      " 1/23 [>.............................] - ETA: 7s - loss: 0.8176 - accuracy: 0.4922WARNING:tensorflow:AutoGraph could not transform <function Model.make_test_function.<locals>.test_function at 0x7fcb147d0b80> and will run it as-is.\n",
      "Please report this to the TensorFlow team. When filing the bug, set the verbosity to 10 (on Linux, `export AUTOGRAPH_VERBOSITY=10`) and attach the full output.\n",
      "Cause: module 'gast' has no attribute 'Constant'\n",
      "To silence this warning, decorate the function with @tf.autograph.experimental.do_not_convert\n",
      "WARNING: AutoGraph could not transform <function Model.make_test_function.<locals>.test_function at 0x7fcb147d0b80> and will run it as-is.\n",
      "Please report this to the TensorFlow team. When filing the bug, set the verbosity to 10 (on Linux, `export AUTOGRAPH_VERBOSITY=10`) and attach the full output.\n",
      "Cause: module 'gast' has no attribute 'Constant'\n",
      "To silence this warning, decorate the function with @tf.autograph.experimental.do_not_convert\n",
      "23/23 [==============================] - 1s 7ms/step - loss: 0.7640 - accuracy: 0.5028 - val_loss: 0.6952 - val_accuracy: 0.4581\n",
      "Epoch 2/500\n",
      "23/23 [==============================] - 0s 3ms/step - loss: 0.7333 - accuracy: 0.5021 - val_loss: 0.6918 - val_accuracy: 0.5142\n",
      "Epoch 3/500\n",
      "23/23 [==============================] - 0s 3ms/step - loss: 0.7086 - accuracy: 0.5266 - val_loss: 0.6909 - val_accuracy: 0.5716\n",
      "Epoch 4/500\n",
      "23/23 [==============================] - 0s 3ms/step - loss: 0.7161 - accuracy: 0.4993 - val_loss: 0.6904 - val_accuracy: 0.6091\n",
      "Epoch 5/500\n",
      "23/23 [==============================] - 0s 3ms/step - loss: 0.7182 - accuracy: 0.4869 - val_loss: 0.6906 - val_accuracy: 0.6111\n",
      "Epoch 6/500\n",
      "23/23 [==============================] - 0s 3ms/step - loss: 0.7032 - accuracy: 0.5007 - val_loss: 0.6908 - val_accuracy: 0.6121\n",
      "Epoch 7/500\n",
      "23/23 [==============================] - 0s 3ms/step - loss: 0.7063 - accuracy: 0.5004 - val_loss: 0.6905 - val_accuracy: 0.6279\n",
      "Epoch 8/500\n",
      "23/23 [==============================] - 0s 3ms/step - loss: 0.7004 - accuracy: 0.5078 - val_loss: 0.6908 - val_accuracy: 0.6228\n",
      "Epoch 9/500\n",
      "23/23 [==============================] - 0s 3ms/step - loss: 0.7003 - accuracy: 0.4947 - val_loss: 0.6913 - val_accuracy: 0.5969\n",
      "Epoch 10/500\n",
      "23/23 [==============================] - 0s 3ms/step - loss: 0.6978 - accuracy: 0.5099 - val_loss: 0.6916 - val_accuracy: 0.5846\n",
      "Epoch 11/500\n",
      "23/23 [==============================] - 0s 3ms/step - loss: 0.6994 - accuracy: 0.5011 - val_loss: 0.6916 - val_accuracy: 0.5836\n",
      "Epoch 12/500\n",
      "23/23 [==============================] - 0s 3ms/step - loss: 0.6968 - accuracy: 0.4986 - val_loss: 0.6917 - val_accuracy: 0.5849\n",
      "Epoch 13/500\n",
      "23/23 [==============================] - 0s 3ms/step - loss: 0.7002 - accuracy: 0.5082 - val_loss: 0.6917 - val_accuracy: 0.5863\n",
      "Epoch 14/500\n",
      "23/23 [==============================] - 0s 3ms/step - loss: 0.6977 - accuracy: 0.5025 - val_loss: 0.6920 - val_accuracy: 0.5577\n",
      "Epoch 15/500\n",
      "23/23 [==============================] - 0s 3ms/step - loss: 0.6984 - accuracy: 0.5156 - val_loss: 0.6923 - val_accuracy: 0.5455\n",
      "Epoch 16/500\n",
      "23/23 [==============================] - 0s 3ms/step - loss: 0.6969 - accuracy: 0.5174 - val_loss: 0.6924 - val_accuracy: 0.5457\n",
      "Epoch 17/500\n",
      "23/23 [==============================] - 0s 3ms/step - loss: 0.6973 - accuracy: 0.5050 - val_loss: 0.6919 - val_accuracy: 0.5849\n",
      "Epoch 18/500\n",
      "23/23 [==============================] - 0s 3ms/step - loss: 0.6996 - accuracy: 0.4986 - val_loss: 0.6919 - val_accuracy: 0.5874\n",
      "Epoch 19/500\n",
      "23/23 [==============================] - 0s 3ms/step - loss: 0.6943 - accuracy: 0.5089 - val_loss: 0.6920 - val_accuracy: 0.5814\n",
      "Epoch 20/500\n",
      "23/23 [==============================] - 0s 3ms/step - loss: 0.6966 - accuracy: 0.5060 - val_loss: 0.6919 - val_accuracy: 0.5844\n",
      "Epoch 21/500\n",
      "23/23 [==============================] - 0s 3ms/step - loss: 0.6944 - accuracy: 0.5121 - val_loss: 0.6921 - val_accuracy: 0.5621\n",
      "Epoch 22/500\n",
      "23/23 [==============================] - 0s 3ms/step - loss: 0.6965 - accuracy: 0.5025 - val_loss: 0.6923 - val_accuracy: 0.5490\n",
      "Epoch 23/500\n",
      "23/23 [==============================] - 0s 3ms/step - loss: 0.6951 - accuracy: 0.5032 - val_loss: 0.6927 - val_accuracy: 0.5109\n",
      "Epoch 24/500\n",
      "23/23 [==============================] - 0s 3ms/step - loss: 0.6958 - accuracy: 0.4777 - val_loss: 0.6932 - val_accuracy: 0.4829\n",
      "Epoch 25/500\n",
      "23/23 [==============================] - 0s 3ms/step - loss: 0.6923 - accuracy: 0.5124 - val_loss: 0.6933 - val_accuracy: 0.4684\n",
      "Epoch 26/500\n",
      "23/23 [==============================] - 0s 3ms/step - loss: 0.6938 - accuracy: 0.4993 - val_loss: 0.6934 - val_accuracy: 0.4720\n",
      "Epoch 27/500\n",
      "23/23 [==============================] - 0s 3ms/step - loss: 0.6934 - accuracy: 0.5074 - val_loss: 0.6937 - val_accuracy: 0.4477\n",
      "Epoch 28/500\n",
      "23/23 [==============================] - 0s 3ms/step - loss: 0.6932 - accuracy: 0.5167 - val_loss: 0.6934 - val_accuracy: 0.4682\n",
      "Epoch 29/500\n",
      "23/23 [==============================] - 0s 3ms/step - loss: 0.6932 - accuracy: 0.5050 - val_loss: 0.6934 - val_accuracy: 0.4709\n",
      "Epoch 30/500\n",
      "23/23 [==============================] - 0s 3ms/step - loss: 0.6918 - accuracy: 0.5390 - val_loss: 0.6932 - val_accuracy: 0.4826\n",
      "Epoch 31/500\n",
      "23/23 [==============================] - 0s 3ms/step - loss: 0.6942 - accuracy: 0.5007 - val_loss: 0.6934 - val_accuracy: 0.4646\n",
      "Epoch 32/500\n",
      "23/23 [==============================] - 0s 3ms/step - loss: 0.6949 - accuracy: 0.5007 - val_loss: 0.6938 - val_accuracy: 0.4382\n",
      "Epoch 33/500\n",
      "23/23 [==============================] - 0s 3ms/step - loss: 0.6936 - accuracy: 0.5007 - val_loss: 0.6943 - val_accuracy: 0.4203\n",
      "Epoch 34/500\n",
      "23/23 [==============================] - 0s 3ms/step - loss: 0.6914 - accuracy: 0.5280 - val_loss: 0.6942 - val_accuracy: 0.4232\n",
      "Epoch 35/500\n",
      "23/23 [==============================] - 0s 3ms/step - loss: 0.6930 - accuracy: 0.5156 - val_loss: 0.6943 - val_accuracy: 0.4222\n",
      "Epoch 36/500\n",
      "23/23 [==============================] - 0s 3ms/step - loss: 0.6882 - accuracy: 0.5206 - val_loss: 0.6948 - val_accuracy: 0.4004\n",
      "Epoch 37/500\n",
      "23/23 [==============================] - 0s 3ms/step - loss: 0.6917 - accuracy: 0.5206 - val_loss: 0.6947 - val_accuracy: 0.4028\n",
      "Epoch 38/500\n",
      "23/23 [==============================] - 0s 3ms/step - loss: 0.6896 - accuracy: 0.5262 - val_loss: 0.6949 - val_accuracy: 0.3938\n",
      "Epoch 39/500\n",
      "23/23 [==============================] - 0s 3ms/step - loss: 0.6908 - accuracy: 0.5195 - val_loss: 0.6941 - val_accuracy: 0.4254\n",
      "Epoch 40/500\n",
      "23/23 [==============================] - 0s 3ms/step - loss: 0.6898 - accuracy: 0.5316 - val_loss: 0.6932 - val_accuracy: 0.4589\n",
      "Epoch 41/500\n",
      "23/23 [==============================] - 0s 3ms/step - loss: 0.6923 - accuracy: 0.5057 - val_loss: 0.6931 - val_accuracy: 0.4575\n",
      "Epoch 42/500\n",
      "23/23 [==============================] - 0s 3ms/step - loss: 0.6930 - accuracy: 0.5202 - val_loss: 0.6938 - val_accuracy: 0.4306\n",
      "Epoch 43/500\n",
      "23/23 [==============================] - 0s 4ms/step - loss: 0.6925 - accuracy: 0.5124 - val_loss: 0.6941 - val_accuracy: 0.4213\n",
      "Epoch 44/500\n",
      "23/23 [==============================] - 0s 4ms/step - loss: 0.6910 - accuracy: 0.5191 - val_loss: 0.6944 - val_accuracy: 0.4107\n",
      "Epoch 45/500\n",
      "23/23 [==============================] - 0s 3ms/step - loss: 0.6916 - accuracy: 0.5266 - val_loss: 0.6943 - val_accuracy: 0.4113\n",
      "Epoch 46/500\n",
      "23/23 [==============================] - 0s 3ms/step - loss: 0.6911 - accuracy: 0.5082 - val_loss: 0.6947 - val_accuracy: 0.3936\n",
      "Epoch 47/500\n",
      "23/23 [==============================] - 0s 3ms/step - loss: 0.6912 - accuracy: 0.5291 - val_loss: 0.6948 - val_accuracy: 0.3922\n",
      "Epoch 48/500\n",
      "23/23 [==============================] - 0s 3ms/step - loss: 0.6897 - accuracy: 0.5337 - val_loss: 0.6946 - val_accuracy: 0.3977\n",
      "Epoch 49/500\n",
      "23/23 [==============================] - 0s 3ms/step - loss: 0.6921 - accuracy: 0.5365 - val_loss: 0.6944 - val_accuracy: 0.4085\n",
      "Epoch 50/500\n",
      "23/23 [==============================] - 0s 3ms/step - loss: 0.6883 - accuracy: 0.5238 - val_loss: 0.6949 - val_accuracy: 0.3993\n",
      "Epoch 51/500\n",
      "23/23 [==============================] - 0s 3ms/step - loss: 0.6908 - accuracy: 0.5230 - val_loss: 0.6945 - val_accuracy: 0.4113\n"
     ]
    },
    {
     "name": "stdout",
     "output_type": "stream",
     "text": [
      "Epoch 52/500\n",
      "23/23 [==============================] - 0s 3ms/step - loss: 0.6908 - accuracy: 0.5177 - val_loss: 0.6933 - val_accuracy: 0.4540\n",
      "Epoch 53/500\n",
      "23/23 [==============================] - 0s 3ms/step - loss: 0.6888 - accuracy: 0.5113 - val_loss: 0.6919 - val_accuracy: 0.4750\n",
      "Epoch 54/500\n",
      "23/23 [==============================] - 0s 3ms/step - loss: 0.6900 - accuracy: 0.5156 - val_loss: 0.6929 - val_accuracy: 0.4545\n",
      "Epoch 55/500\n",
      "23/23 [==============================] - 0s 3ms/step - loss: 0.6921 - accuracy: 0.5092 - val_loss: 0.6937 - val_accuracy: 0.4418\n",
      "Epoch 56/500\n",
      "23/23 [==============================] - 0s 3ms/step - loss: 0.6900 - accuracy: 0.5234 - val_loss: 0.6936 - val_accuracy: 0.4426\n",
      "Epoch 57/500\n",
      "23/23 [==============================] - 0s 3ms/step - loss: 0.6894 - accuracy: 0.5326 - val_loss: 0.6935 - val_accuracy: 0.4464\n",
      "Epoch 58/500\n",
      "23/23 [==============================] - 0s 3ms/step - loss: 0.6884 - accuracy: 0.5319 - val_loss: 0.6928 - val_accuracy: 0.4701\n",
      "Epoch 59/500\n",
      "23/23 [==============================] - 0s 3ms/step - loss: 0.6886 - accuracy: 0.5337 - val_loss: 0.6933 - val_accuracy: 0.4366\n",
      "Epoch 60/500\n",
      "23/23 [==============================] - 0s 3ms/step - loss: 0.6882 - accuracy: 0.5344 - val_loss: 0.6951 - val_accuracy: 0.3968\n",
      "Epoch 61/500\n",
      "23/23 [==============================] - 0s 3ms/step - loss: 0.6907 - accuracy: 0.5348 - val_loss: 0.6953 - val_accuracy: 0.3879\n",
      "Epoch 62/500\n",
      "23/23 [==============================] - 0s 3ms/step - loss: 0.6918 - accuracy: 0.5177 - val_loss: 0.6952 - val_accuracy: 0.3987\n",
      "Epoch 63/500\n",
      "23/23 [==============================] - 0s 3ms/step - loss: 0.6893 - accuracy: 0.5188 - val_loss: 0.6952 - val_accuracy: 0.3982\n",
      "Epoch 64/500\n",
      "23/23 [==============================] - 0s 3ms/step - loss: 0.6880 - accuracy: 0.5376 - val_loss: 0.6941 - val_accuracy: 0.4219\n",
      "Epoch 65/500\n",
      "23/23 [==============================] - 0s 3ms/step - loss: 0.6861 - accuracy: 0.5383 - val_loss: 0.6924 - val_accuracy: 0.4502\n",
      "Epoch 66/500\n",
      "23/23 [==============================] - 0s 3ms/step - loss: 0.6868 - accuracy: 0.5404 - val_loss: 0.6908 - val_accuracy: 0.4799\n",
      "Epoch 67/500\n",
      "23/23 [==============================] - 0s 3ms/step - loss: 0.6870 - accuracy: 0.5330 - val_loss: 0.6900 - val_accuracy: 0.4973\n",
      "Epoch 68/500\n",
      "23/23 [==============================] - 0s 3ms/step - loss: 0.6878 - accuracy: 0.5333 - val_loss: 0.6924 - val_accuracy: 0.4532\n",
      "Epoch 69/500\n",
      "23/23 [==============================] - 0s 3ms/step - loss: 0.6893 - accuracy: 0.5298 - val_loss: 0.6942 - val_accuracy: 0.4203\n",
      "Epoch 70/500\n",
      "23/23 [==============================] - 0s 3ms/step - loss: 0.6877 - accuracy: 0.5358 - val_loss: 0.6949 - val_accuracy: 0.4110\n",
      "Epoch 71/500\n",
      "23/23 [==============================] - 0s 3ms/step - loss: 0.6870 - accuracy: 0.5394 - val_loss: 0.6954 - val_accuracy: 0.4064\n",
      "Epoch 72/500\n",
      "23/23 [==============================] - 0s 3ms/step - loss: 0.6856 - accuracy: 0.5489 - val_loss: 0.6928 - val_accuracy: 0.4469\n",
      "Epoch 73/500\n",
      "23/23 [==============================] - 0s 3ms/step - loss: 0.6834 - accuracy: 0.5571 - val_loss: 0.6900 - val_accuracy: 0.4883\n",
      "Epoch 74/500\n",
      "23/23 [==============================] - 0s 4ms/step - loss: 0.6873 - accuracy: 0.5468 - val_loss: 0.6929 - val_accuracy: 0.4407\n",
      "Epoch 75/500\n",
      "23/23 [==============================] - 0s 4ms/step - loss: 0.6882 - accuracy: 0.5362 - val_loss: 0.6917 - val_accuracy: 0.4567\n",
      "Epoch 76/500\n",
      "23/23 [==============================] - 0s 3ms/step - loss: 0.6840 - accuracy: 0.5504 - val_loss: 0.6899 - val_accuracy: 0.4853\n",
      "Epoch 77/500\n",
      "23/23 [==============================] - 0s 3ms/step - loss: 0.6860 - accuracy: 0.5447 - val_loss: 0.6925 - val_accuracy: 0.4456\n",
      "Epoch 78/500\n",
      "23/23 [==============================] - 0s 3ms/step - loss: 0.6836 - accuracy: 0.5571 - val_loss: 0.6902 - val_accuracy: 0.4701\n",
      "Epoch 79/500\n",
      "23/23 [==============================] - 0s 3ms/step - loss: 0.6826 - accuracy: 0.5553 - val_loss: 0.6884 - val_accuracy: 0.4954\n",
      "Epoch 80/500\n",
      "23/23 [==============================] - 0s 3ms/step - loss: 0.6875 - accuracy: 0.5418 - val_loss: 0.6903 - val_accuracy: 0.4684\n",
      "Epoch 81/500\n",
      "23/23 [==============================] - 0s 3ms/step - loss: 0.6855 - accuracy: 0.5539 - val_loss: 0.6883 - val_accuracy: 0.4869\n",
      "Epoch 82/500\n",
      "23/23 [==============================] - 0s 3ms/step - loss: 0.6823 - accuracy: 0.5489 - val_loss: 0.6872 - val_accuracy: 0.5063\n",
      "Epoch 83/500\n",
      "23/23 [==============================] - 0s 3ms/step - loss: 0.6835 - accuracy: 0.5521 - val_loss: 0.6867 - val_accuracy: 0.5112\n",
      "Epoch 84/500\n",
      "23/23 [==============================] - 0s 3ms/step - loss: 0.6827 - accuracy: 0.5567 - val_loss: 0.6866 - val_accuracy: 0.5207\n",
      "Epoch 85/500\n",
      "23/23 [==============================] - 0s 3ms/step - loss: 0.6814 - accuracy: 0.5716 - val_loss: 0.6845 - val_accuracy: 0.5498\n",
      "Epoch 86/500\n",
      "23/23 [==============================] - 0s 3ms/step - loss: 0.6793 - accuracy: 0.5589 - val_loss: 0.6807 - val_accuracy: 0.5893\n",
      "Epoch 87/500\n",
      "23/23 [==============================] - 0s 3ms/step - loss: 0.6802 - accuracy: 0.5592 - val_loss: 0.6839 - val_accuracy: 0.5490\n",
      "Epoch 88/500\n",
      "23/23 [==============================] - 0s 3ms/step - loss: 0.6815 - accuracy: 0.5734 - val_loss: 0.6874 - val_accuracy: 0.4995\n",
      "Epoch 89/500\n",
      "23/23 [==============================] - 0s 3ms/step - loss: 0.6788 - accuracy: 0.5656 - val_loss: 0.6862 - val_accuracy: 0.5180\n",
      "Epoch 90/500\n",
      "23/23 [==============================] - 0s 3ms/step - loss: 0.6846 - accuracy: 0.5493 - val_loss: 0.6898 - val_accuracy: 0.4687\n",
      "Epoch 91/500\n",
      "23/23 [==============================] - 0s 3ms/step - loss: 0.6813 - accuracy: 0.5635 - val_loss: 0.6892 - val_accuracy: 0.4763\n",
      "Epoch 92/500\n",
      "23/23 [==============================] - 0s 3ms/step - loss: 0.6793 - accuracy: 0.5862 - val_loss: 0.6796 - val_accuracy: 0.5890\n",
      "Epoch 93/500\n",
      "23/23 [==============================] - 0s 3ms/step - loss: 0.6789 - accuracy: 0.5613 - val_loss: 0.6757 - val_accuracy: 0.6206\n",
      "Epoch 94/500\n",
      "23/23 [==============================] - 0s 3ms/step - loss: 0.6809 - accuracy: 0.5613 - val_loss: 0.6837 - val_accuracy: 0.5348\n",
      "Epoch 95/500\n",
      "23/23 [==============================] - 0s 4ms/step - loss: 0.6757 - accuracy: 0.5851 - val_loss: 0.6835 - val_accuracy: 0.5261\n",
      "Epoch 96/500\n",
      "23/23 [==============================] - 0s 3ms/step - loss: 0.6792 - accuracy: 0.5624 - val_loss: 0.6847 - val_accuracy: 0.5182\n",
      "Epoch 97/500\n",
      "23/23 [==============================] - 0s 3ms/step - loss: 0.6785 - accuracy: 0.5688 - val_loss: 0.6843 - val_accuracy: 0.5231\n",
      "Epoch 98/500\n",
      "23/23 [==============================] - 0s 3ms/step - loss: 0.6772 - accuracy: 0.5809 - val_loss: 0.6794 - val_accuracy: 0.5705\n",
      "Epoch 99/500\n",
      "23/23 [==============================] - 0s 3ms/step - loss: 0.6793 - accuracy: 0.5762 - val_loss: 0.6850 - val_accuracy: 0.5106\n",
      "Epoch 100/500\n",
      "23/23 [==============================] - 0s 3ms/step - loss: 0.6730 - accuracy: 0.5883 - val_loss: 0.6799 - val_accuracy: 0.5651\n",
      "Epoch 101/500\n",
      "23/23 [==============================] - 0s 3ms/step - loss: 0.6794 - accuracy: 0.5631 - val_loss: 0.6824 - val_accuracy: 0.5367\n",
      "Epoch 102/500\n",
      "23/23 [==============================] - 0s 3ms/step - loss: 0.6710 - accuracy: 0.5855 - val_loss: 0.6724 - val_accuracy: 0.6179\n",
      "Epoch 103/500\n",
      "23/23 [==============================] - 0s 3ms/step - loss: 0.6769 - accuracy: 0.5631 - val_loss: 0.6780 - val_accuracy: 0.5759\n",
      "Epoch 104/500\n",
      "23/23 [==============================] - 0s 3ms/step - loss: 0.6749 - accuracy: 0.5989 - val_loss: 0.6807 - val_accuracy: 0.5533\n",
      "Epoch 105/500\n",
      "23/23 [==============================] - 0s 3ms/step - loss: 0.6750 - accuracy: 0.5876 - val_loss: 0.6864 - val_accuracy: 0.4984\n",
      "Epoch 106/500\n",
      "23/23 [==============================] - 0s 3ms/step - loss: 0.6754 - accuracy: 0.5901 - val_loss: 0.6762 - val_accuracy: 0.5893\n",
      "Epoch 107/500\n",
      "23/23 [==============================] - 0s 3ms/step - loss: 0.6770 - accuracy: 0.5862 - val_loss: 0.6798 - val_accuracy: 0.5474\n",
      "Epoch 108/500\n",
      "23/23 [==============================] - 0s 3ms/step - loss: 0.6780 - accuracy: 0.5773 - val_loss: 0.6837 - val_accuracy: 0.5223\n",
      "Epoch 109/500\n"
     ]
    },
    {
     "name": "stdout",
     "output_type": "stream",
     "text": [
      "23/23 [==============================] - 0s 3ms/step - loss: 0.6707 - accuracy: 0.5989 - val_loss: 0.6758 - val_accuracy: 0.5838\n",
      "Epoch 110/500\n",
      "23/23 [==============================] - 0s 3ms/step - loss: 0.6727 - accuracy: 0.5933 - val_loss: 0.6763 - val_accuracy: 0.5792\n",
      "Epoch 111/500\n",
      "23/23 [==============================] - 0s 3ms/step - loss: 0.6709 - accuracy: 0.6121 - val_loss: 0.6697 - val_accuracy: 0.6252\n",
      "Epoch 112/500\n",
      "23/23 [==============================] - 0s 3ms/step - loss: 0.6703 - accuracy: 0.5986 - val_loss: 0.6685 - val_accuracy: 0.6219\n",
      "Epoch 113/500\n",
      "23/23 [==============================] - 0s 3ms/step - loss: 0.6695 - accuracy: 0.6067 - val_loss: 0.6732 - val_accuracy: 0.5857\n",
      "Epoch 114/500\n",
      "23/23 [==============================] - 0s 3ms/step - loss: 0.6704 - accuracy: 0.6078 - val_loss: 0.6707 - val_accuracy: 0.6013\n",
      "Epoch 115/500\n",
      "23/23 [==============================] - 0s 3ms/step - loss: 0.6657 - accuracy: 0.6039 - val_loss: 0.6663 - val_accuracy: 0.6334\n",
      "Epoch 116/500\n",
      "23/23 [==============================] - 0s 3ms/step - loss: 0.6678 - accuracy: 0.5975 - val_loss: 0.6707 - val_accuracy: 0.6026\n",
      "Epoch 117/500\n",
      "23/23 [==============================] - 0s 3ms/step - loss: 0.6702 - accuracy: 0.6046 - val_loss: 0.6713 - val_accuracy: 0.5958\n",
      "Epoch 118/500\n",
      "23/23 [==============================] - 0s 3ms/step - loss: 0.6689 - accuracy: 0.6106 - val_loss: 0.6728 - val_accuracy: 0.5972\n",
      "Epoch 119/500\n",
      "23/23 [==============================] - 0s 3ms/step - loss: 0.6639 - accuracy: 0.6284 - val_loss: 0.6657 - val_accuracy: 0.6339\n",
      "Epoch 120/500\n",
      "23/23 [==============================] - 0s 3ms/step - loss: 0.6622 - accuracy: 0.6117 - val_loss: 0.6651 - val_accuracy: 0.6312\n",
      "Epoch 121/500\n",
      "23/23 [==============================] - 0s 3ms/step - loss: 0.6619 - accuracy: 0.6238 - val_loss: 0.6693 - val_accuracy: 0.6062\n",
      "Epoch 122/500\n",
      "23/23 [==============================] - 0s 3ms/step - loss: 0.6618 - accuracy: 0.6309 - val_loss: 0.6676 - val_accuracy: 0.6091\n",
      "Epoch 123/500\n",
      "23/23 [==============================] - 0s 3ms/step - loss: 0.6604 - accuracy: 0.6255 - val_loss: 0.6676 - val_accuracy: 0.6086\n",
      "Epoch 124/500\n",
      "23/23 [==============================] - 0s 3ms/step - loss: 0.6631 - accuracy: 0.6230 - val_loss: 0.6738 - val_accuracy: 0.5653\n",
      "Epoch 125/500\n",
      "23/23 [==============================] - 0s 3ms/step - loss: 0.6604 - accuracy: 0.6202 - val_loss: 0.6730 - val_accuracy: 0.5664\n",
      "Epoch 126/500\n",
      "23/23 [==============================] - 0s 3ms/step - loss: 0.6654 - accuracy: 0.6223 - val_loss: 0.6743 - val_accuracy: 0.5621\n",
      "Epoch 127/500\n",
      "23/23 [==============================] - 0s 3ms/step - loss: 0.6569 - accuracy: 0.6383 - val_loss: 0.6663 - val_accuracy: 0.6029\n",
      "Epoch 128/500\n",
      "23/23 [==============================] - 0s 3ms/step - loss: 0.6548 - accuracy: 0.6401 - val_loss: 0.6643 - val_accuracy: 0.6119\n",
      "Epoch 129/500\n",
      "23/23 [==============================] - 0s 3ms/step - loss: 0.6617 - accuracy: 0.6170 - val_loss: 0.6695 - val_accuracy: 0.5800\n",
      "Epoch 130/500\n",
      "23/23 [==============================] - 0s 3ms/step - loss: 0.6603 - accuracy: 0.6230 - val_loss: 0.6763 - val_accuracy: 0.5471\n",
      "Epoch 131/500\n",
      "23/23 [==============================] - 0s 3ms/step - loss: 0.6618 - accuracy: 0.6230 - val_loss: 0.6652 - val_accuracy: 0.6138\n",
      "Epoch 132/500\n",
      "23/23 [==============================] - 0s 3ms/step - loss: 0.6597 - accuracy: 0.6252 - val_loss: 0.6651 - val_accuracy: 0.6157\n",
      "Epoch 133/500\n",
      "23/23 [==============================] - 0s 3ms/step - loss: 0.6578 - accuracy: 0.6266 - val_loss: 0.6656 - val_accuracy: 0.6072\n",
      "Epoch 134/500\n",
      "23/23 [==============================] - 0s 3ms/step - loss: 0.6545 - accuracy: 0.6355 - val_loss: 0.6561 - val_accuracy: 0.6377\n",
      "Epoch 135/500\n",
      "23/23 [==============================] - 0s 3ms/step - loss: 0.6518 - accuracy: 0.6450 - val_loss: 0.6614 - val_accuracy: 0.6222\n",
      "Epoch 136/500\n",
      "23/23 [==============================] - 0s 3ms/step - loss: 0.6572 - accuracy: 0.6270 - val_loss: 0.6633 - val_accuracy: 0.6032\n",
      "Epoch 137/500\n",
      "23/23 [==============================] - 0s 3ms/step - loss: 0.6566 - accuracy: 0.6351 - val_loss: 0.6603 - val_accuracy: 0.6170\n",
      "Epoch 138/500\n",
      "23/23 [==============================] - 0s 3ms/step - loss: 0.6545 - accuracy: 0.6404 - val_loss: 0.6672 - val_accuracy: 0.5879\n",
      "Epoch 139/500\n",
      "23/23 [==============================] - 0s 3ms/step - loss: 0.6480 - accuracy: 0.6362 - val_loss: 0.6597 - val_accuracy: 0.6233\n",
      "Epoch 140/500\n",
      "23/23 [==============================] - 0s 3ms/step - loss: 0.6490 - accuracy: 0.6539 - val_loss: 0.6669 - val_accuracy: 0.5808\n",
      "Epoch 141/500\n",
      "23/23 [==============================] - 0s 3ms/step - loss: 0.6500 - accuracy: 0.6408 - val_loss: 0.6618 - val_accuracy: 0.6089\n",
      "Epoch 142/500\n",
      "23/23 [==============================] - 0s 3ms/step - loss: 0.6545 - accuracy: 0.6365 - val_loss: 0.6648 - val_accuracy: 0.5904\n",
      "Epoch 143/500\n",
      "23/23 [==============================] - 0s 3ms/step - loss: 0.6428 - accuracy: 0.6557 - val_loss: 0.6577 - val_accuracy: 0.6249\n",
      "Epoch 144/500\n",
      "23/23 [==============================] - 0s 3ms/step - loss: 0.6468 - accuracy: 0.6504 - val_loss: 0.6597 - val_accuracy: 0.6162\n",
      "Epoch 145/500\n",
      "23/23 [==============================] - 0s 3ms/step - loss: 0.6491 - accuracy: 0.6323 - val_loss: 0.6656 - val_accuracy: 0.5906\n",
      "Epoch 146/500\n",
      "23/23 [==============================] - 0s 3ms/step - loss: 0.6413 - accuracy: 0.6603 - val_loss: 0.6631 - val_accuracy: 0.6056\n",
      "Epoch 147/500\n",
      "23/23 [==============================] - 0s 3ms/step - loss: 0.6417 - accuracy: 0.6628 - val_loss: 0.6659 - val_accuracy: 0.5855\n",
      "Epoch 148/500\n",
      "23/23 [==============================] - 0s 3ms/step - loss: 0.6400 - accuracy: 0.6585 - val_loss: 0.6576 - val_accuracy: 0.6159\n",
      "Epoch 149/500\n",
      "23/23 [==============================] - 0s 3ms/step - loss: 0.6389 - accuracy: 0.6610 - val_loss: 0.6592 - val_accuracy: 0.6149\n",
      "Epoch 150/500\n",
      "23/23 [==============================] - 0s 3ms/step - loss: 0.6411 - accuracy: 0.6482 - val_loss: 0.6595 - val_accuracy: 0.6116\n",
      "Epoch 151/500\n",
      "23/23 [==============================] - 0s 3ms/step - loss: 0.6352 - accuracy: 0.6638 - val_loss: 0.6572 - val_accuracy: 0.6219\n",
      "Epoch 152/500\n",
      "23/23 [==============================] - 0s 3ms/step - loss: 0.6367 - accuracy: 0.6553 - val_loss: 0.6605 - val_accuracy: 0.6083\n",
      "Epoch 153/500\n",
      "23/23 [==============================] - 0s 3ms/step - loss: 0.6353 - accuracy: 0.6606 - val_loss: 0.6573 - val_accuracy: 0.6211\n",
      "Epoch 154/500\n",
      "23/23 [==============================] - 0s 3ms/step - loss: 0.6308 - accuracy: 0.6621 - val_loss: 0.6574 - val_accuracy: 0.6241\n",
      "Epoch 155/500\n",
      "23/23 [==============================] - 0s 3ms/step - loss: 0.6325 - accuracy: 0.6603 - val_loss: 0.6603 - val_accuracy: 0.6111\n",
      "Epoch 156/500\n",
      "23/23 [==============================] - 0s 3ms/step - loss: 0.6325 - accuracy: 0.6642 - val_loss: 0.6569 - val_accuracy: 0.6241\n",
      "Epoch 157/500\n",
      "23/23 [==============================] - 0s 3ms/step - loss: 0.6302 - accuracy: 0.6695 - val_loss: 0.6622 - val_accuracy: 0.6051\n",
      "Epoch 158/500\n",
      "23/23 [==============================] - 0s 3ms/step - loss: 0.6349 - accuracy: 0.6635 - val_loss: 0.6563 - val_accuracy: 0.6301\n",
      "Epoch 159/500\n",
      "23/23 [==============================] - 0s 3ms/step - loss: 0.6311 - accuracy: 0.6667 - val_loss: 0.6642 - val_accuracy: 0.6007\n",
      "Epoch 160/500\n",
      "23/23 [==============================] - 0s 3ms/step - loss: 0.6386 - accuracy: 0.6525 - val_loss: 0.6662 - val_accuracy: 0.5958\n",
      "Epoch 161/500\n",
      "23/23 [==============================] - 0s 3ms/step - loss: 0.6393 - accuracy: 0.6550 - val_loss: 0.6655 - val_accuracy: 0.5977\n",
      "Epoch 162/500\n",
      "23/23 [==============================] - 0s 3ms/step - loss: 0.6299 - accuracy: 0.6748 - val_loss: 0.6632 - val_accuracy: 0.6010\n",
      "Epoch 163/500\n",
      "23/23 [==============================] - 0s 3ms/step - loss: 0.6258 - accuracy: 0.6752 - val_loss: 0.6603 - val_accuracy: 0.6189\n",
      "Epoch 164/500\n",
      "23/23 [==============================] - 0s 3ms/step - loss: 0.6211 - accuracy: 0.6780 - val_loss: 0.6616 - val_accuracy: 0.6198\n",
      "Epoch 165/500\n",
      "23/23 [==============================] - 0s 3ms/step - loss: 0.6253 - accuracy: 0.6840 - val_loss: 0.6622 - val_accuracy: 0.6203\n",
      "Epoch 166/500\n"
     ]
    },
    {
     "name": "stdout",
     "output_type": "stream",
     "text": [
      "23/23 [==============================] - 0s 3ms/step - loss: 0.6139 - accuracy: 0.6759 - val_loss: 0.6612 - val_accuracy: 0.6312\n",
      "Epoch 167/500\n",
      "23/23 [==============================] - 0s 4ms/step - loss: 0.6164 - accuracy: 0.6801 - val_loss: 0.6640 - val_accuracy: 0.6081\n",
      "Epoch 168/500\n",
      "23/23 [==============================] - 0s 3ms/step - loss: 0.6180 - accuracy: 0.6794 - val_loss: 0.6598 - val_accuracy: 0.6244\n",
      "Epoch 169/500\n",
      "23/23 [==============================] - 0s 3ms/step - loss: 0.6168 - accuracy: 0.6770 - val_loss: 0.6607 - val_accuracy: 0.6222\n",
      "Epoch 170/500\n",
      "23/23 [==============================] - 0s 3ms/step - loss: 0.6145 - accuracy: 0.6851 - val_loss: 0.6575 - val_accuracy: 0.6366\n",
      "Epoch 171/500\n",
      "23/23 [==============================] - 0s 3ms/step - loss: 0.6096 - accuracy: 0.6883 - val_loss: 0.6618 - val_accuracy: 0.6187\n",
      "Epoch 172/500\n",
      "23/23 [==============================] - 0s 3ms/step - loss: 0.6185 - accuracy: 0.6677 - val_loss: 0.6631 - val_accuracy: 0.6187\n",
      "Epoch 173/500\n",
      "23/23 [==============================] - 0s 4ms/step - loss: 0.6166 - accuracy: 0.6809 - val_loss: 0.6640 - val_accuracy: 0.6192\n",
      "Epoch 174/500\n",
      "23/23 [==============================] - 0s 3ms/step - loss: 0.6215 - accuracy: 0.6784 - val_loss: 0.6679 - val_accuracy: 0.6127\n",
      "Epoch 175/500\n",
      "23/23 [==============================] - 0s 3ms/step - loss: 0.6132 - accuracy: 0.6830 - val_loss: 0.6698 - val_accuracy: 0.6075\n",
      "Epoch 176/500\n",
      "23/23 [==============================] - 0s 3ms/step - loss: 0.6045 - accuracy: 0.7021 - val_loss: 0.6683 - val_accuracy: 0.6296\n",
      "Epoch 177/500\n",
      "23/23 [==============================] - 0s 3ms/step - loss: 0.6069 - accuracy: 0.7025 - val_loss: 0.6686 - val_accuracy: 0.6225\n",
      "Epoch 178/500\n",
      "23/23 [==============================] - 0s 3ms/step - loss: 0.5997 - accuracy: 0.6975 - val_loss: 0.6746 - val_accuracy: 0.6326\n",
      "Epoch 179/500\n",
      "23/23 [==============================] - 0s 3ms/step - loss: 0.6068 - accuracy: 0.6954 - val_loss: 0.6721 - val_accuracy: 0.6255\n",
      "Epoch 180/500\n",
      "23/23 [==============================] - 0s 3ms/step - loss: 0.6039 - accuracy: 0.7018 - val_loss: 0.6729 - val_accuracy: 0.6241\n",
      "Epoch 181/500\n",
      "23/23 [==============================] - 0s 3ms/step - loss: 0.6005 - accuracy: 0.7000 - val_loss: 0.6762 - val_accuracy: 0.6181\n",
      "Epoch 182/500\n",
      "23/23 [==============================] - 0s 3ms/step - loss: 0.5992 - accuracy: 0.6936 - val_loss: 0.6769 - val_accuracy: 0.6271\n",
      "Epoch 183/500\n",
      "23/23 [==============================] - 0s 3ms/step - loss: 0.5923 - accuracy: 0.7128 - val_loss: 0.6750 - val_accuracy: 0.6282\n",
      "Epoch 184/500\n",
      "23/23 [==============================] - 0s 3ms/step - loss: 0.5914 - accuracy: 0.7152 - val_loss: 0.6801 - val_accuracy: 0.6111\n",
      "Epoch 185/500\n",
      "23/23 [==============================] - 0s 3ms/step - loss: 0.5962 - accuracy: 0.7007 - val_loss: 0.6805 - val_accuracy: 0.6176\n",
      "Epoch 186/500\n",
      "23/23 [==============================] - 0s 3ms/step - loss: 0.5910 - accuracy: 0.7124 - val_loss: 0.6824 - val_accuracy: 0.6260\n",
      "Epoch 187/500\n",
      "23/23 [==============================] - 0s 3ms/step - loss: 0.5961 - accuracy: 0.7078 - val_loss: 0.6836 - val_accuracy: 0.6228\n",
      "Epoch 188/500\n",
      "23/23 [==============================] - 0s 3ms/step - loss: 0.5990 - accuracy: 0.7064 - val_loss: 0.6919 - val_accuracy: 0.6334\n",
      "Epoch 189/500\n",
      "23/23 [==============================] - 0s 3ms/step - loss: 0.5875 - accuracy: 0.7188 - val_loss: 0.6891 - val_accuracy: 0.6119\n",
      "Epoch 190/500\n",
      "23/23 [==============================] - 0s 3ms/step - loss: 0.5881 - accuracy: 0.7160 - val_loss: 0.6925 - val_accuracy: 0.6366\n",
      "Epoch 191/500\n",
      "23/23 [==============================] - 0s 3ms/step - loss: 0.5898 - accuracy: 0.7060 - val_loss: 0.6904 - val_accuracy: 0.6241\n",
      "Epoch 192/500\n",
      "23/23 [==============================] - 0s 3ms/step - loss: 0.5851 - accuracy: 0.7060 - val_loss: 0.6942 - val_accuracy: 0.6214\n",
      "Epoch 193/500\n",
      "23/23 [==============================] - 0s 3ms/step - loss: 0.5944 - accuracy: 0.7067 - val_loss: 0.6960 - val_accuracy: 0.6238\n",
      "Epoch 194/500\n",
      "23/23 [==============================] - 0s 3ms/step - loss: 0.5957 - accuracy: 0.7035 - val_loss: 0.7018 - val_accuracy: 0.6353\n",
      "Epoch 195/500\n",
      "23/23 [==============================] - 0s 3ms/step - loss: 0.5822 - accuracy: 0.7216 - val_loss: 0.7067 - val_accuracy: 0.6263\n",
      "Epoch 196/500\n",
      "23/23 [==============================] - 0s 3ms/step - loss: 0.5881 - accuracy: 0.7106 - val_loss: 0.6981 - val_accuracy: 0.6042\n",
      "Epoch 197/500\n",
      "23/23 [==============================] - 0s 4ms/step - loss: 0.5967 - accuracy: 0.7011 - val_loss: 0.7030 - val_accuracy: 0.6296\n",
      "Epoch 198/500\n",
      "23/23 [==============================] - 0s 4ms/step - loss: 0.5804 - accuracy: 0.7188 - val_loss: 0.6983 - val_accuracy: 0.6263\n",
      "Epoch 199/500\n",
      "23/23 [==============================] - 0s 3ms/step - loss: 0.5800 - accuracy: 0.7184 - val_loss: 0.6986 - val_accuracy: 0.6179\n",
      "Epoch 200/500\n",
      "23/23 [==============================] - 0s 3ms/step - loss: 0.5881 - accuracy: 0.7156 - val_loss: 0.6917 - val_accuracy: 0.6157\n",
      "Epoch 201/500\n",
      "23/23 [==============================] - 0s 3ms/step - loss: 0.5855 - accuracy: 0.7124 - val_loss: 0.6967 - val_accuracy: 0.6233\n",
      "Epoch 202/500\n",
      "23/23 [==============================] - 0s 3ms/step - loss: 0.5824 - accuracy: 0.7199 - val_loss: 0.6879 - val_accuracy: 0.6306\n",
      "Epoch 203/500\n",
      "23/23 [==============================] - 0s 3ms/step - loss: 0.5821 - accuracy: 0.6993 - val_loss: 0.6970 - val_accuracy: 0.6328\n",
      "Epoch 204/500\n",
      "23/23 [==============================] - 0s 3ms/step - loss: 0.5789 - accuracy: 0.7160 - val_loss: 0.7016 - val_accuracy: 0.6315\n",
      "Epoch 205/500\n",
      "23/23 [==============================] - 0s 3ms/step - loss: 0.5784 - accuracy: 0.7181 - val_loss: 0.7061 - val_accuracy: 0.6312\n",
      "Epoch 206/500\n",
      "23/23 [==============================] - 0s 4ms/step - loss: 0.5804 - accuracy: 0.7181 - val_loss: 0.7134 - val_accuracy: 0.6375\n",
      "Epoch 207/500\n",
      "23/23 [==============================] - 0s 3ms/step - loss: 0.5828 - accuracy: 0.7167 - val_loss: 0.7054 - val_accuracy: 0.6293\n",
      "Epoch 208/500\n",
      "23/23 [==============================] - 0s 3ms/step - loss: 0.5738 - accuracy: 0.7252 - val_loss: 0.7054 - val_accuracy: 0.6377\n",
      "Epoch 209/500\n",
      "23/23 [==============================] - 0s 3ms/step - loss: 0.5735 - accuracy: 0.7241 - val_loss: 0.7046 - val_accuracy: 0.6380\n",
      "Epoch 210/500\n",
      "23/23 [==============================] - 0s 3ms/step - loss: 0.5810 - accuracy: 0.7145 - val_loss: 0.7120 - val_accuracy: 0.6342\n",
      "Epoch 211/500\n",
      "23/23 [==============================] - 0s 3ms/step - loss: 0.5729 - accuracy: 0.7333 - val_loss: 0.7105 - val_accuracy: 0.6236\n",
      "Epoch 212/500\n",
      "23/23 [==============================] - 0s 3ms/step - loss: 0.5663 - accuracy: 0.7220 - val_loss: 0.7162 - val_accuracy: 0.6244\n",
      "Epoch 213/500\n",
      "23/23 [==============================] - 0s 3ms/step - loss: 0.5616 - accuracy: 0.7312 - val_loss: 0.7285 - val_accuracy: 0.6366\n",
      "Epoch 214/500\n",
      "23/23 [==============================] - 0s 4ms/step - loss: 0.5731 - accuracy: 0.7209 - val_loss: 0.7093 - val_accuracy: 0.6149\n",
      "Epoch 215/500\n",
      "23/23 [==============================] - 0s 3ms/step - loss: 0.5702 - accuracy: 0.7252 - val_loss: 0.7269 - val_accuracy: 0.6282\n",
      "Epoch 216/500\n",
      "23/23 [==============================] - 0s 3ms/step - loss: 0.5620 - accuracy: 0.7408 - val_loss: 0.7373 - val_accuracy: 0.6301\n",
      "Epoch 217/500\n",
      "23/23 [==============================] - 0s 3ms/step - loss: 0.5703 - accuracy: 0.7362 - val_loss: 0.7531 - val_accuracy: 0.6301\n",
      "Epoch 218/500\n",
      "23/23 [==============================] - 0s 3ms/step - loss: 0.5682 - accuracy: 0.7316 - val_loss: 0.7551 - val_accuracy: 0.6339\n",
      "Epoch 219/500\n",
      "23/23 [==============================] - 0s 3ms/step - loss: 0.5698 - accuracy: 0.7340 - val_loss: 0.7378 - val_accuracy: 0.6181\n",
      "Epoch 220/500\n",
      "23/23 [==============================] - 0s 3ms/step - loss: 0.5567 - accuracy: 0.7333 - val_loss: 0.7718 - val_accuracy: 0.6358\n",
      "Epoch 221/500\n",
      "23/23 [==============================] - 0s 3ms/step - loss: 0.5620 - accuracy: 0.7387 - val_loss: 0.7578 - val_accuracy: 0.6277\n",
      "Epoch 222/500\n",
      "23/23 [==============================] - 0s 3ms/step - loss: 0.5537 - accuracy: 0.7475 - val_loss: 0.7825 - val_accuracy: 0.6342\n",
      "Epoch 223/500\n"
     ]
    },
    {
     "name": "stdout",
     "output_type": "stream",
     "text": [
      "23/23 [==============================] - 0s 3ms/step - loss: 0.5555 - accuracy: 0.7408 - val_loss: 0.7601 - val_accuracy: 0.6277\n",
      "Epoch 224/500\n",
      "23/23 [==============================] - 0s 3ms/step - loss: 0.5531 - accuracy: 0.7426 - val_loss: 0.7991 - val_accuracy: 0.6339\n",
      "Epoch 225/500\n",
      "23/23 [==============================] - 0s 3ms/step - loss: 0.5507 - accuracy: 0.7479 - val_loss: 0.7574 - val_accuracy: 0.6304\n",
      "Epoch 226/500\n",
      "23/23 [==============================] - 0s 3ms/step - loss: 0.5523 - accuracy: 0.7387 - val_loss: 0.7819 - val_accuracy: 0.6326\n",
      "Epoch 227/500\n",
      "23/23 [==============================] - 0s 3ms/step - loss: 0.5587 - accuracy: 0.7333 - val_loss: 0.7817 - val_accuracy: 0.6394\n",
      "Epoch 228/500\n",
      "23/23 [==============================] - 0s 3ms/step - loss: 0.5526 - accuracy: 0.7514 - val_loss: 0.7704 - val_accuracy: 0.6328\n",
      "Epoch 229/500\n",
      "23/23 [==============================] - 0s 3ms/step - loss: 0.5502 - accuracy: 0.7461 - val_loss: 0.7604 - val_accuracy: 0.6312\n",
      "Epoch 230/500\n",
      "23/23 [==============================] - 0s 3ms/step - loss: 0.5551 - accuracy: 0.7450 - val_loss: 0.7871 - val_accuracy: 0.6312\n",
      "Epoch 231/500\n",
      "23/23 [==============================] - 0s 3ms/step - loss: 0.5462 - accuracy: 0.7496 - val_loss: 0.7832 - val_accuracy: 0.6287\n",
      "Epoch 232/500\n",
      "23/23 [==============================] - 0s 3ms/step - loss: 0.5470 - accuracy: 0.7440 - val_loss: 0.8127 - val_accuracy: 0.6402\n",
      "Epoch 233/500\n",
      "23/23 [==============================] - 0s 3ms/step - loss: 0.5491 - accuracy: 0.7436 - val_loss: 0.7800 - val_accuracy: 0.6225\n",
      "Epoch 234/500\n",
      "23/23 [==============================] - 0s 3ms/step - loss: 0.5471 - accuracy: 0.7440 - val_loss: 0.8148 - val_accuracy: 0.6380\n",
      "Epoch 235/500\n",
      "23/23 [==============================] - 0s 3ms/step - loss: 0.5359 - accuracy: 0.7507 - val_loss: 0.7854 - val_accuracy: 0.6293\n",
      "Epoch 236/500\n",
      "23/23 [==============================] - 0s 3ms/step - loss: 0.5357 - accuracy: 0.7553 - val_loss: 0.8222 - val_accuracy: 0.6345\n",
      "Epoch 237/500\n",
      "23/23 [==============================] - 0s 3ms/step - loss: 0.5461 - accuracy: 0.7401 - val_loss: 0.8088 - val_accuracy: 0.6350\n",
      "Epoch 238/500\n",
      "23/23 [==============================] - 0s 3ms/step - loss: 0.5476 - accuracy: 0.7397 - val_loss: 0.8031 - val_accuracy: 0.6312\n",
      "Epoch 239/500\n",
      "23/23 [==============================] - 0s 3ms/step - loss: 0.5501 - accuracy: 0.7504 - val_loss: 0.8075 - val_accuracy: 0.6255\n",
      "Epoch 240/500\n",
      "23/23 [==============================] - 0s 3ms/step - loss: 0.5422 - accuracy: 0.7514 - val_loss: 0.8119 - val_accuracy: 0.6342\n",
      "Epoch 241/500\n",
      "23/23 [==============================] - 0s 3ms/step - loss: 0.5473 - accuracy: 0.7564 - val_loss: 0.8283 - val_accuracy: 0.6350\n",
      "Epoch 242/500\n",
      "23/23 [==============================] - 0s 3ms/step - loss: 0.5398 - accuracy: 0.7585 - val_loss: 0.8193 - val_accuracy: 0.6285\n",
      "Epoch 243/500\n",
      "23/23 [==============================] - 0s 3ms/step - loss: 0.5416 - accuracy: 0.7571 - val_loss: 0.8323 - val_accuracy: 0.6388\n",
      "Epoch 244/500\n",
      "23/23 [==============================] - 0s 3ms/step - loss: 0.5438 - accuracy: 0.7557 - val_loss: 0.8004 - val_accuracy: 0.6266\n",
      "Epoch 245/500\n",
      "23/23 [==============================] - 0s 3ms/step - loss: 0.5452 - accuracy: 0.7546 - val_loss: 0.8114 - val_accuracy: 0.6279\n",
      "Epoch 246/500\n",
      "23/23 [==============================] - 0s 3ms/step - loss: 0.5385 - accuracy: 0.7457 - val_loss: 0.8275 - val_accuracy: 0.6331\n",
      "Epoch 247/500\n",
      "23/23 [==============================] - 0s 3ms/step - loss: 0.5257 - accuracy: 0.7660 - val_loss: 0.8304 - val_accuracy: 0.6298\n",
      "Epoch 248/500\n",
      "23/23 [==============================] - 0s 3ms/step - loss: 0.5319 - accuracy: 0.7677 - val_loss: 0.8577 - val_accuracy: 0.6345\n",
      "Epoch 249/500\n",
      "23/23 [==============================] - 0s 3ms/step - loss: 0.5398 - accuracy: 0.7631 - val_loss: 0.8248 - val_accuracy: 0.6233\n",
      "Epoch 250/500\n",
      "23/23 [==============================] - 0s 3ms/step - loss: 0.5404 - accuracy: 0.7440 - val_loss: 0.8390 - val_accuracy: 0.6320\n",
      "Epoch 251/500\n",
      "23/23 [==============================] - 0s 3ms/step - loss: 0.5449 - accuracy: 0.7486 - val_loss: 0.8254 - val_accuracy: 0.6394\n",
      "Epoch 252/500\n",
      "23/23 [==============================] - 0s 3ms/step - loss: 0.5441 - accuracy: 0.7553 - val_loss: 0.8497 - val_accuracy: 0.6385\n",
      "Epoch 253/500\n",
      "23/23 [==============================] - 0s 3ms/step - loss: 0.5222 - accuracy: 0.7613 - val_loss: 0.8333 - val_accuracy: 0.6339\n",
      "Epoch 254/500\n",
      "23/23 [==============================] - 0s 3ms/step - loss: 0.5427 - accuracy: 0.7606 - val_loss: 0.8365 - val_accuracy: 0.6301\n",
      "Epoch 255/500\n",
      "23/23 [==============================] - 0s 3ms/step - loss: 0.5380 - accuracy: 0.7628 - val_loss: 0.8306 - val_accuracy: 0.6266\n",
      "Epoch 256/500\n",
      "23/23 [==============================] - 0s 3ms/step - loss: 0.5301 - accuracy: 0.7667 - val_loss: 0.8544 - val_accuracy: 0.6323\n",
      "Epoch 257/500\n",
      "23/23 [==============================] - 0s 3ms/step - loss: 0.5375 - accuracy: 0.7574 - val_loss: 0.8388 - val_accuracy: 0.6358\n",
      "Epoch 258/500\n",
      "23/23 [==============================] - 0s 3ms/step - loss: 0.5206 - accuracy: 0.7699 - val_loss: 0.8544 - val_accuracy: 0.6345\n",
      "Epoch 259/500\n",
      "23/23 [==============================] - 0s 3ms/step - loss: 0.5258 - accuracy: 0.7695 - val_loss: 0.8676 - val_accuracy: 0.6377\n",
      "Epoch 260/500\n",
      "23/23 [==============================] - 0s 3ms/step - loss: 0.5439 - accuracy: 0.7638 - val_loss: 0.8562 - val_accuracy: 0.6372\n",
      "Epoch 261/500\n",
      "23/23 [==============================] - 0s 3ms/step - loss: 0.5296 - accuracy: 0.7709 - val_loss: 0.8617 - val_accuracy: 0.6377\n",
      "Epoch 262/500\n",
      "23/23 [==============================] - 0s 3ms/step - loss: 0.5127 - accuracy: 0.7766 - val_loss: 0.8880 - val_accuracy: 0.6399\n",
      "Epoch 263/500\n",
      "23/23 [==============================] - 0s 3ms/step - loss: 0.5120 - accuracy: 0.7738 - val_loss: 0.8960 - val_accuracy: 0.6361\n",
      "Epoch 264/500\n",
      "23/23 [==============================] - 0s 3ms/step - loss: 0.5138 - accuracy: 0.7734 - val_loss: 0.9139 - val_accuracy: 0.6394\n",
      "Epoch 265/500\n",
      "23/23 [==============================] - 0s 3ms/step - loss: 0.5086 - accuracy: 0.7837 - val_loss: 0.8874 - val_accuracy: 0.6328\n",
      "Epoch 266/500\n",
      "23/23 [==============================] - 0s 3ms/step - loss: 0.5109 - accuracy: 0.7695 - val_loss: 0.8986 - val_accuracy: 0.6331\n",
      "Epoch 267/500\n",
      "23/23 [==============================] - 0s 3ms/step - loss: 0.5031 - accuracy: 0.7738 - val_loss: 0.8795 - val_accuracy: 0.6320\n",
      "Epoch 268/500\n",
      "23/23 [==============================] - 0s 3ms/step - loss: 0.5228 - accuracy: 0.7695 - val_loss: 0.9353 - val_accuracy: 0.6424\n",
      "Epoch 269/500\n",
      "23/23 [==============================] - 0s 3ms/step - loss: 0.5169 - accuracy: 0.7691 - val_loss: 0.9010 - val_accuracy: 0.6304\n",
      "Epoch 270/500\n",
      "23/23 [==============================] - 0s 3ms/step - loss: 0.5189 - accuracy: 0.7734 - val_loss: 0.9196 - val_accuracy: 0.6336\n",
      "Epoch 271/500\n",
      "23/23 [==============================] - 0s 3ms/step - loss: 0.5201 - accuracy: 0.7709 - val_loss: 0.9220 - val_accuracy: 0.6342\n",
      "Epoch 272/500\n",
      "23/23 [==============================] - 0s 3ms/step - loss: 0.5030 - accuracy: 0.7794 - val_loss: 0.9074 - val_accuracy: 0.6326\n",
      "Epoch 273/500\n",
      "23/23 [==============================] - 0s 3ms/step - loss: 0.5221 - accuracy: 0.7745 - val_loss: 0.9261 - val_accuracy: 0.6320\n",
      "Epoch 274/500\n",
      "23/23 [==============================] - 0s 3ms/step - loss: 0.5030 - accuracy: 0.7865 - val_loss: 0.9281 - val_accuracy: 0.6331\n",
      "Epoch 275/500\n",
      "23/23 [==============================] - 0s 5ms/step - loss: 0.5245 - accuracy: 0.7770 - val_loss: 0.9304 - val_accuracy: 0.6331\n",
      "Epoch 276/500\n",
      "23/23 [==============================] - 0s 3ms/step - loss: 0.5166 - accuracy: 0.7730 - val_loss: 0.9251 - val_accuracy: 0.6347\n",
      "Epoch 277/500\n",
      "23/23 [==============================] - 0s 4ms/step - loss: 0.5147 - accuracy: 0.7816 - val_loss: 0.9590 - val_accuracy: 0.6388\n",
      "Epoch 278/500\n",
      "23/23 [==============================] - 0s 3ms/step - loss: 0.5038 - accuracy: 0.7943 - val_loss: 0.9602 - val_accuracy: 0.6372\n",
      "Epoch 279/500\n",
      "23/23 [==============================] - 0s 3ms/step - loss: 0.5057 - accuracy: 0.7865 - val_loss: 0.9656 - val_accuracy: 0.6353\n",
      "Epoch 280/500\n"
     ]
    },
    {
     "name": "stdout",
     "output_type": "stream",
     "text": [
      "23/23 [==============================] - 0s 3ms/step - loss: 0.4997 - accuracy: 0.7879 - val_loss: 0.9668 - val_accuracy: 0.6372\n",
      "Epoch 281/500\n",
      "23/23 [==============================] - 0s 3ms/step - loss: 0.5004 - accuracy: 0.7848 - val_loss: 0.9508 - val_accuracy: 0.6317\n",
      "Epoch 282/500\n",
      "23/23 [==============================] - 0s 4ms/step - loss: 0.5100 - accuracy: 0.7770 - val_loss: 0.9386 - val_accuracy: 0.6336\n",
      "Epoch 283/500\n",
      "23/23 [==============================] - 0s 4ms/step - loss: 0.5006 - accuracy: 0.7777 - val_loss: 0.9619 - val_accuracy: 0.6407\n",
      "Epoch 284/500\n",
      "23/23 [==============================] - 0s 3ms/step - loss: 0.5100 - accuracy: 0.7730 - val_loss: 0.9509 - val_accuracy: 0.6380\n",
      "Epoch 285/500\n",
      "23/23 [==============================] - 0s 3ms/step - loss: 0.4939 - accuracy: 0.7933 - val_loss: 1.0000 - val_accuracy: 0.6434\n",
      "Epoch 286/500\n",
      "23/23 [==============================] - 0s 3ms/step - loss: 0.4997 - accuracy: 0.7826 - val_loss: 1.0016 - val_accuracy: 0.6394\n",
      "Epoch 287/500\n",
      "23/23 [==============================] - 0s 3ms/step - loss: 0.5163 - accuracy: 0.7770 - val_loss: 0.9559 - val_accuracy: 0.6306\n",
      "Epoch 288/500\n",
      "23/23 [==============================] - 0s 3ms/step - loss: 0.5100 - accuracy: 0.7773 - val_loss: 0.9600 - val_accuracy: 0.6347\n",
      "Epoch 289/500\n",
      "23/23 [==============================] - 0s 3ms/step - loss: 0.5028 - accuracy: 0.7798 - val_loss: 0.9759 - val_accuracy: 0.6432\n",
      "Epoch 290/500\n",
      "23/23 [==============================] - 0s 4ms/step - loss: 0.5087 - accuracy: 0.7773 - val_loss: 0.9522 - val_accuracy: 0.6383\n",
      "Epoch 291/500\n",
      "23/23 [==============================] - 0s 3ms/step - loss: 0.4923 - accuracy: 0.7918 - val_loss: 0.9845 - val_accuracy: 0.6355\n",
      "Epoch 292/500\n",
      "23/23 [==============================] - 0s 3ms/step - loss: 0.4939 - accuracy: 0.7879 - val_loss: 0.9722 - val_accuracy: 0.6385\n",
      "Epoch 293/500\n",
      "23/23 [==============================] - 0s 4ms/step - loss: 0.4912 - accuracy: 0.7823 - val_loss: 0.9994 - val_accuracy: 0.6418\n",
      "Epoch 294/500\n",
      "23/23 [==============================] - 0s 4ms/step - loss: 0.4910 - accuracy: 0.7968 - val_loss: 1.0060 - val_accuracy: 0.6375\n",
      "Epoch 295/500\n",
      "23/23 [==============================] - 0s 4ms/step - loss: 0.4866 - accuracy: 0.7915 - val_loss: 1.0259 - val_accuracy: 0.6385\n",
      "Epoch 296/500\n",
      "23/23 [==============================] - 0s 4ms/step - loss: 0.4924 - accuracy: 0.7819 - val_loss: 0.9894 - val_accuracy: 0.6385\n",
      "Epoch 297/500\n",
      "23/23 [==============================] - 0s 4ms/step - loss: 0.5007 - accuracy: 0.7869 - val_loss: 1.0170 - val_accuracy: 0.6440\n",
      "Epoch 298/500\n",
      "23/23 [==============================] - 0s 4ms/step - loss: 0.4891 - accuracy: 0.7865 - val_loss: 1.0131 - val_accuracy: 0.6410\n",
      "Epoch 299/500\n",
      "23/23 [==============================] - 0s 4ms/step - loss: 0.5005 - accuracy: 0.7798 - val_loss: 1.0236 - val_accuracy: 0.6396\n",
      "Epoch 300/500\n",
      "23/23 [==============================] - 0s 4ms/step - loss: 0.4982 - accuracy: 0.7933 - val_loss: 1.0210 - val_accuracy: 0.6385\n",
      "Epoch 301/500\n",
      "23/23 [==============================] - 0s 4ms/step - loss: 0.4840 - accuracy: 0.7926 - val_loss: 0.9926 - val_accuracy: 0.6358\n",
      "Epoch 302/500\n",
      "23/23 [==============================] - 0s 4ms/step - loss: 0.4862 - accuracy: 0.7975 - val_loss: 1.0607 - val_accuracy: 0.6388\n",
      "Epoch 303/500\n",
      "23/23 [==============================] - 0s 4ms/step - loss: 0.4906 - accuracy: 0.7876 - val_loss: 1.0571 - val_accuracy: 0.6385\n",
      "Epoch 304/500\n",
      "23/23 [==============================] - 0s 4ms/step - loss: 0.4935 - accuracy: 0.7915 - val_loss: 1.0478 - val_accuracy: 0.6385\n",
      "Epoch 305/500\n",
      "23/23 [==============================] - 0s 4ms/step - loss: 0.5037 - accuracy: 0.7826 - val_loss: 1.0152 - val_accuracy: 0.6404\n",
      "Epoch 306/500\n",
      "23/23 [==============================] - 0s 4ms/step - loss: 0.4970 - accuracy: 0.7876 - val_loss: 1.0156 - val_accuracy: 0.6399\n",
      "Epoch 307/500\n",
      "23/23 [==============================] - 0s 4ms/step - loss: 0.4911 - accuracy: 0.7908 - val_loss: 1.0141 - val_accuracy: 0.6355\n",
      "Epoch 308/500\n",
      "23/23 [==============================] - 0s 4ms/step - loss: 0.4839 - accuracy: 0.7993 - val_loss: 1.0379 - val_accuracy: 0.6353\n",
      "Epoch 309/500\n",
      "23/23 [==============================] - 0s 4ms/step - loss: 0.4839 - accuracy: 0.7957 - val_loss: 1.0619 - val_accuracy: 0.6396\n",
      "Epoch 310/500\n",
      "23/23 [==============================] - 0s 4ms/step - loss: 0.4803 - accuracy: 0.8004 - val_loss: 1.0815 - val_accuracy: 0.6391\n",
      "Epoch 311/500\n",
      "23/23 [==============================] - 0s 4ms/step - loss: 0.4803 - accuracy: 0.7965 - val_loss: 1.0663 - val_accuracy: 0.6372\n",
      "Epoch 312/500\n",
      "23/23 [==============================] - 0s 4ms/step - loss: 0.4875 - accuracy: 0.7954 - val_loss: 1.0866 - val_accuracy: 0.6426\n",
      "Epoch 313/500\n",
      "23/23 [==============================] - 0s 4ms/step - loss: 0.4774 - accuracy: 0.7975 - val_loss: 1.0806 - val_accuracy: 0.6385\n",
      "Epoch 314/500\n",
      "23/23 [==============================] - 0s 4ms/step - loss: 0.4911 - accuracy: 0.7908 - val_loss: 1.0906 - val_accuracy: 0.6432\n",
      "Epoch 315/500\n",
      "23/23 [==============================] - 0s 4ms/step - loss: 0.4910 - accuracy: 0.7894 - val_loss: 1.0609 - val_accuracy: 0.6421\n",
      "Epoch 316/500\n",
      "23/23 [==============================] - 0s 4ms/step - loss: 0.4674 - accuracy: 0.7968 - val_loss: 1.0839 - val_accuracy: 0.6462\n",
      "Epoch 317/500\n",
      "23/23 [==============================] - 0s 4ms/step - loss: 0.4780 - accuracy: 0.7972 - val_loss: 1.0998 - val_accuracy: 0.6432\n",
      "Epoch 318/500\n",
      "23/23 [==============================] - 0s 3ms/step - loss: 0.4740 - accuracy: 0.7972 - val_loss: 1.0943 - val_accuracy: 0.6426\n",
      "Epoch 319/500\n",
      "23/23 [==============================] - 0s 4ms/step - loss: 0.4857 - accuracy: 0.8018 - val_loss: 1.1137 - val_accuracy: 0.6440\n",
      "Epoch 320/500\n",
      "23/23 [==============================] - 0s 4ms/step - loss: 0.4773 - accuracy: 0.8004 - val_loss: 1.1004 - val_accuracy: 0.6424\n",
      "Epoch 321/500\n",
      "23/23 [==============================] - 0s 4ms/step - loss: 0.4655 - accuracy: 0.8057 - val_loss: 1.1096 - val_accuracy: 0.6418\n",
      "Epoch 322/500\n",
      "23/23 [==============================] - 0s 3ms/step - loss: 0.4733 - accuracy: 0.7993 - val_loss: 1.1271 - val_accuracy: 0.6380\n",
      "Epoch 323/500\n",
      "23/23 [==============================] - 0s 4ms/step - loss: 0.4813 - accuracy: 0.8028 - val_loss: 1.1550 - val_accuracy: 0.6421\n",
      "Epoch 324/500\n",
      "23/23 [==============================] - 0s 4ms/step - loss: 0.4643 - accuracy: 0.8071 - val_loss: 1.1347 - val_accuracy: 0.6413\n",
      "Epoch 325/500\n",
      "23/23 [==============================] - 0s 4ms/step - loss: 0.4785 - accuracy: 0.8011 - val_loss: 1.1403 - val_accuracy: 0.6434\n",
      "Epoch 326/500\n",
      "23/23 [==============================] - 0s 4ms/step - loss: 0.4800 - accuracy: 0.8011 - val_loss: 1.1322 - val_accuracy: 0.6396\n",
      "Epoch 327/500\n",
      "23/23 [==============================] - 0s 4ms/step - loss: 0.4942 - accuracy: 0.7933 - val_loss: 1.0972 - val_accuracy: 0.6456\n",
      "Epoch 328/500\n",
      "23/23 [==============================] - 0s 4ms/step - loss: 0.4825 - accuracy: 0.8011 - val_loss: 1.0579 - val_accuracy: 0.6394\n",
      "Epoch 329/500\n",
      "23/23 [==============================] - 0s 4ms/step - loss: 0.4782 - accuracy: 0.8014 - val_loss: 1.1370 - val_accuracy: 0.6459\n",
      "Epoch 330/500\n",
      "23/23 [==============================] - 0s 5ms/step - loss: 0.4751 - accuracy: 0.8000 - val_loss: 1.1316 - val_accuracy: 0.6443\n",
      "Epoch 331/500\n",
      "23/23 [==============================] - 0s 3ms/step - loss: 0.4690 - accuracy: 0.8046 - val_loss: 1.1931 - val_accuracy: 0.6524\n",
      "Epoch 332/500\n",
      "23/23 [==============================] - 0s 3ms/step - loss: 0.4686 - accuracy: 0.7957 - val_loss: 1.1546 - val_accuracy: 0.6448\n",
      "Epoch 333/500\n",
      "23/23 [==============================] - 0s 4ms/step - loss: 0.4729 - accuracy: 0.8124 - val_loss: 1.1610 - val_accuracy: 0.6424\n",
      "Epoch 334/500\n",
      "23/23 [==============================] - 0s 4ms/step - loss: 0.4713 - accuracy: 0.7989 - val_loss: 1.1702 - val_accuracy: 0.6426\n",
      "Epoch 335/500\n",
      "23/23 [==============================] - 0s 3ms/step - loss: 0.4762 - accuracy: 0.8053 - val_loss: 1.1301 - val_accuracy: 0.6391\n",
      "Epoch 336/500\n",
      "23/23 [==============================] - 0s 3ms/step - loss: 0.4577 - accuracy: 0.8156 - val_loss: 1.2167 - val_accuracy: 0.6486\n",
      "Epoch 337/500\n"
     ]
    },
    {
     "name": "stdout",
     "output_type": "stream",
     "text": [
      "23/23 [==============================] - 0s 3ms/step - loss: 0.4725 - accuracy: 0.8032 - val_loss: 1.1683 - val_accuracy: 0.6451\n",
      "Epoch 338/500\n",
      "23/23 [==============================] - 0s 3ms/step - loss: 0.4548 - accuracy: 0.8188 - val_loss: 1.2384 - val_accuracy: 0.6486\n",
      "Epoch 339/500\n",
      "23/23 [==============================] - 0s 3ms/step - loss: 0.4795 - accuracy: 0.8035 - val_loss: 1.1656 - val_accuracy: 0.6421\n",
      "Epoch 340/500\n",
      "23/23 [==============================] - 0s 3ms/step - loss: 0.4560 - accuracy: 0.8142 - val_loss: 1.2139 - val_accuracy: 0.6453\n",
      "Epoch 341/500\n",
      "23/23 [==============================] - 0s 3ms/step - loss: 0.4629 - accuracy: 0.8106 - val_loss: 1.2352 - val_accuracy: 0.6483\n",
      "Epoch 342/500\n",
      "23/23 [==============================] - 0s 3ms/step - loss: 0.4622 - accuracy: 0.8053 - val_loss: 1.2116 - val_accuracy: 0.6467\n",
      "Epoch 343/500\n",
      "23/23 [==============================] - 0s 3ms/step - loss: 0.4571 - accuracy: 0.8142 - val_loss: 1.2658 - val_accuracy: 0.6464\n",
      "Epoch 344/500\n",
      "23/23 [==============================] - 0s 3ms/step - loss: 0.4526 - accuracy: 0.8135 - val_loss: 1.2636 - val_accuracy: 0.6437\n",
      "Epoch 345/500\n",
      "23/23 [==============================] - 0s 4ms/step - loss: 0.4514 - accuracy: 0.8223 - val_loss: 1.3287 - val_accuracy: 0.6500\n",
      "Epoch 346/500\n",
      "23/23 [==============================] - 0s 4ms/step - loss: 0.4548 - accuracy: 0.8121 - val_loss: 1.3236 - val_accuracy: 0.6486\n",
      "Epoch 347/500\n",
      "23/23 [==============================] - 0s 3ms/step - loss: 0.4700 - accuracy: 0.8007 - val_loss: 1.1911 - val_accuracy: 0.6434\n",
      "Epoch 348/500\n",
      "23/23 [==============================] - 0s 4ms/step - loss: 0.4660 - accuracy: 0.8053 - val_loss: 1.3086 - val_accuracy: 0.6475\n",
      "Epoch 349/500\n",
      "23/23 [==============================] - 0s 3ms/step - loss: 0.4447 - accuracy: 0.8181 - val_loss: 1.3017 - val_accuracy: 0.6489\n",
      "Epoch 350/500\n",
      "23/23 [==============================] - 0s 3ms/step - loss: 0.4634 - accuracy: 0.8096 - val_loss: 1.3013 - val_accuracy: 0.6489\n",
      "Epoch 351/500\n",
      "23/23 [==============================] - 0s 3ms/step - loss: 0.4454 - accuracy: 0.8117 - val_loss: 1.2883 - val_accuracy: 0.6494\n",
      "Epoch 352/500\n",
      "23/23 [==============================] - 0s 3ms/step - loss: 0.4521 - accuracy: 0.8089 - val_loss: 1.2929 - val_accuracy: 0.6478\n",
      "Epoch 353/500\n",
      "23/23 [==============================] - 0s 3ms/step - loss: 0.4706 - accuracy: 0.8043 - val_loss: 1.3374 - val_accuracy: 0.6502\n",
      "Epoch 354/500\n",
      "23/23 [==============================] - 0s 3ms/step - loss: 0.4553 - accuracy: 0.8099 - val_loss: 1.2279 - val_accuracy: 0.6440\n",
      "Epoch 355/500\n",
      "23/23 [==============================] - 0s 3ms/step - loss: 0.4705 - accuracy: 0.7954 - val_loss: 1.2523 - val_accuracy: 0.6462\n",
      "Epoch 356/500\n",
      "23/23 [==============================] - 0s 3ms/step - loss: 0.4732 - accuracy: 0.7894 - val_loss: 1.2463 - val_accuracy: 0.6440\n",
      "Epoch 357/500\n",
      "23/23 [==============================] - 0s 3ms/step - loss: 0.4530 - accuracy: 0.8177 - val_loss: 1.2348 - val_accuracy: 0.6429\n",
      "Epoch 358/500\n",
      "23/23 [==============================] - 0s 3ms/step - loss: 0.4544 - accuracy: 0.8145 - val_loss: 1.2969 - val_accuracy: 0.6437\n",
      "Epoch 359/500\n",
      "23/23 [==============================] - 0s 3ms/step - loss: 0.4446 - accuracy: 0.8160 - val_loss: 1.2438 - val_accuracy: 0.6424\n",
      "Epoch 360/500\n",
      "23/23 [==============================] - 0s 3ms/step - loss: 0.4635 - accuracy: 0.8106 - val_loss: 1.2698 - val_accuracy: 0.6410\n",
      "Epoch 361/500\n",
      "23/23 [==============================] - 0s 3ms/step - loss: 0.4831 - accuracy: 0.8018 - val_loss: 1.1774 - val_accuracy: 0.6364\n",
      "Epoch 362/500\n",
      "23/23 [==============================] - 0s 3ms/step - loss: 0.4898 - accuracy: 0.7830 - val_loss: 1.2533 - val_accuracy: 0.6437\n",
      "Epoch 363/500\n",
      "23/23 [==============================] - 0s 4ms/step - loss: 0.4661 - accuracy: 0.8032 - val_loss: 1.2456 - val_accuracy: 0.6443\n",
      "Epoch 364/500\n",
      "23/23 [==============================] - 0s 4ms/step - loss: 0.4618 - accuracy: 0.8085 - val_loss: 1.2791 - val_accuracy: 0.6451\n",
      "Epoch 365/500\n",
      "23/23 [==============================] - 0s 4ms/step - loss: 0.4485 - accuracy: 0.8188 - val_loss: 1.2837 - val_accuracy: 0.6483\n",
      "Epoch 366/500\n",
      "23/23 [==============================] - 0s 3ms/step - loss: 0.4395 - accuracy: 0.8238 - val_loss: 1.3224 - val_accuracy: 0.6478\n",
      "Epoch 367/500\n",
      "23/23 [==============================] - 0s 4ms/step - loss: 0.4446 - accuracy: 0.8223 - val_loss: 1.3206 - val_accuracy: 0.6453\n",
      "Epoch 368/500\n",
      "23/23 [==============================] - 0s 4ms/step - loss: 0.4329 - accuracy: 0.8245 - val_loss: 1.3826 - val_accuracy: 0.6489\n",
      "Epoch 369/500\n",
      "23/23 [==============================] - 0s 3ms/step - loss: 0.4490 - accuracy: 0.8209 - val_loss: 1.3194 - val_accuracy: 0.6432\n",
      "Epoch 370/500\n",
      "23/23 [==============================] - 0s 4ms/step - loss: 0.4364 - accuracy: 0.8220 - val_loss: 1.3519 - val_accuracy: 0.6459\n",
      "Epoch 371/500\n",
      "23/23 [==============================] - 0s 4ms/step - loss: 0.4425 - accuracy: 0.8209 - val_loss: 1.3782 - val_accuracy: 0.6492\n",
      "Epoch 372/500\n",
      "23/23 [==============================] - 0s 4ms/step - loss: 0.4395 - accuracy: 0.8312 - val_loss: 1.4373 - val_accuracy: 0.6522\n",
      "Epoch 373/500\n",
      "23/23 [==============================] - 0s 4ms/step - loss: 0.4384 - accuracy: 0.8202 - val_loss: 1.3680 - val_accuracy: 0.6462\n",
      "Epoch 374/500\n",
      "23/23 [==============================] - 0s 3ms/step - loss: 0.4419 - accuracy: 0.8213 - val_loss: 1.4180 - val_accuracy: 0.6462\n",
      "Epoch 375/500\n",
      "23/23 [==============================] - 0s 3ms/step - loss: 0.4542 - accuracy: 0.8145 - val_loss: 1.3740 - val_accuracy: 0.6459\n",
      "Epoch 376/500\n",
      "23/23 [==============================] - 0s 3ms/step - loss: 0.4312 - accuracy: 0.8238 - val_loss: 1.4069 - val_accuracy: 0.6456\n",
      "Epoch 377/500\n",
      "23/23 [==============================] - 0s 3ms/step - loss: 0.4494 - accuracy: 0.8142 - val_loss: 1.3940 - val_accuracy: 0.6448\n",
      "Epoch 378/500\n",
      "23/23 [==============================] - 0s 4ms/step - loss: 0.4466 - accuracy: 0.8206 - val_loss: 1.3747 - val_accuracy: 0.6424\n",
      "Epoch 379/500\n",
      "23/23 [==============================] - 0s 4ms/step - loss: 0.4535 - accuracy: 0.8110 - val_loss: 1.3693 - val_accuracy: 0.6467\n",
      "Epoch 380/500\n",
      "23/23 [==============================] - 0s 4ms/step - loss: 0.4463 - accuracy: 0.8160 - val_loss: 1.3152 - val_accuracy: 0.6424\n",
      "Epoch 381/500\n",
      "23/23 [==============================] - 0s 3ms/step - loss: 0.4546 - accuracy: 0.8085 - val_loss: 1.3599 - val_accuracy: 0.6445\n",
      "Epoch 382/500\n",
      "23/23 [==============================] - 0s 4ms/step - loss: 0.4458 - accuracy: 0.8195 - val_loss: 1.3255 - val_accuracy: 0.6421\n",
      "Epoch 383/500\n",
      "23/23 [==============================] - 0s 4ms/step - loss: 0.4367 - accuracy: 0.8330 - val_loss: 1.3244 - val_accuracy: 0.6443\n",
      "Epoch 384/500\n",
      "23/23 [==============================] - 0s 4ms/step - loss: 0.4459 - accuracy: 0.8195 - val_loss: 1.3198 - val_accuracy: 0.6424\n",
      "Epoch 385/500\n",
      "23/23 [==============================] - 0s 3ms/step - loss: 0.4448 - accuracy: 0.8216 - val_loss: 1.3668 - val_accuracy: 0.6432\n",
      "Epoch 386/500\n",
      "23/23 [==============================] - 0s 4ms/step - loss: 0.4380 - accuracy: 0.8188 - val_loss: 1.3767 - val_accuracy: 0.6462\n",
      "Epoch 387/500\n",
      "23/23 [==============================] - 0s 3ms/step - loss: 0.4409 - accuracy: 0.8206 - val_loss: 1.4372 - val_accuracy: 0.6467\n",
      "Epoch 388/500\n",
      "23/23 [==============================] - 0s 3ms/step - loss: 0.4321 - accuracy: 0.8216 - val_loss: 1.4130 - val_accuracy: 0.6443\n",
      "Epoch 389/500\n",
      "23/23 [==============================] - 0s 3ms/step - loss: 0.4221 - accuracy: 0.8351 - val_loss: 1.4806 - val_accuracy: 0.6502\n",
      "Epoch 390/500\n",
      "23/23 [==============================] - 0s 3ms/step - loss: 0.4253 - accuracy: 0.8379 - val_loss: 1.4238 - val_accuracy: 0.6443\n",
      "Epoch 391/500\n",
      "23/23 [==============================] - 0s 3ms/step - loss: 0.4307 - accuracy: 0.8316 - val_loss: 1.4699 - val_accuracy: 0.6470\n",
      "Epoch 392/500\n",
      "23/23 [==============================] - 0s 3ms/step - loss: 0.4183 - accuracy: 0.8383 - val_loss: 1.5255 - val_accuracy: 0.6502\n",
      "Epoch 393/500\n",
      "23/23 [==============================] - 0s 3ms/step - loss: 0.4420 - accuracy: 0.8284 - val_loss: 1.4601 - val_accuracy: 0.6481\n",
      "Epoch 394/500\n"
     ]
    },
    {
     "name": "stdout",
     "output_type": "stream",
     "text": [
      "23/23 [==============================] - 0s 3ms/step - loss: 0.4193 - accuracy: 0.8291 - val_loss: 1.5256 - val_accuracy: 0.6513\n",
      "Epoch 395/500\n",
      "23/23 [==============================] - 0s 3ms/step - loss: 0.4215 - accuracy: 0.8348 - val_loss: 1.5189 - val_accuracy: 0.6502\n",
      "Epoch 396/500\n",
      "23/23 [==============================] - 0s 3ms/step - loss: 0.4332 - accuracy: 0.8330 - val_loss: 1.5476 - val_accuracy: 0.6500\n",
      "Epoch 397/500\n",
      "23/23 [==============================] - 0s 3ms/step - loss: 0.4187 - accuracy: 0.8358 - val_loss: 1.5520 - val_accuracy: 0.6494\n",
      "Epoch 398/500\n",
      "23/23 [==============================] - 0s 3ms/step - loss: 0.4327 - accuracy: 0.8223 - val_loss: 1.5258 - val_accuracy: 0.6500\n",
      "Epoch 399/500\n",
      "23/23 [==============================] - 0s 3ms/step - loss: 0.4136 - accuracy: 0.8294 - val_loss: 1.5123 - val_accuracy: 0.6462\n",
      "Epoch 400/500\n",
      "23/23 [==============================] - 0s 3ms/step - loss: 0.4172 - accuracy: 0.8383 - val_loss: 1.4795 - val_accuracy: 0.6459\n",
      "Epoch 401/500\n",
      "23/23 [==============================] - 0s 3ms/step - loss: 0.4426 - accuracy: 0.8184 - val_loss: 1.4944 - val_accuracy: 0.6470\n",
      "Epoch 402/500\n",
      "23/23 [==============================] - 0s 3ms/step - loss: 0.4249 - accuracy: 0.8305 - val_loss: 1.4700 - val_accuracy: 0.6467\n",
      "Epoch 403/500\n",
      "23/23 [==============================] - 0s 3ms/step - loss: 0.4306 - accuracy: 0.8184 - val_loss: 1.4296 - val_accuracy: 0.6385\n",
      "Epoch 404/500\n",
      "23/23 [==============================] - 0s 3ms/step - loss: 0.4430 - accuracy: 0.8213 - val_loss: 1.4587 - val_accuracy: 0.6459\n",
      "Epoch 405/500\n",
      "23/23 [==============================] - 0s 3ms/step - loss: 0.4311 - accuracy: 0.8266 - val_loss: 1.4791 - val_accuracy: 0.6470\n",
      "Epoch 406/500\n",
      "23/23 [==============================] - 0s 3ms/step - loss: 0.4361 - accuracy: 0.8220 - val_loss: 1.5225 - val_accuracy: 0.6497\n",
      "Epoch 407/500\n",
      "23/23 [==============================] - 0s 3ms/step - loss: 0.4186 - accuracy: 0.8344 - val_loss: 1.5321 - val_accuracy: 0.6508\n",
      "Epoch 408/500\n",
      "23/23 [==============================] - 0s 3ms/step - loss: 0.4261 - accuracy: 0.8245 - val_loss: 1.5472 - val_accuracy: 0.6475\n",
      "Epoch 409/500\n",
      "23/23 [==============================] - 0s 3ms/step - loss: 0.4285 - accuracy: 0.8223 - val_loss: 1.6013 - val_accuracy: 0.6513\n",
      "Epoch 410/500\n",
      "23/23 [==============================] - 0s 3ms/step - loss: 0.4223 - accuracy: 0.8344 - val_loss: 1.5565 - val_accuracy: 0.6497\n",
      "Epoch 411/500\n",
      "23/23 [==============================] - 0s 3ms/step - loss: 0.4281 - accuracy: 0.8284 - val_loss: 1.7009 - val_accuracy: 0.6535\n",
      "Epoch 412/500\n",
      "23/23 [==============================] - 0s 3ms/step - loss: 0.4173 - accuracy: 0.8301 - val_loss: 1.6119 - val_accuracy: 0.6541\n",
      "Epoch 413/500\n",
      "23/23 [==============================] - 0s 3ms/step - loss: 0.4211 - accuracy: 0.8344 - val_loss: 1.6024 - val_accuracy: 0.6530\n",
      "Epoch 414/500\n",
      "23/23 [==============================] - 0s 3ms/step - loss: 0.4147 - accuracy: 0.8383 - val_loss: 1.6937 - val_accuracy: 0.6535\n",
      "Epoch 415/500\n",
      "23/23 [==============================] - 0s 3ms/step - loss: 0.4227 - accuracy: 0.8479 - val_loss: 1.5477 - val_accuracy: 0.6513\n",
      "Epoch 416/500\n",
      "23/23 [==============================] - 0s 3ms/step - loss: 0.4095 - accuracy: 0.8387 - val_loss: 1.6428 - val_accuracy: 0.6530\n",
      "Epoch 417/500\n",
      "23/23 [==============================] - 0s 3ms/step - loss: 0.4034 - accuracy: 0.8422 - val_loss: 1.5969 - val_accuracy: 0.6508\n",
      "Epoch 418/500\n",
      "23/23 [==============================] - 0s 3ms/step - loss: 0.4209 - accuracy: 0.8326 - val_loss: 1.5518 - val_accuracy: 0.6470\n",
      "Epoch 419/500\n",
      "23/23 [==============================] - 0s 3ms/step - loss: 0.4218 - accuracy: 0.8340 - val_loss: 1.6789 - val_accuracy: 0.6513\n",
      "Epoch 420/500\n",
      "23/23 [==============================] - 0s 3ms/step - loss: 0.4109 - accuracy: 0.8379 - val_loss: 1.6082 - val_accuracy: 0.6519\n",
      "Epoch 421/500\n",
      "23/23 [==============================] - 0s 3ms/step - loss: 0.4120 - accuracy: 0.8301 - val_loss: 1.6857 - val_accuracy: 0.6560\n",
      "Epoch 422/500\n",
      "23/23 [==============================] - 0s 3ms/step - loss: 0.4047 - accuracy: 0.8390 - val_loss: 1.5694 - val_accuracy: 0.6481\n",
      "Epoch 423/500\n",
      "23/23 [==============================] - 0s 3ms/step - loss: 0.4259 - accuracy: 0.8422 - val_loss: 1.6615 - val_accuracy: 0.6522\n",
      "Epoch 424/500\n",
      "23/23 [==============================] - 0s 3ms/step - loss: 0.4091 - accuracy: 0.8429 - val_loss: 1.6292 - val_accuracy: 0.6483\n",
      "Epoch 425/500\n",
      "23/23 [==============================] - 0s 3ms/step - loss: 0.4185 - accuracy: 0.8379 - val_loss: 1.6268 - val_accuracy: 0.6513\n",
      "Epoch 426/500\n",
      "23/23 [==============================] - 0s 3ms/step - loss: 0.4129 - accuracy: 0.8433 - val_loss: 1.5144 - val_accuracy: 0.6410\n",
      "Epoch 427/500\n",
      "23/23 [==============================] - 0s 3ms/step - loss: 0.4150 - accuracy: 0.8401 - val_loss: 1.6215 - val_accuracy: 0.6508\n",
      "Epoch 428/500\n",
      "23/23 [==============================] - 0s 3ms/step - loss: 0.4251 - accuracy: 0.8333 - val_loss: 1.6040 - val_accuracy: 0.6522\n",
      "Epoch 429/500\n",
      "23/23 [==============================] - 0s 3ms/step - loss: 0.4173 - accuracy: 0.8411 - val_loss: 1.6151 - val_accuracy: 0.6508\n",
      "Epoch 430/500\n",
      "23/23 [==============================] - 0s 3ms/step - loss: 0.4196 - accuracy: 0.8323 - val_loss: 1.7047 - val_accuracy: 0.6511\n",
      "Epoch 431/500\n",
      "23/23 [==============================] - 0s 3ms/step - loss: 0.4150 - accuracy: 0.8418 - val_loss: 1.6755 - val_accuracy: 0.6502\n",
      "Epoch 432/500\n",
      "23/23 [==============================] - 0s 3ms/step - loss: 0.4133 - accuracy: 0.8326 - val_loss: 1.6341 - val_accuracy: 0.6473\n",
      "Epoch 433/500\n",
      "23/23 [==============================] - 0s 3ms/step - loss: 0.4083 - accuracy: 0.8408 - val_loss: 1.7951 - val_accuracy: 0.6530\n",
      "Epoch 434/500\n",
      "23/23 [==============================] - 0s 3ms/step - loss: 0.4140 - accuracy: 0.8376 - val_loss: 1.7721 - val_accuracy: 0.6530\n",
      "Epoch 435/500\n",
      "23/23 [==============================] - 0s 3ms/step - loss: 0.4033 - accuracy: 0.8454 - val_loss: 1.7462 - val_accuracy: 0.6519\n",
      "Epoch 436/500\n",
      "23/23 [==============================] - 0s 3ms/step - loss: 0.3977 - accuracy: 0.8411 - val_loss: 1.7713 - val_accuracy: 0.6522\n",
      "Epoch 437/500\n",
      "23/23 [==============================] - 0s 3ms/step - loss: 0.3980 - accuracy: 0.8528 - val_loss: 1.7110 - val_accuracy: 0.6511\n",
      "Epoch 438/500\n",
      "23/23 [==============================] - 0s 3ms/step - loss: 0.3987 - accuracy: 0.8369 - val_loss: 1.8069 - val_accuracy: 0.6546\n",
      "Epoch 439/500\n",
      "23/23 [==============================] - 0s 3ms/step - loss: 0.4180 - accuracy: 0.8316 - val_loss: 1.7317 - val_accuracy: 0.6494\n",
      "Epoch 440/500\n",
      "23/23 [==============================] - 0s 3ms/step - loss: 0.4089 - accuracy: 0.8404 - val_loss: 1.7275 - val_accuracy: 0.6505\n",
      "Epoch 441/500\n",
      "23/23 [==============================] - 0s 3ms/step - loss: 0.4009 - accuracy: 0.8447 - val_loss: 1.7889 - val_accuracy: 0.6511\n",
      "Epoch 442/500\n",
      "23/23 [==============================] - 0s 3ms/step - loss: 0.4043 - accuracy: 0.8433 - val_loss: 1.8376 - val_accuracy: 0.6519\n",
      "Epoch 443/500\n",
      "23/23 [==============================] - 0s 3ms/step - loss: 0.4042 - accuracy: 0.8337 - val_loss: 1.7720 - val_accuracy: 0.6516\n",
      "Epoch 444/500\n",
      "23/23 [==============================] - 0s 3ms/step - loss: 0.3937 - accuracy: 0.8525 - val_loss: 1.8143 - val_accuracy: 0.6538\n",
      "Epoch 445/500\n",
      "23/23 [==============================] - 0s 3ms/step - loss: 0.3942 - accuracy: 0.8599 - val_loss: 1.7233 - val_accuracy: 0.6519\n",
      "Epoch 446/500\n",
      "23/23 [==============================] - 0s 3ms/step - loss: 0.4041 - accuracy: 0.8390 - val_loss: 1.7678 - val_accuracy: 0.6532\n",
      "Epoch 447/500\n",
      "23/23 [==============================] - 0s 3ms/step - loss: 0.4095 - accuracy: 0.8401 - val_loss: 1.7503 - val_accuracy: 0.6535\n",
      "Epoch 448/500\n",
      "23/23 [==============================] - 0s 3ms/step - loss: 0.3923 - accuracy: 0.8454 - val_loss: 1.9122 - val_accuracy: 0.6530\n",
      "Epoch 449/500\n",
      "23/23 [==============================] - 0s 3ms/step - loss: 0.3909 - accuracy: 0.8443 - val_loss: 1.8581 - val_accuracy: 0.6530\n",
      "Epoch 450/500\n",
      "23/23 [==============================] - 0s 3ms/step - loss: 0.4078 - accuracy: 0.8408 - val_loss: 1.7316 - val_accuracy: 0.6511\n",
      "Epoch 451/500\n"
     ]
    },
    {
     "name": "stdout",
     "output_type": "stream",
     "text": [
      "23/23 [==============================] - 0s 3ms/step - loss: 0.4081 - accuracy: 0.8326 - val_loss: 1.7209 - val_accuracy: 0.6522\n",
      "Epoch 452/500\n",
      "23/23 [==============================] - 0s 3ms/step - loss: 0.4101 - accuracy: 0.8465 - val_loss: 1.7375 - val_accuracy: 0.6519\n",
      "Epoch 453/500\n",
      "23/23 [==============================] - 0s 3ms/step - loss: 0.4087 - accuracy: 0.8394 - val_loss: 1.7294 - val_accuracy: 0.6508\n",
      "Epoch 454/500\n",
      "23/23 [==============================] - 0s 3ms/step - loss: 0.4024 - accuracy: 0.8472 - val_loss: 1.8380 - val_accuracy: 0.6530\n",
      "Epoch 455/500\n",
      "23/23 [==============================] - 0s 3ms/step - loss: 0.4082 - accuracy: 0.8362 - val_loss: 1.8257 - val_accuracy: 0.6505\n",
      "Epoch 456/500\n",
      "23/23 [==============================] - 0s 3ms/step - loss: 0.4022 - accuracy: 0.8479 - val_loss: 1.8732 - val_accuracy: 0.6511\n",
      "Epoch 457/500\n",
      "23/23 [==============================] - 0s 3ms/step - loss: 0.3877 - accuracy: 0.8518 - val_loss: 1.7912 - val_accuracy: 0.6486\n",
      "Epoch 458/500\n",
      "23/23 [==============================] - 0s 3ms/step - loss: 0.3860 - accuracy: 0.8613 - val_loss: 1.8287 - val_accuracy: 0.6494\n",
      "Epoch 459/500\n",
      "23/23 [==============================] - 0s 3ms/step - loss: 0.3847 - accuracy: 0.8518 - val_loss: 1.8956 - val_accuracy: 0.6516\n",
      "Epoch 460/500\n",
      "23/23 [==============================] - 0s 3ms/step - loss: 0.4140 - accuracy: 0.8348 - val_loss: 1.8198 - val_accuracy: 0.6519\n",
      "Epoch 461/500\n",
      "23/23 [==============================] - 0s 3ms/step - loss: 0.4044 - accuracy: 0.8461 - val_loss: 1.8848 - val_accuracy: 0.6538\n",
      "Epoch 462/500\n",
      "23/23 [==============================] - 0s 3ms/step - loss: 0.3879 - accuracy: 0.8613 - val_loss: 1.8538 - val_accuracy: 0.6546\n",
      "Epoch 463/500\n",
      "23/23 [==============================] - 0s 3ms/step - loss: 0.3971 - accuracy: 0.8426 - val_loss: 1.9892 - val_accuracy: 0.6549\n",
      "Epoch 464/500\n",
      "23/23 [==============================] - 0s 3ms/step - loss: 0.4197 - accuracy: 0.8316 - val_loss: 1.8287 - val_accuracy: 0.6516\n",
      "Epoch 465/500\n",
      "23/23 [==============================] - 0s 3ms/step - loss: 0.4082 - accuracy: 0.8433 - val_loss: 2.0037 - val_accuracy: 0.6541\n",
      "Epoch 466/500\n",
      "23/23 [==============================] - 0s 3ms/step - loss: 0.3819 - accuracy: 0.8617 - val_loss: 1.9577 - val_accuracy: 0.6532\n",
      "Epoch 467/500\n",
      "23/23 [==============================] - 0s 3ms/step - loss: 0.3990 - accuracy: 0.8415 - val_loss: 1.9306 - val_accuracy: 0.6541\n",
      "Epoch 468/500\n",
      "23/23 [==============================] - 0s 3ms/step - loss: 0.3834 - accuracy: 0.8560 - val_loss: 1.9500 - val_accuracy: 0.6511\n",
      "Epoch 469/500\n",
      "23/23 [==============================] - 0s 3ms/step - loss: 0.3937 - accuracy: 0.8525 - val_loss: 2.0053 - val_accuracy: 0.6519\n",
      "Epoch 470/500\n",
      "23/23 [==============================] - 0s 3ms/step - loss: 0.3912 - accuracy: 0.8461 - val_loss: 1.9822 - val_accuracy: 0.6530\n",
      "Epoch 471/500\n",
      "23/23 [==============================] - 0s 3ms/step - loss: 0.3938 - accuracy: 0.8574 - val_loss: 2.0808 - val_accuracy: 0.6541\n",
      "Epoch 472/500\n",
      "23/23 [==============================] - 0s 3ms/step - loss: 0.3938 - accuracy: 0.8500 - val_loss: 2.0516 - val_accuracy: 0.6541\n",
      "Epoch 473/500\n",
      "23/23 [==============================] - 0s 3ms/step - loss: 0.3770 - accuracy: 0.8532 - val_loss: 2.0163 - val_accuracy: 0.6527\n",
      "Epoch 474/500\n",
      "23/23 [==============================] - 0s 3ms/step - loss: 0.3778 - accuracy: 0.8663 - val_loss: 2.1003 - val_accuracy: 0.6546\n",
      "Epoch 475/500\n",
      "23/23 [==============================] - 0s 3ms/step - loss: 0.4035 - accuracy: 0.8457 - val_loss: 2.0122 - val_accuracy: 0.6527\n",
      "Epoch 476/500\n",
      "23/23 [==============================] - 0s 4ms/step - loss: 0.3926 - accuracy: 0.8479 - val_loss: 1.8928 - val_accuracy: 0.6497\n",
      "Epoch 477/500\n",
      "23/23 [==============================] - 0s 3ms/step - loss: 0.3827 - accuracy: 0.8489 - val_loss: 1.9699 - val_accuracy: 0.6535\n",
      "Epoch 478/500\n",
      "23/23 [==============================] - 0s 3ms/step - loss: 0.3794 - accuracy: 0.8571 - val_loss: 2.0185 - val_accuracy: 0.6541\n",
      "Epoch 479/500\n",
      "23/23 [==============================] - 0s 3ms/step - loss: 0.3901 - accuracy: 0.8553 - val_loss: 2.0152 - val_accuracy: 0.6546\n",
      "Epoch 480/500\n",
      "23/23 [==============================] - 0s 3ms/step - loss: 0.3980 - accuracy: 0.8475 - val_loss: 2.0110 - val_accuracy: 0.6541\n",
      "Epoch 481/500\n",
      "23/23 [==============================] - 0s 3ms/step - loss: 0.3819 - accuracy: 0.8585 - val_loss: 2.0500 - val_accuracy: 0.6543\n",
      "Epoch 482/500\n",
      "23/23 [==============================] - 0s 3ms/step - loss: 0.3743 - accuracy: 0.8624 - val_loss: 2.0425 - val_accuracy: 0.6543\n",
      "Epoch 483/500\n",
      "23/23 [==============================] - 0s 3ms/step - loss: 0.3731 - accuracy: 0.8546 - val_loss: 2.0162 - val_accuracy: 0.6543\n",
      "Epoch 484/500\n",
      "23/23 [==============================] - 0s 3ms/step - loss: 0.3859 - accuracy: 0.8571 - val_loss: 2.0272 - val_accuracy: 0.6524\n",
      "Epoch 485/500\n",
      "23/23 [==============================] - 0s 3ms/step - loss: 0.3654 - accuracy: 0.8660 - val_loss: 2.1004 - val_accuracy: 0.6549\n",
      "Epoch 486/500\n",
      "23/23 [==============================] - 0s 3ms/step - loss: 0.3631 - accuracy: 0.8663 - val_loss: 2.1543 - val_accuracy: 0.6535\n",
      "Epoch 487/500\n",
      "23/23 [==============================] - 0s 3ms/step - loss: 0.3721 - accuracy: 0.8621 - val_loss: 2.1988 - val_accuracy: 0.6532\n",
      "Epoch 488/500\n",
      "23/23 [==============================] - 0s 3ms/step - loss: 0.3626 - accuracy: 0.8663 - val_loss: 2.1275 - val_accuracy: 0.6530\n",
      "Epoch 489/500\n",
      "23/23 [==============================] - 0s 4ms/step - loss: 0.3641 - accuracy: 0.8649 - val_loss: 2.2709 - val_accuracy: 0.6543\n",
      "Epoch 490/500\n",
      "23/23 [==============================] - 0s 4ms/step - loss: 0.3857 - accuracy: 0.8557 - val_loss: 2.1294 - val_accuracy: 0.6532\n",
      "Epoch 491/500\n",
      "23/23 [==============================] - 0s 4ms/step - loss: 0.3709 - accuracy: 0.8578 - val_loss: 2.3185 - val_accuracy: 0.6551\n",
      "Epoch 492/500\n",
      "23/23 [==============================] - 0s 4ms/step - loss: 0.3814 - accuracy: 0.8543 - val_loss: 2.1830 - val_accuracy: 0.6524\n",
      "Epoch 493/500\n",
      "23/23 [==============================] - 0s 3ms/step - loss: 0.3725 - accuracy: 0.8617 - val_loss: 2.1801 - val_accuracy: 0.6522\n",
      "Epoch 494/500\n",
      "23/23 [==============================] - 0s 3ms/step - loss: 0.3891 - accuracy: 0.8578 - val_loss: 2.2473 - val_accuracy: 0.6551\n",
      "Epoch 495/500\n",
      "23/23 [==============================] - 0s 3ms/step - loss: 0.3818 - accuracy: 0.8500 - val_loss: 2.1825 - val_accuracy: 0.6551\n",
      "Epoch 496/500\n",
      "23/23 [==============================] - 0s 3ms/step - loss: 0.3674 - accuracy: 0.8695 - val_loss: 2.2452 - val_accuracy: 0.6549\n",
      "Epoch 497/500\n",
      "23/23 [==============================] - 0s 3ms/step - loss: 0.3670 - accuracy: 0.8649 - val_loss: 2.2299 - val_accuracy: 0.6570\n",
      "Epoch 498/500\n",
      "23/23 [==============================] - 0s 3ms/step - loss: 0.3666 - accuracy: 0.8642 - val_loss: 2.2832 - val_accuracy: 0.6538\n",
      "Epoch 499/500\n",
      "23/23 [==============================] - 0s 3ms/step - loss: 0.3719 - accuracy: 0.8613 - val_loss: 2.2709 - val_accuracy: 0.6532\n",
      "Epoch 500/500\n",
      "23/23 [==============================] - 0s 3ms/step - loss: 0.3636 - accuracy: 0.8695 - val_loss: 2.2682 - val_accuracy: 0.6557\n"
     ]
    }
   ],
   "source": [
    "model = tf.keras.Sequential([\n",
    "    tf.keras.layers.Dense(128,activation=\"relu\",input_shape=(emb_x_train.shape[1],)),\n",
    "    tf.keras.layers.Dropout(0.5),\n",
    "    tf.keras.layers.Dense(64,activation=\"relu\"),\n",
    "    tf.keras.layers.Dropout(0.5),\n",
    "    tf.keras.layers.Dense(32,activation=\"relu\"),\n",
    "    tf.keras.layers.Dropout(0.5),\n",
    "    tf.keras.layers.Dense(8,activation=\"relu\"),\n",
    "    tf.keras.layers.Dropout(0.5),\n",
    "    tf.keras.layers.Dense(1,activation=\"sigmoid\")\n",
    "])\n",
    "model.compile(optimizer=tf.keras.optimizers.Adam(lr=10e-5),\n",
    "         loss=\"binary_crossentropy\",\n",
    "             metrics=[\"accuracy\"])\n",
    "model_history = model.fit(emb_x_resampled,emb_y_resampled,validation_data=(emb_x_test,emb_y_test),epochs=500,verbose=1,batch_size=128,\n",
    "                         #callbacks=[tf.keras.callbacks.EarlyStopping(patience=50)])\n",
    "                         )"
   ]
  },
  {
   "cell_type": "code",
   "execution_count": 56,
   "id": "7443460b",
   "metadata": {},
   "outputs": [
    {
     "name": "stdout",
     "output_type": "stream",
     "text": [
      "WARNING:tensorflow:AutoGraph could not transform <function Model.make_predict_function.<locals>.predict_function at 0x7fcb14227430> and will run it as-is.\n",
      "Please report this to the TensorFlow team. When filing the bug, set the verbosity to 10 (on Linux, `export AUTOGRAPH_VERBOSITY=10`) and attach the full output.\n",
      "Cause: module 'gast' has no attribute 'Constant'\n",
      "To silence this warning, decorate the function with @tf.autograph.experimental.do_not_convert\n",
      "WARNING: AutoGraph could not transform <function Model.make_predict_function.<locals>.predict_function at 0x7fcb14227430> and will run it as-is.\n",
      "Please report this to the TensorFlow team. When filing the bug, set the verbosity to 10 (on Linux, `export AUTOGRAPH_VERBOSITY=10`) and attach the full output.\n",
      "Cause: module 'gast' has no attribute 'Constant'\n",
      "To silence this warning, decorate the function with @tf.autograph.experimental.do_not_convert\n",
      "\n",
      "\n",
      "              precision    recall  f1-score   support\n",
      "\n",
      "           0       0.36      0.01      0.02      1255\n",
      "           1       0.66      0.99      0.79      2419\n",
      "\n",
      "    accuracy                           0.66      3674\n",
      "   macro avg       0.51      0.50      0.41      3674\n",
      "weighted avg       0.56      0.66      0.53      3674\n",
      "\n"
     ]
    },
    {
     "data": {
      "image/png": "[encoded data removed]",
      "text/plain": [
       "<Figure size 432x288 with 2 Axes>"
      ]
     },
     "metadata": {
      "needs_background": "light"
     },
     "output_type": "display_data"
    }
   ],
   "source": [
    "from sklearn.metrics import confusion_matrix,classification_report\n",
    "fig= plt.figure()\n",
    "ax = fig.add_axes([0,0,1,1])\n",
    "sns.heatmap(np.round(confusion_matrix(emb_y_test,np.around(model.predict(emb_x_test)))/len(emb_y_test)*100,2),\n",
    "            annot=True,ax=ax,cmap=\"coolwarm\")\n",
    "ax.set_xlabel(\"Predicted\")\n",
    "ax.set_ylabel(\"Current\")\n",
    "print(\"\\n\")\n",
    "print(classification_report(emb_y_test,np.around(model.predict(emb_x_test))))\n"
   ]
  },
  {
   "cell_type": "code",
   "execution_count": 57,
   "id": "49fa2180",
   "metadata": {},
   "outputs": [
    {
     "data": {
      "text/plain": [
       "<AxesSubplot:>"
      ]
     },
     "execution_count": 57,
     "metadata": {},
     "output_type": "execute_result"
    },
    {
     "data": {
      "text/plain": [
       "<Figure size 864x576 with 0 Axes>"
      ]
     },
     "metadata": {},
     "output_type": "display_data"
    },
    {
     "data": {
      "image/png": "[encoded data removed]",
      "text/plain": [
       "<Figure size 720x432 with 1 Axes>"
      ]
     },
     "metadata": {
      "needs_background": "light"
     },
     "output_type": "display_data"
    }
   ],
   "source": [
    "fig = plt.figure(figsize=(12,8))\n",
    "plt.rcParams.update({'font.size': 15})\n",
    "pd.DataFrame(model_history.history)[[\"loss\",\"val_loss\"]].plot(figsize=(10,6))"
   ]
  },
  {
   "cell_type": "code",
   "execution_count": 58,
   "id": "8dd62376",
   "metadata": {},
   "outputs": [
    {
     "data": {
      "text/plain": [
       "<AxesSubplot:>"
      ]
     },
     "execution_count": 58,
     "metadata": {},
     "output_type": "execute_result"
    },
    {
     "data": {
      "text/plain": [
       "<Figure size 864x576 with 0 Axes>"
      ]
     },
     "metadata": {},
     "output_type": "display_data"
    },
    {
     "data": {
      "image/png": "[encoded data removed]",
      "text/plain": [
       "<Figure size 720x432 with 1 Axes>"
      ]
     },
     "metadata": {
      "needs_background": "light"
     },
     "output_type": "display_data"
    }
   ],
   "source": [
    "fig = plt.figure(figsize=(12,8))\n",
    "plt.rcParams.update({'font.size': 15})\n",
    "pd.DataFrame(model_history.history)[[\"accuracy\",\"val_accuracy\"]].plot(figsize=(10,6))"
   ]
  },
  {
   "cell_type": "code",
   "execution_count": 59,
   "id": "7d61a6f1",
   "metadata": {},
   "outputs": [
    {
     "data": {
      "image/png": "[encoded data removed]",
      "text/plain": [
       "<Figure size 432x288 with 1 Axes>"
      ]
     },
     "metadata": {
      "needs_background": "light"
     },
     "output_type": "display_data"
    }
   ],
   "source": [
    "import pandas as pd\n",
    "import matplotlib.pyplot as plt\n",
    "from sklearn.decomposition import PCA\n",
    "# fit and transform using PCA\n",
    "pca = PCA(n_components=2)\n",
    "edge_emb2d = pca.fit_transform(edge_embedding)\n",
    "\n",
    "\n",
    "\n",
    "df = pd.DataFrame(dict(edge_att=edge_attr))\n",
    "colors = {0:\"red\",1:\"blue\"}\n",
    "plt.title(\"edge embedding in 2D\")\n",
    "plt.scatter(edge_emb2d[:,0],edge_emb2d[:,1],c=df.edge_att.map(colors),alpha=0.2)\n",
    "plt.show()\n",
    "\n",
    "# not so good but we are using PCA to reduce the dim from 128 to 2"
   ]
  },
  {
   "cell_type": "code",
   "execution_count": null,
   "id": "62d228a8",
   "metadata": {},
   "outputs": [],
   "source": []
  }
 ],
 "metadata": {
  "kernelspec": {
   "display_name": "Python 3 (ipykernel)",
   "language": "python",
   "name": "python3"
  },
  "language_info": {
   "codemirror_mode": {
    "name": "ipython",
    "version": 3
   },
   "file_extension": ".py",
   "mimetype": "text/x-python",
   "name": "python",
   "nbconvert_exporter": "python",
   "pygments_lexer": "ipython3",
   "version": "3.8.10"
  }
 },
 "nbformat": 4,
 "nbformat_minor": 5
}
