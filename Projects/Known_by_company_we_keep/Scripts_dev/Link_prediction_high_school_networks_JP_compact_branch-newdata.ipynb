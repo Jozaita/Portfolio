{
 "cells": [
  {
   "cell_type": "markdown",
   "id": "6badee70",
   "metadata": {},
   "source": [
    "# High school network and deep learning"
   ]
  },
  {
   "cell_type": "markdown",
   "id": "720c57a2",
   "metadata": {},
   "source": [
    "Our point is, considering the positive and negative networks as two different directed graphs, use a GConv network with previous autoencoder (Tutorial 12 Pytorch Geometric) to predict links from one of the networks, then compare the predicted_edges with the negative ones. Consider the positive as the training set and compare it to the negatives in the test one. \n",
    "\n",
    "* We are going to use a graph autoencoder, which is a non-supervised neural network that takes data, translate them to another representation (the one the neural network extracts from them) and then try to rebuild the original data. The representation it learns is based on the structure of the network.\n",
    "\n",
    "* We will use also a heuristic method, called PageRank method, traditionally used in link prediction, where the probability of a link depends on a variable called rank. \n",
    "\n",
    "* We compare it with a null method, a random graph. \n",
    "\n",
    "In both of the comparative methods of the GNN, negative links can only be placed where there are not positive links. \n",
    "\n",
    "The graph autoencoder generate a fixed number of links depending on built-in functions, so we are taking these number of links in order to establish comparison with other methods."
   ]
  },
  {
   "cell_type": "markdown",
   "id": "4b671b18",
   "metadata": {},
   "source": [
    "<div class=\"alert alert-success\" role=\"alert\">\n",
    "  In this variation we are going to remove a whole class and let the neural network rebuild it. We are considering classes as main components of the whole. This is done just in the positive network. \n",
    "</div>"
   ]
  },
  {
   "cell_type": "code",
   "execution_count": 1,
   "id": "8eab7eeb",
   "metadata": {},
   "outputs": [],
   "source": [
    "import pandas as pd"
   ]
  },
  {
   "cell_type": "code",
   "execution_count": 2,
   "id": "b8513fa8",
   "metadata": {},
   "outputs": [],
   "source": [
    "nodes = pd.read_csv(\"Renacimiento_info_completo_1.csv\",encoding=\"iso8859_7\",delimiter=\";\")\n",
    "edges = pd.read_csv(\"Renacimiento_edges_completo_1.csv\",encoding=\"iso8859_7\",delimiter=\";\")"
   ]
  },
  {
   "cell_type": "code",
   "execution_count": 3,
   "id": "31ffa853",
   "metadata": {},
   "outputs": [],
   "source": [
    "nodes[\"Curso\"] = nodes[\"Curso\"].apply(lambda x: x.split(\"Ί\")[0])\n",
    "edges.drop(\"relacion\",axis=1,inplace=True)"
   ]
  },
  {
   "cell_type": "code",
   "execution_count": 4,
   "id": "e064997f",
   "metadata": {},
   "outputs": [],
   "source": [
    "clean_range = dict(nodes[\"ID\"])\n",
    "clean_range = {value:key for key,value in clean_range.items()}\n",
    "nodes[\"ID\"] = nodes[\"ID\"].map(clean_range)\n",
    "edges[\"from\"] = edges[\"from\"].map(clean_range)\n",
    "edges[\"to\"] = edges[\"to\"].map(clean_range)"
   ]
  },
  {
   "cell_type": "code",
   "execution_count": 5,
   "id": "ec9b7eef",
   "metadata": {},
   "outputs": [],
   "source": [
    "import networkx as nx\n",
    "\n",
    "pos_edges = edges[edges[\"peso\"]> 0]\n",
    "neg_edges = edges[edges[\"peso\"]< 0]\n",
    "G_positive = nx.from_pandas_edgelist(pos_edges, \"from\", \"to\",create_using=nx.DiGraph,edge_attr=\"peso\")\n",
    "G_negative = nx.from_pandas_edgelist(neg_edges, \"from\", \"to\",create_using=nx.DiGraph,edge_attr=\"peso\")\n",
    "G_negative.add_nodes_from(range(nodes.index.max()+1))"
   ]
  },
  {
   "cell_type": "code",
   "execution_count": 6,
   "id": "defcba61",
   "metadata": {},
   "outputs": [],
   "source": [
    "import numpy as np\n",
    "import torch\n",
    "import torch_geometric.data as data\n",
    "from torch_geometric.nn import GCNConv\n",
    "import torch_geometric.transforms as T\n",
    "import torch.nn.functional as F\n",
    "from torch_geometric.utils import negative_sampling,train_test_split_edges,to_dense_adj\n",
    "from sklearn.metrics import roc_auc_score\n",
    "from torch_geometric.transforms import RandomLinkSplit\n",
    "from sklearn import preprocessing\n",
    "\n",
    "device = \"cpu\""
   ]
  },
  {
   "cell_type": "code",
   "execution_count": 7,
   "id": "c9d206f0",
   "metadata": {},
   "outputs": [],
   "source": [
    "### One hot encode and normalize node attributes\n",
    "nodes_dummy = pd.get_dummies(nodes,['Curso', 'Grupo', 'Sexo', 'Procedencia', 'Repetidor'])\n",
    "rng = np.random.default_rng()\n",
    "#nodes_dummy = pd.DataFrame(rng.integers(0, 2, size=(409, 10)), columns=list('ABCDEFGHIJ'))\n",
    "\n",
    "x = nodes_dummy.values #returns a numpy array\n",
    "min_max_scaler = preprocessing.MinMaxScaler()\n",
    "x_scaled = min_max_scaler.fit_transform(x)\n",
    "nodes_norm = pd.DataFrame(x_scaled)"
   ]
  },
  {
   "cell_type": "markdown",
   "id": "ca40f797",
   "metadata": {},
   "source": [
    "<div class=\"alert alert-success\" role=\"alert\">\n",
    "    We need to remove from the data the edges of a whole class and label them as <i> y_true</i>.\n",
    "    We remove the edges that come from a target course, such that the intraclass links are removed and also the \n",
    "    links that have source in class. \n",
    "</div"
   ]
  },
  {
   "cell_type": "code",
   "execution_count": 8,
   "id": "5c991c33",
   "metadata": {},
   "outputs": [
    {
     "name": "stderr",
     "output_type": "stream",
     "text": [
      "/tmp/ipykernel_83856/1978721083.py:6: UserWarning: Creating a tensor from a list of numpy.ndarrays is extremely slow. Please consider converting the list to a single numpy.ndarray with numpy.array() before converting to a tensor. (Triggered internally at  ../torch/csrc/utils/tensor_new.cpp:201.)\n",
      "  edges_class_saved = torch.Tensor([edges_class[\"from\"].to_numpy(),edges_class[\"to\"].to_numpy()])\n"
     ]
    }
   ],
   "source": [
    "curso = \"1\" \n",
    "grupo = \"A\"\n",
    "\n",
    "nodes_class = list(nodes[(nodes[\"Curso\"] == curso)&(nodes[\"Grupo\"] == grupo)].index)\n",
    "edges_class = edges[(edges[\"from\"].isin(nodes_class))]\n",
    "edges_class_saved = torch.Tensor([edges_class[\"from\"].to_numpy(),edges_class[\"to\"].to_numpy()])\n",
    "edges_class_saved = edges_class_saved.type(torch.LongTensor)\n",
    "edges.drop(edges_class.index,inplace = True)\n"
   ]
  },
  {
   "cell_type": "markdown",
   "id": "98d0bc34",
   "metadata": {},
   "source": [
    "## Graph autoencoders"
   ]
  },
  {
   "cell_type": "markdown",
   "id": "649a6a20",
   "metadata": {},
   "source": [
    "### Load the dataset"
   ]
  },
  {
   "cell_type": "code",
   "execution_count": 9,
   "id": "1795f80a",
   "metadata": {},
   "outputs": [],
   "source": [
    "### One hot encode and normalize node attributes\n",
    "nodes_dummy = pd.get_dummies(nodes,['Curso', 'Grupo', 'Sexo', 'Procedencia', 'Repetidor'])\n",
    "rng = np.random.default_rng()\n",
    "#nodes_dummy = pd.DataFrame(rng.integers(0, 2, size=(409, 10)), columns=list('ABCDEFGHIJ'))\n",
    "\n",
    "x = nodes_dummy.values #returns a numpy array\n",
    "min_max_scaler = preprocessing.MinMaxScaler()\n",
    "x_scaled = min_max_scaler.fit_transform(x)\n",
    "nodes_norm = pd.DataFrame(x_scaled)"
   ]
  },
  {
   "cell_type": "markdown",
   "id": "5003aabe",
   "metadata": {},
   "source": [
    "### Firstly, check for isomorphism with Networkx \n",
    "\n",
    "Networkx has a isomorphism library that comes mainly from the VF2 algorithm : https://www.researchgate.net/publication/200034365_An_Improved_Algorithm_for_Matching_Large_Graphs\n"
   ]
  },
  {
   "cell_type": "code",
   "execution_count": 10,
   "id": "629e2cae",
   "metadata": {},
   "outputs": [
    {
     "name": "stdout",
     "output_type": "stream",
     "text": [
      "The graph of positive links is direcly isomorphic to the negative one ? False.\n"
     ]
    }
   ],
   "source": [
    "from networkx.algorithms import isomorphism\n",
    "\n",
    "\n",
    "DiGM = isomorphism.DiGraphMatcher(G_positive,G_negative)\n",
    "\n",
    "print(\"The graph of positive links is direcly isomorphic to the negative one ? {}.\".format(DiGM.is_isomorphic()))"
   ]
  },
  {
   "cell_type": "code",
   "execution_count": 11,
   "id": "44e28034",
   "metadata": {},
   "outputs": [],
   "source": [
    "###Without including class and group information \n",
    "positive_data = data.Data(x=torch.tensor(nodes_norm.to_numpy(),dtype=torch.float32),\n",
    "                          edge_index=torch.tensor(pos_edges[[\"from\",\"to\"]].to_numpy().T))\n",
    "negative_data = data.Data(x=torch.tensor(nodes_norm.to_numpy(),dtype=torch.float32),\n",
    "                          edge_index=torch.tensor(neg_edges[[\"from\",\"to\"]].to_numpy().T))"
   ]
  },
  {
   "cell_type": "code",
   "execution_count": 12,
   "id": "079082e1",
   "metadata": {},
   "outputs": [
    {
     "name": "stderr",
     "output_type": "stream",
     "text": [
      "/home/juan/.local/lib/python3.8/site-packages/torch_geometric/deprecation.py:13: UserWarning: 'train_test_split_edges' is deprecated, use 'transforms.RandomLinkSplit' instead\n",
      "  warnings.warn(out)\n"
     ]
    }
   ],
   "source": [
    "data = positive_data.clone()\n",
    "data.num_nodes = len(data._store[\"x\"])\n",
    "data = train_test_split_edges(data)\n"
   ]
  },
  {
   "cell_type": "markdown",
   "id": "66d91946",
   "metadata": {},
   "source": [
    "### Models for the neural network"
   ]
  },
  {
   "cell_type": "markdown",
   "id": "bdaafd14",
   "metadata": {},
   "source": [
    "#### Autoencoder"
   ]
  },
  {
   "cell_type": "code",
   "execution_count": 13,
   "id": "7f13d819",
   "metadata": {},
   "outputs": [],
   "source": [
    "class Net(torch.nn.Module):\n",
    "    def __init__(self):\n",
    "        super(Net, self).__init__()\n",
    "        self.conv1 = GCNConv(data.num_features, 128)\n",
    "        self.conv2 = GCNConv(128, 64)\n",
    "\n",
    "    def encode(self):\n",
    "        x = self.conv1(data.x, data.train_pos_edge_index) # convolution 1\n",
    "        x = x.relu()\n",
    "        return self.conv2(x, data.train_pos_edge_index) # convolution 2\n",
    "\n",
    "    def decode(self, z, pos_edge_index, neg_edge_index): # only pos and neg edges\n",
    "        edge_index = torch.cat([pos_edge_index, neg_edge_index], dim=-1) # concatenate pos and neg edges\n",
    "        logits = (z[edge_index[0]] * z[edge_index[1]]).sum(dim=-1)  # dot product \n",
    "        return logits\n",
    "\n",
    "    def decode_all(self, z): \n",
    "        prob_adj = z @ z.t() # get adj NxN\n",
    "        return (prob_adj > 1-10e-10).nonzero(as_tuple=False).t() # get predicted edge_list "
   ]
  },
  {
   "cell_type": "markdown",
   "id": "4ec2c32d",
   "metadata": {},
   "source": [
    "#### Set the parameters and move data to autoencoder"
   ]
  },
  {
   "cell_type": "code",
   "execution_count": 14,
   "id": "9e9fb8a4",
   "metadata": {},
   "outputs": [],
   "source": [
    "model, positive_data = Net().to(device), positive_data.to(device)\n",
    "optimizer = torch.optim.Adam(params=model.parameters(), lr=0.01)"
   ]
  },
  {
   "cell_type": "markdown",
   "id": "df952510",
   "metadata": {},
   "source": [
    "#### Algorithms of training and evaluation (Tutorial PyG)"
   ]
  },
  {
   "cell_type": "code",
   "execution_count": 15,
   "id": "266bf880",
   "metadata": {},
   "outputs": [],
   "source": [
    "\n",
    "def get_link_labels(pos_edge_index, neg_edge_index):\n",
    "    # returns a tensor:\n",
    "    # [1,1,1,1,...,0,0,0,0,0,..] with the number of ones is equel to the lenght of pos_edge_index\n",
    "    # and the number of zeros is equal to the length of neg_edge_index\n",
    "    E = pos_edge_index.size(1) + neg_edge_index.size(1)\n",
    "    link_labels = torch.zeros(E, dtype=torch.float, device=device)\n",
    "    link_labels[:pos_edge_index.size(1)] = 1.\n",
    "    return link_labels\n",
    "\n",
    "\n",
    "def train():\n",
    "    model.train()\n",
    "\n",
    "    neg_edge_index = negative_sampling(\n",
    "        edge_index=data.train_pos_edge_index, #positive edges\n",
    "        num_nodes=data.num_nodes, # number of nodes\n",
    "        num_neg_samples=data.train_pos_edge_index.size(1)) # number of neg_sample equal to number of pos_edges\n",
    "\n",
    "    optimizer.zero_grad()\n",
    "    \n",
    "    z = model.encode() #encode\n",
    "    link_logits = model.decode(z, data.train_pos_edge_index, neg_edge_index) # decode\n",
    "    \n",
    "    link_labels = get_link_labels(data.train_pos_edge_index, neg_edge_index)\n",
    "    loss = F.binary_cross_entropy_with_logits(link_logits, link_labels)\n",
    "    loss.backward()\n",
    "    optimizer.step()\n",
    "\n",
    "    return loss\n",
    "\n",
    "\n",
    "@torch.no_grad()\n",
    "def test():\n",
    "    model.eval()\n",
    "    perfs = []\n",
    "    for prefix in [\"val\", \"test\"]:\n",
    "        pos_edge_index = data[f'{prefix}_pos_edge_index']\n",
    "        neg_edge_index = data[f'{prefix}_neg_edge_index']\n",
    "\n",
    "        z = model.encode() # encode train\n",
    "        link_logits = model.decode(z, pos_edge_index, neg_edge_index) # decode test or val\n",
    "        link_probs = link_logits.sigmoid() # apply sigmoid\n",
    "        \n",
    "        link_labels = get_link_labels(pos_edge_index, neg_edge_index) # get link\n",
    "        \n",
    "        perfs.append(roc_auc_score(link_labels.cpu(), link_probs.cpu())) #compute roc_auc score\n",
    "    return perfs\n"
   ]
  },
  {
   "cell_type": "markdown",
   "id": "205bf787",
   "metadata": {},
   "source": [
    "#### Training and test"
   ]
  },
  {
   "cell_type": "code",
   "execution_count": 16,
   "id": "831973b0",
   "metadata": {},
   "outputs": [
    {
     "name": "stdout",
     "output_type": "stream",
     "text": [
      "Epoch: 100, Loss: 0.3996, Val: 0.9556, Test: 0.9586\n",
      "Epoch: 200, Loss: 0.3898, Val: 0.9623, Test: 0.9578\n",
      "Epoch: 300, Loss: 0.3925, Val: 0.9623, Test: 0.9578\n",
      "Epoch: 400, Loss: 0.3795, Val: 0.9623, Test: 0.9578\n",
      "Epoch: 500, Loss: 0.3793, Val: 0.9673, Test: 0.9673\n",
      "Epoch: 600, Loss: 0.3746, Val: 0.9673, Test: 0.9673\n",
      "Epoch: 700, Loss: 0.3666, Val: 0.9708, Test: 0.9681\n",
      "Epoch: 800, Loss: 0.3663, Val: 0.9708, Test: 0.9681\n",
      "Epoch: 900, Loss: 0.3504, Val: 0.9729, Test: 0.9685\n",
      "Epoch: 1000, Loss: 0.3607, Val: 0.9729, Test: 0.9685\n",
      "Epoch: 1100, Loss: 0.3594, Val: 0.9729, Test: 0.9685\n",
      "Epoch: 1200, Loss: 0.3583, Val: 0.9732, Test: 0.9662\n",
      "Epoch: 1300, Loss: 0.3636, Val: 0.9732, Test: 0.9662\n",
      "Epoch: 1400, Loss: 0.3479, Val: 0.9732, Test: 0.9662\n",
      "Epoch: 1500, Loss: 0.3525, Val: 0.9732, Test: 0.9662\n",
      "Epoch: 1600, Loss: 0.3553, Val: 0.9732, Test: 0.9662\n",
      "Epoch: 1700, Loss: 0.3643, Val: 0.9732, Test: 0.9662\n",
      "Epoch: 1800, Loss: 0.3612, Val: 0.9732, Test: 0.9662\n",
      "Epoch: 1900, Loss: 0.3459, Val: 0.9732, Test: 0.9662\n",
      "Epoch: 2000, Loss: 0.3530, Val: 0.9732, Test: 0.9662\n"
     ]
    }
   ],
   "source": [
    "best_val_perf = test_perf = 0\n",
    "for epoch in range(1, 2001):\n",
    "    train_loss = train()\n",
    "    val_perf, tmp_test_perf = test()\n",
    "    if val_perf > best_val_perf:\n",
    "        best_val_perf = val_perf\n",
    "        test_perf = tmp_test_perf\n",
    "    log = 'Epoch: {:03d}, Loss: {:.4f}, Val: {:.4f}, Test: {:.4f}'\n",
    "    if epoch % 100 == 0:\n",
    "        print(log.format(epoch, train_loss, best_val_perf, test_perf))"
   ]
  },
  {
   "cell_type": "markdown",
   "id": "b6d1ee80",
   "metadata": {},
   "source": [
    "<div class = \"alert alert-success\">\n",
    "    We will produce the links, and from them extract the ones referred to the particular course we are trying to rebuild. \n",
    "</div>"
   ]
  },
  {
   "cell_type": "code",
   "execution_count": 17,
   "id": "d13d7691",
   "metadata": {},
   "outputs": [],
   "source": [
    "z = model.encode()\n",
    "final_edge_index_1 = model.decode_all(z)\n",
    "#Remove self loops\n",
    "bool_mask = final_edge_index_1[0] != final_edge_index_1[1]\n",
    "simulated_edges_1 = torch.empty((2,int(sum(bool_mask))))\n",
    "for item in range(final_edge_index_1.size()[0]):\n",
    "    simulated_edges_1[item] = final_edge_index_1[item][bool_mask]\n",
    "    \n"
   ]
  },
  {
   "cell_type": "code",
   "execution_count": 18,
   "id": "5b018764",
   "metadata": {},
   "outputs": [],
   "source": [
    "edges_saved_compare = list(zip(*edges_class_saved))\n",
    "edges_saved_compare = set(list(map(lambda item: (int(item[0]),int(item[1])),edges_saved_compare)))\n",
    "\n",
    "simulated_edges_compare = list(zip(*simulated_edges_1))\n",
    "simulated_edges_compare = set(list(map(lambda item: (int(item[0]),int(item[1])),simulated_edges_compare)))"
   ]
  },
  {
   "cell_type": "code",
   "execution_count": 19,
   "id": "e4b58fcf",
   "metadata": {},
   "outputs": [
    {
     "name": "stdout",
     "output_type": "stream",
     "text": [
      "The amount of links that were in the data is the 0.77 of the total\n"
     ]
    }
   ],
   "source": [
    "precision = round(len(edges_saved_compare.intersection(simulated_edges_compare))/len(edges_class_saved[0]),2)\n",
    "print(\"The amount of links that were in the data is the {} of the total\".format(precision))"
   ]
  },
  {
   "cell_type": "markdown",
   "id": "e8f2411e",
   "metadata": {},
   "source": [
    "<div class = \"alert alert-success\">\n",
    "   Compute the coincidences. To do this, we check if each of the predicted links was in the original data. \n",
    "</div>"
   ]
  },
  {
   "cell_type": "code",
   "execution_count": 20,
   "id": "6eaee101",
   "metadata": {},
   "outputs": [
    {
     "data": {
      "text/plain": [
       "753"
      ]
     },
     "execution_count": 20,
     "metadata": {},
     "output_type": "execute_result"
    }
   ],
   "source": [
    "n_links = 0\n",
    "for item in simulated_edges_compare: \n",
    "    if item[0] in nodes_class: \n",
    "        n_links += 1\n",
    "n_links"
   ]
  },
  {
   "cell_type": "code",
   "execution_count": 21,
   "id": "1e22aeb2",
   "metadata": {},
   "outputs": [
    {
     "name": "stdout",
     "output_type": "stream",
     "text": [
      "We generated 6730 links, 753 of them are in the cut region \n",
      "We cut a total of 443 links\n",
      "From 753, 341 of 443 were found in the simulated links. \n"
     ]
    }
   ],
   "source": [
    "print(f\"We generated {len(simulated_edges_compare)} links, {n_links} of them are in the cut region \")\n",
    "print(f\"We cut a total of {len(edges_saved_compare)} links\")\n",
    "print(f\"From {n_links}, {int(precision*len(edges_saved_compare))} of {len(edges_saved_compare)} were found in the simulated links. \")"
   ]
  },
  {
   "cell_type": "code",
   "execution_count": 25,
   "id": "590390f2",
   "metadata": {},
   "outputs": [
    {
     "data": {
      "text/plain": [
       "0.7697516930022573"
      ]
     },
     "execution_count": 25,
     "metadata": {},
     "output_type": "execute_result"
    }
   ],
   "source": [
    "int(precision*len(edges_saved_compare))/len(edges_saved_compare)"
   ]
  },
  {
   "cell_type": "code",
   "execution_count": 29,
   "id": "40141b62",
   "metadata": {},
   "outputs": [
    {
     "data": {
      "text/plain": [
       "3397"
      ]
     },
     "execution_count": 29,
     "metadata": {},
     "output_type": "execute_result"
    }
   ],
   "source": [
    "len(positive_data.edge_index[0])"
   ]
  },
  {
   "cell_type": "code",
   "execution_count": null,
   "id": "18139aa5",
   "metadata": {},
   "outputs": [],
   "source": []
  }
 ],
 "metadata": {
  "kernelspec": {
   "display_name": "Python 3 (ipykernel)",
   "language": "python",
   "name": "python3"
  },
  "language_info": {
   "codemirror_mode": {
    "name": "ipython",
    "version": 3
   },
   "file_extension": ".py",
   "mimetype": "text/x-python",
   "name": "python",
   "nbconvert_exporter": "python",
   "pygments_lexer": "ipython3",
   "version": "3.8.10"
  }
 },
 "nbformat": 4,
 "nbformat_minor": 5
}
