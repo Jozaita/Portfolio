{
 "cells": [
  {
   "cell_type": "markdown",
   "id": "ce0f0e15",
   "metadata": {},
   "source": [
    "In this notebook we produce an embedding using the technique of Node2vec similar to Word2vec (linguistic models). \n",
    "With this node embedding we compute the edge embedding and make a k-cross validation score against the weighted edges\n",
    "of the network. \n",
    "The goal is to produce an embedding of edges that, given two nodes, provides the predicted sign of the link. \n",
    "For this purpose we have substituted the classes in the edges by only 2, positive and negative. "
   ]
  },
  {
   "cell_type": "code",
   "execution_count": 1,
   "id": "69b30228",
   "metadata": {},
   "outputs": [],
   "source": [
    "import numpy as np\n",
    "import pandas as pd \n",
    "\n",
    "\n",
    "import torch\n",
    "import torch_geometric.data as data\n",
    "from torch_geometric.nn import GCNConv\n",
    "import torch_geometric.transforms as T\n",
    "import torch.nn.functional as F\n",
    "from torch_geometric.utils import negative_sampling,train_test_split_edges,to_dense_adj\n",
    "from sklearn.metrics import roc_auc_score\n",
    "from torch_geometric.transforms import RandomLinkSplit\n",
    "from sklearn import preprocessing\n",
    "from torch_geometric.nn import Node2Vec\n",
    "\n",
    "device = \"cpu\""
   ]
  },
  {
   "cell_type": "code",
   "execution_count": 30,
   "id": "b90bef24",
   "metadata": {},
   "outputs": [],
   "source": [
    "nodes = pd.read_csv(\"Renacimiento_info_completo_1.csv\",encoding=\"iso8859_7\",delimiter=\";\")\n",
    "edges = pd.read_csv(\"Renacimiento_edges_completo_1.csv\",encoding=\"iso8859_7\",delimiter=\";\")\n",
    "edges[\"peso\"] = edges[\"peso\"].apply(lambda x: np.sign(x))\n",
    "nodes[\"Curso\"] = nodes[\"Curso\"].apply(lambda x: x.split(\"Ί\")[0])\n",
    "edges.drop(\"relacion\",axis=1,inplace=True)\n",
    "clean_range = dict(nodes[\"ID\"])\n",
    "clean_range = {value:key for key,value in clean_range.items()}\n",
    "nodes[\"ID\"] = nodes[\"ID\"].map(clean_range)\n",
    "edges[\"from\"] = edges[\"from\"].map(clean_range)\n",
    "edges[\"to\"] = edges[\"to\"].map(clean_range)"
   ]
  },
  {
   "cell_type": "code",
   "execution_count": 3,
   "id": "0c218f1c",
   "metadata": {},
   "outputs": [],
   "source": [
    "nodes_dummy = pd.get_dummies(nodes,['Curso', 'Grupo', 'Sexo', 'Procedencia', 'Repetidor'])\n",
    "x = nodes_dummy.values \n",
    "min_max_scaler = preprocessing.MinMaxScaler()\n",
    "x_scaled = min_max_scaler.fit_transform(x)\n",
    "nodes_norm = pd.DataFrame(x_scaled)"
   ]
  },
  {
   "cell_type": "code",
   "execution_count": 4,
   "id": "df35c6f8",
   "metadata": {},
   "outputs": [],
   "source": [
    "total_data = data.Data(x=torch.tensor(nodes_norm.to_numpy(),dtype=torch.float32),\n",
    "                          edge_index=torch.tensor(edges[[\"from\",\"to\"]].to_numpy().T),\n",
    "                          edge_attr=torch.tensor((pd.get_dummies(edges[\"peso\"]).to_numpy())))"
   ]
  },
  {
   "cell_type": "code",
   "execution_count": 5,
   "id": "e0ee618e",
   "metadata": {},
   "outputs": [
    {
     "data": {
      "text/plain": [
       "Data(x=[238, 36], edge_index=[2, 3755], edge_attr=[3755, 2])"
      ]
     },
     "execution_count": 5,
     "metadata": {},
     "output_type": "execute_result"
    }
   ],
   "source": [
    "total_data"
   ]
  },
  {
   "cell_type": "code",
   "execution_count": 6,
   "id": "e996994c",
   "metadata": {},
   "outputs": [
    {
     "name": "stdout",
     "output_type": "stream",
     "text": [
      "238\n"
     ]
    }
   ],
   "source": [
    "np.random.seed(10)\n",
    "# get the nodes\n",
    "nodes = total_data.edge_index.t().numpy()\n",
    "nodes = np.unique(list(nodes[:,0]) + list(nodes[:,1]))\n",
    "\n",
    "np.random.shuffle(nodes) # shuffle node order\n",
    "print(len(nodes))"
   ]
  },
  {
   "cell_type": "code",
   "execution_count": 7,
   "id": "36c4a9e1",
   "metadata": {},
   "outputs": [
    {
     "name": "stdout",
     "output_type": "stream",
     "text": [
      "166 36 36\n"
     ]
    }
   ],
   "source": [
    "# get train test and val sizes: (70% - 15% - 15%)\n",
    "train_size = int(len(nodes)*0.7)\n",
    "test_size = int(len(nodes)*0.85) - train_size\n",
    "val_size = len(nodes) - train_size - test_size\n",
    "print(train_size,test_size,val_size)"
   ]
  },
  {
   "cell_type": "code",
   "execution_count": 8,
   "id": "f10bbb02",
   "metadata": {},
   "outputs": [
    {
     "name": "stdout",
     "output_type": "stream",
     "text": [
      "166 36 36\n",
      "True\n",
      "train set\t [ 26 124 192  58 208 132  83 154 182 127]\n",
      "test set \t [ 44  96 211  28 135 145 181 215  71 118]\n",
      "val set  \t [ 13 197  77 216 179 177 206 218 200  33]\n"
     ]
    }
   ],
   "source": [
    "train_set = nodes[0:train_size]\n",
    "test_set = nodes[train_size:train_size+test_size]\n",
    "val_set = nodes[train_size+test_size:]\n",
    "\n",
    "\n",
    "print(len(train_set),len(test_set),len(val_set))\n",
    "print(len(train_set)+len(test_set)+len(val_set) == len(nodes))\n",
    "\n",
    "print(\"train set\\t\",train_set[:10])\n",
    "print(\"test set \\t\",test_set[:10])\n",
    "print(\"val set  \\t\",val_set[:10])"
   ]
  },
  {
   "cell_type": "code",
   "execution_count": 9,
   "id": "5d4482ed",
   "metadata": {},
   "outputs": [
    {
     "name": "stdout",
     "output_type": "stream",
     "text": [
      "train mask \t tensor([0, 1, 1, 1, 1, 1, 1, 1, 0, 0, 1, 1, 1, 0, 1])\n",
      "test mask  \t tensor([0, 0, 0, 0, 0, 0, 0, 0, 0, 0, 0, 0, 0, 0, 0])\n",
      "val mask   \t tensor([1, 0, 0, 0, 0, 0, 0, 0, 1, 1, 0, 0, 0, 1, 0])\n"
     ]
    }
   ],
   "source": [
    "# build test train val masks\n",
    "\n",
    "train_mask = torch.zeros(len(nodes),dtype=torch.long, device=device)\n",
    "for i in train_set:\n",
    "    train_mask[i] = 1.\n",
    "\n",
    "test_mask = torch.zeros(len(nodes),dtype=torch.long, device=device)\n",
    "for i in test_set:\n",
    "    test_mask[i] = 1.\n",
    "    \n",
    "val_mask = torch.zeros(len(nodes),dtype=torch.long, device=device)\n",
    "for i in val_set:\n",
    "    val_mask[i] = 1.\n",
    "    \n",
    "print(\"train mask \\t\",train_mask[0:15])\n",
    "print(\"test mask  \\t\",test_mask[0:15])\n",
    "print(\"val mask   \\t\",val_mask[0:15]) "
   ]
  },
  {
   "cell_type": "code",
   "execution_count": 10,
   "id": "6d461630",
   "metadata": {},
   "outputs": [
    {
     "name": "stdout",
     "output_type": "stream",
     "text": [
      "after\t\t Data(x=[238, 36], edge_index=[2, 3755], edge_attr=[3755, 2], train_mask=[238], test_mask=[238], val_mask=[238])\n"
     ]
    }
   ],
   "source": [
    "# add masks\n",
    "total_data.train_mask = train_mask\n",
    "total_data.test_mask = test_mask\n",
    "total_data.val_mask = val_mask\n",
    "\n",
    "print(\"after\\t\\t\",total_data)"
   ]
  },
  {
   "cell_type": "code",
   "execution_count": 11,
   "id": "3ac32a02",
   "metadata": {},
   "outputs": [],
   "source": [
    "device = 'cuda' if torch.cuda.is_available() else 'cpu'\n",
    "\n",
    "model = Node2Vec(total_data.edge_index, embedding_dim=128, walk_length=70,\n",
    "             context_size=50, walks_per_node=10,\n",
    "             num_negative_samples=1, p=1, q=1, sparse=True).to(device)\n",
    "\n",
    "loader = model.loader(batch_size=128, shuffle=True, num_workers=4)\n",
    "optimizer = torch.optim.SparseAdam(list(model.parameters()), lr=0.01)\n"
   ]
  },
  {
   "cell_type": "code",
   "execution_count": 12,
   "id": "a935ea21",
   "metadata": {},
   "outputs": [
    {
     "name": "stdout",
     "output_type": "stream",
     "text": [
      "Epoch: 10, Loss: 5.1354\n",
      "Epoch: 20, Loss: 3.7564\n",
      "Epoch: 30, Loss: 3.0064\n",
      "Epoch: 40, Loss: 2.5038\n",
      "Epoch: 50, Loss: 2.1744\n",
      "Epoch: 60, Loss: 1.9389\n",
      "Epoch: 70, Loss: 1.7833\n",
      "Epoch: 80, Loss: 1.6703\n",
      "Epoch: 90, Loss: 1.5857\n",
      "Epoch: 100, Loss: 1.5080\n"
     ]
    }
   ],
   "source": [
    "def train():\n",
    "    model.train()\n",
    "    total_loss = 0\n",
    "    for pos_rw, neg_rw in loader:\n",
    "        optimizer.zero_grad()\n",
    "        loss = model.loss(pos_rw.to(device), neg_rw.to(device))\n",
    "        loss.backward()\n",
    "        optimizer.step()\n",
    "        total_loss += loss.item()\n",
    "    return total_loss / len(loader)\n",
    "\n",
    "\n",
    "@torch.no_grad()\n",
    "def test():\n",
    "    model.eval()\n",
    "    z = model()\n",
    "    acc = model.test(z[total_data.train_mask], total_data.y[total_data.train_mask],\n",
    "                     z[total_data.test_mask], total_data.y[total_data.test_mask],\n",
    "                     max_iter=10)\n",
    "    return acc\n",
    "\n",
    "\n",
    "for epoch in range(1, 101):\n",
    "    loss = train()\n",
    "    #acc = test()\n",
    "    if epoch % 10 == 0:\n",
    "        print(f'Epoch: {epoch:02d}, Loss: {loss:.4f}')\n",
    "        "
   ]
  },
  {
   "cell_type": "code",
   "execution_count": 13,
   "id": "609337b7",
   "metadata": {},
   "outputs": [],
   "source": [
    "z = model()"
   ]
  },
  {
   "cell_type": "code",
   "execution_count": 14,
   "id": "42cec562",
   "metadata": {},
   "outputs": [],
   "source": [
    "# from tensor to numpy\n",
    "emb_128 = z.detach().cpu().numpy()"
   ]
  },
  {
   "cell_type": "code",
   "execution_count": 15,
   "id": "7ac8b9a9",
   "metadata": {},
   "outputs": [
    {
     "name": "stdout",
     "output_type": "stream",
     "text": [
      "Categorical edge attributes:\n",
      " [[0 1]\n",
      " [0 1]\n",
      " [0 1]]\n",
      "\n",
      "\n",
      "Numerical edge attributes:\n",
      " [1, 1, 1]\n"
     ]
    }
   ],
   "source": [
    "# convert edge attributes from categorical to numerical\n",
    "edge_attr_cat = total_data.edge_attr.numpy()\n",
    "print(\"Categorical edge attributes:\\n\",edge_attr_cat[:3])\n",
    "\n",
    "edge_attr = []\n",
    "for i in edge_attr_cat:\n",
    "    edge_attr.append(np.nonzero(i)[0][0])\n",
    "\n",
    "print(\"\\n\\nNumerical edge attributes:\\n\",edge_attr[:3])"
   ]
  },
  {
   "cell_type": "code",
   "execution_count": 16,
   "id": "cd427513",
   "metadata": {},
   "outputs": [],
   "source": [
    "# compute edge embedding\n",
    "\n",
    "edge_embedding = []\n",
    "for u,v in total_data.edge_index.t():\n",
    "    edge_embedding.append(np.mean([emb_128[u],emb_128[v]],0))"
   ]
  },
  {
   "cell_type": "code",
   "execution_count": 17,
   "id": "94848c7f",
   "metadata": {},
   "outputs": [],
   "source": [
    "from sklearn.model_selection import cross_val_score\n",
    "from sklearn.ensemble import RandomForestClassifier"
   ]
  },
  {
   "cell_type": "code",
   "execution_count": 18,
   "id": "13582002",
   "metadata": {},
   "outputs": [
    {
     "data": {
      "text/plain": [
       "0.9046702127659574"
      ]
     },
     "execution_count": 18,
     "metadata": {},
     "output_type": "execute_result"
    }
   ],
   "source": [
    "clf = RandomForestClassifier(max_depth=7,random_state=10)\n",
    "\n",
    "\n",
    "scores = cross_val_score(clf, edge_embedding, total_data.edge_attr, cv=10)\n",
    "np.mean(scores)\n"
   ]
  },
  {
   "cell_type": "code",
   "execution_count": 19,
   "id": "f59bbcfb",
   "metadata": {},
   "outputs": [
    {
     "data": {
      "text/plain": [
       "RandomForestClassifier(max_depth=7, random_state=10)"
      ]
     },
     "execution_count": 19,
     "metadata": {},
     "output_type": "execute_result"
    }
   ],
   "source": [
    "clf.fit(edge_embedding,total_data.edge_attr)"
   ]
  },
  {
   "cell_type": "code",
   "execution_count": 20,
   "id": "460896c0",
   "metadata": {},
   "outputs": [
    {
     "data": {
      "text/plain": [
       "array([[0, 1]], dtype=uint8)"
      ]
     },
     "execution_count": 20,
     "metadata": {},
     "output_type": "execute_result"
    }
   ],
   "source": [
    "clf.predict([[1]*128])"
   ]
  },
  {
   "cell_type": "code",
   "execution_count": 21,
   "id": "35511885",
   "metadata": {},
   "outputs": [
    {
     "data": {
      "text/plain": [
       "3397"
      ]
     },
     "execution_count": 21,
     "metadata": {},
     "output_type": "execute_result"
    }
   ],
   "source": [
    "sum([i[1] for i in total_data.edge_attr.numpy()])"
   ]
  },
  {
   "cell_type": "code",
   "execution_count": 28,
   "id": "8dd796d2",
   "metadata": {},
   "outputs": [
    {
     "data": {
      "text/plain": [
       "1.01124209041328"
      ]
     },
     "execution_count": 28,
     "metadata": {},
     "output_type": "execute_result"
    }
   ],
   "source": [
    "np.mean(scores)/(1-(358/3397))"
   ]
  },
  {
   "cell_type": "code",
   "execution_count": 33,
   "id": "f7658276",
   "metadata": {},
   "outputs": [
    {
     "data": {
      "text/html": [
       "<div>\n",
       "<style scoped>\n",
       "    .dataframe tbody tr th:only-of-type {\n",
       "        vertical-align: middle;\n",
       "    }\n",
       "\n",
       "    .dataframe tbody tr th {\n",
       "        vertical-align: top;\n",
       "    }\n",
       "\n",
       "    .dataframe thead th {\n",
       "        text-align: right;\n",
       "    }\n",
       "</style>\n",
       "<table border=\"1\" class=\"dataframe\">\n",
       "  <thead>\n",
       "    <tr style=\"text-align: right;\">\n",
       "      <th></th>\n",
       "      <th>ID</th>\n",
       "      <th>Curso</th>\n",
       "      <th>Grupo</th>\n",
       "      <th>Sexo</th>\n",
       "      <th>Procedencia</th>\n",
       "      <th>Repetidor</th>\n",
       "    </tr>\n",
       "  </thead>\n",
       "  <tbody>\n",
       "  </tbody>\n",
       "</table>\n",
       "</div>"
      ],
      "text/plain": [
       "Empty DataFrame\n",
       "Columns: [ID, Curso, Grupo, Sexo, Procedencia, Repetidor]\n",
       "Index: []"
      ]
     },
     "execution_count": 33,
     "metadata": {},
     "output_type": "execute_result"
    }
   ],
   "source": [
    "nodes[nodes[\"Curso\"]==1]"
   ]
  },
  {
   "cell_type": "code",
   "execution_count": null,
   "id": "87e3c0c5",
   "metadata": {},
   "outputs": [],
   "source": []
  }
 ],
 "metadata": {
  "kernelspec": {
   "display_name": "Python 3 (ipykernel)",
   "language": "python",
   "name": "python3"
  },
  "language_info": {
   "codemirror_mode": {
    "name": "ipython",
    "version": 3
   },
   "file_extension": ".py",
   "mimetype": "text/x-python",
   "name": "python",
   "nbconvert_exporter": "python",
   "pygments_lexer": "ipython3",
   "version": "3.8.10"
  }
 },
 "nbformat": 4,
 "nbformat_minor": 5
}
