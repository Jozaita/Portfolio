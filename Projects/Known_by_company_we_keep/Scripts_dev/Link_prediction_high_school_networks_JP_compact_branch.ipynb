{
 "cells": [
  {
   "cell_type": "markdown",
   "id": "6badee70",
   "metadata": {},
   "source": [
    "# High school network and deep learning"
   ]
  },
  {
   "cell_type": "markdown",
   "id": "720c57a2",
   "metadata": {},
   "source": [
    "Our point is, considering the positive and negative networks as two different directed graphs, use a GConv network with previous autoencoder (Tutorial 12 Pytorch Geometric) to predict links from one of the networks, then compare the predicted_edges with the negative ones. Consider the positive as the training set and compare it to the negatives in the test one. \n",
    "\n",
    "* We are going to use a graph autoencoder, which is a non-supervised neural network that takes data, translate them to another representation (the one the neural network extracts from them) and then try to rebuild the original data. The representation it learns is based on the structure of the network.\n",
    "\n",
    "* We will use also a heuristic method, called PageRank method, traditionally used in link prediction, where the probability of a link depends on a variable called rank. \n",
    "\n",
    "* We compare it with a null method, a random graph. \n",
    "\n",
    "In both of the comparative methods of the GNN, negative links can only be placed where there are not positive links. \n",
    "\n",
    "The graph autoencoder generate a fixed number of links depending on built-in functions, so we are taking these number of links in order to establish comparison with other methods."
   ]
  },
  {
   "cell_type": "markdown",
   "id": "4b671b18",
   "metadata": {},
   "source": [
    "<div class=\"alert alert-success\" role=\"alert\">\n",
    "  In this variation we are going to remove a whole class and let the neural network rebuild it. We are considering classes as main components of the whole. This is done just in the positive network. \n",
    "</div>"
   ]
  },
  {
   "cell_type": "code",
   "execution_count": 1,
   "id": "defcba61",
   "metadata": {},
   "outputs": [],
   "source": [
    "import numpy as np\n",
    "import pandas as pd \n",
    "\n",
    "\n",
    "import torch\n",
    "import torch_geometric.data as data\n",
    "from torch_geometric.nn import GCNConv\n",
    "import torch_geometric.transforms as T\n",
    "import torch.nn.functional as F\n",
    "from torch_geometric.utils import negative_sampling,train_test_split_edges,to_dense_adj\n",
    "from sklearn.metrics import roc_auc_score\n",
    "from torch_geometric.transforms import RandomLinkSplit\n",
    "from sklearn import preprocessing\n",
    "\n",
    "device = \"cpu\""
   ]
  },
  {
   "cell_type": "code",
   "execution_count": 2,
   "id": "c9d206f0",
   "metadata": {},
   "outputs": [],
   "source": [
    "import networkx as nx\n",
    "## Just prepare the data\n",
    "nodes = pd.read_csv(r\"Nodes_t1.csv\",sep=\";\",encoding = 'unicode_escape')\n",
    "edges = pd.read_csv(r\"Edges_t1.csv\",sep=\";\",encoding = 'unicode_escape')\n",
    "edges = edges.apply(lambda x: x - x.min(),axis = 0)\n",
    "###Erase ESO \n",
    "nodes[\"Curso\"] = nodes[\"Curso\"].astype(str).str[0].astype(\"int64\")\n",
    "del nodes[\"Unnamed: 0\"]\n",
    "edges[\"weight\"] = edges[\"weight\"].apply(lambda x:x+1)\n",
    "pos_edges = edges[edges[\"weight\"]> 3]\n",
    "neg_edges = edges[edges[\"weight\"]< 3]\n",
    "G_positive = nx.from_pandas_edgelist(pos_edges, \"from\", \"to\",create_using=nx.DiGraph,edge_attr=\"weight\")\n",
    "G_negative = nx.from_pandas_edgelist(neg_edges, \"from\", \"to\",create_using=nx.DiGraph,edge_attr=\"weight\")\n",
    "G_negative.add_nodes_from(range(nodes.index.max()+1))"
   ]
  },
  {
   "cell_type": "markdown",
   "id": "ca40f797",
   "metadata": {},
   "source": [
    "<div class=\"alert alert-success\" role=\"alert\">\n",
    "    We need to remove from the data the edges of a whole class and label them as <i> y_true</i>.\n",
    "    We remove the edges that come from a target course, such that the intraclass links are removed and also the \n",
    "    links that have source in class. \n",
    "</div"
   ]
  },
  {
   "cell_type": "code",
   "execution_count": 3,
   "id": "5c991c33",
   "metadata": {},
   "outputs": [
    {
     "name": "stderr",
     "output_type": "stream",
     "text": [
      "/tmp/ipykernel_39293/2115103283.py:6: UserWarning: Creating a tensor from a list of numpy.ndarrays is extremely slow. Please consider converting the list to a single numpy.ndarray with numpy.array() before converting to a tensor. (Triggered internally at  ../torch/csrc/utils/tensor_new.cpp:201.)\n",
      "  edges_class_saved = torch.Tensor([edges_class[\"from\"].to_numpy(),edges_class[\"to\"].to_numpy()])\n"
     ]
    }
   ],
   "source": [
    "curso = 2 \n",
    "grupo = \"C\"\n",
    "\n",
    "nodes_class = list(nodes[(nodes[\"Curso\"] == curso)&(nodes[\"Grupo\"] == grupo)].index)\n",
    "edges_class = edges[(edges[\"from\"].isin(nodes_class))]\n",
    "edges_class_saved = torch.Tensor([edges_class[\"from\"].to_numpy(),edges_class[\"to\"].to_numpy()])\n",
    "edges_class_saved = edges_class_saved.type(torch.LongTensor)\n",
    "edges.drop(edges_class.index,inplace = True)\n"
   ]
  },
  {
   "cell_type": "markdown",
   "id": "98d0bc34",
   "metadata": {},
   "source": [
    "## Graph autoencoders"
   ]
  },
  {
   "cell_type": "markdown",
   "id": "649a6a20",
   "metadata": {},
   "source": [
    "### Load the dataset"
   ]
  },
  {
   "cell_type": "code",
   "execution_count": 4,
   "id": "1795f80a",
   "metadata": {},
   "outputs": [],
   "source": [
    "nodes = pd.read_csv(r\"Nodes_t1.csv\",sep=\";\",encoding = 'unicode_escape')\n",
    "edges = pd.read_csv(r\"Edges_t1.csv\",sep=\";\",encoding = 'unicode_escape')\n",
    "edges = edges.apply(lambda x: x - x.min(),axis = 0)\n",
    "###Erase ESO \n",
    "nodes[\"Curso\"] = nodes[\"Curso\"].astype(str).str[0].astype(\"int64\")\n",
    "del nodes[\"Unnamed: 0\"]\n",
    "### Separate positive from negative networks\n",
    "pos_edges = edges[edges[\"weight\"]> 2]\n",
    "neg_edges = edges[edges[\"weight\"]< 2] \n",
    "### One hot encode and normalize node attributes\n",
    "nodes_dummy = pd.get_dummies(nodes[[\"Curso\",\"Grupo\"]])\n",
    "rng = np.random.default_rng()\n",
    "#nodes_dummy = pd.DataFrame(rng.integers(0, 2, size=(409, 10)), columns=list('ABCDEFGHIJ'))\n",
    "\n",
    "x = nodes_dummy.values #returns a numpy array\n",
    "min_max_scaler = preprocessing.MinMaxScaler()\n",
    "x_scaled = min_max_scaler.fit_transform(x)\n",
    "nodes_norm = pd.DataFrame(x_scaled)"
   ]
  },
  {
   "cell_type": "markdown",
   "id": "5003aabe",
   "metadata": {},
   "source": [
    "### Firstly, check for isomorphism with Networkx \n",
    "\n",
    "Networkx has a isomorphism library that comes mainly from the VF2 algorithm : https://www.researchgate.net/publication/200034365_An_Improved_Algorithm_for_Matching_Large_Graphs\n"
   ]
  },
  {
   "cell_type": "code",
   "execution_count": 5,
   "id": "629e2cae",
   "metadata": {},
   "outputs": [
    {
     "name": "stdout",
     "output_type": "stream",
     "text": [
      "The graph of positive links is direcly isomorphic to the negative one ? False.\n"
     ]
    }
   ],
   "source": [
    "from networkx.algorithms import isomorphism\n",
    "\n",
    "\n",
    "DiGM = isomorphism.DiGraphMatcher(G_positive,G_negative)\n",
    "\n",
    "print(\"The graph of positive links is direcly isomorphic to the negative one ? {}.\".format(DiGM.is_isomorphic()))"
   ]
  },
  {
   "cell_type": "code",
   "execution_count": 1,
   "id": "83a97e7c",
   "metadata": {},
   "outputs": [
    {
     "ename": "NameError",
     "evalue": "name 'nodes_norm' is not defined",
     "output_type": "error",
     "traceback": [
      "\u001b[0;31m---------------------------------------------------------------------------\u001b[0m",
      "\u001b[0;31mNameError\u001b[0m                                 Traceback (most recent call last)",
      "\u001b[0;32m/tmp/ipykernel_81453/3382049930.py\u001b[0m in \u001b[0;36m<module>\u001b[0;34m\u001b[0m\n\u001b[0;32m----> 1\u001b[0;31m \u001b[0mnodes_norm\u001b[0m\u001b[0;34m\u001b[0m\u001b[0;34m\u001b[0m\u001b[0m\n\u001b[0m",
      "\u001b[0;31mNameError\u001b[0m: name 'nodes_norm' is not defined"
     ]
    }
   ],
   "source": [
    "nodes_norm"
   ]
  },
  {
   "cell_type": "code",
   "execution_count": 6,
   "id": "44e28034",
   "metadata": {},
   "outputs": [],
   "source": [
    "###Without including class and group information \n",
    "positive_data = data.Data(x=torch.tensor(nodes_norm.to_numpy(),dtype=torch.float32),\n",
    "                          edge_index=torch.tensor(pos_edges[[\"from\",\"to\"]].to_numpy().T))\n",
    "negative_data = data.Data(x=torch.tensor(nodes_norm.to_numpy(),dtype=torch.float32),\n",
    "                          edge_index=torch.tensor(neg_edges[[\"from\",\"to\"]].to_numpy().T))"
   ]
  },
  {
   "cell_type": "code",
   "execution_count": 7,
   "id": "079082e1",
   "metadata": {},
   "outputs": [
    {
     "name": "stderr",
     "output_type": "stream",
     "text": [
      "/home/juan/.local/lib/python3.8/site-packages/torch_geometric/deprecation.py:13: UserWarning: 'train_test_split_edges' is deprecated, use 'transforms.RandomLinkSplit' instead\n",
      "  warnings.warn(out)\n"
     ]
    }
   ],
   "source": [
    "data = positive_data.clone()\n",
    "data.num_nodes = len(data._store[\"x\"])\n",
    "data = train_test_split_edges(data)\n"
   ]
  },
  {
   "cell_type": "markdown",
   "id": "66d91946",
   "metadata": {},
   "source": [
    "### Models for the neural network"
   ]
  },
  {
   "cell_type": "markdown",
   "id": "bdaafd14",
   "metadata": {},
   "source": [
    "#### Autoencoder"
   ]
  },
  {
   "cell_type": "code",
   "execution_count": 8,
   "id": "7f13d819",
   "metadata": {},
   "outputs": [],
   "source": [
    "class Net(torch.nn.Module):\n",
    "    def __init__(self):\n",
    "        super(Net, self).__init__()\n",
    "        self.conv1 = GCNConv(data.num_features, 128)\n",
    "        self.conv2 = GCNConv(128, 64)\n",
    "\n",
    "    def encode(self):\n",
    "        x = self.conv1(data.x, data.train_pos_edge_index) # convolution 1\n",
    "        x = x.relu()\n",
    "        return self.conv2(x, data.train_pos_edge_index) # convolution 2\n",
    "\n",
    "    def decode(self, z, pos_edge_index, neg_edge_index): # only pos and neg edges\n",
    "        edge_index = torch.cat([pos_edge_index, neg_edge_index], dim=-1) # concatenate pos and neg edges\n",
    "        logits = (z[edge_index[0]] * z[edge_index[1]]).sum(dim=-1)  # dot product \n",
    "        return logits\n",
    "\n",
    "    def decode_all(self, z): \n",
    "        prob_adj = z @ z.t() # get adj NxN\n",
    "        return (prob_adj > 1-10e-10).nonzero(as_tuple=False).t() # get predicted edge_list "
   ]
  },
  {
   "cell_type": "markdown",
   "id": "4ec2c32d",
   "metadata": {},
   "source": [
    "#### Set the parameters and move data to autoencoder"
   ]
  },
  {
   "cell_type": "code",
   "execution_count": 9,
   "id": "9e9fb8a4",
   "metadata": {},
   "outputs": [],
   "source": [
    "model, positive_data = Net().to(device), positive_data.to(device)\n",
    "optimizer = torch.optim.Adam(params=model.parameters(), lr=0.01)"
   ]
  },
  {
   "cell_type": "markdown",
   "id": "df952510",
   "metadata": {},
   "source": [
    "#### Algorithms of training and evaluation (Tutorial PyG)"
   ]
  },
  {
   "cell_type": "code",
   "execution_count": 10,
   "id": "266bf880",
   "metadata": {},
   "outputs": [],
   "source": [
    "\n",
    "def get_link_labels(pos_edge_index, neg_edge_index):\n",
    "    # returns a tensor:\n",
    "    # [1,1,1,1,...,0,0,0,0,0,..] with the number of ones is equel to the lenght of pos_edge_index\n",
    "    # and the number of zeros is equal to the length of neg_edge_index\n",
    "    E = pos_edge_index.size(1) + neg_edge_index.size(1)\n",
    "    link_labels = torch.zeros(E, dtype=torch.float, device=device)\n",
    "    link_labels[:pos_edge_index.size(1)] = 1.\n",
    "    return link_labels\n",
    "\n",
    "\n",
    "def train():\n",
    "    model.train()\n",
    "\n",
    "    neg_edge_index = negative_sampling(\n",
    "        edge_index=data.train_pos_edge_index, #positive edges\n",
    "        num_nodes=data.num_nodes, # number of nodes\n",
    "        num_neg_samples=data.train_pos_edge_index.size(1)) # number of neg_sample equal to number of pos_edges\n",
    "\n",
    "    optimizer.zero_grad()\n",
    "    \n",
    "    z = model.encode() #encode\n",
    "    link_logits = model.decode(z, data.train_pos_edge_index, neg_edge_index) # decode\n",
    "    \n",
    "    link_labels = get_link_labels(data.train_pos_edge_index, neg_edge_index)\n",
    "    loss = F.binary_cross_entropy_with_logits(link_logits, link_labels)\n",
    "    loss.backward()\n",
    "    optimizer.step()\n",
    "\n",
    "    return loss\n",
    "\n",
    "\n",
    "@torch.no_grad()\n",
    "def test():\n",
    "    model.eval()\n",
    "    perfs = []\n",
    "    for prefix in [\"val\", \"test\"]:\n",
    "        pos_edge_index = data[f'{prefix}_pos_edge_index']\n",
    "        neg_edge_index = data[f'{prefix}_neg_edge_index']\n",
    "\n",
    "        z = model.encode() # encode train\n",
    "        link_logits = model.decode(z, pos_edge_index, neg_edge_index) # decode test or val\n",
    "        link_probs = link_logits.sigmoid() # apply sigmoid\n",
    "        \n",
    "        link_labels = get_link_labels(pos_edge_index, neg_edge_index) # get link\n",
    "        \n",
    "        perfs.append(roc_auc_score(link_labels.cpu(), link_probs.cpu())) #compute roc_auc score\n",
    "    return perfs\n"
   ]
  },
  {
   "cell_type": "markdown",
   "id": "205bf787",
   "metadata": {},
   "source": [
    "#### Training and test"
   ]
  },
  {
   "cell_type": "code",
   "execution_count": 11,
   "id": "831973b0",
   "metadata": {},
   "outputs": [
    {
     "name": "stdout",
     "output_type": "stream",
     "text": [
      "Epoch: 100, Loss: 0.4548, Val: 0.8914, Test: 0.9060\n",
      "Epoch: 200, Loss: 0.4323, Val: 0.9070, Test: 0.9133\n",
      "Epoch: 300, Loss: 0.4309, Val: 0.9113, Test: 0.9130\n",
      "Epoch: 400, Loss: 0.4204, Val: 0.9154, Test: 0.9147\n",
      "Epoch: 500, Loss: 0.4218, Val: 0.9163, Test: 0.9188\n",
      "Epoch: 600, Loss: 0.4164, Val: 0.9185, Test: 0.9258\n",
      "Epoch: 700, Loss: 0.4218, Val: 0.9195, Test: 0.9238\n",
      "Epoch: 800, Loss: 0.4159, Val: 0.9204, Test: 0.9272\n",
      "Epoch: 900, Loss: 0.4145, Val: 0.9209, Test: 0.9293\n",
      "Epoch: 1000, Loss: 0.4094, Val: 0.9213, Test: 0.9265\n",
      "Epoch: 1100, Loss: 0.4114, Val: 0.9225, Test: 0.9296\n",
      "Epoch: 1200, Loss: 0.4039, Val: 0.9225, Test: 0.9296\n",
      "Epoch: 1300, Loss: 0.4064, Val: 0.9225, Test: 0.9296\n",
      "Epoch: 1400, Loss: 0.4096, Val: 0.9225, Test: 0.9296\n",
      "Epoch: 1500, Loss: 0.4019, Val: 0.9228, Test: 0.9284\n",
      "Epoch: 1600, Loss: 0.4139, Val: 0.9237, Test: 0.9313\n",
      "Epoch: 1700, Loss: 0.3963, Val: 0.9243, Test: 0.9289\n",
      "Epoch: 1800, Loss: 0.3997, Val: 0.9248, Test: 0.9347\n",
      "Epoch: 1900, Loss: 0.4063, Val: 0.9248, Test: 0.9347\n",
      "Epoch: 2000, Loss: 0.3994, Val: 0.9248, Test: 0.9347\n"
     ]
    }
   ],
   "source": [
    "best_val_perf = test_perf = 0\n",
    "for epoch in range(1, 2001):\n",
    "    train_loss = train()\n",
    "    val_perf, tmp_test_perf = test()\n",
    "    if val_perf > best_val_perf:\n",
    "        best_val_perf = val_perf\n",
    "        test_perf = tmp_test_perf\n",
    "    log = 'Epoch: {:03d}, Loss: {:.4f}, Val: {:.4f}, Test: {:.4f}'\n",
    "    if epoch % 100 == 0:\n",
    "        print(log.format(epoch, train_loss, best_val_perf, test_perf))"
   ]
  },
  {
   "cell_type": "markdown",
   "id": "b6d1ee80",
   "metadata": {},
   "source": [
    "<div class = \"alert alert-success\">\n",
    "    We will produce the links, and from them extract the ones referred to the particular course we are trying to rebuild. \n",
    "</div>"
   ]
  },
  {
   "cell_type": "code",
   "execution_count": 12,
   "id": "d13d7691",
   "metadata": {},
   "outputs": [],
   "source": [
    "z = model.encode()\n",
    "final_edge_index_1 = model.decode_all(z)\n",
    "#Remove self loops\n",
    "bool_mask = final_edge_index_1[0] != final_edge_index_1[1]\n",
    "simulated_edges_1 = torch.empty((2,int(sum(bool_mask))))\n",
    "for item in range(final_edge_index_1.size()[0]):\n",
    "    simulated_edges_1[item] = final_edge_index_1[item][bool_mask]\n",
    "    \n"
   ]
  },
  {
   "cell_type": "code",
   "execution_count": 13,
   "id": "5b018764",
   "metadata": {},
   "outputs": [],
   "source": [
    "edges_saved_compare = list(zip(*edges_class_saved))\n",
    "edges_saved_compare = set(list(map(lambda item: (int(item[0]),int(item[1])),edges_saved_compare)))\n",
    "\n",
    "simulated_edges_compare = list(zip(*simulated_edges_1))\n",
    "simulated_edges_compare = set(list(map(lambda item: (int(item[0]),int(item[1])),simulated_edges_compare)))"
   ]
  },
  {
   "cell_type": "code",
   "execution_count": 14,
   "id": "e4b58fcf",
   "metadata": {},
   "outputs": [
    {
     "name": "stdout",
     "output_type": "stream",
     "text": [
      "The amount of links that were in the data is the 0.78 of the total\n"
     ]
    }
   ],
   "source": [
    "precision = round(len(edges_saved_compare.intersection(simulated_edges_compare))/len(edges_class_saved[0]),2)\n",
    "print(\"The amount of links that were in the data is the {} of the total\".format(precision))"
   ]
  },
  {
   "cell_type": "markdown",
   "id": "e8f2411e",
   "metadata": {},
   "source": [
    "<div class = \"alert alert-success\">\n",
    "   Compute the coincidences. To do this, we check if each of the predicted links was in the original data. \n",
    "</div>"
   ]
  },
  {
   "cell_type": "code",
   "execution_count": 15,
   "id": "6eaee101",
   "metadata": {},
   "outputs": [
    {
     "data": {
      "text/plain": [
       "1093"
      ]
     },
     "execution_count": 15,
     "metadata": {},
     "output_type": "execute_result"
    }
   ],
   "source": [
    "n_links = 0\n",
    "for item in simulated_edges_compare: \n",
    "    if item[0] in nodes_class: \n",
    "        n_links += 1\n",
    "n_links"
   ]
  },
  {
   "cell_type": "code",
   "execution_count": 16,
   "id": "1e22aeb2",
   "metadata": {},
   "outputs": [
    {
     "name": "stdout",
     "output_type": "stream",
     "text": [
      "We generated 22578 links, 1093 of them are in the cut region \n",
      "We cut a total of 385 links\n",
      "From 1093, 300 of 385 were found in the simulated links. \n"
     ]
    }
   ],
   "source": [
    "print(f\"We generated {len(simulated_edges_compare)} links, {n_links} of them are in the cut region \")\n",
    "print(f\"We cut a total of {len(edges_saved_compare)} links\")\n",
    "print(f\"From {n_links}, {int(precision*len(edges_saved_compare))} of {len(edges_saved_compare)} were found in the simulated links. \")"
   ]
  },
  {
   "cell_type": "code",
   "execution_count": 26,
   "id": "1911a14c",
   "metadata": {},
   "outputs": [
    {
     "ename": "NetworkXNotImplemented",
     "evalue": "not implemented for directed type",
     "output_type": "error",
     "traceback": [
      "\u001b[0;31m---------------------------------------------------------------------------\u001b[0m",
      "\u001b[0;31mNetworkXNotImplemented\u001b[0m                    Traceback (most recent call last)",
      "\u001b[0;32m/tmp/ipykernel_39293/464882883.py\u001b[0m in \u001b[0;36m<module>\u001b[0;34m\u001b[0m\n\u001b[0;32m----> 1\u001b[0;31m \u001b[0mpreds\u001b[0m \u001b[0;34m=\u001b[0m \u001b[0mnx\u001b[0m\u001b[0;34m.\u001b[0m\u001b[0mpreferential_attachment\u001b[0m\u001b[0;34m(\u001b[0m\u001b[0mG_positive\u001b[0m\u001b[0;34m)\u001b[0m\u001b[0;34m\u001b[0m\u001b[0;34m\u001b[0m\u001b[0m\n\u001b[0m",
      "\u001b[0;32m~/.local/lib/python3.8/site-packages/networkx/utils/decorators.py\u001b[0m in \u001b[0;36margmap_preferential_attachment_5\u001b[0;34m(G, ebunch)\u001b[0m\n\u001b[1;32m      2\u001b[0m \u001b[0;32mfrom\u001b[0m \u001b[0mos\u001b[0m\u001b[0;34m.\u001b[0m\u001b[0mpath\u001b[0m \u001b[0;32mimport\u001b[0m \u001b[0msplitext\u001b[0m\u001b[0;34m\u001b[0m\u001b[0;34m\u001b[0m\u001b[0m\n\u001b[1;32m      3\u001b[0m \u001b[0;32mfrom\u001b[0m \u001b[0mcontextlib\u001b[0m \u001b[0;32mimport\u001b[0m \u001b[0mcontextmanager\u001b[0m\u001b[0;34m\u001b[0m\u001b[0;34m\u001b[0m\u001b[0m\n\u001b[0;32m----> 4\u001b[0;31m \u001b[0;32mfrom\u001b[0m \u001b[0mpathlib\u001b[0m \u001b[0;32mimport\u001b[0m \u001b[0mPath\u001b[0m\u001b[0;34m\u001b[0m\u001b[0;34m\u001b[0m\u001b[0m\n\u001b[0m\u001b[1;32m      5\u001b[0m \u001b[0;32mimport\u001b[0m \u001b[0mwarnings\u001b[0m\u001b[0;34m\u001b[0m\u001b[0;34m\u001b[0m\u001b[0m\n\u001b[1;32m      6\u001b[0m \u001b[0;34m\u001b[0m\u001b[0m\n",
      "\u001b[0;32m~/.local/lib/python3.8/site-packages/networkx/utils/decorators.py\u001b[0m in \u001b[0;36m_not_implemented_for\u001b[0;34m(g)\u001b[0m\n\u001b[1;32m     85\u001b[0m             \u001b[0mdval\u001b[0m \u001b[0;32mis\u001b[0m \u001b[0;32mNone\u001b[0m \u001b[0;32mor\u001b[0m \u001b[0mdval\u001b[0m \u001b[0;34m==\u001b[0m \u001b[0mg\u001b[0m\u001b[0;34m.\u001b[0m\u001b[0mis_directed\u001b[0m\u001b[0;34m(\u001b[0m\u001b[0;34m)\u001b[0m\u001b[0;34m\u001b[0m\u001b[0;34m\u001b[0m\u001b[0m\n\u001b[1;32m     86\u001b[0m         ):\n\u001b[0;32m---> 87\u001b[0;31m             \u001b[0;32mraise\u001b[0m \u001b[0mnx\u001b[0m\u001b[0;34m.\u001b[0m\u001b[0mNetworkXNotImplemented\u001b[0m\u001b[0;34m(\u001b[0m\u001b[0merrmsg\u001b[0m\u001b[0;34m)\u001b[0m\u001b[0;34m\u001b[0m\u001b[0;34m\u001b[0m\u001b[0m\n\u001b[0m\u001b[1;32m     88\u001b[0m \u001b[0;34m\u001b[0m\u001b[0m\n\u001b[1;32m     89\u001b[0m         \u001b[0;32mreturn\u001b[0m \u001b[0mg\u001b[0m\u001b[0;34m\u001b[0m\u001b[0;34m\u001b[0m\u001b[0m\n",
      "\u001b[0;31mNetworkXNotImplemented\u001b[0m: not implemented for directed type"
     ]
    }
   ],
   "source": [
    "\n",
    "preds = nx.preferential_attachment(G_positive)"
   ]
  },
  {
   "cell_type": "code",
   "execution_count": 23,
   "id": "80af3174",
   "metadata": {},
   "outputs": [],
   "source": [
    "for u, v, p in preds:\n",
    "    print(f\"({u}, {v}) -> {p}\")"
   ]
  },
  {
   "cell_type": "code",
   "execution_count": 59,
   "id": "3f3e6188",
   "metadata": {},
   "outputs": [
    {
     "data": {
      "image/png": "[encoded data removed]",
      "text/plain": [
       "<Figure size 432x288 with 1 Axes>"
      ]
     },
     "metadata": {
      "needs_background": "light"
     },
     "output_type": "display_data"
    }
   ],
   "source": [
    "import matplotlib.pyplot as plt \n",
    "\n",
    "plt.hist([item[1] for item in G_positive.out_degree()],bins=25,label = \"Out\",log=True)\n",
    "plt.hist([item[1] for item in G_positive.in_degree()],bins=25,label = \"In\",log=True)\n",
    "plt.legend()\n",
    "plt.savefig(\"test.jpg\")"
   ]
  },
  {
   "cell_type": "code",
   "execution_count": 54,
   "id": "e12ab8f1",
   "metadata": {},
   "outputs": [
    {
     "data": {
      "text/plain": [
       "20"
      ]
     },
     "execution_count": 54,
     "metadata": {},
     "output_type": "execute_result"
    }
   ],
   "source": [
    "generated_links = 0\n",
    "G_positive_2 = G_positive.copy()\n",
    "while generated_links < n_links:\n",
    "    total_degree = sum([item[1] for item in G_positive.out_degree()])\n",
    "    dict_degree = dict(G_positive.out_degree())\n",
    "    rd_node = rd.choice(nodes_class)\n",
    "    if rd.uniform(0,1)<dict_degree[rd_node]/total_degree:\n",
    "        G_positive_2.add_edge(rd_node,)"
   ]
  },
  {
   "cell_type": "code",
   "execution_count": 58,
   "id": "ee6f1fbd",
   "metadata": {},
   "outputs": [
    {
     "data": {
      "text/plain": [
       "[(0, 3),\n",
       " (21, 15),\n",
       " (32, 11),\n",
       " (94, 17),\n",
       " (1, 20),\n",
       " (2, 38),\n",
       " (3, 15),\n",
       " (4, 17),\n",
       " (5, 19),\n",
       " (6, 19),\n",
       " (7, 19),\n",
       " (8, 10),\n",
       " (10, 0),\n",
       " (11, 0),\n",
       " (12, 32),\n",
       " (13, 19),\n",
       " (14, 8),\n",
       " (15, 23),\n",
       " (16, 7),\n",
       " (27, 29),\n",
       " (30, 37),\n",
       " (31, 27),\n",
       " (33, 7),\n",
       " (68, 29),\n",
       " (79, 25),\n",
       " (17, 11),\n",
       " (18, 0),\n",
       " (26, 14),\n",
       " (36, 15),\n",
       " (43, 0),\n",
       " (52, 11),\n",
       " (53, 17),\n",
       " (54, 10),\n",
       " (61, 14),\n",
       " (63, 20),\n",
       " (64, 38),\n",
       " (72, 28),\n",
       " (77, 23),\n",
       " (84, 12),\n",
       " (91, 1),\n",
       " (112, 18),\n",
       " (126, 27),\n",
       " (128, 0),\n",
       " (131, 16),\n",
       " (9, 5),\n",
       " (66, 37),\n",
       " (85, 17),\n",
       " (73, 50),\n",
       " (19, 10),\n",
       " (20, 21),\n",
       " (24, 28),\n",
       " (93, 18),\n",
       " (145, 37),\n",
       " (159, 11),\n",
       " (168, 32),\n",
       " (22, 14),\n",
       " (37, 5),\n",
       " (86, 8),\n",
       " (25, 9),\n",
       " (29, 10),\n",
       " (56, 19),\n",
       " (120, 6),\n",
       " (28, 20),\n",
       " (213, 0),\n",
       " (336, 17),\n",
       " (137, 13),\n",
       " (58, 19),\n",
       " (23, 15),\n",
       " (46, 22),\n",
       " (142, 5),\n",
       " (149, 27),\n",
       " (166, 25),\n",
       " (186, 37),\n",
       " (189, 6),\n",
       " (193, 7),\n",
       " (216, 0),\n",
       " (283, 57),\n",
       " (286, 27),\n",
       " (301, 8),\n",
       " (302, 30),\n",
       " (307, 4),\n",
       " (308, 7),\n",
       " (119, 26),\n",
       " (147, 39),\n",
       " (197, 49),\n",
       " (214, 20),\n",
       " (218, 40),\n",
       " (220, 43),\n",
       " (294, 22),\n",
       " (333, 62),\n",
       " (354, 24),\n",
       " (368, 8),\n",
       " (80, 39),\n",
       " (81, 21),\n",
       " (305, 29),\n",
       " (405, 2),\n",
       " (155, 8),\n",
       " (164, 32),\n",
       " (167, 28),\n",
       " (177, 6),\n",
       " (178, 0),\n",
       " (118, 23),\n",
       " (284, 29),\n",
       " (34, 29),\n",
       " (65, 16),\n",
       " (123, 3),\n",
       " (148, 19),\n",
       " (152, 19),\n",
       " (179, 25),\n",
       " (187, 15),\n",
       " (38, 26),\n",
       " (41, 12),\n",
       " (45, 10),\n",
       " (162, 42),\n",
       " (171, 35),\n",
       " (175, 12),\n",
       " (196, 3),\n",
       " (226, 40),\n",
       " (231, 34),\n",
       " (269, 0),\n",
       " (35, 15),\n",
       " (39, 28),\n",
       " (40, 11),\n",
       " (42, 9),\n",
       " (44, 32),\n",
       " (49, 12),\n",
       " (50, 33),\n",
       " (51, 34),\n",
       " (111, 16),\n",
       " (117, 8),\n",
       " (47, 40),\n",
       " (62, 26),\n",
       " (132, 29),\n",
       " (67, 8),\n",
       " (76, 14),\n",
       " (78, 23),\n",
       " (92, 0),\n",
       " (99, 4),\n",
       " (102, 25),\n",
       " (105, 44),\n",
       " (108, 40),\n",
       " (114, 27),\n",
       " (125, 32),\n",
       " (129, 15),\n",
       " (130, 0),\n",
       " (133, 14),\n",
       " (69, 45),\n",
       " (82, 0),\n",
       " (83, 4),\n",
       " (101, 17),\n",
       " (104, 0),\n",
       " (107, 16),\n",
       " (110, 26),\n",
       " (113, 24),\n",
       " (115, 0),\n",
       " (124, 28),\n",
       " (127, 10),\n",
       " (57, 9),\n",
       " (106, 6),\n",
       " (48, 37),\n",
       " (87, 4),\n",
       " (88, 13),\n",
       " (89, 41),\n",
       " (95, 2),\n",
       " (96, 1),\n",
       " (109, 5),\n",
       " (116, 8),\n",
       " (121, 0),\n",
       " (122, 7),\n",
       " (138, 5),\n",
       " (139, 0),\n",
       " (100, 0),\n",
       " (70, 11),\n",
       " (211, 15),\n",
       " (244, 12),\n",
       " (252, 12),\n",
       " (255, 28),\n",
       " (401, 14),\n",
       " (71, 54),\n",
       " (134, 0),\n",
       " (345, 6),\n",
       " (378, 3),\n",
       " (385, 19),\n",
       " (174, 26),\n",
       " (204, 63),\n",
       " (209, 42),\n",
       " (210, 53),\n",
       " (219, 44),\n",
       " (224, 31),\n",
       " (228, 23),\n",
       " (230, 15),\n",
       " (239, 11),\n",
       " (241, 17),\n",
       " (243, 46),\n",
       " (249, 12),\n",
       " (251, 20),\n",
       " (258, 29),\n",
       " (136, 4),\n",
       " (74, 28),\n",
       " (212, 30),\n",
       " (59, 6),\n",
       " (55, 0),\n",
       " (75, 28),\n",
       " (141, 2),\n",
       " (60, 6),\n",
       " (135, 9),\n",
       " (176, 8),\n",
       " (184, 0),\n",
       " (194, 13),\n",
       " (272, 58),\n",
       " (222, 0),\n",
       " (140, 16),\n",
       " (157, 25),\n",
       " (337, 24),\n",
       " (97, 5),\n",
       " (202, 0),\n",
       " (153, 34),\n",
       " (335, 15),\n",
       " (200, 0),\n",
       " (98, 0),\n",
       " (256, 54),\n",
       " (304, 25),\n",
       " (387, 30),\n",
       " (388, 61),\n",
       " (400, 28),\n",
       " (404, 32),\n",
       " (238, 0),\n",
       " (90, 1),\n",
       " (221, 0),\n",
       " (240, 20),\n",
       " (245, 27),\n",
       " (408, 37),\n",
       " (203, 27),\n",
       " (165, 28),\n",
       " (103, 11),\n",
       " (150, 39),\n",
       " (375, 9),\n",
       " (143, 23),\n",
       " (144, 22),\n",
       " (146, 46),\n",
       " (154, 10),\n",
       " (156, 20),\n",
       " (158, 23),\n",
       " (169, 6),\n",
       " (170, 17),\n",
       " (181, 19),\n",
       " (183, 0),\n",
       " (185, 17),\n",
       " (190, 0),\n",
       " (191, 41),\n",
       " (163, 22),\n",
       " (172, 0),\n",
       " (188, 8),\n",
       " (259, 0),\n",
       " (266, 15),\n",
       " (151, 5),\n",
       " (260, 29),\n",
       " (160, 5),\n",
       " (173, 22),\n",
       " (192, 10),\n",
       " (237, 42),\n",
       " (318, 19),\n",
       " (334, 43),\n",
       " (365, 51),\n",
       " (389, 24),\n",
       " (161, 22),\n",
       " (182, 23),\n",
       " (225, 11),\n",
       " (268, 20),\n",
       " (270, 0),\n",
       " (276, 54),\n",
       " (281, 11),\n",
       " (282, 13),\n",
       " (291, 4),\n",
       " (292, 30),\n",
       " (295, 15),\n",
       " (296, 13),\n",
       " (299, 17),\n",
       " (311, 0),\n",
       " (331, 15),\n",
       " (342, 5),\n",
       " (180, 5),\n",
       " (195, 56),\n",
       " (227, 15),\n",
       " (233, 9),\n",
       " (248, 28),\n",
       " (321, 0),\n",
       " (322, 7),\n",
       " (356, 35),\n",
       " (359, 1),\n",
       " (257, 9),\n",
       " (234, 2),\n",
       " (242, 43),\n",
       " (223, 14),\n",
       " (250, 19),\n",
       " (265, 28),\n",
       " (271, 14),\n",
       " (278, 47),\n",
       " (289, 29),\n",
       " (328, 13),\n",
       " (261, 18),\n",
       " (274, 54),\n",
       " (273, 19),\n",
       " (279, 29),\n",
       " (232, 38),\n",
       " (254, 35),\n",
       " (309, 12),\n",
       " (330, 0),\n",
       " (199, 8),\n",
       " (208, 30),\n",
       " (235, 33),\n",
       " (262, 4),\n",
       " (263, 13),\n",
       " (275, 36),\n",
       " (201, 141),\n",
       " (287, 13),\n",
       " (206, 27),\n",
       " (215, 0),\n",
       " (217, 1),\n",
       " (285, 17),\n",
       " (303, 23),\n",
       " (312, 19),\n",
       " (313, 0),\n",
       " (315, 8),\n",
       " (316, 22),\n",
       " (319, 7),\n",
       " (320, 10),\n",
       " (324, 26),\n",
       " (367, 66),\n",
       " (382, 20),\n",
       " (406, 13),\n",
       " (198, 3),\n",
       " (207, 45),\n",
       " (267, 15),\n",
       " (205, 3),\n",
       " (229, 0),\n",
       " (246, 0),\n",
       " (253, 21),\n",
       " (277, 29),\n",
       " (280, 7),\n",
       " (293, 9),\n",
       " (332, 13),\n",
       " (338, 26),\n",
       " (341, 11),\n",
       " (343, 0),\n",
       " (346, 6),\n",
       " (348, 11),\n",
       " (349, 16),\n",
       " (364, 27),\n",
       " (376, 15),\n",
       " (386, 15),\n",
       " (391, 0),\n",
       " (392, 17),\n",
       " (394, 3),\n",
       " (396, 0),\n",
       " (247, 46),\n",
       " (264, 7),\n",
       " (360, 6),\n",
       " (373, 4),\n",
       " (300, 18),\n",
       " (314, 21),\n",
       " (352, 10),\n",
       " (353, 2),\n",
       " (288, 7),\n",
       " (350, 5),\n",
       " (399, 8),\n",
       " (236, 19),\n",
       " (362, 12),\n",
       " (370, 23),\n",
       " (374, 20),\n",
       " (383, 8),\n",
       " (357, 4),\n",
       " (379, 12),\n",
       " (390, 4),\n",
       " (393, 4),\n",
       " (366, 46),\n",
       " (290, 6),\n",
       " (306, 28),\n",
       " (310, 1),\n",
       " (351, 12),\n",
       " (355, 0),\n",
       " (361, 4),\n",
       " (402, 28),\n",
       " (403, 13),\n",
       " (326, 0),\n",
       " (407, 16),\n",
       " (384, 23),\n",
       " (381, 3),\n",
       " (297, 6),\n",
       " (329, 14),\n",
       " (325, 34),\n",
       " (380, 15),\n",
       " (317, 10),\n",
       " (298, 25),\n",
       " (397, 16),\n",
       " (363, 22),\n",
       " (323, 11),\n",
       " (327, 0),\n",
       " (344, 0),\n",
       " (340, 0),\n",
       " (339, 5),\n",
       " (347, 10),\n",
       " (372, 6),\n",
       " (358, 1),\n",
       " (371, 3),\n",
       " (369, 8),\n",
       " (377, 5),\n",
       " (398, 4),\n",
       " (395, 0)]"
      ]
     },
     "execution_count": 58,
     "metadata": {},
     "output_type": "execute_result"
    }
   ],
   "source": [
    "list(G_positive.out_degree())"
   ]
  },
  {
   "cell_type": "code",
   "execution_count": null,
   "id": "eae65f61",
   "metadata": {},
   "outputs": [],
   "source": []
  }
 ],
 "metadata": {
  "kernelspec": {
   "display_name": "Python 3 (ipykernel)",
   "language": "python",
   "name": "python3"
  },
  "language_info": {
   "codemirror_mode": {
    "name": "ipython",
    "version": 3
   },
   "file_extension": ".py",
   "mimetype": "text/x-python",
   "name": "python",
   "nbconvert_exporter": "python",
   "pygments_lexer": "ipython3",
   "version": "3.8.10"
  }
 },
 "nbformat": 4,
 "nbformat_minor": 5
}
