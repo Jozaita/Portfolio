{
 "cells": [
  {
   "cell_type": "code",
   "execution_count": null,
   "metadata": {},
   "outputs": [],
   "source": []
  },
  {
   "cell_type": "code",
   "execution_count": 1,
   "metadata": {},
   "outputs": [],
   "source": [
    "import pandas as pd\n",
    "import savReaderWriter as spss\n",
    "\n",
    "raw_data = spss.SavReader('all.sav', returnHeader = True)\n",
    "raw_data_list = list(raw_data)\n",
    "data = pd.DataFrame(raw_data_list)\n",
    "\n",
    "##########\n",
    "data2=pd.read_csv(r'/home/juan/Python/Acculturation/equivalencias_egoid.csv',low_memory=False,encoding='cp1252')\n",
    "data3=pd.read_csv(r'/home/juan/Python/Acculturation/all_updated.csv',low_memory=False,encoding='cp1252')\n",
    "data4=pd.read_csv(r'/home/juan/Python/Acculturation/all_data_clean.csv',low_memory=False,encoding='cp1252')"
   ]
  },
  {
   "cell_type": "code",
   "execution_count": 3,
   "metadata": {},
   "outputs": [],
   "source": [
    "#####Limpeza###\n",
    "for col in data.columns:\n",
    "    data[col]=data[col].astype(str)\n",
    "    data[col]=data[col].replace({'b':''},regex=True)\n",
    "for i in range(3):\n",
    "    for j in range(data.shape[0]):\n",
    "        data[i][j]=data[i][j][1:(len(data[i][j])-1)]\n",
    "for i in range(3,data.shape[1]):\n",
    "        data[i][0]=data[i][0][1:(len(data[i][0])-1)]\n",
    "data.columns=data.iloc[0]\n",
    "data=data.drop([0])\n",
    "\n",
    "\n"
   ]
  },
  {
   "cell_type": "code",
   "execution_count": 24,
   "metadata": {},
   "outputs": [
    {
     "ename": "ValueError",
     "evalue": "invalid literal for int() with base 10: 'Adelaida'",
     "output_type": "error",
     "traceback": [
      "\u001b[0;31m---------------------------------------------------------------------------\u001b[0m",
      "\u001b[0;31mValueError\u001b[0m                                Traceback (most recent call last)",
      "\u001b[0;32m<ipython-input-24-410a46ab4354>\u001b[0m in \u001b[0;36m<module>\u001b[0;34m\u001b[0m\n\u001b[1;32m      1\u001b[0m \u001b[0;31m####a ver se ten xeito##\u001b[0m\u001b[0;34m\u001b[0m\u001b[0;34m\u001b[0m\u001b[0;34m\u001b[0m\u001b[0m\n\u001b[0;32m----> 2\u001b[0;31m \u001b[0mdata\u001b[0m\u001b[0;34m[\u001b[0m\u001b[0;34m'egoid'\u001b[0m\u001b[0;34m]\u001b[0m\u001b[0;34m.\u001b[0m\u001b[0mastype\u001b[0m\u001b[0;34m(\u001b[0m\u001b[0;34m'int'\u001b[0m\u001b[0;34m)\u001b[0m\u001b[0;34m.\u001b[0m\u001b[0mvalues\u001b[0m\u001b[0;34m\u001b[0m\u001b[0;34m\u001b[0m\u001b[0m\n\u001b[0m",
      "\u001b[0;32m~/anaconda3/lib/python3.7/site-packages/pandas/core/generic.py\u001b[0m in \u001b[0;36mastype\u001b[0;34m(self, dtype, copy, errors)\u001b[0m\n\u001b[1;32m   5696\u001b[0m         \u001b[0;32melse\u001b[0m\u001b[0;34m:\u001b[0m\u001b[0;34m\u001b[0m\u001b[0;34m\u001b[0m\u001b[0m\n\u001b[1;32m   5697\u001b[0m             \u001b[0;31m# else, only a single dtype is given\u001b[0m\u001b[0;34m\u001b[0m\u001b[0;34m\u001b[0m\u001b[0;34m\u001b[0m\u001b[0m\n\u001b[0;32m-> 5698\u001b[0;31m             \u001b[0mnew_data\u001b[0m \u001b[0;34m=\u001b[0m \u001b[0mself\u001b[0m\u001b[0;34m.\u001b[0m\u001b[0m_data\u001b[0m\u001b[0;34m.\u001b[0m\u001b[0mastype\u001b[0m\u001b[0;34m(\u001b[0m\u001b[0mdtype\u001b[0m\u001b[0;34m=\u001b[0m\u001b[0mdtype\u001b[0m\u001b[0;34m,\u001b[0m \u001b[0mcopy\u001b[0m\u001b[0;34m=\u001b[0m\u001b[0mcopy\u001b[0m\u001b[0;34m,\u001b[0m \u001b[0merrors\u001b[0m\u001b[0;34m=\u001b[0m\u001b[0merrors\u001b[0m\u001b[0;34m)\u001b[0m\u001b[0;34m\u001b[0m\u001b[0;34m\u001b[0m\u001b[0m\n\u001b[0m\u001b[1;32m   5699\u001b[0m             \u001b[0;32mreturn\u001b[0m \u001b[0mself\u001b[0m\u001b[0;34m.\u001b[0m\u001b[0m_constructor\u001b[0m\u001b[0;34m(\u001b[0m\u001b[0mnew_data\u001b[0m\u001b[0;34m)\u001b[0m\u001b[0;34m.\u001b[0m\u001b[0m__finalize__\u001b[0m\u001b[0;34m(\u001b[0m\u001b[0mself\u001b[0m\u001b[0;34m)\u001b[0m\u001b[0;34m\u001b[0m\u001b[0;34m\u001b[0m\u001b[0m\n\u001b[1;32m   5700\u001b[0m \u001b[0;34m\u001b[0m\u001b[0m\n",
      "\u001b[0;32m~/anaconda3/lib/python3.7/site-packages/pandas/core/internals/managers.py\u001b[0m in \u001b[0;36mastype\u001b[0;34m(self, dtype, copy, errors)\u001b[0m\n\u001b[1;32m    580\u001b[0m \u001b[0;34m\u001b[0m\u001b[0m\n\u001b[1;32m    581\u001b[0m     \u001b[0;32mdef\u001b[0m \u001b[0mastype\u001b[0m\u001b[0;34m(\u001b[0m\u001b[0mself\u001b[0m\u001b[0;34m,\u001b[0m \u001b[0mdtype\u001b[0m\u001b[0;34m,\u001b[0m \u001b[0mcopy\u001b[0m\u001b[0;34m:\u001b[0m \u001b[0mbool\u001b[0m \u001b[0;34m=\u001b[0m \u001b[0;32mFalse\u001b[0m\u001b[0;34m,\u001b[0m \u001b[0merrors\u001b[0m\u001b[0;34m:\u001b[0m \u001b[0mstr\u001b[0m \u001b[0;34m=\u001b[0m \u001b[0;34m\"raise\"\u001b[0m\u001b[0;34m)\u001b[0m\u001b[0;34m:\u001b[0m\u001b[0;34m\u001b[0m\u001b[0;34m\u001b[0m\u001b[0m\n\u001b[0;32m--> 582\u001b[0;31m         \u001b[0;32mreturn\u001b[0m \u001b[0mself\u001b[0m\u001b[0;34m.\u001b[0m\u001b[0mapply\u001b[0m\u001b[0;34m(\u001b[0m\u001b[0;34m\"astype\"\u001b[0m\u001b[0;34m,\u001b[0m \u001b[0mdtype\u001b[0m\u001b[0;34m=\u001b[0m\u001b[0mdtype\u001b[0m\u001b[0;34m,\u001b[0m \u001b[0mcopy\u001b[0m\u001b[0;34m=\u001b[0m\u001b[0mcopy\u001b[0m\u001b[0;34m,\u001b[0m \u001b[0merrors\u001b[0m\u001b[0;34m=\u001b[0m\u001b[0merrors\u001b[0m\u001b[0;34m)\u001b[0m\u001b[0;34m\u001b[0m\u001b[0;34m\u001b[0m\u001b[0m\n\u001b[0m\u001b[1;32m    583\u001b[0m \u001b[0;34m\u001b[0m\u001b[0m\n\u001b[1;32m    584\u001b[0m     \u001b[0;32mdef\u001b[0m \u001b[0mconvert\u001b[0m\u001b[0;34m(\u001b[0m\u001b[0mself\u001b[0m\u001b[0;34m,\u001b[0m \u001b[0;34m**\u001b[0m\u001b[0mkwargs\u001b[0m\u001b[0;34m)\u001b[0m\u001b[0;34m:\u001b[0m\u001b[0;34m\u001b[0m\u001b[0;34m\u001b[0m\u001b[0m\n",
      "\u001b[0;32m~/anaconda3/lib/python3.7/site-packages/pandas/core/internals/managers.py\u001b[0m in \u001b[0;36mapply\u001b[0;34m(self, f, filter, **kwargs)\u001b[0m\n\u001b[1;32m    440\u001b[0m                 \u001b[0mapplied\u001b[0m \u001b[0;34m=\u001b[0m \u001b[0mb\u001b[0m\u001b[0;34m.\u001b[0m\u001b[0mapply\u001b[0m\u001b[0;34m(\u001b[0m\u001b[0mf\u001b[0m\u001b[0;34m,\u001b[0m \u001b[0;34m**\u001b[0m\u001b[0mkwargs\u001b[0m\u001b[0;34m)\u001b[0m\u001b[0;34m\u001b[0m\u001b[0;34m\u001b[0m\u001b[0m\n\u001b[1;32m    441\u001b[0m             \u001b[0;32melse\u001b[0m\u001b[0;34m:\u001b[0m\u001b[0;34m\u001b[0m\u001b[0;34m\u001b[0m\u001b[0m\n\u001b[0;32m--> 442\u001b[0;31m                 \u001b[0mapplied\u001b[0m \u001b[0;34m=\u001b[0m \u001b[0mgetattr\u001b[0m\u001b[0;34m(\u001b[0m\u001b[0mb\u001b[0m\u001b[0;34m,\u001b[0m \u001b[0mf\u001b[0m\u001b[0;34m)\u001b[0m\u001b[0;34m(\u001b[0m\u001b[0;34m**\u001b[0m\u001b[0mkwargs\u001b[0m\u001b[0;34m)\u001b[0m\u001b[0;34m\u001b[0m\u001b[0;34m\u001b[0m\u001b[0m\n\u001b[0m\u001b[1;32m    443\u001b[0m             \u001b[0mresult_blocks\u001b[0m \u001b[0;34m=\u001b[0m \u001b[0m_extend_blocks\u001b[0m\u001b[0;34m(\u001b[0m\u001b[0mapplied\u001b[0m\u001b[0;34m,\u001b[0m \u001b[0mresult_blocks\u001b[0m\u001b[0;34m)\u001b[0m\u001b[0;34m\u001b[0m\u001b[0;34m\u001b[0m\u001b[0m\n\u001b[1;32m    444\u001b[0m \u001b[0;34m\u001b[0m\u001b[0m\n",
      "\u001b[0;32m~/anaconda3/lib/python3.7/site-packages/pandas/core/internals/blocks.py\u001b[0m in \u001b[0;36mastype\u001b[0;34m(self, dtype, copy, errors)\u001b[0m\n\u001b[1;32m    623\u001b[0m             \u001b[0mvals1d\u001b[0m \u001b[0;34m=\u001b[0m \u001b[0mvalues\u001b[0m\u001b[0;34m.\u001b[0m\u001b[0mravel\u001b[0m\u001b[0;34m(\u001b[0m\u001b[0;34m)\u001b[0m\u001b[0;34m\u001b[0m\u001b[0;34m\u001b[0m\u001b[0m\n\u001b[1;32m    624\u001b[0m             \u001b[0;32mtry\u001b[0m\u001b[0;34m:\u001b[0m\u001b[0;34m\u001b[0m\u001b[0;34m\u001b[0m\u001b[0m\n\u001b[0;32m--> 625\u001b[0;31m                 \u001b[0mvalues\u001b[0m \u001b[0;34m=\u001b[0m \u001b[0mastype_nansafe\u001b[0m\u001b[0;34m(\u001b[0m\u001b[0mvals1d\u001b[0m\u001b[0;34m,\u001b[0m \u001b[0mdtype\u001b[0m\u001b[0;34m,\u001b[0m \u001b[0mcopy\u001b[0m\u001b[0;34m=\u001b[0m\u001b[0;32mTrue\u001b[0m\u001b[0;34m)\u001b[0m\u001b[0;34m\u001b[0m\u001b[0;34m\u001b[0m\u001b[0m\n\u001b[0m\u001b[1;32m    626\u001b[0m             \u001b[0;32mexcept\u001b[0m \u001b[0;34m(\u001b[0m\u001b[0mValueError\u001b[0m\u001b[0;34m,\u001b[0m \u001b[0mTypeError\u001b[0m\u001b[0;34m)\u001b[0m\u001b[0;34m:\u001b[0m\u001b[0;34m\u001b[0m\u001b[0;34m\u001b[0m\u001b[0m\n\u001b[1;32m    627\u001b[0m                 \u001b[0;31m# e.g. astype_nansafe can fail on object-dtype of strings\u001b[0m\u001b[0;34m\u001b[0m\u001b[0;34m\u001b[0m\u001b[0;34m\u001b[0m\u001b[0m\n",
      "\u001b[0;32m~/anaconda3/lib/python3.7/site-packages/pandas/core/dtypes/cast.py\u001b[0m in \u001b[0;36mastype_nansafe\u001b[0;34m(arr, dtype, copy, skipna)\u001b[0m\n\u001b[1;32m    872\u001b[0m         \u001b[0;31m# work around NumPy brokenness, #1987\u001b[0m\u001b[0;34m\u001b[0m\u001b[0;34m\u001b[0m\u001b[0;34m\u001b[0m\u001b[0m\n\u001b[1;32m    873\u001b[0m         \u001b[0;32mif\u001b[0m \u001b[0mnp\u001b[0m\u001b[0;34m.\u001b[0m\u001b[0missubdtype\u001b[0m\u001b[0;34m(\u001b[0m\u001b[0mdtype\u001b[0m\u001b[0;34m.\u001b[0m\u001b[0mtype\u001b[0m\u001b[0;34m,\u001b[0m \u001b[0mnp\u001b[0m\u001b[0;34m.\u001b[0m\u001b[0minteger\u001b[0m\u001b[0;34m)\u001b[0m\u001b[0;34m:\u001b[0m\u001b[0;34m\u001b[0m\u001b[0;34m\u001b[0m\u001b[0m\n\u001b[0;32m--> 874\u001b[0;31m             \u001b[0;32mreturn\u001b[0m \u001b[0mlib\u001b[0m\u001b[0;34m.\u001b[0m\u001b[0mastype_intsafe\u001b[0m\u001b[0;34m(\u001b[0m\u001b[0marr\u001b[0m\u001b[0;34m.\u001b[0m\u001b[0mravel\u001b[0m\u001b[0;34m(\u001b[0m\u001b[0;34m)\u001b[0m\u001b[0;34m,\u001b[0m \u001b[0mdtype\u001b[0m\u001b[0;34m)\u001b[0m\u001b[0;34m.\u001b[0m\u001b[0mreshape\u001b[0m\u001b[0;34m(\u001b[0m\u001b[0marr\u001b[0m\u001b[0;34m.\u001b[0m\u001b[0mshape\u001b[0m\u001b[0;34m)\u001b[0m\u001b[0;34m\u001b[0m\u001b[0;34m\u001b[0m\u001b[0m\n\u001b[0m\u001b[1;32m    875\u001b[0m \u001b[0;34m\u001b[0m\u001b[0m\n\u001b[1;32m    876\u001b[0m         \u001b[0;31m# if we have a datetime/timedelta array of objects\u001b[0m\u001b[0;34m\u001b[0m\u001b[0;34m\u001b[0m\u001b[0;34m\u001b[0m\u001b[0m\n",
      "\u001b[0;32mpandas/_libs/lib.pyx\u001b[0m in \u001b[0;36mpandas._libs.lib.astype_intsafe\u001b[0;34m()\u001b[0m\n",
      "\u001b[0;31mValueError\u001b[0m: invalid literal for int() with base 10: 'Adelaida'"
     ]
    }
   ],
   "source": [
    "####a ver se ten xeito##\n",
    "data['egoid'].astype('int').values"
   ]
  },
  {
   "cell_type": "code",
   "execution_count": 22,
   "metadata": {},
   "outputs": [
    {
     "data": {
      "text/plain": [
       "array(['7022', '2023', '5003', '1053', 'Adelaida', '2043', 'Agustin',\n",
       "       '8005', '9004', '013', '4005', '050', '179', '2009', '212', '005',\n",
       "       'Aldana M', '186', 'Alejo', '201', '114', '161', '198', '088',\n",
       "       '103', 'Amparo', '185', '1025', '003', '136', '1046', '144',\n",
       "       '8010', '015', '066', '1003', '011', '004', '2002', '7003', '3013',\n",
       "       '3004', '130', '200', '3017', '215', '221', '157', 'Carla_Pe',\n",
       "       '216', '210', '107', '213', '046', '175', '191', '048', '030',\n",
       "       '2011', '150', '024', 'Carolina', '199', '093', '205', '3033',\n",
       "       '211', '014', '202', '017', '101', '089', '2028', '1044', '084',\n",
       "       '3031', '205', '137', '162', '1052', '203', '1030', '067', 'Diego',\n",
       "       '3026', '031', '035', '173', '3041', '009', '186', '3018', '4023',\n",
       "       '2010', '181', '9003', '190', '223', '2041', '070', '160', '0002',\n",
       "       '216', '2040', '165', 'Facu', '7021', '8006', 'Federico', '116',\n",
       "       'Fernando', '112', '071', '2036', '1032', '007', '106', '2007',\n",
       "       '7004', 'Gariel', '116', 'Gaston', '097', '076', '209', '189',\n",
       "       '152', '155', 'Mariel', '2027', 'Guillerm', '5026', '1010', '1028',\n",
       "       '2022', '3038', 'Hernan', '5020', '2028', '7023', '2050', '091',\n",
       "       '078', '1022', '3057', '041', '156', '4021', '1023', '214', '073',\n",
       "       '019', '187', '026', '192', '201', '082', '208', 'Jimena B', '225',\n",
       "       '065', '027', '124', '184', '204', '056', '197', '194', '038',\n",
       "       '0003', '077', '051', '8003', '064', '094', '164', '153', '029',\n",
       "       '5030', '033', 'Jose Man', '032', '099', '147', '043', '2030',\n",
       "       '037', '128', '1001', '171', '188', '3046', '002', '053', '143',\n",
       "       '135', '4002', '006', '061', 'Kofy Ri', '7026', 'Laura Le',\n",
       "       'Laura', '098', '111', '174', '167', '040', '3007', '172', '1004',\n",
       "       '149', '198', '049', '062', '7010', '141', '3011', '7008', '1051',\n",
       "       '123', '2013', '113', 'Marcos', '8008', '195', 'Maria Jo', '2046',\n",
       "       '2042', '2047', '007', '016', '028', 'Martin', '081', 'Mauro_Di',\n",
       "       '2026', '132', '115', '7012', '079', '4013', '9002', '4001',\n",
       "       '2045', '2012', '8007', '3024', '7028', '4006', '176', 'Natalia',\n",
       "       '121', '096', '103', '036', '153', '196', '020', '039', '2031',\n",
       "       '100', '180', '2039', '2038', '120', 'Patricia', '1022', '140',\n",
       "       '2008', '054', '209', '5001', '3049', '151', '052', '158', '118',\n",
       "       '085', '213', '060', '8002', '3021', '057', '104', '0002', '3006',\n",
       "       '044', '4011', '090', '023', '3023', '021', '010', '206', '168',\n",
       "       '145', '045', '022', '1', '105', '012', '3003', '074', '1003',\n",
       "       '1054', '3055', '7027', '4003', '125', '2021', '2007', 'Sandra R',\n",
       "       '2044', '5029', '5033', '220', 'Santiago', 'Santiago', '7029',\n",
       "       'Seastia', '163', '1007', '1034', '122', '159', '025', 'Stella',\n",
       "       '127', '3047', '110', '3030', '3002', '8009', 'Vicky Cu',\n",
       "       'Virginia', '167', '126', '139', '1005', '7007', '119', '154',\n",
       "       '166', '059', '098', '207', '7018', '3014', '3037', '055', '7024',\n",
       "       '3028', '1029', '1019', '1050', '5008', '7032', '1013', '1048',\n",
       "       '5032', '2005', '2006', '7006', '1038', '3036', '9003', '7031',\n",
       "       '185', '2025', '5010', '2020', '087', '068', '3052', '3005',\n",
       "       '3054', '3040', '1036', '131', '5017', '5018', '0010', '139',\n",
       "       '102', '3020', '146', '3050', '3048', '133', '2032', '5027',\n",
       "       '2001', '080', '1018', '7009', '4019', '4018', '4014', '4008',\n",
       "       '2003', '1021', '1014', '186', '1016', '3051', '5025', 'gay',\n",
       "       'gonzalo', '1047', '3022', '4015', '5007', '7015', '138', '1055',\n",
       "       '2019', '7017', '129', '7025', '4020', '5009', '1026', 'javierpi',\n",
       "       '5028', '0011', '096', '086', '2017', '058', '3002', '1049', '072',\n",
       "       '206', '042', '1037', '3016', '3021', '7005', '4017', '5012',\n",
       "       '2051', '2034', '3039', '1045', '3027', '211', '018', '2018',\n",
       "       '5011', '4016', '123', '083', '3025', '0009', '1031', '1008',\n",
       "       '3020', '113', '1010', '7030', '1020', '3056', '3012', '3032',\n",
       "       '3045', '7011', '0005', '069', '0004', '0006', '3009', '1011',\n",
       "       '047', '5022', '5031', '1024', '108', '089', '0012', '1040',\n",
       "       '5014', '5015', '7013', '5016', '8001', '7020', '2048', '2035',\n",
       "       '3029', 'norma ra', '3035', '2049', '8004', '063', '2015', '5006',\n",
       "       '4009', '109', '0007', '2016', '1039', '1035', '3053', '069',\n",
       "       '3034', '134', '3058', '4005', '5013', '7016', '5004', '7014',\n",
       "       '1041', '1027', '5005', '3015', 'F\\\\xe0tima', '148', '3008',\n",
       "       '4010', '1017', '1012', '2037', '1006', '2033', '5002', '0008',\n",
       "       '1009', '7032', '30010', '1033', '1015', '142', '2024'],\n",
       "      dtype=object)"
      ]
     },
     "execution_count": 22,
     "metadata": {},
     "output_type": "execute_result"
    }
   ],
   "source": [
    "data['egoid'].values"
   ]
  },
  {
   "cell_type": "code",
   "execution_count": 21,
   "metadata": {},
   "outputs": [
    {
     "data": {
      "text/plain": [
       "[<matplotlib.lines.Line2D at 0x7f5b02a7a590>]"
      ]
     },
     "execution_count": 21,
     "metadata": {},
     "output_type": "execute_result"
    },
    {
     "data": {
      "image/png": "[encoded data removed]",
      "text/plain": [
       "<Figure size 432x288 with 1 Axes>"
      ]
     },
     "metadata": {
      "needs_background": "light"
     },
     "output_type": "display_data"
    }
   ],
   "source": [
    "from matplotlib import pyplot as plt\n",
    "plt.plot(data['egoid'])"
   ]
  },
  {
   "cell_type": "code",
   "execution_count": 181,
   "metadata": {},
   "outputs": [],
   "source": [
    "data.fillna('',inplace=True)"
   ]
  },
  {
   "cell_type": "code",
   "execution_count": 230,
   "metadata": {},
   "outputs": [
    {
     "data": {
      "text/plain": [
       "'7022'"
      ]
     },
     "execution_count": 230,
     "metadata": {},
     "output_type": "execute_result"
    }
   ],
   "source": [
    "data[0][1]"
   ]
  },
  {
   "cell_type": "code",
   "execution_count": 237,
   "metadata": {},
   "outputs": [
    {
     "data": {
      "text/plain": [
       "array(['egoid', '7022', '2023', '5003', '1053', 'Adelaida', '2043',\n",
       "       'Agustin', '8005', '9004', '013', '4005', '050', '179', '2009',\n",
       "       '212', '005', 'Aldana M', '186', 'Alejo', '201', '114', '161',\n",
       "       '198', '088', '103', 'Amparo', '185', '1025', '003', '136', '1046',\n",
       "       '144', '8010', '015', '066', '1003', '011', '004', '2002', '7003',\n",
       "       '3013', '3004', '130', '200', '3017', '215', '221', '157',\n",
       "       'Carla_Pe', '216', '210', '107', '213', '046', '175', '191', '048',\n",
       "       '030', '2011', '150', '024', 'Carolina', '199', '093', '205',\n",
       "       '3033', '211', '014', '202', '017', '101', '089', '2028', '1044',\n",
       "       '084', '3031', '205', '137', '162', '1052', '203', '1030', '067',\n",
       "       'Diego', '3026', '031', '035', '173', '3041', '009', '186', '3018',\n",
       "       '4023', '2010', '181', '9003', '190', '223', '2041', '070', '160',\n",
       "       '0002', '216', '2040', '165', 'Facu', '7021', '8006', 'Federico',\n",
       "       '116', 'Fernando', '112', '071', '2036', '1032', '007', '106',\n",
       "       '2007', '7004', 'Gariel', '116', 'Gaston', '097', '076', '209',\n",
       "       '189', '152', '155', 'Mariel', '2027', 'Guillerm', '5026', '1010',\n",
       "       '1028', '2022', '3038', 'Hernan', '5020', '2028', '7023', '2050',\n",
       "       '091', '078', '1022', '3057', '041', '156', '4021', '1023', '214',\n",
       "       '073', '019', '187', '026', '192', '201', '082', '208', 'Jimena B',\n",
       "       '225', '065', '027', '124', '184', '204', '056', '197', '194',\n",
       "       '038', '0003', '077', '051', '8003', '064', '094', '164', '153',\n",
       "       '029', '5030', '033', 'Jose Man', '032', '099', '147', '043',\n",
       "       '2030', '037', '128', '1001', '171', '188', '3046', '002', '053',\n",
       "       '143', '135', '4002', '006', '061', 'Kofy Ri', '7026', 'Laura Le',\n",
       "       'Laura', '098', '111', '174', '167', '040', '3007', '172', '1004',\n",
       "       '149', '198', '049', '062', '7010', '141', '3011', '7008', '1051',\n",
       "       '123', '2013', '113', 'Marcos', '8008', '195', 'Maria Jo', '2046',\n",
       "       '2042', '2047', '007', '016', '028', 'Martin', '081', 'Mauro_Di',\n",
       "       '2026', '132', '115', '7012', '079', '4013', '9002', '4001',\n",
       "       '2045', '2012', '8007', '3024', '7028', '4006', '176', 'Natalia',\n",
       "       '121', '096', '103', '036', '153', '196', '020', '039', '2031',\n",
       "       '100', '180', '2039', '2038', '120', 'Patricia', '1022', '140',\n",
       "       '2008', '054', '209', '5001', '3049', '151', '052', '158', '118',\n",
       "       '085', '213', '060', '8002', '3021', '057', '104', '0002', '3006',\n",
       "       '044', '4011', '090', '023', '3023', '021', '010', '206', '168',\n",
       "       '145', '045', '022', '1', '105', '012', '3003', '074', '1003',\n",
       "       '1054', '3055', '7027', '4003', '125', '2021', '2007', 'Sandra R',\n",
       "       '2044', '5029', '5033', '220', 'Santiago', 'Santiago', '7029',\n",
       "       'Seastia', '163', '1007', '1034', '122', '159', '025', 'Stella',\n",
       "       '127', '3047', '110', '3030', '3002', '8009', 'Vicky Cu',\n",
       "       'Virginia', '167', '126', '139', '1005', '7007', '119', '154',\n",
       "       '166', '059', '098', '207', '7018', '3014', '3037', '055', '7024',\n",
       "       '3028', '1029', '1019', '1050', '5008', '7032', '1013', '1048',\n",
       "       '5032', '2005', '2006', '7006', '1038', '3036', '9003', '7031',\n",
       "       '185', '2025', '5010', '2020', '087', '068', '3052', '3005',\n",
       "       '3054', '3040', '1036', '131', '5017', '5018', '0010', '139',\n",
       "       '102', '3020', '146', '3050', '3048', '133', '2032', '5027',\n",
       "       '2001', '080', '1018', '7009', '4019', '4018', '4014', '4008',\n",
       "       '2003', '1021', '1014', '186', '1016', '3051', '5025', 'gay',\n",
       "       'gonzalo', '1047', '3022', '4015', '5007', '7015', '138', '1055',\n",
       "       '2019', '7017', '129', '7025', '4020', '5009', '1026', 'javierpi',\n",
       "       '5028', '0011', '096', '086', '2017', '058', '3002', '1049', '072',\n",
       "       '206', '042', '1037', '3016', '3021', '7005', '4017', '5012',\n",
       "       '2051', '2034', '3039', '1045', '3027', '211', '018', '2018',\n",
       "       '5011', '4016', '123', '083', '3025', '0009', '1031', '1008',\n",
       "       '3020', '113', '1010', '7030', '1020', '3056', '3012', '3032',\n",
       "       '3045', '7011', '0005', '069', '0004', '0006', '3009', '1011',\n",
       "       '047', '5022', '5031', '1024', '108', '089', '0012', '1040',\n",
       "       '5014', '5015', '7013', '5016', '8001', '7020', '2048', '2035',\n",
       "       '3029', 'norma ra', '3035', '2049', '8004', '063', '2015', '5006',\n",
       "       '4009', '109', '0007', '2016', '1039', '1035', '3053', '069',\n",
       "       '3034', '134', '3058', '4005', '5013', '7016', '5004', '7014',\n",
       "       '1041', '1027', '5005', '3015', 'F\\\\xe0tima', '148', '3008',\n",
       "       '4010', '1017', '1012', '2037', '1006', '2033', '5002', '0008',\n",
       "       '1009', '7032', '30010', '1033', '1015', '142', '2024'],\n",
       "      dtype=object)"
      ]
     },
     "execution_count": 237,
     "metadata": {},
     "output_type": "execute_result"
    }
   ],
   "source": [
    "data[0].values"
   ]
  },
  {
   "cell_type": "code",
   "execution_count": null,
   "metadata": {},
   "outputs": [],
   "source": []
  }
 ],
 "metadata": {
  "kernelspec": {
   "display_name": "Python 3",
   "language": "python",
   "name": "python3"
  },
  "language_info": {
   "codemirror_mode": {
    "name": "ipython",
    "version": 3
   },
   "file_extension": ".py",
   "mimetype": "text/x-python",
   "name": "python",
   "nbconvert_exporter": "python",
   "pygments_lexer": "ipython3",
   "version": "3.7.6"
  }
 },
 "nbformat": 4,
 "nbformat_minor": 4
}
