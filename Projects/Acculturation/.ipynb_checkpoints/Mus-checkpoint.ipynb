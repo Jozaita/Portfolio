{
 "cells": [
  {
   "cell_type": "code",
   "execution_count": 3,
   "metadata": {
    "collapsed": true
   },
   "outputs": [],
   "source": [
    "### Análise para a extracción das mus\n",
    "import pandas as pd\n",
    "from methods import *\n",
    "from scipy.stats import pearsonr, spearmanr\n",
    "import seaborn as sns\n",
    "import matplotlib.pyplot as plt\n",
    "import numpy as np\n",
    "import warnings\n",
    "warnings.filterwarnings('error')\n",
    "\n",
    "df=pd.read_csv(r'/home/jozaita/all_data_clean.csv',low_memory=False)\n",
    "del df['Unnamed: 0']\n",
    "\n",
    "\n",
    "#lista=[]\n",
    "#for i in range(0,len(df_traballo)):\n",
    "#    if (type(df_traballo['Clos'][i])==str):\n",
    "#        lista.append(i)\n",
    "#df_traballo.drop(lista,inplace=True) \n",
    "#\n",
    "#df_traballo.sample(10)\n"
   ]
  },
  {
   "cell_type": "code",
   "execution_count": null,
   "metadata": {
    "collapsed": true
   },
   "outputs": [],
   "source": [
    "df_traballo['Clos'].unique()\n",
    "#df_traballo['Clos'].where(df_traballo['Clos']=='Once a month')"
   ]
  },
  {
   "cell_type": "code",
   "execution_count": null,
   "metadata": {
    "collapsed": true
   },
   "outputs": [],
   "source": [
    "df_traballo=df_traballo.groupby(['egoID','Clos']).size()\n",
    "df_traballo2=df_traballo.reset_index().copy()\n"
   ]
  },
  {
   "cell_type": "code",
   "execution_count": null,
   "metadata": {
    "collapsed": true
   },
   "outputs": [],
   "source": [
    "suj=df_traballo2['egoID'].unique()\n",
    "vect=[[0]*5 for i in range(len(suj))]\n",
    "j=0\n",
    "for i in range(0,len(df_traballo2)-1):\n",
    "    #print(df_traballo2['egoID'])\n",
    "    vect[j][df_traballo2['Clos'][i]-1]=df_traballo2[0][i]\n",
    "    if (df_traballo2['egoID'][i]!=df_traballo2['egoID'][i+1]):\n",
    "        j=j+1\n",
    "vect2=list(zip(suj,vect))\n"
   ]
  },
  {
   "cell_type": "code",
   "execution_count": null,
   "metadata": {
    "collapsed": true
   },
   "outputs": [],
   "source": [
    "###Borrar ó señor que ten tódolos seus contactos no mesmo círculo \n",
    "del vect2[140]\n"
   ]
  },
  {
   "cell_type": "code",
   "execution_count": null,
   "metadata": {
    "collapsed": true
   },
   "outputs": [],
   "source": [
    "\n",
    "df_traballo3=pd.DataFrame(vect2,columns=['Subject','Vect'])\n",
    "df_traballo3['Fitted']=df_traballo3['Vect'].apply(lambda x: Individual(x).fit_model())\n",
    "df_traballo3[['Mu','Mu-','Mu+']] = pd.DataFrame(df_traballo3.Fitted.values.tolist(), index= df_traballo3.index)\n",
    "df_traballo3['is_inverted'] = (df_traballo3['Mu-'] < 0) & (df_traballo3['Mu+'] < 0)\n",
    "df_traballo3['is_standard'] = (df_traballo3['Mu-'] > 0) & (df_traballo3['Mu+'] > 0)\n",
    "\n"
   ]
  },
  {
   "cell_type": "code",
   "execution_count": null,
   "metadata": {
    "collapsed": true
   },
   "outputs": [],
   "source": [
    "#df_traballo3=pd.DataFrame(vect2,columns=['Subject','Vect'])\n",
    "#fitted=[0]*len(df_traballo3)\n",
    "#for i in range(141,len(df_traballo3)):\n",
    "#    fitted[i]=Individual(df_traballo3['Vect'][i]).fit_model()\n",
    "    \n",
    "#df_traballo3[['Mu','Mu-','Mu+']] = pd.DataFrame(df_traballo3.Fitted.values.tolist(), index= df_traballo3.index)\n",
    "#df_traballo3['is_inverted'] = (df_traballo3['Mu-'] < 0) & (df_traballo3['Mu+'] < 0)\n",
    "#df_traballo3['is_standard'] = (df_traballo3['Mu-'] > 0) & (df_traballo3['Mu+'] > 0)"
   ]
  },
  {
   "cell_type": "code",
   "execution_count": null,
   "metadata": {
    "collapsed": true
   },
   "outputs": [],
   "source": [
    "\n",
    "lista1=[0]*len(df_traballo3)\n",
    "lista2=[0]*len(df_traballo3)\n",
    "\n",
    "for i in range(0,len(df_traballo3)):\n",
    "    if ('SP' in df_traballo3['Subject'][i]):\n",
    "        lista1[i]='Spain'\n",
    "    elif ('USA' in df_traballo3['Subject'][i]):\n",
    "        lista1[i]='USA'\n",
    "\n",
    "trad3={'AR':'Argentina',\n",
    "       'GU':'Equatorial Guinea',\n",
    "       'MA':'Morocco',\n",
    "       'DO':'Dominican Republic.USA',\n",
    "       'RE':'Dominican Republic.Spain',\n",
    "       'SE':'Senegal',\n",
    "       'CO':'Colombia',\n",
    "       'CU':'Cuba',\n",
    "       'HA':'Haiti',\n",
    "       'ME':'Mexico',\n",
    "       'PU':'Puerto Rico'\n",
    "}       \n",
    "\n",
    "for i in range(0,len(df_traballo3)):\n",
    "    for j in list(trad3.keys()):\n",
    "        if (j in df_traballo3['Subject'][i]): \n",
    "            lista2[i]=trad3.get(j)\n",
    "            break\n",
    "df_traballo3[['Mu','Mu-','Mu+']] = pd.DataFrame(df_traballo3.Fitted.values.tolist(), index= df_traballo3.index)\n",
    "df_traballo3['Current']=lista1\n",
    "df_traballo3['Origin']=lista2\n",
    "df_traballo3.to_csv('Aculturation.csv')"
   ]
  },
  {
   "cell_type": "code",
   "execution_count": null,
   "metadata": {
    "collapsed": true
   },
   "outputs": [],
   "source": [
    "list_countries=[]\n",
    "mean=[]\n",
    "std=[]\n",
    "for i in range(0,len(df_traballo3.groupby(['Origin']).size())):\n",
    "    if (df_traballo3.groupby(['Origin']).size()[i]>15):\n",
    "       list_countries.append(df_traballo3.groupby(['Origin']).size().index[i])\n",
    "for i in list_countries:\n",
    "    mean.append(df_traballo3['Mu'][df_traballo3['Origin']==i].mean())\n",
    "    std.append(df_traballo3['Mu'][df_traballo3['Origin']==i].std())\n",
    "        \n",
    "use=[0]*len(df_traballo3)\n",
    "for i in range(len(df_traballo3)):\n",
    "    if (df_traballo3['Origin'][i] in list_countries):\n",
    "        j=list_countries.index(df_traballo3['Origin'][i])\n",
    "        if (abs(df_traballo3['Mu'][i]-mean[j])<2*std[j]):\n",
    "            use[i]='Si'\n",
    "        else: use[i]='No'\n",
    "    else: use[i]='No'        \n",
    "df_traballo3[['Use']] = pd.DataFrame(use, index= df_traballo3.index)\n",
    "\n",
    "\n",
    "for i in list_countries:\n",
    "    fig=plt.figure(figsize=(10,8))\n",
    "    ax = plt.gca()\n",
    "    ax.set_xlabel(r'$\\mu$',fontsize=16)\n",
    "    ax.set_ylabel(r'$p(\\mu)$',fontsize=16)\n",
    "    plt.hist(df_traballo3['Mu'][df_traballo3['Origin']==i][df_traballo3['Use']=='Si'],bins=15)\n",
    "    plt.title(str(i),fontsize=20)\n",
    "    ax.text(0.1, 0.9, 'mean:'+'{:4f}'.format((df_traballo3['Mu'][df_traballo3['Origin']==i][df_traballo3['Use']=='Si'].mean())),\n",
    "            horizontalalignment='left',verticalalignment='top',transform=ax.transAxes,fontsize=16)\n",
    "    ax.text(0.1, 0.86, 'std:'+'{:4f}'.format((df_traballo3['Mu'][df_traballo3['Origin']==i][df_traballo3['Use']=='Si'].std())),\n",
    "            horizontalalignment='left',verticalalignment='top',transform=ax.transAxes,fontsize=16)\n",
    "    ax.text(0.1, 0.82, 'sample:'+'{:d}'.format((df_traballo3['Mu'][df_traballo3['Origin']==i][df_traballo3['Use']=='Si'].count())),\n",
    "            horizontalalignment='left',verticalalignment='top',transform=ax.transAxes,fontsize=16)    \n",
    "    \n",
    "    #plt.text(0.9,0.1, 'mean:'+str(df_traballo3['Mu'][df_traballo3['Origin']==i].mean()), fontsize=12)\n",
    "    #plt.text(0.1,0.9, 'std:'+str(df_traballo3['Mu'][df_traballo3['Origin']==i].std()), fontsize=12)\n",
    "    fig.savefig('Histograma,'+str(i)+'.jpg')\n",
    "    plt.close()"
   ]
  },
  {
   "cell_type": "code",
   "execution_count": null,
   "metadata": {
    "collapsed": true
   },
   "outputs": [],
   "source": [
    "##Cousas para cada país, facer dataframe empregando a lista de países con media e std pra detectar outliers. \n"
   ]
  },
  {
   "cell_type": "code",
   "execution_count": null,
   "metadata": {
    "collapsed": true
   },
   "outputs": [],
   "source": [
    "i,len(df_traballo3),j,len(mean)"
   ]
  },
  {
   "cell_type": "code",
   "execution_count": null,
   "metadata": {
    "collapsed": true
   },
   "outputs": [],
   "source": [
    "df_traballo3"
   ]
  },
  {
   "cell_type": "markdown",
   "metadata": {},
   "source": [
    "###### use"
   ]
  },
  {
   "cell_type": "code",
   "execution_count": null,
   "metadata": {
    "collapsed": true
   },
   "outputs": [],
   "source": [
    "list(df_traballo3.groupby(['Origin']))"
   ]
  },
  {
   "cell_type": "code",
   "execution_count": null,
   "metadata": {
    "collapsed": true
   },
   "outputs": [],
   "source": [
    "list_countries.index('Morocco')"
   ]
  },
  {
   "cell_type": "code",
   "execution_count": null,
   "metadata": {
    "collapsed": true
   },
   "outputs": [],
   "source": [
    "k=0\n",
    "for i in range(1,len(df)):\n",
    "    if (df['ego/num'][i]!=df['ego/num'][i-1]):\n",
    "        k=k+1\n",
    "sujetos=k\n",
    "origins=contactos['sub/origin'].unique()\n",
    "for i in origins:\n",
    "    nummax=max(contactos[contactos['sub/origin']==i]['sub/num'])\n"
   ]
  },
  {
   "cell_type": "code",
   "execution_count": 30,
   "metadata": {
    "collapsed": true
   },
   "outputs": [],
   "source": [
    "data=df['Clos'][(df['ego/origin']=='co')&(df['ego/num']==1)].value_counts()"
   ]
  },
  {
   "cell_type": "code",
   "execution_count": 35,
   "metadata": {
    "collapsed": true
   },
   "outputs": [],
   "source": [
    "a=data"
   ]
  },
  {
   "cell_type": "code",
   "execution_count": 38,
   "metadata": {},
   "outputs": [
    {
     "data": {
      "text/plain": [
       "23"
      ]
     },
     "execution_count": 38,
     "metadata": {},
     "output_type": "execute_result"
    }
   ],
   "source": [
    "a[2]"
   ]
  },
  {
   "cell_type": "code",
   "execution_count": null,
   "metadata": {
    "collapsed": true
   },
   "outputs": [],
   "source": []
  }
 ],
 "metadata": {
  "kernelspec": {
   "display_name": "Python 3",
   "language": "python",
   "name": "python3"
  },
  "language_info": {
   "codemirror_mode": {
    "name": "ipython",
    "version": 3
   },
   "file_extension": ".py",
   "mimetype": "text/x-python",
   "name": "python",
   "nbconvert_exporter": "python",
   "pygments_lexer": "ipython3",
   "version": "3.7.6"
  }
 },
 "nbformat": 4,
 "nbformat_minor": 2
}
