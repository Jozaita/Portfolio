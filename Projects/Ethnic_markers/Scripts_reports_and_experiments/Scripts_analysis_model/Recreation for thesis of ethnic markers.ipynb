{
 "cells": [
  {
   "cell_type": "code",
   "execution_count": 1,
   "id": "333cb101",
   "metadata": {},
   "outputs": [],
   "source": [
    "import numpy as np\n",
    "import random as rd\n",
    "import time\n",
    "import matplotlib.pyplot as plt"
   ]
  },
  {
   "cell_type": "code",
   "execution_count": 2,
   "id": "c5ebb9e3",
   "metadata": {},
   "outputs": [],
   "source": [
    "def initialize():\n",
    "    agents = range(n_agents)\n",
    "    markers = np.random.choice([0, 1], size=(n_agents,), p=[1./2, 1./2])\n",
    "    prob_vector = np.array([np.array([rd.uniform(0,1),rd.uniform(0,1)]) for _ in range(n_agents)])\n",
    "    #prob_vector = np.random.uniform(size=n_agents)\n",
    "    aspiration = np.array([aspiration_value for _ in range(n_agents)])\n",
    "    return [agents,markers,prob_vector,aspiration]"
   ]
  },
  {
   "cell_type": "code",
   "execution_count": 3,
   "id": "2542edda",
   "metadata": {},
   "outputs": [],
   "source": [
    "def select_couple(information):\n",
    "    if rd.uniform(0,1) > e:\n",
    "        couple = np.random.choice(information[0],replace=False,size=2)\n",
    "    else:\n",
    "        selected_marker = rd.randint(0,1)\n",
    "        \n",
    "        same_marker = [i for i,item in enumerate(information[1]) if item == selected_marker]\n",
    "\n",
    "        couple = np.random.choice(same_marker,size=(2,),replace=False)\n",
    "    return couple"
   ]
  },
  {
   "cell_type": "code",
   "execution_count": 4,
   "id": "d724820d",
   "metadata": {},
   "outputs": [],
   "source": [
    "def interact(information,couple):\n",
    "    couple_markers = [information[1][ag] for ag in couple[::-1]]\n",
    "    actions = [int(information[2][ag][couple_markers[i]] < rd.uniform(0,1)) for i,ag in enumerate(couple)]\n",
    "    delta = reward if all(actions) or not(any(actions)) else 0\n",
    "    stimulus = [((1+delta+i/2)-information[3][ag])/np.max([abs(information[3][ag] - (1+delta+i/2)) for delta in (0,0.5)])\n",
    "                for i,ag in enumerate(couple)]\n",
    "    #Generate Stimulus, update prob_vector\n",
    "    \n",
    "    for i,stim in enumerate(stimulus): \n",
    "        if stim > 0 :\n",
    "            if actions[i] == 0:\n",
    "                information[2][couple[i]][couple_markers[i]] +=(1-information[2][couple[i]][couple_markers[i]])*l*stim\n",
    "            else:\n",
    "                information[2][couple[i]][couple_markers[i]] *= (1-l*stim)\n",
    "        elif stim < 0:\n",
    "            if actions[i] == 0:\n",
    "                information[2][couple[i]][couple_markers[i]] += information[2][couple[i]][couple_markers[i]]*l*stim\n",
    "            else:\n",
    "                information[2][couple[i]][couple_markers[i]] -= (1-information[2][couple[i]][couple_markers[i]])*l*stim\n",
    "                \n",
    "            \n"
   ]
  },
  {
   "cell_type": "code",
   "execution_count": 2,
   "id": "590e78cd",
   "metadata": {},
   "outputs": [
    {
     "data": {
      "text/plain": [
       "array([2., 2., 2.])"
      ]
     },
     "execution_count": 2,
     "metadata": {},
     "output_type": "execute_result"
    }
   ],
   "source": [
    "3 - np.ones(3)"
   ]
  },
  {
   "cell_type": "code",
   "execution_count": 5,
   "id": "61e69d9b",
   "metadata": {},
   "outputs": [],
   "source": [
    "def save(aspiration_value):\n",
    "    os.chdir(\"Animation_\"+str(aspiration_value))\n",
    "    #os.system(\"ffmpeg -i img%01d.png -framerate 60  -vcodec libx264 -b 800k  -y movie.mp4\")\n",
    "    os.system(\"ffmpeg -f image2 -i img%01d.jpg -vcodec mpeg4 -b 800k video.avi\")\n",
    "    os.chdir(\"..\")"
   ]
  },
  {
   "cell_type": "code",
   "execution_count": 6,
   "id": "49baf7a4",
   "metadata": {},
   "outputs": [],
   "source": [
    "from IPython.display import clear_output\n",
    "from matplotlib.ticker import FormatStrFormatter\n",
    "import os \n",
    "\n",
    "\n",
    "def plot_heatmap(prob_vector):\n",
    "    same_marker = [item[information[1][i]] for i,item in enumerate(information[2])]\n",
    "    diff_marker = [item[abs(1-information[1][i])] for i,item in enumerate(information[2])]\n",
    "    corr_coef = np.corrcoef(same_marker,information[1])[0,1]\n",
    "    hist_2d = np.histogram2d(same_marker,diff_marker,bins=20,range=[[0,1],[0,1]])[0]\n",
    "    fig = plt.figure(figsize=(8,8))\n",
    "    ax = fig.add_axes([0,0,1,1])\n",
    "    ax.set_xlabel(r\"$p_{0,\\neq}$\",fontsize=35)\n",
    "    ax.set_ylabel(r\"$p_{0,=}$\",fontsize=35)\n",
    "    ax.set_yticks(np.arange(0,20,4))\n",
    "    ax.set_yticklabels([\"{:.2f}\".format(item) for item in np.arange(1,0,-0.2)],fontsize=18)\n",
    "    ax.set_xticks(np.arange(0,20,4))\n",
    "    ax.set_xticklabels([\"{:.2f}\".format(item) for item in np.arange(1,0,-0.2)],fontsize=18)\n",
    "    #ax.text(1, 0.5, str(\"Corr =: {:.2f}\".format(corr_coef)),size=35,\n",
    "    #bbox=dict(boxstyle=\"round,pad=0.1\", fc=\"white\", lw=2), transform=plt.gcf().transFigure)\n",
    "    #ax.text(1, 0.35, str(r\"$\\sigma,=$: {:.2f}\".format(np.std(same_marker))),size=35,\n",
    "    #bbox=dict(boxstyle=\"round,pad=0.1\", fc=\"white\", lw=2), transform=plt.gcf().transFigure)\n",
    "    #ax.text(1, 0.2, str(r\"$\\sigma,\\neq$: {:.2f}\".format(np.std(diff_marker))),size=35,\n",
    "    #bbox=dict(boxstyle=\"round,pad=0.1\", fc=\"white\", lw=2), transform=plt.gcf().transFigure)\n",
    "    plt.imshow(hist_2d,norm=mynorm,cmap=\"Reds\")\n",
    "    #plt.show()\n",
    "    if \"Animation_\"+str(aspiration_value) not in os.listdir():\n",
    "        os.mkdir(\"Animation_\"+str(aspiration_value))\n",
    "    os.chdir(\"Animation_\"+str(aspiration_value))\n",
    "    plt.savefig(\"img{}.jpg\".format(_//int(n_steps/n_frames)),bbox_inches=\"tight\")\n",
    "    os.chdir(\"..\")\n",
    "    plt.close(fig)\n",
    "    clear_output(wait=True)\n",
    "    return "
   ]
  },
  {
   "cell_type": "code",
   "execution_count": 10,
   "id": "e4d2c30d",
   "metadata": {},
   "outputs": [],
   "source": [
    "#[prob of choosing 0, aspiration]\n",
    "#Constant aspiration\n",
    "\n",
    "\n",
    "e = 0\n",
    "l = 0.5\n",
    "n_agents = 500\n",
    "n_steps = int(n_agents/2*200)\n",
    "n_frames = 400\n",
    "aspiration_value = 0.8\n",
    "reward = 0.5\n",
    "mynorm = plt.matplotlib.colors.LogNorm(vmin=0, vmax=n_agents,clip=True)"
   ]
  },
  {
   "cell_type": "code",
   "execution_count": 8,
   "id": "ef871459",
   "metadata": {},
   "outputs": [],
   "source": [
    "information = initialize()\n",
    "start = time.perf_counter()\n",
    "for _ in range(n_steps):\n",
    "    #Select a random couple\n",
    "    couple = select_couple(information)\n",
    "    #A random couple interacts, select decisions\n",
    "    interact(information,couple)\n",
    "    #Checking\n",
    "    if (_%int(n_steps/n_frames) == 0):\n",
    "        #print(f\"{_/n_steps*100:.2f} % reached, elapsed_time: {time.perf_counter()-start:.2f}\")\n",
    "        plot_heatmap(information[2])"
   ]
  },
  {
   "cell_type": "code",
   "execution_count": 11,
   "id": "ad179642",
   "metadata": {},
   "outputs": [
    {
     "name": "stderr",
     "output_type": "stream",
     "text": [
      "ffmpeg version 4.2.7-0ubuntu0.1 Copyright (c) 2000-2022 the FFmpeg developers\n",
      "  built with gcc 9 (Ubuntu 9.4.0-1ubuntu1~20.04.1)\n",
      "  configuration: --prefix=/usr --extra-version=0ubuntu0.1 --toolchain=hardened --libdir=/usr/lib/x86_64-linux-gnu --incdir=/usr/include/x86_64-linux-gnu --arch=amd64 --enable-gpl --disable-stripping --enable-avresample --disable-filter=resample --enable-avisynth --enable-gnutls --enable-ladspa --enable-libaom --enable-libass --enable-libbluray --enable-libbs2b --enable-libcaca --enable-libcdio --enable-libcodec2 --enable-libflite --enable-libfontconfig --enable-libfreetype --enable-libfribidi --enable-libgme --enable-libgsm --enable-libjack --enable-libmp3lame --enable-libmysofa --enable-libopenjpeg --enable-libopenmpt --enable-libopus --enable-libpulse --enable-librsvg --enable-librubberband --enable-libshine --enable-libsnappy --enable-libsoxr --enable-libspeex --enable-libssh --enable-libtheora --enable-libtwolame --enable-libvidstab --enable-libvorbis --enable-libvpx --enable-libwavpack --enable-libwebp --enable-libx265 --enable-libxml2 --enable-libxvid --enable-libzmq --enable-libzvbi --enable-lv2 --enable-omx --enable-openal --enable-opencl --enable-opengl --enable-sdl2 --enable-libdc1394 --enable-libdrm --enable-libiec61883 --enable-nvenc --enable-chromaprint --enable-frei0r --enable-libx264 --enable-shared\n",
      "  libavutil      56. 31.100 / 56. 31.100\n",
      "  libavcodec     58. 54.100 / 58. 54.100\n",
      "  libavformat    58. 29.100 / 58. 29.100\n",
      "  libavdevice    58.  8.100 / 58.  8.100\n",
      "  libavfilter     7. 57.100 /  7. 57.100\n",
      "  libavresample   4.  0.  0 /  4.  0.  0\n",
      "  libswscale      5.  5.100 /  5.  5.100\n",
      "  libswresample   3.  5.100 /  3.  5.100\n",
      "  libpostproc    55.  5.100 / 55.  5.100\n",
      "Input #0, image2, from 'img%01d.jpg':\n",
      "  Duration: 00:00:16.04, start: 0.000000, bitrate: N/A\n",
      "    Stream #0:0: Video: mjpeg (Baseline), yuvj420p(pc, bt470bg/unknown/unknown), 675x653 [SAR 72:72 DAR 675:653], 25 fps, 25 tbr, 25 tbn, 25 tbc\n",
      "Please use -b:a or -b:v, -b is ambiguous\n",
      "Stream mapping:\n",
      "  Stream #0:0 -> #0:0 (mjpeg (native) -> mpeg4 (native))\n",
      "Press [q] to stop, [?] for help\n",
      "[swscaler @ 0x55569c51a5c0] deprecated pixel format used, make sure you did set range correctly\n",
      "Output #0, avi, to 'video.avi':\n",
      "  Metadata:\n",
      "    ISFT            : Lavf58.29.100\n",
      "    Stream #0:0: Video: mpeg4 (FMP4 / 0x34504D46), yuv420p, 675x653 [SAR 1:1 DAR 675:653], q=2-31, 800 kb/s, 25 fps, 25 tbn, 25 tbc\n",
      "    Metadata:\n",
      "      encoder         : Lavc58.54.100 mpeg4\n",
      "    Side data:\n",
      "      cpb: bitrate max/min/avg: 0/0/800000 buffer size: 0 vbv_delay: -1\n",
      "frame=  401 fps=0.0 q=2.0 Lsize=    1290kB time=00:00:16.04 bitrate= 658.9kbits/s speed=19.4x    \n",
      "video:1275kB audio:0kB subtitle:0kB other streams:0kB global headers:0kB muxing overhead: 1.188132%\n"
     ]
    }
   ],
   "source": [
    "save(aspiration_value)"
   ]
  },
  {
   "cell_type": "code",
   "execution_count": null,
   "id": "4ec2325d",
   "metadata": {},
   "outputs": [],
   "source": []
  }
 ],
 "metadata": {
  "kernelspec": {
   "display_name": "Python 3 (ipykernel)",
   "language": "python",
   "name": "python3"
  },
  "language_info": {
   "codemirror_mode": {
    "name": "ipython",
    "version": 3
   },
   "file_extension": ".py",
   "mimetype": "text/x-python",
   "name": "python",
   "nbconvert_exporter": "python",
   "pygments_lexer": "ipython3",
   "version": "3.8.10"
  }
 },
 "nbformat": 4,
 "nbformat_minor": 5
}
