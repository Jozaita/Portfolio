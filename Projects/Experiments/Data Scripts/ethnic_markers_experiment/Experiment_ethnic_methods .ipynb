{
 "cells": [
  {
   "cell_type": "code",
   "execution_count": 6,
   "metadata": {},
   "outputs": [],
   "source": [
    "import numpy as np\n",
    "import pandas as pd\n",
    "import matplotlib.pyplot as plt\n",
    "import seaborn as sns\n"
   ]
  },
  {
   "cell_type": "code",
   "execution_count": 7,
   "metadata": {},
   "outputs": [],
   "source": [
    "##Completar datos e introducir os tres csvs. \n",
    "## Previo a todo isto , hai que desaleatorizar nos participants. \n",
    "df_1 = pd.read_csv('ethnic_markers_acabado.csv')\n",
    "df_2 = pd.read_csv('norm_compliance_acabado.csv')\n",
    "participants = pd.read_csv('Participants.csv')\n",
    "rounds_1 = int(max(df_1['subsession.round_number'].unique()))\n",
    "rounds_2 = int(max(df_2['subsession.round_number'].unique()))\n",
    "num_participants = int(max(df_1['participant.id_in_session']))\n",
    "#####################"
   ]
  },
  {
   "cell_type": "code",
   "execution_count": 8,
   "metadata": {},
   "outputs": [],
   "source": [
    "#####Comments\n",
    "#-Temos que mirar que hacer co participant.code, co participant.id_in_session e co player.id_in_group\n",
    "\n",
    "#####\n",
    "def dar_xeito(df_1,df_2,participants,rounds_1,num_participants):\n",
    "    ### Primeiro, temos que desbotar ós que quedaron inactivos \n",
    "    inactives = df_1['participant.id_in_session'][df_1['player.absence']>=4].unique()\n",
    "    num_participants -= len(inactives)\n",
    "    for inactive in inactives: \n",
    "            df_1.drop(df_1[df_1['participant.id_in_session'] == inactive].index,inplace = True)\n",
    "            df_2.drop(df_2[df_2['participant.id_in_session'] == inactive].index,inplace = True)\n",
    "            participants.drop(participants[participants['Player'] == inactive].index,inplace = True)\n",
    "    ###\n",
    "    df_1_cols = df_1.columns\n",
    "    col_1_interest = ['participant.code','participant.id_in_session','subsession.round_number']\n",
    "    for col in df_1_cols:\n",
    "        if 'player' in col:\n",
    "            col_1_interest.append(col)\n",
    "    df_2_cols =df_2.columns\n",
    "    col_2_interest = ['participant.code','participant.id_in_session','subsession.round_number']\n",
    "    for col in df_2_cols:\n",
    "        if 'player' in col:\n",
    "            col_2_interest.append(col)\n",
    "    df_1 = df_1[col_1_interest]\n",
    "    df_1 = df_1.iloc[:num_participants*rounds_1]\n",
    "    df_2 = df_2[col_2_interest]\n",
    "    df_2 = df_2.iloc[:num_participants*rounds_2]\n",
    "    df_2.fillna(-1,inplace=True)\n",
    "    participants['Paypal'] = list(df_2['player.paypal'].iloc[len(df_2)-num_participants:])\n",
    "    participants['Bias'] = list(df_1['player.bias'].iloc[len(df_1)-num_participants:])\n",
    "    participants['Bias_payoff'] = list(df_1['player.bias_payoff'].iloc[len(df_1)-num_participants:])\n",
    "    participants['Marker'] = list(df_1['player.marker'].iloc[len(df_1)-num_participants:])\n",
    "    participants['Comments'] = list(df_2['player.comments'].iloc[len(df_2)-num_participants:])\n",
    "    del df_1['player.bias']\n",
    "    del df_1['player.bias_payoff']\n",
    "    del df_1['player.marker']\n",
    "    del df_2['player.paypal']\n",
    "    del df_2['player.payoff']\n",
    "    del df_2['player.comments']\n",
    "    \n",
    "    df_1.columns = [col.split('.')[-1] for col in df_1.columns]\n",
    "    df_2.columns = [col.split('.')[-1] for col in df_2.columns]\n",
    "    ########\n",
    "    players_info = [[0 for i in range(3)] for j in range(num_participants)]\n",
    "\n",
    "    for i,j in enumerate(df_1['id_in_session'].unique()):\n",
    "        players_info[i][0] = participants.loc[j-1]\n",
    "        players_info[i][1] = df_1[df_1['id_in_session'] == j]\n",
    "        players_info[i][2] = df_2[df_2['id_in_session'] == j]\n",
    "    \n",
    "    return players_info\n",
    "\n",
    "\n",
    "#### Coming from players_info, function to create pagos.txt\n",
    "def crear_txt(players_info,fecha):\n",
    "    f = open(\"pagos_\"+fecha+\".txt\",\"a\")\n",
    "    for i in range(len(players_info)):\n",
    "    ###Include conversion rate and participation fee\n",
    "        pago = round(players_info[i][2]['payoff_total'].iloc[-1]*0.125+2,2)\n",
    "        pago = str(pago).replace('.',',')\n",
    "        f.write(\"{}\\t{}\\tEUR\\n\".format(players_info[i][0]['Paypal'], pago))\n",
    "    f.close()\n",
    "    return \n",
    "\n",
    "def bar_action_marker(players_info):\n",
    "    ## (igual_0, igual_1, desigual_0,desigual_1)\n",
    "    results_azul = [[0 for ij in range(4)] for j in range(len(players_info[0][1]))]\n",
    "    results_amarillo = [[0 for ij in range(4)] for j in range(len(players_info[0][1]))]\n",
    "    \n",
    "    for player in players_info:\n",
    "        for i in range(len(player[1])):\n",
    "            if player[0]['Marker'] == player[1]['marker_partner'].iloc[i]:\n",
    "                k = 0\n",
    "            else:\n",
    "                k = 2      \n",
    "            if player[0]['Marker'] == 'azul':\n",
    "                results_azul[i][k+int(player[1]['acción'].iloc[i])-1] += 1\n",
    "            elif player[0]['Marker'] == 'amarillo':\n",
    "                results_amarillo[i][k+int(player[1]['acción'].iloc[i])-1] += 1\n",
    "        dic_results = {'azul':results_azul,'amarillo':results_amarillo}\n",
    "    return dic_results\n",
    "\n"
   ]
  },
  {
   "cell_type": "code",
   "execution_count": 9,
   "metadata": {},
   "outputs": [],
   "source": [
    "players_info = dar_xeito(df_1,df_2,participants,rounds_1,num_participants)"
   ]
  },
  {
   "cell_type": "code",
   "execution_count": 10,
   "metadata": {},
   "outputs": [],
   "source": [
    "crear_txt(players_info,'26_02_2021')"
   ]
  },
  {
   "cell_type": "code",
   "execution_count": 6,
   "metadata": {},
   "outputs": [
    {
     "ename": "SyntaxError",
     "evalue": "invalid syntax (<ipython-input-6-e5901a34dfc8>, line 1)",
     "output_type": "error",
     "traceback": [
      "\u001b[0;36m  File \u001b[0;32m\"<ipython-input-6-e5901a34dfc8>\"\u001b[0;36m, line \u001b[0;32m1\u001b[0m\n\u001b[0;31m    def plot_bars(dic_results)####de aqui para abaixo hai que miralo todo\u001b[0m\n\u001b[0m                                                                         ^\u001b[0m\n\u001b[0;31mSyntaxError\u001b[0m\u001b[0;31m:\u001b[0m invalid syntax\n"
     ]
    }
   ],
   "source": [
    "def plot_bars(dic_results)####de aqui para abaixo hai que miralo todo\n",
    "    dic_results = bar_action_marker(players_info)\n",
    "    final_azul = [0]*4\n",
    "    flag = [0]*(len(dic_results['azul']))\n",
    "    for k in range(4):\n",
    "        l1 = [dic_results['azul'][i][k] for i in range(len(dic_results['azul']))]\n",
    "        flag = [a+b for a, b in zip(flag, l1)]\n",
    "        final_azul[k] = flag\n",
    "    df_azul =pd.DataFrame({'round':range(30),'=,0':final_azul[0],'=,1':final_azul[1],'!=,0':final_azul[2],'!=,1':final_azul[3]})\n",
    "\n",
    "\n",
    "    final_amarillo = [0]*4\n",
    "    flag = [0]*(len(dic_results['amarillo']))\n",
    "    for k in range(4):\n",
    "        l1 = [dic_results['amarillo'][i][k] for i in range(len(dic_results['amarillo']))]\n",
    "        flag = [a+b for a, b in zip(flag, l1)]\n",
    "        final_amarillo[k] = flag\n",
    "    df_amarillo =pd.DataFrame({'round':range(30),'=,0':final_amarillo[0],'=,1':final_amarillo[1],'!=,0':final_amarillo[2],'!=,1':final_amarillo[3]})        \n",
    "\n",
    "\n",
    "\n",
    "    sns.set_color_codes(\"pastel\")\n",
    "    f, ax = plt.subplots(figsize=(12, 8))\n",
    "    sns.barplot(x='round',y='!=,1',data = df_azul,color = 'b',label = '!=,1')\n",
    "    sns.barplot(x='round',y='!=,0',data = df_azul,color = 'r',label = '!=,0')\n",
    "    sns.barplot(x='round',y='=,1',data = df_azul,color = 'c',label = '=,1')\n",
    "    sns.barplot(x='round',y='=,0',data = df_azul,color = 'g',label = '=,0')\n",
    "    ax.legend(ncol=4, loc=\"best\", frameon=True)\n",
    "return"
   ]
  },
  {
   "cell_type": "code",
   "execution_count": null,
   "metadata": {},
   "outputs": [],
   "source": [
    "sns.set_color_codes(\"pastel\")\n",
    "f, ax = plt.subplots(figsize=(12, 8))\n",
    "sns.barplot(x='round',y='!=,1',data = df_azul,color = 'b',label = '!=,1')\n",
    "sns.barplot(x='round',y='!=,0',data = df_azul,color = 'r',label = '!=,0')\n",
    "sns.barplot(x='round',y='=,1',data = df_azul,color = 'c',label = '=,1')\n",
    "sns.barplot(x='round',y='=,0',data = df_azul,color = 'g',label = '=,0')\n",
    "ax.legend(ncol=4, loc=\"best\", frameon=True)\n"
   ]
  },
  {
   "cell_type": "code",
   "execution_count": null,
   "metadata": {},
   "outputs": [],
   "source": [
    "sns.set_color_codes(\"pastel\")\n",
    "f, ax = plt.subplots(figsize=(12, 8))\n",
    "sns.barplot(x='round',y='!=,1',data = df_amarillo,color = 'b',label = '!=,1')\n",
    "sns.barplot(x='round',y='!=,0',data = df_amarillo,color = 'r',label = '!=,0')\n",
    "sns.barplot(x='round',y='=,1',data = df_amarillo,color = 'c',label = '=,1')\n",
    "sns.barplot(x='round',y='=,0',data = df_amarillo,color = 'g',label = '=,0')\n",
    "ax.legend(ncol=4, loc=\"best\", frameon=True)"
   ]
  },
  {
   "cell_type": "code",
   "execution_count": null,
   "metadata": {},
   "outputs": [],
   "source": [
    "df_total = df_azul+df_amarillo\n",
    "sns.set_color_codes(\"pastel\")\n",
    "f, ax = plt.subplots(figsize=(12, 8))\n",
    "sns.barplot(x='round',y='!=,1',data = df_total,color = 'b',label = '!=,1')\n",
    "sns.barplot(x='round',y='!=,0',data = df_total,color = 'r',label = '!=,0')\n",
    "sns.barplot(x='round',y='=,1',data = df_total,color = 'c',label = '=,1')\n",
    "sns.barplot(x='round',y='=,0',data = df_total,color = 'g',label = '=,0')\n",
    "ax.legend(ncol=4, loc=\"best\", frameon=True)"
   ]
  },
  {
   "cell_type": "code",
   "execution_count": null,
   "metadata": {},
   "outputs": [],
   "source": [
    "###Cosas - Evolución das coordinacións\n",
    "def ev_average(players_info,variable):\n",
    "    rounds = int(max(players_info[0][1].round_number))\n",
    "    x = [0]*rounds\n",
    "    var_x = [0]*rounds\n",
    "    for k in range(rounds):\n",
    "        x[k] = np.average([players_info[i][1][variable].iloc[k]/(k+1) for i in range(num_participants)])\n",
    "        var_x[k] = np.var([players_info[i][1][variable].iloc[k]/(k+1) for i in range(num_participants)])\n",
    "    \n",
    "    return x,var_x"
   ]
  },
  {
   "cell_type": "code",
   "execution_count": null,
   "metadata": {},
   "outputs": [],
   "source": [
    "for i,j in enumerate(df_1['participant.id_in_session'].unique()):\n",
    "    participants.iloc[i]\n",
    "    print(i,j)"
   ]
  },
  {
   "cell_type": "code",
   "execution_count": null,
   "metadata": {},
   "outputs": [],
   "source": []
  }
 ],
 "metadata": {
  "kernelspec": {
   "display_name": "Python 3",
   "language": "python",
   "name": "python3"
  },
  "language_info": {
   "codemirror_mode": {
    "name": "ipython",
    "version": 3
   },
   "file_extension": ".py",
   "mimetype": "text/x-python",
   "name": "python",
   "nbconvert_exporter": "python",
   "pygments_lexer": "ipython3",
   "version": "3.7.6"
  }
 },
 "nbformat": 4,
 "nbformat_minor": 4
}
