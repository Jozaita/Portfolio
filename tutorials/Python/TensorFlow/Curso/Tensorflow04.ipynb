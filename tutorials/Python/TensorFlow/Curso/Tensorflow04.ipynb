{
 "cells": [
  {
   "cell_type": "markdown",
   "id": "f6951cb2",
   "metadata": {},
   "source": [
    "## Transfer learning with TF part 1 : Feature extraction \n",
    "\n",
    "Transfer learning is leveraging a working model's existing architecture and learned patterns for our problem. \n",
    "\n",
    "Benefits:\n",
    "\n",
    "1.Can leverage a working NN to our own problem. \n",
    "\n",
    "2.Can leverage learned patterns to our own data."
   ]
  },
  {
   "cell_type": "code",
   "execution_count": 6,
   "id": "9cced78a",
   "metadata": {},
   "outputs": [
    {
     "name": "stdout",
     "output_type": "stream",
     "text": [
      "--2021-11-03 12:34:05--  https://storage.googleapis.com/ztm_tf_course/food_vision/10_food_classes_10_percent.zip\n",
      "Resolvendo storage.googleapis.com (storage.googleapis.com)... 172.217.17.16, 142.250.178.176, 142.250.184.16, ...\n",
      "Conectando con storage.googleapis.com (storage.googleapis.com)|172.217.17.16|:443... conectado.\n",
      "Petición HTTP enviada, agardando unha resposta... 200 OK\n",
      "Lonxitude: 168546183 (161M) [application/zip]\n",
      "Gardando en: «10_food_classes_10_percent.zip»\n",
      "\n",
      "10_food_classes_10_ 100%[===================>] 160,74M  13,4MB/s    in 15s     \n",
      "\n",
      "2021-11-03 12:34:20 (11,0 MB/s) - gardouse «10_food_classes_10_percent.zip» [168546183/168546183]\n",
      "\n"
     ]
    }
   ],
   "source": [
    "#Get the data \n",
    "\n",
    "import zipfile\n",
    "#Download \n",
    "!wget https://storage.googleapis.com/ztm_tf_course/food_vision/10_food_classes_10_percent.zip\n"
   ]
  },
  {
   "cell_type": "code",
   "execution_count": 7,
   "id": "141559ea",
   "metadata": {},
   "outputs": [],
   "source": [
    "#Unzip\n",
    "zip_ref = zipfile.ZipFile(\"10_food_classes_10_percent.zip\",\"r\")\n",
    "zip_ref.extractall()\n",
    "zip_ref.close()"
   ]
  },
  {
   "cell_type": "code",
   "execution_count": 9,
   "id": "782ac5ff",
   "metadata": {},
   "outputs": [
    {
     "name": "stdout",
     "output_type": "stream",
     "text": [
      "There are 2 directories and 0 images in '10_food_classes_10_percent'.\n",
      "There are 10 directories and 0 images in '10_food_classes_10_percent/train'.\n",
      "There are 0 directories and 75 images in '10_food_classes_10_percent/train/sushi'.\n",
      "There are 0 directories and 75 images in '10_food_classes_10_percent/train/hamburger'.\n",
      "There are 0 directories and 75 images in '10_food_classes_10_percent/train/ice_cream'.\n",
      "There are 0 directories and 75 images in '10_food_classes_10_percent/train/grilled_salmon'.\n",
      "There are 0 directories and 75 images in '10_food_classes_10_percent/train/steak'.\n",
      "There are 0 directories and 75 images in '10_food_classes_10_percent/train/chicken_wings'.\n",
      "There are 0 directories and 75 images in '10_food_classes_10_percent/train/fried_rice'.\n",
      "There are 0 directories and 75 images in '10_food_classes_10_percent/train/chicken_curry'.\n",
      "There are 0 directories and 75 images in '10_food_classes_10_percent/train/ramen'.\n",
      "There are 0 directories and 75 images in '10_food_classes_10_percent/train/pizza'.\n",
      "There are 10 directories and 0 images in '10_food_classes_10_percent/test'.\n",
      "There are 0 directories and 250 images in '10_food_classes_10_percent/test/sushi'.\n",
      "There are 0 directories and 250 images in '10_food_classes_10_percent/test/hamburger'.\n",
      "There are 0 directories and 250 images in '10_food_classes_10_percent/test/ice_cream'.\n",
      "There are 0 directories and 250 images in '10_food_classes_10_percent/test/grilled_salmon'.\n",
      "There are 0 directories and 250 images in '10_food_classes_10_percent/test/steak'.\n",
      "There are 0 directories and 250 images in '10_food_classes_10_percent/test/chicken_wings'.\n",
      "There are 0 directories and 250 images in '10_food_classes_10_percent/test/fried_rice'.\n",
      "There are 0 directories and 250 images in '10_food_classes_10_percent/test/chicken_curry'.\n",
      "There are 0 directories and 250 images in '10_food_classes_10_percent/test/ramen'.\n",
      "There are 0 directories and 250 images in '10_food_classes_10_percent/test/pizza'.\n"
     ]
    }
   ],
   "source": [
    "#How many images in each folder ? \n",
    "\n",
    "import os \n",
    "\n",
    "for dirpath,dirnames,filenames in os.walk(\"10_food_classes_10_percent\"):\n",
    "    print(f\"There are {len(dirnames)} directories and {len(filenames)} images in '{dirpath}'.\")"
   ]
  },
  {
   "cell_type": "code",
   "execution_count": 12,
   "id": "2c4832b9",
   "metadata": {},
   "outputs": [
    {
     "name": "stdout",
     "output_type": "stream",
     "text": [
      "Training images:\n",
      "Found 750 images belonging to 10 classes.\n",
      "Found 2500 images belonging to 10 classes.\n"
     ]
    }
   ],
   "source": [
    "#Creating data loaders (preparing the data)\n",
    "\n",
    "from tensorflow.keras. preprocessing.image import ImageDataGenerator\n",
    "\n",
    "IMG_SHAPE = (224,224)\n",
    "BATCH_SIZE = 32\n",
    "\n",
    "train_dir = \"10_food_classes_10_percent/train/\"\n",
    "test_dir = \"10_food_classes_10_percent/test/\"\n",
    "\n",
    "train_datagen = ImageDataGenerator(rescale =1/255.)\n",
    "test_datagen = ImageDataGenerator(rescale =1/255.)\n",
    "\n",
    "print(\"Training images:\")\n",
    "train_data_10_percent = train_datagen.flow_from_directory(train_dir, \n",
    "                                                          target_size = IMG_SHAPE,\n",
    "                                                          batch_size=BATCH_SIZE,\n",
    "                                                          class_mode = \"categorical\")\n",
    "test_data = test_datagen.flow_from_directory(test_dir, \n",
    "                                                          target_size = IMG_SHAPE,\n",
    "                                                          batch_size=BATCH_SIZE,\n",
    "                                                          class_mode = \"categorical\")"
   ]
  },
  {
   "cell_type": "markdown",
   "id": "2057412f",
   "metadata": {},
   "source": [
    "## Setting up callbacks (things to run while the model trains)\n",
    "Call backs are extra functionarlity that you add to your models to be performed during or after training. Examples:\n",
    "*Tracking experiments\n",
    "*Model checkpoints \n",
    "*Stop a model from training if reaches a condition"
   ]
  },
  {
   "cell_type": "code",
   "execution_count": 50,
   "id": "8554a7d3",
   "metadata": {},
   "outputs": [],
   "source": [
    "#Create TensorBoard callback (funtionized because we need to create a new one for each model)\n",
    "import datetime\n",
    "\n",
    "def create_tensorboard_callback(dir_name, experiment_name):\n",
    "    log_dir = dir_name +\"/\" + experiment_name + \"/\" +datetime.datetime.now().strftime(\"%Y%m%d-%H%M%S\")\n",
    "    tensorboard_callback = tf.keras.callbacks.TensorBoard(log_dir=log_dir)\n",
    "    print(f\"Saving TensorBoard log files to: {log_dir}\")\n",
    "    return tensorboard_callback"
   ]
  },
  {
   "cell_type": "markdown",
   "id": "8d609e16",
   "metadata": {},
   "source": [
    "## Creating models using TensorFlow Hub"
   ]
  },
  {
   "cell_type": "code",
   "execution_count": 67,
   "id": "9b59e16f",
   "metadata": {},
   "outputs": [],
   "source": [
    "##Comparar dos modelos\n",
    "\n",
    "resnet_url = \"https://tfhub.dev/google/imagenet/resnet_v2_50/feature_vector/5\"\n",
    "\n",
    "efficientnet_url = \"https://tfhub.dev/tensorflow/efficientnet/b0/feature-vector/1\""
   ]
  },
  {
   "cell_type": "code",
   "execution_count": 52,
   "id": "8bfbd86c",
   "metadata": {},
   "outputs": [],
   "source": [
    "#Import dependencies\n",
    "\n",
    "import tensorflow as tf\n",
    "import tensorflow_hub as hub\n",
    "from tensorflow.keras import layers\n"
   ]
  },
  {
   "cell_type": "code",
   "execution_count": 53,
   "id": "33daae6b",
   "metadata": {},
   "outputs": [],
   "source": [
    "#Let's make a create_mode function to create a model from URL\n",
    "\n",
    "def create_model (model_url,num_classes=10):\n",
    "    \"\"\"Takes a Tf hub url and create a keras sequential model\n",
    "    Args:\n",
    "    model_url(str): A TFHub feature extraction URL,\n",
    "    num_classes(int): Nuum of output neurons in the output layer.\n",
    "    Returns: \n",
    "    An uncompliled keras sequential model with model_url as feature extractor layer\n",
    "    \"\"\"\n",
    "    #Download the pretrained model and save it as a keras layers\n",
    "    feature_extraction_layer = hub.KerasLayer(model_url,trainable=False,\n",
    "                                            name = \"feature_extraction_layer\",\n",
    "                                            input_shape = IMG_SHAPE+(3,))#freeze the already learned patterns\n",
    "    #Create our own model \n",
    "    model = tf.keras.Sequential([\n",
    "        feature_extraction_layer,\n",
    "        layers.Dense(num_classes,activation=\"softmax\",name = \"output_layer\")\n",
    "    ])\n",
    "    return model"
   ]
  },
  {
   "cell_type": "code",
   "execution_count": 54,
   "id": "bf6b237b",
   "metadata": {},
   "outputs": [],
   "source": [
    "#Create Resnet model \n",
    "resnet_model = create_model(resnet_url,num_classes = train_data_10_percent.num_classes)"
   ]
  },
  {
   "cell_type": "code",
   "execution_count": 55,
   "id": "3ce0913c",
   "metadata": {},
   "outputs": [
    {
     "name": "stdout",
     "output_type": "stream",
     "text": [
      "Model: \"sequential_1\"\n",
      "_________________________________________________________________\n",
      "Layer (type)                 Output Shape              Param #   \n",
      "=================================================================\n",
      "feature_extraction_layer (Ke (None, 2048)              23564800  \n",
      "_________________________________________________________________\n",
      "output_layer (Dense)         (None, 10)                20490     \n",
      "=================================================================\n",
      "Total params: 23,585,290\n",
      "Trainable params: 20,490\n",
      "Non-trainable params: 23,564,800\n",
      "_________________________________________________________________\n"
     ]
    }
   ],
   "source": [
    "resnet_model.summary()"
   ]
  },
  {
   "cell_type": "code",
   "execution_count": 56,
   "id": "3b51ddde",
   "metadata": {},
   "outputs": [],
   "source": [
    "#Compila the resnet model \n",
    "resnet_model.compile(loss=\"categorical_crossentropy\",\n",
    "                    optimizer = tf.keras.optimizers.Adam(),\n",
    "                    metrics=[\"accuracy\"])"
   ]
  },
  {
   "cell_type": "code",
   "execution_count": 57,
   "id": "e7bbd3d1",
   "metadata": {},
   "outputs": [
    {
     "name": "stdout",
     "output_type": "stream",
     "text": [
      "Saving TensorBoard log files to: prueba/1/20211103-174846\n",
      "Epoch 1/5\n",
      "24/24 [==============================] - 161s 7s/step - loss: 1.8069 - accuracy: 0.3947 - val_loss: 1.1320 - val_accuracy: 0.6492\n",
      "Epoch 2/5\n",
      "24/24 [==============================] - 161s 7s/step - loss: 0.8972 - accuracy: 0.7280 - val_loss: 0.8172 - val_accuracy: 0.7400\n",
      "Epoch 3/5\n",
      "24/24 [==============================] - 159s 7s/step - loss: 0.6267 - accuracy: 0.8307 - val_loss: 0.7304 - val_accuracy: 0.7708\n",
      "Epoch 4/5\n",
      "24/24 [==============================] - 159s 7s/step - loss: 0.4922 - accuracy: 0.8640 - val_loss: 0.6973 - val_accuracy: 0.7728\n",
      "Epoch 5/5\n",
      "24/24 [==============================] - 160s 7s/step - loss: 0.3900 - accuracy: 0.8880 - val_loss: 0.6693 - val_accuracy: 0.7804\n"
     ]
    }
   ],
   "source": [
    "history_resnet = resnet_model.fit(train_data_10_percent,\n",
    "                       epochs=5,\n",
    "                       callbacks = create_tensorboard_callback(\"prueba\",\"1\"),\n",
    "                       steps_per_epoch=len(train_data_10_percent),\n",
    "                       validation_data=test_data,\n",
    "                       validation_steps=(len(test_data)))"
   ]
  },
  {
   "cell_type": "code",
   "execution_count": 65,
   "id": "48a49ad4",
   "metadata": {},
   "outputs": [],
   "source": [
    "#Let's create a function to plot the loss curves\n",
    "import matplotlib.pyplot as plt\n",
    "\n",
    "def plot_loss_curves(history):\n",
    "    \"\"\"\n",
    "    Return separate loss curves for training and validation\n",
    "    \"\"\"\n",
    "    loss = history.history[\"loss\"]\n",
    "    val_loss = history.history[\"val_loss\"]\n",
    "    accuracy = history.history[\"accuracy\"]\n",
    "    val_accuracy = history.history[\"val_accuracy\"]\n",
    "    \n",
    "    epochs = range(len(history.history[\"loss\"]))\n",
    "    \n",
    "    plt.plot(epochs,loss,label=\"training_loss\")\n",
    "    plt.plot(epochs,val_loss,label=\"val_loss\")\n",
    "    plt.title(\"Loss\")\n",
    "    plt.xlabel(\"Epochs\")\n",
    "    plt.legend()\n",
    "    \n",
    "    \n",
    "    plt.figure()\n",
    "    plt.plot(epochs,accuracy,label=\"training_accuracy\")\n",
    "    plt.plot(epochs,val_accuracy,label=\"val_accuracy\")\n",
    "    plt.title(\"Accuracy\")\n",
    "    plt.xlabel(\"Epochs\")\n",
    "    plt.legend()\n",
    "    "
   ]
  },
  {
   "cell_type": "code",
   "execution_count": 66,
   "id": "78610b6a",
   "metadata": {},
   "outputs": [
    {
     "data": {
      "image/png": "[encoded data removed]",
      "text/plain": [
       "<Figure size 432x288 with 1 Axes>"
      ]
     },
     "metadata": {
      "needs_background": "light"
     },
     "output_type": "display_data"
    },
    {
     "data": {
      "image/png": "[encoded data removed]",
      "text/plain": [
       "<Figure size 432x288 with 1 Axes>"
      ]
     },
     "metadata": {
      "needs_background": "light"
     },
     "output_type": "display_data"
    }
   ],
   "source": [
    "plot_loss_curves(history_resnet)"
   ]
  },
  {
   "cell_type": "markdown",
   "id": "6396f07f",
   "metadata": {},
   "source": [
    "## Creating and testing EfficientNetB0 TFHub"
   ]
  },
  {
   "cell_type": "code",
   "execution_count": 75,
   "id": "ca39129a",
   "metadata": {},
   "outputs": [],
   "source": [
    "#Create efficient model \n",
    "efficient_model = create_model(efficientnet_url,num_classes = train_data_10_percent.num_classes)"
   ]
  },
  {
   "cell_type": "code",
   "execution_count": 76,
   "id": "af6e9317",
   "metadata": {},
   "outputs": [],
   "source": [
    "efficient_model.compile(loss=\"categorical_crossentropy\",\n",
    "                       optimizer=tf.keras.optimizers.Adam(),\n",
    "                       metrics=[\"accuracy\"])"
   ]
  },
  {
   "cell_type": "code",
   "execution_count": 78,
   "id": "a8704a2d",
   "metadata": {},
   "outputs": [
    {
     "name": "stdout",
     "output_type": "stream",
     "text": [
      "Saving TensorBoard log files to: prueba/2/20211103-182113\n",
      "Epoch 1/5\n",
      "24/24 [==============================] - 79s 3s/step - loss: 1.7917 - accuracy: 0.4813 - val_loss: 1.2732 - val_accuracy: 0.7260\n",
      "Epoch 2/5\n",
      "24/24 [==============================] - 74s 3s/step - loss: 1.0508 - accuracy: 0.7760 - val_loss: 0.8591 - val_accuracy: 0.8224\n",
      "Epoch 3/5\n",
      "24/24 [==============================] - 74s 3s/step - loss: 0.7553 - accuracy: 0.8280 - val_loss: 0.6951 - val_accuracy: 0.8408\n",
      "Epoch 4/5\n",
      "24/24 [==============================] - 74s 3s/step - loss: 0.6099 - accuracy: 0.8693 - val_loss: 0.6091 - val_accuracy: 0.8532\n",
      "Epoch 5/5\n",
      "24/24 [==============================] - 75s 3s/step - loss: 0.5118 - accuracy: 0.8893 - val_loss: 0.5558 - val_accuracy: 0.8612\n"
     ]
    }
   ],
   "source": [
    "efficient_history = efficient_model.fit(train_data_10_percent,\n",
    "                                        epochs=5,\n",
    "                                        callbacks=create_tensorboard_callback(\"prueba\",\"2\"),\n",
    "                                        steps_per_epoch=len(train_data_10_percent),\n",
    "                                        validation_data = test_data,\n",
    "                                        validation_steps = len(test_data))"
   ]
  },
  {
   "cell_type": "code",
   "execution_count": 79,
   "id": "b124a4d1",
   "metadata": {},
   "outputs": [
    {
     "data": {
      "image/png": "[encoded data removed]",
      "text/plain": [
       "<Figure size 432x288 with 1 Axes>"
      ]
     },
     "metadata": {
      "needs_background": "light"
     },
     "output_type": "display_data"
    },
    {
     "data": {
      "image/png": "[encoded data removed]",
      "text/plain": [
       "<Figure size 432x288 with 1 Axes>"
      ]
     },
     "metadata": {
      "needs_background": "light"
     },
     "output_type": "display_data"
    }
   ],
   "source": [
    "plot_loss_curves(efficient_history)"
   ]
  },
  {
   "cell_type": "code",
   "execution_count": 80,
   "id": "8c4286f5",
   "metadata": {},
   "outputs": [
    {
     "name": "stdout",
     "output_type": "stream",
     "text": [
      "Model: \"sequential_3\"\n",
      "_________________________________________________________________\n",
      "Layer (type)                 Output Shape              Param #   \n",
      "=================================================================\n",
      "feature_extraction_layer (Ke (None, 1280)              4049564   \n",
      "_________________________________________________________________\n",
      "output_layer (Dense)         (None, 10)                12810     \n",
      "=================================================================\n",
      "Total params: 4,062,374\n",
      "Trainable params: 12,810\n",
      "Non-trainable params: 4,049,564\n",
      "_________________________________________________________________\n"
     ]
    }
   ],
   "source": [
    "efficient_model.summary()"
   ]
  },
  {
   "cell_type": "code",
   "execution_count": 81,
   "id": "4d24332c",
   "metadata": {},
   "outputs": [
    {
     "name": "stdout",
     "output_type": "stream",
     "text": [
      "Model: \"sequential_1\"\n",
      "_________________________________________________________________\n",
      "Layer (type)                 Output Shape              Param #   \n",
      "=================================================================\n",
      "feature_extraction_layer (Ke (None, 2048)              23564800  \n",
      "_________________________________________________________________\n",
      "output_layer (Dense)         (None, 10)                20490     \n",
      "=================================================================\n",
      "Total params: 23,585,290\n",
      "Trainable params: 20,490\n",
      "Non-trainable params: 23,564,800\n",
      "_________________________________________________________________\n"
     ]
    }
   ],
   "source": [
    "resnet_model.summary()"
   ]
  },
  {
   "cell_type": "markdown",
   "id": "6055b885",
   "metadata": {},
   "source": [
    "## Different types of transfer learning\n",
    "\n",
    "* **\"As is\"  transfer learning**- using an existing model with no changes whatsoever (eg using Imagenet model on 100 Imagenet classes)\n",
    "\n",
    "* Feature extraction, using the prelearned patterns, eg Efficient net trained on Imagenet and adjust the output layer \n",
    "* \"fine-tuning transfer learning, using the prelearned patterns and fine tune many of all of the layers, including new ones "
   ]
  },
  {
   "cell_type": "code",
   "execution_count": 85,
   "id": "e2f93d24",
   "metadata": {},
   "outputs": [
    {
     "data": {
      "text/plain": [
       "309"
      ]
     },
     "execution_count": 85,
     "metadata": {},
     "output_type": "execute_result"
    }
   ],
   "source": [
    "len(efficient_model.layers[0].weights)"
   ]
  },
  {
   "cell_type": "markdown",
   "id": "b799f33b",
   "metadata": {},
   "source": [
    "## Compare our model results using TensorBoard"
   ]
  },
  {
   "cell_type": "code",
   "execution_count": 111,
   "id": "3851227d",
   "metadata": {},
   "outputs": [
    {
     "ename": "SyntaxError",
     "evalue": "invalid syntax (<ipython-input-111-df58e3fd7f11>, line 2)",
     "output_type": "error",
     "traceback": [
      "\u001b[0;36m  File \u001b[0;32m\"<ipython-input-111-df58e3fd7f11>\"\u001b[0;36m, line \u001b[0;32m2\u001b[0m\n\u001b[0;31m    --name \"1vs2\" \\\u001b[0m\n\u001b[0m                ^\u001b[0m\n\u001b[0;31mSyntaxError\u001b[0m\u001b[0;31m:\u001b[0m invalid syntax\n"
     ]
    }
   ],
   "source": [
    "!tensorboard dev upload --logdir ./logs/ \\ \n",
    "--name \"1vs2\" \\ \n",
    "--description \"Comparing two TF hub feature extraction architectures\" \\\n",
    "--one_shot"
   ]
  },
  {
   "cell_type": "code",
   "execution_count": 110,
   "id": "aae87922",
   "metadata": {},
   "outputs": [
    {
     "name": "stdout",
     "output_type": "stream",
     "text": [
      "2021-11-04 10:54:24.366514: W tensorflow/stream_executor/platform/default/dso_loader.cc:64] Could not load dynamic library 'libcudart.so.11.0'; dlerror: libcudart.so.11.0: cannot open shared object file: No such file or directory\n",
      "2021-11-04 10:54:24.366566: I tensorflow/stream_executor/cuda/cudart_stub.cc:29] Ignore above cudart dlerror if you do not have a GPU set up on your machine.\n",
      "\n",
      "NOTE: Using experimental fast data loading logic. To disable, pass\n",
      "    \"--load_fast=false\" and report issues on GitHub. More details:\n",
      "    https://github.com/tensorflow/tensorboard/issues/4784\n",
      "\n",
      "Serving TensorBoard on localhost; to expose to the network, use a proxy or pass --bind_all\n",
      "TensorBoard 2.7.0 at http://localhost:6006/ (Press CTRL+C to quit)\n",
      "^C\n"
     ]
    }
   ],
   "source": [
    "import tensorflow as tf\n",
    "import datetime,os\n",
    "!tensorboard --logdir logs"
   ]
  },
  {
   "cell_type": "markdown",
   "id": "935bbac3",
   "metadata": {},
   "source": [
    "## Homework"
   ]
  },
  {
   "cell_type": "code",
   "execution_count": 123,
   "id": "8139419f",
   "metadata": {},
   "outputs": [],
   "source": [
    "mobilenet_url = \"https://tfhub.dev/google/imagenet/mobilenet_v2_100_224/feature_vector/5\""
   ]
  },
  {
   "cell_type": "code",
   "execution_count": 124,
   "id": "9f5ac4d8",
   "metadata": {},
   "outputs": [],
   "source": [
    "mobilenet_model = create_model(mobilenet_url)\n",
    "mobilenet_model.compile(loss=tf.keras.losses.CategoricalCrossentropy(),\n",
    "                       optimizer=tf.keras.optimizers.Adam(),\n",
    "                       metrics=[\"accuracy\"])"
   ]
  },
  {
   "cell_type": "code",
   "execution_count": 126,
   "id": "65a8f81a",
   "metadata": {},
   "outputs": [
    {
     "ename": "AttributeError",
     "evalue": "module 'tensorflow.keras.layers' has no attribute 'Rescale'",
     "output_type": "error",
     "traceback": [
      "\u001b[0;31m---------------------------------------------------------------------------\u001b[0m",
      "\u001b[0;31mAttributeError\u001b[0m                            Traceback (most recent call last)",
      "\u001b[0;32m<ipython-input-126-44d1cee6c1bb>\u001b[0m in \u001b[0;36m<module>\u001b[0;34m\u001b[0m\n\u001b[0;32m----> 1\u001b[0;31m \u001b[0mtrain_data_10_percent_rescaled\u001b[0m \u001b[0;34m=\u001b[0m \u001b[0mtf\u001b[0m\u001b[0;34m.\u001b[0m\u001b[0mkeras\u001b[0m\u001b[0;34m.\u001b[0m\u001b[0mlayers\u001b[0m\u001b[0;34m.\u001b[0m\u001b[0mRescale\u001b[0m\u001b[0;34m(\u001b[0m\u001b[0;36m1.\u001b[0m\u001b[0;34m/\u001b[0m\u001b[0;36m127.5\u001b[0m\u001b[0;34m,\u001b[0m\u001b[0moffset\u001b[0m\u001b[0;34m=\u001b[0m\u001b[0;36m1\u001b[0m\u001b[0;34m)\u001b[0m\u001b[0;34m\u001b[0m\u001b[0;34m\u001b[0m\u001b[0m\n\u001b[0m\u001b[1;32m      2\u001b[0m \u001b[0mtest_data_rescaled\u001b[0m \u001b[0;34m=\u001b[0m \u001b[0mtf\u001b[0m\u001b[0;34m.\u001b[0m\u001b[0mkeras\u001b[0m\u001b[0;34m.\u001b[0m\u001b[0mlayers\u001b[0m\u001b[0;34m.\u001b[0m\u001b[0mRescaling\u001b[0m\u001b[0;34m(\u001b[0m\u001b[0;36m1.\u001b[0m\u001b[0;34m/\u001b[0m\u001b[0;36m127.5\u001b[0m\u001b[0;34m,\u001b[0m\u001b[0moffset\u001b[0m\u001b[0;34m=\u001b[0m\u001b[0;36m1\u001b[0m\u001b[0;34m)\u001b[0m\u001b[0;34m\u001b[0m\u001b[0;34m\u001b[0m\u001b[0m\n\u001b[1;32m      3\u001b[0m mobilenet_history = mobilenet_model.fit(train_data_10_percent_rescaled,\n\u001b[1;32m      4\u001b[0m                    \u001b[0mepochs\u001b[0m\u001b[0;34m=\u001b[0m\u001b[0;36m5\u001b[0m\u001b[0;34m,\u001b[0m\u001b[0;34m\u001b[0m\u001b[0;34m\u001b[0m\u001b[0m\n\u001b[1;32m      5\u001b[0m                    \u001b[0msteps_per_epoch\u001b[0m\u001b[0;34m=\u001b[0m\u001b[0mlen\u001b[0m\u001b[0;34m(\u001b[0m\u001b[0mtrain_data_10_percent_rescaled\u001b[0m\u001b[0;34m)\u001b[0m\u001b[0;34m,\u001b[0m\u001b[0;34m\u001b[0m\u001b[0;34m\u001b[0m\u001b[0m\n",
      "\u001b[0;31mAttributeError\u001b[0m: module 'tensorflow.keras.layers' has no attribute 'Rescale'"
     ]
    }
   ],
   "source": [
    "train_data_10_percent_rescaled = tf.keras.layers.Rescal(1./127.5,offset=1)\n",
    "test_data_rescaled = tf.keras.layers.Rescaling(1./127.5,offset=1)\n",
    "mobilenet_history = mobilenet_model.fit(train_data_10_percent_rescaled,\n",
    "                   epochs=5,\n",
    "                   steps_per_epoch=len(train_data_10_percent_rescaled),\n",
    "                   validation_data=test_data_rescaled,\n",
    "                   validation_steps=len(test_data_rescaled))"
   ]
  },
  {
   "cell_type": "code",
   "execution_count": 122,
   "id": "7090a082",
   "metadata": {},
   "outputs": [
    {
     "data": {
      "text/plain": [
       "(array([[[[0.09803922, 0.0509804 , 0.05882353],\n",
       "          [0.11764707, 0.07058824, 0.07843138],\n",
       "          [0.15294118, 0.10588236, 0.1137255 ],\n",
       "          ...,\n",
       "          [0.31764707, 0.18039216, 0.10588236],\n",
       "          [0.3019608 , 0.1764706 , 0.11764707],\n",
       "          [0.2627451 , 0.14901961, 0.09411766]],\n",
       " \n",
       "         [[0.09019608, 0.04313726, 0.0509804 ],\n",
       "          [0.08627451, 0.03921569, 0.04705883],\n",
       "          [0.13333334, 0.08627451, 0.09411766],\n",
       "          ...,\n",
       "          [0.29803923, 0.16078432, 0.08627451],\n",
       "          [0.3019608 , 0.1764706 , 0.11764707],\n",
       "          [0.3372549 , 0.227451  , 0.17254902]],\n",
       " \n",
       "         [[0.09411766, 0.05490196, 0.05882353],\n",
       "          [0.08235294, 0.04313726, 0.04705883],\n",
       "          [0.09803922, 0.05882353, 0.0627451 ],\n",
       "          ...,\n",
       "          [0.3803922 , 0.24313727, 0.16862746],\n",
       "          [0.3529412 , 0.23137257, 0.16078432],\n",
       "          [0.30980393, 0.19607845, 0.13333334]],\n",
       " \n",
       "         ...,\n",
       " \n",
       "         [[0.82745105, 0.5803922 , 0.2784314 ],\n",
       "          [0.8000001 , 0.54901963, 0.25882354],\n",
       "          [0.8117648 , 0.56078434, 0.27058825],\n",
       "          ...,\n",
       "          [0.8117648 , 0.56078434, 0.30980393],\n",
       "          [0.8745099 , 0.62352943, 0.38431376],\n",
       "          [0.882353  , 0.6392157 , 0.40784317]],\n",
       " \n",
       "         [[0.8196079 , 0.56078434, 0.2627451 ],\n",
       "          [0.82745105, 0.5803922 , 0.2784314 ],\n",
       "          [0.8588236 , 0.6117647 , 0.30980393],\n",
       "          ...,\n",
       "          [0.8705883 , 0.6313726 , 0.37647063],\n",
       "          [0.8705883 , 0.63529414, 0.38823533],\n",
       "          [0.854902  , 0.6392157 , 0.38823533]],\n",
       " \n",
       "         [[0.8470589 , 0.5882353 , 0.28235295],\n",
       "          [0.86274517, 0.6039216 , 0.30588236],\n",
       "          [0.8588236 , 0.6117647 , 0.30980393],\n",
       "          ...,\n",
       "          [0.86274517, 0.6313726 , 0.37254903],\n",
       "          [0.8470589 , 0.6313726 , 0.37647063],\n",
       "          [0.8470589 , 0.64705884, 0.3921569 ]]],\n",
       " \n",
       " \n",
       "        [[[0.12941177, 0.05490196, 0.02745098],\n",
       "          [0.16078432, 0.07450981, 0.03137255],\n",
       "          [0.19215688, 0.09019608, 0.03921569],\n",
       "          ...,\n",
       "          [0.5019608 , 0.34901962, 0.23529413],\n",
       "          [0.5019608 , 0.34901962, 0.23529413],\n",
       "          [0.5019608 , 0.34901962, 0.23529413]],\n",
       " \n",
       "         [[0.15294118, 0.0627451 , 0.03137255],\n",
       "          [0.18431373, 0.07843138, 0.03529412],\n",
       "          [0.21176472, 0.09803922, 0.04313726],\n",
       "          ...,\n",
       "          [0.52156866, 0.36862746, 0.25490198],\n",
       "          [0.52156866, 0.36862746, 0.25490198],\n",
       "          [0.52156866, 0.36862746, 0.25490198]],\n",
       " \n",
       "         [[0.1764706 , 0.06666667, 0.02352941],\n",
       "          [0.20784315, 0.08235294, 0.03921569],\n",
       "          [0.2392157 , 0.09803922, 0.03529412],\n",
       "          ...,\n",
       "          [0.53333336, 0.3803922 , 0.26666668],\n",
       "          [0.53333336, 0.3803922 , 0.25882354],\n",
       "          [0.53333336, 0.3803922 , 0.25882354]],\n",
       " \n",
       "         ...,\n",
       " \n",
       "         [[0.6431373 , 0.37647063, 0.12941177],\n",
       "          [0.6313726 , 0.3647059 , 0.11764707],\n",
       "          [0.63529414, 0.36862746, 0.12156864],\n",
       "          ...,\n",
       "          [0.6627451 , 0.38823533, 0.1137255 ],\n",
       "          [0.6666667 , 0.3921569 , 0.11764707],\n",
       "          [0.6666667 , 0.3921569 , 0.11764707]],\n",
       " \n",
       "         [[0.67058825, 0.4039216 , 0.14901961],\n",
       "          [0.6627451 , 0.39607847, 0.14117648],\n",
       "          [0.6627451 , 0.39607847, 0.14117648],\n",
       "          ...,\n",
       "          [0.6666667 , 0.38823533, 0.12941177],\n",
       "          [0.67058825, 0.3921569 , 0.13333334],\n",
       "          [0.67058825, 0.3921569 , 0.13333334]],\n",
       " \n",
       "         [[0.6666667 , 0.4039216 , 0.13725491],\n",
       "          [0.6627451 , 0.40000004, 0.13333334],\n",
       "          [0.6627451 , 0.40000004, 0.13333334],\n",
       "          ...,\n",
       "          [0.65882355, 0.3803922 , 0.12941177],\n",
       "          [0.65882355, 0.3803922 , 0.12941177],\n",
       "          [0.6627451 , 0.38431376, 0.13333334]]],\n",
       " \n",
       " \n",
       "        [[[0.34509805, 0.20000002, 0.12941177],\n",
       "          [0.3372549 , 0.19215688, 0.12156864],\n",
       "          [0.3372549 , 0.19215688, 0.12941177],\n",
       "          ...,\n",
       "          [0.7686275 , 0.75294125, 0.8196079 ],\n",
       "          [0.77647066, 0.74509805, 0.82745105],\n",
       "          [0.7960785 , 0.76470596, 0.8470589 ]],\n",
       " \n",
       "         [[0.33333334, 0.19215688, 0.12941177],\n",
       "          [0.31764707, 0.1764706 , 0.1137255 ],\n",
       "          [0.3254902 , 0.18039216, 0.11764707],\n",
       "          ...,\n",
       "          [0.7372549 , 0.72156864, 0.78823537],\n",
       "          [0.76470596, 0.73333335, 0.81568635],\n",
       "          [0.79215693, 0.7568628 , 0.83921576]],\n",
       " \n",
       "         [[0.29803923, 0.17254902, 0.1137255 ],\n",
       "          [0.3019608 , 0.17254902, 0.1137255 ],\n",
       "          [0.29803923, 0.16862746, 0.10196079],\n",
       "          ...,\n",
       "          [0.6901961 , 0.6745098 , 0.7411765 ],\n",
       "          [0.73333335, 0.7019608 , 0.7843138 ],\n",
       "          [0.77647066, 0.7372549 , 0.8313726 ]],\n",
       " \n",
       "         ...,\n",
       " \n",
       "         [[0.7372549 , 0.69803923, 0.6       ],\n",
       "          [0.73333335, 0.69411767, 0.59607846],\n",
       "          [0.74509805, 0.69803923, 0.6039216 ],\n",
       "          ...,\n",
       "          [0.33333334, 0.2392157 , 0.13725491],\n",
       "          [0.34901962, 0.24705884, 0.15686275],\n",
       "          [0.32941177, 0.227451  , 0.13725491]],\n",
       " \n",
       "         [[0.74509805, 0.7058824 , 0.60784316],\n",
       "          [0.74509805, 0.7058824 , 0.60784316],\n",
       "          [0.7490196 , 0.7019608 , 0.60784316],\n",
       "          ...,\n",
       "          [0.3254902 , 0.23137257, 0.13725491],\n",
       "          [0.34509805, 0.24313727, 0.15294118],\n",
       "          [0.31764707, 0.21568629, 0.1254902 ]],\n",
       " \n",
       "         [[0.7294118 , 0.6901961 , 0.5921569 ],\n",
       "          [0.74509805, 0.7058824 , 0.60784316],\n",
       "          [0.7372549 , 0.6901961 , 0.59607846],\n",
       "          ...,\n",
       "          [0.3372549 , 0.2392157 , 0.15294118],\n",
       "          [0.32156864, 0.22352943, 0.13725491],\n",
       "          [0.3372549 , 0.23137257, 0.14901961]]],\n",
       " \n",
       " \n",
       "        ...,\n",
       " \n",
       " \n",
       "        [[[0.3137255 , 0.14117648, 0.04313726],\n",
       "          [0.3137255 , 0.14117648, 0.03529412],\n",
       "          [0.3019608 , 0.14117648, 0.02352941],\n",
       "          ...,\n",
       "          [0.03137255, 0.        , 0.        ],\n",
       "          [0.03137255, 0.        , 0.        ],\n",
       "          [0.03137255, 0.        , 0.        ]],\n",
       " \n",
       "         [[0.30588236, 0.14117648, 0.04313726],\n",
       "          [0.30588236, 0.14509805, 0.03529412],\n",
       "          [0.30588236, 0.14509805, 0.02745098],\n",
       "          ...,\n",
       "          [0.03137255, 0.        , 0.        ],\n",
       "          [0.03137255, 0.        , 0.        ],\n",
       "          [0.03137255, 0.        , 0.        ]],\n",
       " \n",
       "         [[0.3019608 , 0.14509805, 0.04313726],\n",
       "          [0.30588236, 0.14509805, 0.02745098],\n",
       "          [0.30980393, 0.14901961, 0.02352941],\n",
       "          ...,\n",
       "          [0.03137255, 0.        , 0.        ],\n",
       "          [0.03137255, 0.        , 0.        ],\n",
       "          [0.03137255, 0.        , 0.        ]],\n",
       " \n",
       "         ...,\n",
       " \n",
       "         [[0.87843144, 0.6509804 , 0.25882354],\n",
       "          [0.8862746 , 0.65882355, 0.26666668],\n",
       "          [0.89019614, 0.6627451 , 0.27058825],\n",
       "          ...,\n",
       "          [0.86666673, 0.6745098 , 0.30980393],\n",
       "          [0.86274517, 0.6627451 , 0.3019608 ],\n",
       "          [0.8588236 , 0.65882355, 0.29803923]],\n",
       " \n",
       "         [[0.87843144, 0.6509804 , 0.25882354],\n",
       "          [0.8862746 , 0.65882355, 0.26666668],\n",
       "          [0.89019614, 0.6627451 , 0.27058825],\n",
       "          ...,\n",
       "          [0.86274517, 0.67058825, 0.30588236],\n",
       "          [0.8588236 , 0.65882355, 0.29803923],\n",
       "          [0.854902  , 0.654902  , 0.29411766]],\n",
       " \n",
       "         [[0.87843144, 0.6509804 , 0.25882354],\n",
       "          [0.8862746 , 0.65882355, 0.26666668],\n",
       "          [0.89019614, 0.6627451 , 0.27058825],\n",
       "          ...,\n",
       "          [0.8588236 , 0.6666667 , 0.3019608 ],\n",
       "          [0.854902  , 0.654902  , 0.29411766],\n",
       "          [0.85098046, 0.6509804 , 0.2901961 ]]],\n",
       " \n",
       " \n",
       "        [[[0.63529414, 0.6745098 , 0.7137255 ],\n",
       "          [0.5372549 , 0.5882353 , 0.62352943],\n",
       "          [0.45882356, 0.5137255 , 0.54901963],\n",
       "          ...,\n",
       "          [0.14509805, 0.13725491, 0.19215688],\n",
       "          [0.14509805, 0.14117648, 0.19607845],\n",
       "          [0.14117648, 0.13725491, 0.19215688]],\n",
       " \n",
       "         [[0.7176471 , 0.7568628 , 0.79215693],\n",
       "          [0.6901961 , 0.7411765 , 0.7725491 ],\n",
       "          [0.6862745 , 0.7411765 , 0.77647066],\n",
       "          ...,\n",
       "          [0.13725491, 0.12941177, 0.18431373],\n",
       "          [0.14117648, 0.13725491, 0.19215688],\n",
       "          [0.13333334, 0.12941177, 0.18431373]],\n",
       " \n",
       "         [[0.7137255 , 0.7568628 , 0.7803922 ],\n",
       "          [0.67058825, 0.72156864, 0.74509805],\n",
       "          [0.6745098 , 0.73333335, 0.7607844 ],\n",
       "          ...,\n",
       "          [0.14117648, 0.13333334, 0.18823531],\n",
       "          [0.14509805, 0.14117648, 0.19607845],\n",
       "          [0.13725491, 0.13333334, 0.18823531]],\n",
       " \n",
       "         ...,\n",
       " \n",
       "         [[0.69411767, 0.7568628 , 0.74509805],\n",
       "          [0.7019608 , 0.76470596, 0.7607844 ],\n",
       "          [0.69803923, 0.7607844 , 0.7607844 ],\n",
       "          ...,\n",
       "          [0.65882355, 0.69803923, 0.7058824 ],\n",
       "          [0.6509804 , 0.6862745 , 0.7058824 ],\n",
       "          [0.63529414, 0.67058825, 0.69803923]],\n",
       " \n",
       "         [[0.7058824 , 0.7568628 , 0.7294118 ],\n",
       "          [0.72156864, 0.7686275 , 0.75294125],\n",
       "          [0.7019608 , 0.7607844 , 0.7490196 ],\n",
       "          ...,\n",
       "          [0.63529414, 0.6745098 , 0.68235296],\n",
       "          [0.61960787, 0.654902  , 0.6745098 ],\n",
       "          [0.62352943, 0.65882355, 0.6862745 ]],\n",
       " \n",
       "         [[0.7019608 , 0.7490196 , 0.70980394],\n",
       "          [0.70980394, 0.75294125, 0.72156864],\n",
       "          [0.69411767, 0.74509805, 0.7176471 ],\n",
       "          ...,\n",
       "          [0.6117647 , 0.6509804 , 0.65882355],\n",
       "          [0.62352943, 0.65882355, 0.6784314 ],\n",
       "          [0.5647059 , 0.6       , 0.627451  ]]],\n",
       " \n",
       " \n",
       "        [[[0.14117648, 0.10588236, 0.07843138],\n",
       "          [0.1764706 , 0.14117648, 0.1137255 ],\n",
       "          [0.20000002, 0.16470589, 0.12941177],\n",
       "          ...,\n",
       "          [0.9607844 , 0.8431373 , 0.7019608 ],\n",
       "          [0.94117653, 0.8235295 , 0.68235296],\n",
       "          [0.9490197 , 0.8196079 , 0.68235296]],\n",
       " \n",
       "         [[0.22352943, 0.19607845, 0.16470589],\n",
       "          [0.14509805, 0.11764707, 0.08627451],\n",
       "          [0.1764706 , 0.14901961, 0.11764707],\n",
       "          ...,\n",
       "          [0.9686275 , 0.85098046, 0.7019608 ],\n",
       "          [0.9686275 , 0.8431373 , 0.69411767],\n",
       "          [0.92549026, 0.8000001 , 0.6509804 ]],\n",
       " \n",
       "         [[0.20000002, 0.18039216, 0.15686275],\n",
       "          [0.53333336, 0.5137255 , 0.4901961 ],\n",
       "          [0.18823531, 0.17254902, 0.13725491],\n",
       "          ...,\n",
       "          [0.9215687 , 0.7960785 , 0.64705884],\n",
       "          [0.9176471 , 0.79215693, 0.6431373 ],\n",
       "          [0.93725497, 0.8117648 , 0.6627451 ]],\n",
       " \n",
       "         ...,\n",
       " \n",
       "         [[0.10588236, 0.07450981, 0.0627451 ],\n",
       "          [0.09411766, 0.0627451 , 0.0509804 ],\n",
       "          [0.09411766, 0.0627451 , 0.0509804 ],\n",
       "          ...,\n",
       "          [0.36078432, 0.25490198, 0.17254902],\n",
       "          [0.36862746, 0.2627451 , 0.18823531],\n",
       "          [0.47058827, 0.35686275, 0.29411766]],\n",
       " \n",
       "         [[0.09803922, 0.06666667, 0.05882353],\n",
       "          [0.09019608, 0.05882353, 0.0509804 ],\n",
       "          [0.07450981, 0.04313726, 0.03529412],\n",
       "          ...,\n",
       "          [0.6392157 , 0.54901963, 0.4784314 ],\n",
       "          [0.6       , 0.50980395, 0.44705886],\n",
       "          [0.56078434, 0.45882356, 0.40784317]],\n",
       " \n",
       "         [[0.07058824, 0.03529412, 0.03921569],\n",
       "          [0.0627451 , 0.02745098, 0.03137255],\n",
       "          [0.06666667, 0.03137255, 0.03529412],\n",
       "          ...,\n",
       "          [0.4666667 , 0.3921569 , 0.33333334],\n",
       "          [0.53333336, 0.44705886, 0.39607847],\n",
       "          [0.59607846, 0.50980395, 0.4666667 ]]]], dtype=float32),\n",
       " array([[0., 0., 0., 0., 0., 1., 0., 0., 0., 0.],\n",
       "        [0., 0., 0., 0., 0., 1., 0., 0., 0., 0.],\n",
       "        [1., 0., 0., 0., 0., 0., 0., 0., 0., 0.],\n",
       "        [0., 0., 0., 0., 1., 0., 0., 0., 0., 0.],\n",
       "        [0., 0., 0., 0., 1., 0., 0., 0., 0., 0.],\n",
       "        [0., 1., 0., 0., 0., 0., 0., 0., 0., 0.],\n",
       "        [0., 0., 0., 0., 1., 0., 0., 0., 0., 0.],\n",
       "        [0., 0., 0., 1., 0., 0., 0., 0., 0., 0.],\n",
       "        [0., 0., 0., 0., 0., 0., 0., 1., 0., 0.],\n",
       "        [0., 0., 0., 0., 0., 0., 0., 0., 0., 1.],\n",
       "        [0., 0., 0., 0., 0., 1., 0., 0., 0., 0.],\n",
       "        [0., 0., 0., 0., 0., 0., 0., 0., 1., 0.],\n",
       "        [0., 0., 0., 0., 1., 0., 0., 0., 0., 0.],\n",
       "        [0., 0., 0., 0., 0., 1., 0., 0., 0., 0.],\n",
       "        [0., 0., 0., 0., 1., 0., 0., 0., 0., 0.],\n",
       "        [0., 1., 0., 0., 0., 0., 0., 0., 0., 0.],\n",
       "        [0., 0., 0., 0., 0., 0., 0., 1., 0., 0.],\n",
       "        [0., 0., 0., 0., 0., 1., 0., 0., 0., 0.],\n",
       "        [0., 0., 0., 0., 0., 0., 0., 0., 0., 1.],\n",
       "        [0., 0., 0., 0., 0., 0., 0., 0., 1., 0.],\n",
       "        [0., 0., 0., 0., 0., 0., 1., 0., 0., 0.],\n",
       "        [0., 0., 0., 0., 0., 0., 1., 0., 0., 0.],\n",
       "        [0., 0., 0., 0., 0., 0., 1., 0., 0., 0.],\n",
       "        [1., 0., 0., 0., 0., 0., 0., 0., 0., 0.],\n",
       "        [0., 0., 0., 0., 0., 0., 0., 0., 1., 0.],\n",
       "        [0., 0., 0., 0., 0., 0., 0., 0., 1., 0.],\n",
       "        [0., 0., 0., 0., 0., 0., 0., 0., 0., 1.],\n",
       "        [1., 0., 0., 0., 0., 0., 0., 0., 0., 0.],\n",
       "        [0., 0., 0., 0., 1., 0., 0., 0., 0., 0.],\n",
       "        [0., 0., 0., 1., 0., 0., 0., 0., 0., 0.],\n",
       "        [0., 0., 0., 1., 0., 0., 0., 0., 0., 0.],\n",
       "        [0., 0., 0., 0., 0., 0., 0., 1., 0., 0.]], dtype=float32))"
      ]
     },
     "execution_count": 122,
     "metadata": {},
     "output_type": "execute_result"
    }
   ],
   "source": [
    "train_data_10_percent.next()"
   ]
  },
  {
   "cell_type": "code",
   "execution_count": 128,
   "id": "5c407e52",
   "metadata": {},
   "outputs": [
    {
     "data": {
      "text/plain": [
       "'2.5.0'"
      ]
     },
     "execution_count": 128,
     "metadata": {},
     "output_type": "execute_result"
    }
   ],
   "source": [
    "tf.__version__"
   ]
  },
  {
   "cell_type": "code",
   "execution_count": null,
   "id": "684d3e40",
   "metadata": {},
   "outputs": [],
   "source": []
  }
 ],
 "metadata": {
  "kernelspec": {
   "display_name": "Python 3 (ipykernel)",
   "language": "python",
   "name": "python3"
  },
  "language_info": {
   "codemirror_mode": {
    "name": "ipython",
    "version": 3
   },
   "file_extension": ".py",
   "mimetype": "text/x-python",
   "name": "python",
   "nbconvert_exporter": "python",
   "pygments_lexer": "ipython3",
   "version": "3.8.10"
  }
 },
 "nbformat": 4,
 "nbformat_minor": 5
}
