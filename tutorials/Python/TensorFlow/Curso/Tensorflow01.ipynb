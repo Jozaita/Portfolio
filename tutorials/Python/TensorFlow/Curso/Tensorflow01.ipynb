{
 "cells": [
  {
   "cell_type": "code",
   "execution_count": 1,
   "id": "c084ff82",
   "metadata": {},
   "outputs": [
    {
     "name": "stdout",
     "output_type": "stream",
     "text": [
      "2.5.0\n"
     ]
    }
   ],
   "source": [
    "#Introducción a regresion con redes neuronales en Tensorflow\n",
    "import tensorflow as tf\n",
    "print(tf.__version__)"
   ]
  },
  {
   "cell_type": "code",
   "execution_count": 2,
   "id": "fccc8984",
   "metadata": {},
   "outputs": [
    {
     "data": {
      "text/plain": [
       "<matplotlib.collections.PathCollection at 0x7f673e434950>"
      ]
     },
     "execution_count": 2,
     "metadata": {},
     "output_type": "execute_result"
    },
    {
     "data": {
      "image/png": "[encoded data removed]",
      "text/plain": [
       "<Figure size 432x288 with 1 Axes>"
      ]
     },
     "metadata": {
      "needs_background": "light"
     },
     "output_type": "display_data"
    }
   ],
   "source": [
    "#Crear datos para ver y ajustar\n",
    "import numpy as np\n",
    "import matplotlib.pyplot as plt\n",
    "\n",
    "#Creamos features\n",
    "X = np.array([-7.0,-4.0,-1.0,2.0,5.0,8.0,11.0,14.0])\n",
    "#Creamos labels\n",
    "Y = np.array([3.0,6.0,9.0,12.0,15.0,18.0,21.0,24.0])\n",
    "#Visualizar\n",
    "plt.scatter(X,Y)"
   ]
  },
  {
   "cell_type": "code",
   "execution_count": 3,
   "id": "4ff90e8c",
   "metadata": {},
   "outputs": [
    {
     "data": {
      "text/plain": [
       "array([ True,  True,  True,  True,  True,  True,  True,  True])"
      ]
     },
     "execution_count": 3,
     "metadata": {},
     "output_type": "execute_result"
    }
   ],
   "source": [
    "Y == X +10"
   ]
  },
  {
   "cell_type": "code",
   "execution_count": 5,
   "id": "6437abe4",
   "metadata": {},
   "outputs": [
    {
     "data": {
      "text/plain": [
       "(<tf.Tensor: shape=(3,), dtype=string, numpy=array([b'bedroon', b'bathroom', b'garage'], dtype=object)>,\n",
       " <tf.Tensor: shape=(1,), dtype=int32, numpy=array([939700], dtype=int32)>)"
      ]
     },
     "execution_count": 5,
     "metadata": {},
     "output_type": "execute_result"
    }
   ],
   "source": [
    "#Shapes de input y output\n",
    "#Creación de tensor de demo\n",
    "house_info = tf.constant(['bedroon','bathroom','garage'])\n",
    "house_price = tf.constant([939700])\n",
    "house_info,house_price"
   ]
  },
  {
   "cell_type": "code",
   "execution_count": 7,
   "id": "90d41f70",
   "metadata": {},
   "outputs": [
    {
     "data": {
      "text/plain": [
       "((), ())"
      ]
     },
     "execution_count": 7,
     "metadata": {},
     "output_type": "execute_result"
    }
   ],
   "source": [
    "input_shape = X[0].shape\n",
    "output_shape = Y[0].shape\n",
    "input_shape,output_shape"
   ]
  },
  {
   "cell_type": "code",
   "execution_count": 8,
   "id": "541c0086",
   "metadata": {},
   "outputs": [
    {
     "data": {
      "text/plain": [
       "(<tf.Tensor: shape=(8,), dtype=float64, numpy=array([-7., -4., -1.,  2.,  5.,  8., 11., 14.])>,\n",
       " <tf.Tensor: shape=(8,), dtype=float64, numpy=array([ 3.,  6.,  9., 12., 15., 18., 21., 24.])>)"
      ]
     },
     "execution_count": 8,
     "metadata": {},
     "output_type": "execute_result"
    }
   ],
   "source": [
    "#Convertir nuestros arrays de numpy en tensores\n",
    "X = tf.constant(X)\n",
    "Y = tf.constant(Y)\n",
    "X,Y"
   ]
  },
  {
   "cell_type": "code",
   "execution_count": 9,
   "id": "8724fc06",
   "metadata": {},
   "outputs": [
    {
     "data": {
      "text/plain": [
       "(TensorShape([]), TensorShape([]))"
      ]
     },
     "execution_count": 9,
     "metadata": {},
     "output_type": "execute_result"
    }
   ],
   "source": [
    "input_shape = X[0].shape\n",
    "output_shape = Y[0].shape\n",
    "input_shape,output_shape"
   ]
  },
  {
   "cell_type": "code",
   "execution_count": 10,
   "id": "696fcf90",
   "metadata": {},
   "outputs": [
    {
     "data": {
      "text/plain": [
       "<matplotlib.collections.PathCollection at 0x7f6734717c50>"
      ]
     },
     "execution_count": 10,
     "metadata": {},
     "output_type": "execute_result"
    },
    {
     "data": {
      "image/png": "[encoded data removed]",
      "text/plain": [
       "<Figure size 432x288 with 1 Axes>"
      ]
     },
     "metadata": {
      "needs_background": "light"
     },
     "output_type": "display_data"
    }
   ],
   "source": [
    "plt.scatter(X,Y)"
   ]
  },
  {
   "cell_type": "code",
   "execution_count": 11,
   "id": "8ca482d9",
   "metadata": {},
   "outputs": [
    {
     "name": "stdout",
     "output_type": "stream",
     "text": [
      "Epoch 1/5\n",
      "1/1 [==============================] - 0s 227ms/step - loss: 11.5048 - mae: 11.5048\n",
      "Epoch 2/5\n",
      "1/1 [==============================] - 0s 1ms/step - loss: 11.3723 - mae: 11.3723\n",
      "Epoch 3/5\n",
      "1/1 [==============================] - 0s 3ms/step - loss: 11.2398 - mae: 11.2398\n",
      "Epoch 4/5\n",
      "1/1 [==============================] - 0s 4ms/step - loss: 11.1073 - mae: 11.1073\n",
      "Epoch 5/5\n",
      "1/1 [==============================] - 0s 2ms/step - loss: 10.9748 - mae: 10.9748\n"
     ]
    },
    {
     "data": {
      "text/plain": [
       "<tensorflow.python.keras.callbacks.History at 0x7f673e431e90>"
      ]
     },
     "execution_count": 11,
     "metadata": {},
     "output_type": "execute_result"
    }
   ],
   "source": [
    "#Pasos para modelar con Tensorflow\n",
    "#Crear un modelo de la red neuronal\n",
    "#Compilar el modelo y , métrica y optimizador\n",
    "#Ajustar el modelo a los datos\n",
    "tf.random.set_seed(42)\n",
    "#Crear modelo con API secuencial\n",
    "model = tf.keras.Sequential([\n",
    "    tf.keras.layers.Dense(1)\n",
    "])\n",
    "#Compilar\n",
    "model.compile(loss=tf.keras.losses.mae,\n",
    "                optimizer = tf.keras.optimizers.SGD(),\n",
    "                metrics = [\"mae\"])\n",
    "\n",
    "\n",
    "#Fit the model \n",
    "model.fit(X,Y,epochs=5)"
   ]
  },
  {
   "cell_type": "code",
   "execution_count": 22,
   "id": "97f25481",
   "metadata": {},
   "outputs": [
    {
     "name": "stdout",
     "output_type": "stream",
     "text": [
      "Epoch 1/5\n",
      "1/1 [==============================] - 0s 177ms/step - loss: 11.5048 - mae: 11.5048\n",
      "Epoch 2/5\n",
      "1/1 [==============================] - 0s 1ms/step - loss: 11.3723 - mae: 11.3723\n",
      "Epoch 3/5\n",
      "1/1 [==============================] - 0s 1ms/step - loss: 11.2398 - mae: 11.2398\n",
      "Epoch 4/5\n",
      "1/1 [==============================] - 0s 2ms/step - loss: 11.1073 - mae: 11.1073\n",
      "Epoch 5/5\n",
      "1/1 [==============================] - 0s 1ms/step - loss: 10.9748 - mae: 10.9748\n"
     ]
    },
    {
     "data": {
      "text/plain": [
       "<tensorflow.python.keras.callbacks.History at 0x7f66e0668e90>"
      ]
     },
     "execution_count": 22,
     "metadata": {},
     "output_type": "execute_result"
    }
   ],
   "source": [
    "#Pasos para modelar con Tensorflow\n",
    "#Crear un modelo de la red neuronal\n",
    "#Compilar el modelo y , métrica y optimizador\n",
    "#Ajustar el modelo a los datos\n",
    "tf.random.set_seed(42)\n",
    "#Crear modelo con API secuencial\n",
    "model = tf.keras.Sequential()\n",
    "model.add(tf.keras.layers.Dense(1))\n",
    "#Compilar\n",
    "model.compile(loss=tf.keras.losses.mae,\n",
    "                optimizer = tf.keras.optimizers.SGD(),\n",
    "                metrics = [\"mae\"])\n",
    "\n",
    "\n",
    "#Fit the model \n",
    "model.fit(X,Y,epochs=5)"
   ]
  },
  {
   "cell_type": "code",
   "execution_count": 18,
   "id": "f026b2d3",
   "metadata": {},
   "outputs": [
    {
     "data": {
      "text/plain": [
       "(<tf.Tensor: shape=(8,), dtype=float64, numpy=array([-7., -4., -1.,  2.,  5.,  8., 11., 14.])>,\n",
       " <tf.Tensor: shape=(8,), dtype=float64, numpy=array([ 3.,  6.,  9., 12., 15., 18., 21., 24.])>)"
      ]
     },
     "execution_count": 18,
     "metadata": {},
     "output_type": "execute_result"
    }
   ],
   "source": [
    "#Comprobar X, Y\n",
    "X,Y"
   ]
  },
  {
   "cell_type": "code",
   "execution_count": 20,
   "id": "b4fe852b",
   "metadata": {},
   "outputs": [
    {
     "data": {
      "text/plain": [
       "array([[23.71602]], dtype=float32)"
      ]
     },
     "execution_count": 20,
     "metadata": {},
     "output_type": "execute_result"
    }
   ],
   "source": [
    "#Hacer predicción con modelo\n",
    "y_pred = model.predict([17.0])\n",
    "y_pred+11"
   ]
  },
  {
   "cell_type": "code",
   "execution_count": null,
   "id": "905ff221",
   "metadata": {},
   "outputs": [],
   "source": [
    "#Mejorando el modelo\n",
    "#Se puede mejorar el modelo en cualquiera de los pasos anteriores."
   ]
  },
  {
   "cell_type": "code",
   "execution_count": 24,
   "id": "dbfc6c72",
   "metadata": {},
   "outputs": [
    {
     "name": "stdout",
     "output_type": "stream",
     "text": [
      "Epoch 1/100\n",
      "1/1 [==============================] - 1s 510ms/step - loss: 11.2219 - mae: 11.2219\n",
      "Epoch 2/100\n",
      "1/1 [==============================] - 0s 2ms/step - loss: 11.0894 - mae: 11.0894\n",
      "Epoch 3/100\n",
      "1/1 [==============================] - 0s 3ms/step - loss: 10.9569 - mae: 10.9569\n",
      "Epoch 4/100\n",
      "1/1 [==============================] - 0s 4ms/step - loss: 10.8244 - mae: 10.8244\n",
      "Epoch 5/100\n",
      "1/1 [==============================] - 0s 5ms/step - loss: 10.6919 - mae: 10.6919\n",
      "Epoch 6/100\n",
      "1/1 [==============================] - 0s 3ms/step - loss: 10.5594 - mae: 10.5594\n",
      "Epoch 7/100\n",
      "1/1 [==============================] - 0s 6ms/step - loss: 10.4269 - mae: 10.4269\n",
      "Epoch 8/100\n",
      "1/1 [==============================] - 0s 3ms/step - loss: 10.2944 - mae: 10.2944\n",
      "Epoch 9/100\n",
      "1/1 [==============================] - 0s 5ms/step - loss: 10.1619 - mae: 10.1619\n",
      "Epoch 10/100\n",
      "1/1 [==============================] - 0s 3ms/step - loss: 10.0294 - mae: 10.0294\n",
      "Epoch 11/100\n",
      "1/1 [==============================] - 0s 3ms/step - loss: 9.8969 - mae: 9.8969\n",
      "Epoch 12/100\n",
      "1/1 [==============================] - 0s 3ms/step - loss: 9.7644 - mae: 9.7644\n",
      "Epoch 13/100\n",
      "1/1 [==============================] - 0s 2ms/step - loss: 9.6319 - mae: 9.6319\n",
      "Epoch 14/100\n",
      "1/1 [==============================] - 0s 4ms/step - loss: 9.4994 - mae: 9.4994\n",
      "Epoch 15/100\n",
      "1/1 [==============================] - 0s 3ms/step - loss: 9.3669 - mae: 9.3669\n",
      "Epoch 16/100\n",
      "1/1 [==============================] - 0s 5ms/step - loss: 9.2344 - mae: 9.2344\n",
      "Epoch 17/100\n",
      "1/1 [==============================] - 0s 5ms/step - loss: 9.1019 - mae: 9.1019\n",
      "Epoch 18/100\n",
      "1/1 [==============================] - 0s 4ms/step - loss: 8.9694 - mae: 8.9694\n",
      "Epoch 19/100\n",
      "1/1 [==============================] - 0s 5ms/step - loss: 8.8369 - mae: 8.8369\n",
      "Epoch 20/100\n",
      "1/1 [==============================] - 0s 5ms/step - loss: 8.7044 - mae: 8.7044\n",
      "Epoch 21/100\n",
      "1/1 [==============================] - 0s 3ms/step - loss: 8.5719 - mae: 8.5719\n",
      "Epoch 22/100\n",
      "1/1 [==============================] - 0s 4ms/step - loss: 8.4394 - mae: 8.4394\n",
      "Epoch 23/100\n",
      "1/1 [==============================] - 0s 4ms/step - loss: 8.3069 - mae: 8.3069\n",
      "Epoch 24/100\n",
      "1/1 [==============================] - 0s 4ms/step - loss: 8.1744 - mae: 8.1744\n",
      "Epoch 25/100\n",
      "1/1 [==============================] - 0s 4ms/step - loss: 8.0419 - mae: 8.0419\n",
      "Epoch 26/100\n",
      "1/1 [==============================] - 0s 7ms/step - loss: 7.9094 - mae: 7.9094\n",
      "Epoch 27/100\n",
      "1/1 [==============================] - 0s 5ms/step - loss: 7.7769 - mae: 7.7769\n",
      "Epoch 28/100\n",
      "1/1 [==============================] - 0s 4ms/step - loss: 7.6444 - mae: 7.6444\n",
      "Epoch 29/100\n",
      "1/1 [==============================] - 0s 4ms/step - loss: 7.5119 - mae: 7.5119\n",
      "Epoch 30/100\n",
      "1/1 [==============================] - 0s 4ms/step - loss: 7.3794 - mae: 7.3794\n",
      "Epoch 31/100\n",
      "1/1 [==============================] - 0s 8ms/step - loss: 7.2750 - mae: 7.2750\n",
      "Epoch 32/100\n",
      "1/1 [==============================] - 0s 5ms/step - loss: 7.2694 - mae: 7.2694\n",
      "Epoch 33/100\n",
      "1/1 [==============================] - 0s 6ms/step - loss: 7.2638 - mae: 7.2638\n",
      "Epoch 34/100\n",
      "1/1 [==============================] - 0s 4ms/step - loss: 7.2581 - mae: 7.2581\n",
      "Epoch 35/100\n",
      "1/1 [==============================] - 0s 5ms/step - loss: 7.2525 - mae: 7.2525\n",
      "Epoch 36/100\n",
      "1/1 [==============================] - 0s 6ms/step - loss: 7.2469 - mae: 7.2469\n",
      "Epoch 37/100\n",
      "1/1 [==============================] - 0s 5ms/step - loss: 7.2412 - mae: 7.2412\n",
      "Epoch 38/100\n",
      "1/1 [==============================] - 0s 7ms/step - loss: 7.2356 - mae: 7.2356\n",
      "Epoch 39/100\n",
      "1/1 [==============================] - 0s 4ms/step - loss: 7.2300 - mae: 7.2300\n",
      "Epoch 40/100\n",
      "1/1 [==============================] - 0s 8ms/step - loss: 7.2244 - mae: 7.2244\n",
      "Epoch 41/100\n",
      "1/1 [==============================] - 0s 6ms/step - loss: 7.2188 - mae: 7.2188\n",
      "Epoch 42/100\n",
      "1/1 [==============================] - 0s 5ms/step - loss: 7.2131 - mae: 7.2131\n",
      "Epoch 43/100\n",
      "1/1 [==============================] - 0s 3ms/step - loss: 7.2075 - mae: 7.2075\n",
      "Epoch 44/100\n",
      "1/1 [==============================] - 0s 4ms/step - loss: 7.2019 - mae: 7.2019\n",
      "Epoch 45/100\n",
      "1/1 [==============================] - 0s 4ms/step - loss: 7.1962 - mae: 7.1962\n",
      "Epoch 46/100\n",
      "1/1 [==============================] - 0s 4ms/step - loss: 7.1906 - mae: 7.1906\n",
      "Epoch 47/100\n",
      "1/1 [==============================] - 0s 4ms/step - loss: 7.1850 - mae: 7.1850\n",
      "Epoch 48/100\n",
      "1/1 [==============================] - 0s 7ms/step - loss: 7.1794 - mae: 7.1794\n",
      "Epoch 49/100\n",
      "1/1 [==============================] - 0s 4ms/step - loss: 7.1737 - mae: 7.1737\n",
      "Epoch 50/100\n",
      "1/1 [==============================] - 0s 3ms/step - loss: 7.1681 - mae: 7.1681\n",
      "Epoch 51/100\n",
      "1/1 [==============================] - 0s 4ms/step - loss: 7.1625 - mae: 7.1625\n",
      "Epoch 52/100\n",
      "1/1 [==============================] - 0s 5ms/step - loss: 7.1569 - mae: 7.1569\n",
      "Epoch 53/100\n",
      "1/1 [==============================] - 0s 5ms/step - loss: 7.1512 - mae: 7.1512\n",
      "Epoch 54/100\n",
      "1/1 [==============================] - 0s 3ms/step - loss: 7.1456 - mae: 7.1456\n",
      "Epoch 55/100\n",
      "1/1 [==============================] - 0s 4ms/step - loss: 7.1400 - mae: 7.1400\n",
      "Epoch 56/100\n",
      "1/1 [==============================] - 0s 4ms/step - loss: 7.1344 - mae: 7.1344\n",
      "Epoch 57/100\n",
      "1/1 [==============================] - 0s 3ms/step - loss: 7.1287 - mae: 7.1287\n",
      "Epoch 58/100\n",
      "1/1 [==============================] - 0s 4ms/step - loss: 7.1231 - mae: 7.1231\n",
      "Epoch 59/100\n",
      "1/1 [==============================] - 0s 4ms/step - loss: 7.1175 - mae: 7.1175\n",
      "Epoch 60/100\n",
      "1/1 [==============================] - 0s 3ms/step - loss: 7.1119 - mae: 7.1119\n",
      "Epoch 61/100\n",
      "1/1 [==============================] - 0s 4ms/step - loss: 7.1062 - mae: 7.1062\n",
      "Epoch 62/100\n",
      "1/1 [==============================] - 0s 4ms/step - loss: 7.1006 - mae: 7.1006\n",
      "Epoch 63/100\n",
      "1/1 [==============================] - 0s 3ms/step - loss: 7.0950 - mae: 7.0950\n",
      "Epoch 64/100\n",
      "1/1 [==============================] - 0s 4ms/step - loss: 7.0894 - mae: 7.0894\n",
      "Epoch 65/100\n",
      "1/1 [==============================] - 0s 7ms/step - loss: 7.0838 - mae: 7.0838\n",
      "Epoch 66/100\n",
      "1/1 [==============================] - 0s 6ms/step - loss: 7.0781 - mae: 7.0781\n",
      "Epoch 67/100\n",
      "1/1 [==============================] - 0s 4ms/step - loss: 7.0725 - mae: 7.0725\n",
      "Epoch 68/100\n",
      "1/1 [==============================] - 0s 4ms/step - loss: 7.0669 - mae: 7.0669\n",
      "Epoch 69/100\n",
      "1/1 [==============================] - 0s 3ms/step - loss: 7.0613 - mae: 7.0613\n",
      "Epoch 70/100\n",
      "1/1 [==============================] - 0s 4ms/step - loss: 7.0556 - mae: 7.0556\n",
      "Epoch 71/100\n",
      "1/1 [==============================] - 0s 6ms/step - loss: 7.0500 - mae: 7.0500\n",
      "Epoch 72/100\n",
      "1/1 [==============================] - 0s 6ms/step - loss: 7.0444 - mae: 7.0444\n",
      "Epoch 73/100\n",
      "1/1 [==============================] - 0s 6ms/step - loss: 7.0388 - mae: 7.0388\n",
      "Epoch 74/100\n",
      "1/1 [==============================] - 0s 4ms/step - loss: 7.0331 - mae: 7.0331\n",
      "Epoch 75/100\n",
      "1/1 [==============================] - 0s 5ms/step - loss: 7.0275 - mae: 7.0275\n",
      "Epoch 76/100\n",
      "1/1 [==============================] - 0s 14ms/step - loss: 7.0219 - mae: 7.0219\n",
      "Epoch 77/100\n",
      "1/1 [==============================] - 0s 6ms/step - loss: 7.0163 - mae: 7.0163\n",
      "Epoch 78/100\n",
      "1/1 [==============================] - 0s 5ms/step - loss: 7.0106 - mae: 7.0106\n",
      "Epoch 79/100\n",
      "1/1 [==============================] - 0s 4ms/step - loss: 7.0050 - mae: 7.0050\n",
      "Epoch 80/100\n",
      "1/1 [==============================] - 0s 4ms/step - loss: 6.9994 - mae: 6.9994\n",
      "Epoch 81/100\n",
      "1/1 [==============================] - 0s 5ms/step - loss: 6.9938 - mae: 6.9938\n",
      "Epoch 82/100\n",
      "1/1 [==============================] - ETA: 0s - loss: 6.9881 - mae: 6.988 - 0s 5ms/step - loss: 6.9881 - mae: 6.9881\n",
      "Epoch 83/100\n",
      "1/1 [==============================] - 0s 4ms/step - loss: 6.9825 - mae: 6.9825\n",
      "Epoch 84/100\n",
      "1/1 [==============================] - 0s 3ms/step - loss: 6.9769 - mae: 6.9769\n",
      "Epoch 85/100\n",
      "1/1 [==============================] - 0s 5ms/step - loss: 6.9713 - mae: 6.9713\n",
      "Epoch 86/100\n",
      "1/1 [==============================] - 0s 3ms/step - loss: 6.9656 - mae: 6.9656\n",
      "Epoch 87/100\n",
      "1/1 [==============================] - 0s 4ms/step - loss: 6.9600 - mae: 6.9600\n",
      "Epoch 88/100\n"
     ]
    },
    {
     "name": "stdout",
     "output_type": "stream",
     "text": [
      "1/1 [==============================] - 0s 5ms/step - loss: 6.9544 - mae: 6.9544\n",
      "Epoch 89/100\n",
      "1/1 [==============================] - 0s 4ms/step - loss: 6.9488 - mae: 6.9488\n",
      "Epoch 90/100\n",
      "1/1 [==============================] - 0s 4ms/step - loss: 6.9431 - mae: 6.9431\n",
      "Epoch 91/100\n",
      "1/1 [==============================] - 0s 4ms/step - loss: 6.9375 - mae: 6.9375\n",
      "Epoch 92/100\n",
      "1/1 [==============================] - 0s 3ms/step - loss: 6.9319 - mae: 6.9319\n",
      "Epoch 93/100\n",
      "1/1 [==============================] - 0s 4ms/step - loss: 6.9263 - mae: 6.9263\n",
      "Epoch 94/100\n",
      "1/1 [==============================] - 0s 4ms/step - loss: 6.9206 - mae: 6.9206\n",
      "Epoch 95/100\n",
      "1/1 [==============================] - 0s 3ms/step - loss: 6.9150 - mae: 6.9150\n",
      "Epoch 96/100\n",
      "1/1 [==============================] - 0s 4ms/step - loss: 6.9094 - mae: 6.9094\n",
      "Epoch 97/100\n",
      "1/1 [==============================] - 0s 3ms/step - loss: 6.9038 - mae: 6.9038\n",
      "Epoch 98/100\n",
      "1/1 [==============================] - 0s 3ms/step - loss: 6.8981 - mae: 6.8981\n",
      "Epoch 99/100\n",
      "1/1 [==============================] - 0s 4ms/step - loss: 6.8925 - mae: 6.8925\n",
      "Epoch 100/100\n",
      "1/1 [==============================] - 0s 3ms/step - loss: 6.8869 - mae: 6.8869\n"
     ]
    },
    {
     "data": {
      "text/plain": [
       "<tensorflow.python.keras.callbacks.History at 0x7f66e06682d0>"
      ]
     },
     "execution_count": 24,
     "metadata": {},
     "output_type": "execute_result"
    }
   ],
   "source": [
    "model = tf.keras.Sequential([\n",
    "    tf.keras.layers.Dense(1)\n",
    "])\n",
    "\n",
    "model.compile(loss = tf.keras.losses.mae,\n",
    "              optimizer = tf.keras.optimizers.SGD(),\n",
    "              metrics = [\"mae\"])\n",
    "\n",
    "model.fit(X,Y,epochs = 100)"
   ]
  },
  {
   "cell_type": "code",
   "execution_count": 25,
   "id": "cbdbb0f1",
   "metadata": {},
   "outputs": [
    {
     "data": {
      "text/plain": [
       "(<tf.Tensor: shape=(8,), dtype=float64, numpy=array([-7., -4., -1.,  2.,  5.,  8., 11., 14.])>,\n",
       " <tf.Tensor: shape=(8,), dtype=float64, numpy=array([ 3.,  6.,  9., 12., 15., 18., 21., 24.])>)"
      ]
     },
     "execution_count": 25,
     "metadata": {},
     "output_type": "execute_result"
    }
   ],
   "source": [
    "#Acordarnos de los datos\n",
    "X,Y"
   ]
  },
  {
   "cell_type": "code",
   "execution_count": 29,
   "id": "e0412fbf",
   "metadata": {},
   "outputs": [
    {
     "data": {
      "text/plain": [
       "array([[29.739855]], dtype=float32)"
      ]
     },
     "execution_count": 29,
     "metadata": {},
     "output_type": "execute_result"
    }
   ],
   "source": [
    "model.predict([17.0])"
   ]
  },
  {
   "cell_type": "code",
   "execution_count": 44,
   "id": "8c729b64",
   "metadata": {},
   "outputs": [
    {
     "name": "stderr",
     "output_type": "stream",
     "text": [
      "/home/juan/anaconda3/lib/python3.7/site-packages/tensorflow/python/keras/optimizer_v2/optimizer_v2.py:375: UserWarning: The `lr` argument is deprecated, use `learning_rate` instead.\n",
      "  \"The `lr` argument is deprecated, use `learning_rate` instead.\")\n"
     ]
    },
    {
     "name": "stdout",
     "output_type": "stream",
     "text": [
      "Epoch 1/100\n",
      "1/1 [==============================] - 1s 504ms/step - loss: 13.9408 - mae: 13.9408\n",
      "Epoch 2/100\n",
      "1/1 [==============================] - 0s 3ms/step - loss: 8.1134 - mae: 8.1134\n",
      "Epoch 3/100\n",
      "1/1 [==============================] - 0s 4ms/step - loss: 7.6248 - mae: 7.6248\n",
      "Epoch 4/100\n",
      "1/1 [==============================] - 0s 4ms/step - loss: 5.9052 - mae: 5.9052\n",
      "Epoch 5/100\n",
      "1/1 [==============================] - 0s 4ms/step - loss: 6.9693 - mae: 6.9693\n",
      "Epoch 6/100\n",
      "1/1 [==============================] - 0s 3ms/step - loss: 5.3262 - mae: 5.3262\n",
      "Epoch 7/100\n",
      "1/1 [==============================] - 0s 9ms/step - loss: 3.7705 - mae: 3.7705\n",
      "Epoch 8/100\n",
      "1/1 [==============================] - 0s 4ms/step - loss: 3.5604 - mae: 3.5604\n",
      "Epoch 9/100\n",
      "1/1 [==============================] - 0s 3ms/step - loss: 1.3096 - mae: 1.3096\n",
      "Epoch 10/100\n",
      "1/1 [==============================] - 0s 5ms/step - loss: 3.1198 - mae: 3.1198\n",
      "Epoch 11/100\n",
      "1/1 [==============================] - 0s 4ms/step - loss: 3.9042 - mae: 3.9042\n",
      "Epoch 12/100\n",
      "1/1 [==============================] - 0s 5ms/step - loss: 2.9474 - mae: 2.9474\n",
      "Epoch 13/100\n",
      "1/1 [==============================] - 0s 3ms/step - loss: 3.0219 - mae: 3.0219\n",
      "Epoch 14/100\n",
      "1/1 [==============================] - 0s 5ms/step - loss: 1.5616 - mae: 1.5616\n",
      "Epoch 15/100\n",
      "1/1 [==============================] - 0s 3ms/step - loss: 1.6308 - mae: 1.6308\n",
      "Epoch 16/100\n",
      "1/1 [==============================] - 0s 4ms/step - loss: 1.1831 - mae: 1.1831\n",
      "Epoch 17/100\n",
      "1/1 [==============================] - 0s 4ms/step - loss: 2.5023 - mae: 2.5023\n",
      "Epoch 18/100\n",
      "1/1 [==============================] - 0s 3ms/step - loss: 2.6302 - mae: 2.6302\n",
      "Epoch 19/100\n",
      "1/1 [==============================] - 0s 3ms/step - loss: 1.0218 - mae: 1.0218\n",
      "Epoch 20/100\n",
      "1/1 [==============================] - 0s 4ms/step - loss: 2.9826 - mae: 2.9826\n",
      "Epoch 21/100\n",
      "1/1 [==============================] - 0s 5ms/step - loss: 3.5327 - mae: 3.5327\n",
      "Epoch 22/100\n",
      "1/1 [==============================] - 0s 3ms/step - loss: 2.2287 - mae: 2.2287\n",
      "Epoch 23/100\n",
      "1/1 [==============================] - 0s 7ms/step - loss: 1.3718 - mae: 1.3718\n",
      "Epoch 24/100\n",
      "1/1 [==============================] - 0s 3ms/step - loss: 2.2833 - mae: 2.2833\n",
      "Epoch 25/100\n",
      "1/1 [==============================] - 0s 3ms/step - loss: 1.8596 - mae: 1.8596\n",
      "Epoch 26/100\n",
      "1/1 [==============================] - 0s 6ms/step - loss: 0.3229 - mae: 0.3229\n",
      "Epoch 27/100\n",
      "1/1 [==============================] - 0s 5ms/step - loss: 2.5459 - mae: 2.5459\n",
      "Epoch 28/100\n",
      "1/1 [==============================] - 0s 3ms/step - loss: 3.3336 - mae: 3.3336\n",
      "Epoch 29/100\n",
      "1/1 [==============================] - 0s 5ms/step - loss: 2.1567 - mae: 2.1567\n",
      "Epoch 30/100\n",
      "1/1 [==============================] - 0s 5ms/step - loss: 0.6104 - mae: 0.6104\n",
      "Epoch 31/100\n",
      "1/1 [==============================] - 0s 5ms/step - loss: 1.5013 - mae: 1.5013\n",
      "Epoch 32/100\n",
      "1/1 [==============================] - ETA: 0s - loss: 0.7936 - mae: 0.793 - 0s 3ms/step - loss: 0.7936 - mae: 0.7936\n",
      "Epoch 33/100\n",
      "1/1 [==============================] - 0s 6ms/step - loss: 1.2696 - mae: 1.2696\n",
      "Epoch 34/100\n",
      "1/1 [==============================] - 0s 4ms/step - loss: 1.5960 - mae: 1.5960\n",
      "Epoch 35/100\n",
      "1/1 [==============================] - 0s 4ms/step - loss: 0.4473 - mae: 0.4473\n",
      "Epoch 36/100\n",
      "1/1 [==============================] - 0s 5ms/step - loss: 1.7737 - mae: 1.7737\n",
      "Epoch 37/100\n",
      "1/1 [==============================] - 0s 4ms/step - loss: 2.5517 - mae: 2.5517\n",
      "Epoch 38/100\n",
      "1/1 [==============================] - 0s 3ms/step - loss: 2.1999 - mae: 2.1999\n",
      "Epoch 39/100\n",
      "1/1 [==============================] - 0s 4ms/step - loss: 0.8734 - mae: 0.8734\n",
      "Epoch 40/100\n",
      "1/1 [==============================] - 0s 4ms/step - loss: 1.4677 - mae: 1.4677\n",
      "Epoch 41/100\n",
      "1/1 [==============================] - 0s 5ms/step - loss: 2.3111 - mae: 2.3111\n",
      "Epoch 42/100\n",
      "1/1 [==============================] - 0s 3ms/step - loss: 1.6561 - mae: 1.6561\n",
      "Epoch 43/100\n",
      "1/1 [==============================] - 0s 7ms/step - loss: 0.3812 - mae: 0.3812\n",
      "Epoch 44/100\n",
      "1/1 [==============================] - 0s 4ms/step - loss: 0.9643 - mae: 0.9643\n",
      "Epoch 45/100\n",
      "1/1 [==============================] - 0s 4ms/step - loss: 0.4243 - mae: 0.4243\n",
      "Epoch 46/100\n",
      "1/1 [==============================] - 0s 5ms/step - loss: 1.2808 - mae: 1.2808\n",
      "Epoch 47/100\n",
      "1/1 [==============================] - 0s 4ms/step - loss: 1.3609 - mae: 1.3609\n",
      "Epoch 48/100\n",
      "1/1 [==============================] - 0s 7ms/step - loss: 0.2691 - mae: 0.2691\n",
      "Epoch 49/100\n",
      "1/1 [==============================] - 0s 4ms/step - loss: 1.7420 - mae: 1.7420\n",
      "Epoch 50/100\n",
      "1/1 [==============================] - 0s 3ms/step - loss: 2.2987 - mae: 2.2987\n",
      "Epoch 51/100\n",
      "1/1 [==============================] - 0s 4ms/step - loss: 1.7302 - mae: 1.7302\n",
      "Epoch 52/100\n",
      "1/1 [==============================] - ETA: 0s - loss: 0.2768 - mae: 0.276 - 0s 4ms/step - loss: 0.2768 - mae: 0.2768\n",
      "Epoch 53/100\n",
      "1/1 [==============================] - 0s 4ms/step - loss: 2.0445 - mae: 2.0445\n",
      "Epoch 54/100\n",
      "1/1 [==============================] - 0s 4ms/step - loss: 2.7657 - mae: 2.7657\n",
      "Epoch 55/100\n",
      "1/1 [==============================] - 0s 8ms/step - loss: 2.0340 - mae: 2.0340\n",
      "Epoch 56/100\n",
      "1/1 [==============================] - 0s 5ms/step - loss: 0.1322 - mae: 0.1322\n",
      "Epoch 57/100\n",
      "1/1 [==============================] - 0s 5ms/step - loss: 2.4661 - mae: 2.4661\n",
      "Epoch 58/100\n",
      "1/1 [==============================] - 0s 6ms/step - loss: 3.3735 - mae: 3.3735\n",
      "Epoch 59/100\n",
      "1/1 [==============================] - 0s 5ms/step - loss: 2.8137 - mae: 2.8137\n",
      "Epoch 60/100\n",
      "1/1 [==============================] - 0s 5ms/step - loss: 1.2083 - mae: 1.2083\n",
      "Epoch 61/100\n",
      "1/1 [==============================] - 0s 8ms/step - loss: 1.1331 - mae: 1.1331\n",
      "Epoch 62/100\n",
      "1/1 [==============================] - ETA: 0s - loss: 1.7471 - mae: 1.747 - 0s 3ms/step - loss: 1.7471 - mae: 1.7471\n",
      "Epoch 63/100\n",
      "1/1 [==============================] - 0s 4ms/step - loss: 0.7294 - mae: 0.7294\n",
      "Epoch 64/100\n",
      "1/1 [==============================] - 0s 4ms/step - loss: 1.9014 - mae: 1.9014\n",
      "Epoch 65/100\n",
      "1/1 [==============================] - 0s 6ms/step - loss: 2.7045 - mae: 2.7045\n",
      "Epoch 66/100\n",
      "1/1 [==============================] - 0s 4ms/step - loss: 1.6852 - mae: 1.6852\n",
      "Epoch 67/100\n",
      "1/1 [==============================] - 0s 6ms/step - loss: 0.7079 - mae: 0.7079\n",
      "Epoch 68/100\n",
      "1/1 [==============================] - 0s 5ms/step - loss: 1.2994 - mae: 1.2994\n",
      "Epoch 69/100\n",
      "1/1 [==============================] - 0s 5ms/step - loss: 0.4447 - mae: 0.4447\n",
      "Epoch 70/100\n",
      "1/1 [==============================] - 0s 4ms/step - loss: 1.5951 - mae: 1.5951\n",
      "Epoch 71/100\n",
      "1/1 [==============================] - 0s 6ms/step - loss: 2.0570 - mae: 2.0570\n",
      "Epoch 72/100\n",
      "1/1 [==============================] - 0s 6ms/step - loss: 1.2969 - mae: 1.2969\n",
      "Epoch 73/100\n",
      "1/1 [==============================] - 0s 3ms/step - loss: 0.4626 - mae: 0.4626\n",
      "Epoch 74/100\n",
      "1/1 [==============================] - 0s 5ms/step - loss: 0.8547 - mae: 0.8547\n",
      "Epoch 75/100\n",
      "1/1 [==============================] - 0s 3ms/step - loss: 0.1882 - mae: 0.1882\n",
      "Epoch 76/100\n",
      "1/1 [==============================] - 0s 4ms/step - loss: 1.4833 - mae: 1.4833\n",
      "Epoch 77/100\n",
      "1/1 [==============================] - 0s 4ms/step - loss: 1.9662 - mae: 1.9662\n",
      "Epoch 78/100\n",
      "1/1 [==============================] - 0s 4ms/step - loss: 1.5848 - mae: 1.5848\n",
      "Epoch 79/100\n",
      "1/1 [==============================] - 0s 4ms/step - loss: 0.4255 - mae: 0.4255\n",
      "Epoch 80/100\n",
      "1/1 [==============================] - 0s 4ms/step - loss: 1.5550 - mae: 1.5550\n",
      "Epoch 81/100\n",
      "1/1 [==============================] - 0s 4ms/step - loss: 2.3509 - mae: 2.3509\n",
      "Epoch 82/100\n",
      "1/1 [==============================] - 0s 3ms/step - loss: 2.0074 - mae: 2.0074\n",
      "Epoch 83/100\n",
      "1/1 [==============================] - 0s 4ms/step - loss: 0.7097 - mae: 0.7097\n",
      "Epoch 84/100\n",
      "1/1 [==============================] - 0s 4ms/step - loss: 1.4898 - mae: 1.4898\n",
      "Epoch 85/100\n",
      "1/1 [==============================] - 0s 4ms/step - loss: 2.3137 - mae: 2.3137\n",
      "Epoch 86/100\n",
      "1/1 [==============================] - 0s 5ms/step - loss: 2.2761 - mae: 2.2761\n",
      "Epoch 87/100\n"
     ]
    },
    {
     "name": "stdout",
     "output_type": "stream",
     "text": [
      "1/1 [==============================] - 0s 3ms/step - loss: 1.4221 - mae: 1.4221\n",
      "Epoch 88/100\n",
      "1/1 [==============================] - 0s 6ms/step - loss: 1.6141 - mae: 1.6141\n",
      "Epoch 89/100\n",
      "1/1 [==============================] - 0s 3ms/step - loss: 1.6662 - mae: 1.6662\n",
      "Epoch 90/100\n",
      "1/1 [==============================] - 0s 4ms/step - loss: 0.9407 - mae: 0.9407\n",
      "Epoch 91/100\n",
      "1/1 [==============================] - 0s 4ms/step - loss: 2.0780 - mae: 2.0780\n",
      "Epoch 92/100\n",
      "1/1 [==============================] - 0s 6ms/step - loss: 2.3993 - mae: 2.3993\n",
      "Epoch 93/100\n",
      "1/1 [==============================] - 0s 4ms/step - loss: 1.3222 - mae: 1.3222\n",
      "Epoch 94/100\n",
      "1/1 [==============================] - 0s 3ms/step - loss: 0.8263 - mae: 0.8263\n",
      "Epoch 95/100\n",
      "1/1 [==============================] - 0s 4ms/step - loss: 1.2639 - mae: 1.2639\n",
      "Epoch 96/100\n",
      "1/1 [==============================] - 0s 3ms/step - loss: 0.8235 - mae: 0.8235\n",
      "Epoch 97/100\n",
      "1/1 [==============================] - 0s 3ms/step - loss: 1.6519 - mae: 1.6519\n",
      "Epoch 98/100\n",
      "1/1 [==============================] - 0s 5ms/step - loss: 1.8353 - mae: 1.8353\n",
      "Epoch 99/100\n",
      "1/1 [==============================] - 0s 5ms/step - loss: 1.3119 - mae: 1.3119\n",
      "Epoch 100/100\n",
      "1/1 [==============================] - 0s 4ms/step - loss: 0.3623 - mae: 0.3623\n"
     ]
    },
    {
     "data": {
      "text/plain": [
       "<tensorflow.python.keras.callbacks.History at 0x7f66d023de10>"
      ]
     },
     "execution_count": 44,
     "metadata": {},
     "output_type": "execute_result"
    }
   ],
   "source": [
    "#Extra capa oculta\n",
    "model = tf.keras.Sequential([\n",
    "    tf.keras.layers.Dense(100,activation=None),\n",
    "    tf.keras.layers.Dense(1)\n",
    "])\n",
    "\n",
    "model.compile(loss=tf.keras.losses.mae,\n",
    "             optimizer = tf.keras.optimizers.Adam(lr=10e-2),\n",
    "             metrics = [\"mae\"])\n",
    "\n",
    "model.fit(X,Y,epochs=100)"
   ]
  },
  {
   "cell_type": "code",
   "execution_count": 45,
   "id": "94306ef7",
   "metadata": {},
   "outputs": [
    {
     "data": {
      "text/plain": [
       "array([[28.145359]], dtype=float32)"
      ]
     },
     "execution_count": 45,
     "metadata": {},
     "output_type": "execute_result"
    }
   ],
   "source": [
    "model.predict([17.0])"
   ]
  },
  {
   "cell_type": "code",
   "execution_count": 46,
   "id": "2a8ff752",
   "metadata": {},
   "outputs": [],
   "source": [
    "#Evaluando un modelo \n",
    "#La manera de trabajar cuando se construye una red neuronal, es construir \n",
    "#un modelo, ajustarlo, evaluarlo, y repetir. \n",
    "\n",
    "#Evaluación de un modelo: visualizar, los datos, como son, el propio modelo\n",
    "#el entrenamiento y las predicciones. "
   ]
  },
  {
   "cell_type": "code",
   "execution_count": 49,
   "id": "7013d9af",
   "metadata": {},
   "outputs": [],
   "source": [
    "#Hacer un dataset más grande.\n",
    "X = tf.range(-100,100,4)\n",
    "Y = X+10\n"
   ]
  },
  {
   "cell_type": "code",
   "execution_count": 51,
   "id": "feb535fa",
   "metadata": {},
   "outputs": [
    {
     "data": {
      "text/plain": [
       "<matplotlib.collections.PathCollection at 0x7f66e0654550>"
      ]
     },
     "execution_count": 51,
     "metadata": {},
     "output_type": "execute_result"
    },
    {
     "data": {
      "image/png": "[encoded data removed]",
      "text/plain": [
       "<Figure size 432x288 with 1 Axes>"
      ]
     },
     "metadata": {
      "needs_background": "light"
     },
     "output_type": "display_data"
    }
   ],
   "source": [
    "#Visualizar\n",
    "import matplotlib.pyplot as plt\n",
    "plt.scatter(X,Y)"
   ]
  },
  {
   "cell_type": "code",
   "execution_count": 64,
   "id": "7d4c3cec",
   "metadata": {},
   "outputs": [],
   "source": [
    "###Los tres sets de los datos. \n",
    "# Training set, el modelo aprende de estos datos, ~70/80 de los datos.\n",
    "# Validation set, el set para corregir hiperparámetros ~10/15 del data\n",
    "# Test set, el modelo se evalúa, ~10/15 de los datos. "
   ]
  },
  {
   "cell_type": "code",
   "execution_count": 65,
   "id": "12ac7d5d",
   "metadata": {},
   "outputs": [
    {
     "data": {
      "text/plain": [
       "(<tf.Tensor: shape=(40,), dtype=int32, numpy=\n",
       " array([-100,  -96,  -92,  -88,  -84,  -80,  -76,  -72,  -68,  -64,  -60,\n",
       "         -56,  -52,  -48,  -44,  -40,  -36,  -32,  -28,  -24,  -20,  -16,\n",
       "         -12,   -8,   -4,    0,    4,    8,   12,   16,   20,   24,   28,\n",
       "          32,   36,   40,   44,   48,   52,   56], dtype=int32)>,\n",
       " <tf.Tensor: shape=(10,), dtype=int32, numpy=array([60, 64, 68, 72, 76, 80, 84, 88, 92, 96], dtype=int32)>)"
      ]
     },
     "execution_count": 65,
     "metadata": {},
     "output_type": "execute_result"
    }
   ],
   "source": [
    "X_train = X[:int(len(X)*0.8)]\n",
    "Y_train = Y[:int(len(Y)*0.8)]\n",
    "X_test = X[int(len(X)*0.8):]\n",
    "Y_test = Y[int(len(Y)*0.8):]\n",
    "X_train,X_test"
   ]
  },
  {
   "cell_type": "code",
   "execution_count": 68,
   "id": "78a94dcb",
   "metadata": {},
   "outputs": [
    {
     "data": {
      "text/plain": [
       "<matplotlib.legend.Legend at 0x7f66e21687d0>"
      ]
     },
     "execution_count": 68,
     "metadata": {},
     "output_type": "execute_result"
    },
    {
     "data": {
      "image/png": "[encoded data removed]",
      "text/plain": [
       "<Figure size 720x504 with 1 Axes>"
      ]
     },
     "metadata": {
      "needs_background": "light"
     },
     "output_type": "display_data"
    }
   ],
   "source": [
    "##Visualizar\n",
    "plt.figure(figsize=(10,7))\n",
    "plt.scatter(X_train,Y_train,c=\"b\",label = \"train\")\n",
    "plt.scatter(X_test,Y_test,c=\"g\",label = \"test\")\n",
    "plt.legend()"
   ]
  },
  {
   "cell_type": "code",
   "execution_count": 70,
   "id": "5ad88725",
   "metadata": {},
   "outputs": [],
   "source": [
    "#Mirar como construir una red neuronal para nuestros datos \n",
    "\n",
    "model = tf.keras.Sequential([\n",
    "    tf.keras.layers.Dense(1)\n",
    "])\n",
    "\n",
    "model.compile(loss=tf.ke ras.losses.mae,\n",
    "             optimizer=tf.keras.optimizers.SGD(),\n",
    "             metrics=[\"mae\"])\n",
    "\n",
    "#model.fit(X_train,Y_train,epochs=100)"
   ]
  },
  {
   "cell_type": "code",
   "execution_count": 71,
   "id": "27175b5f",
   "metadata": {},
   "outputs": [
    {
     "ename": "ValueError",
     "evalue": "This model has not yet been built. Build the model first by calling `build()` or calling `fit()` with some data, or specify an `input_shape` argument in the first layer(s) for automatic build.",
     "output_type": "error",
     "traceback": [
      "\u001b[0;31m---------------------------------------------------------------------------\u001b[0m",
      "\u001b[0;31mValueError\u001b[0m                                Traceback (most recent call last)",
      "\u001b[0;32m<ipython-input-71-5c4ba8bffd25>\u001b[0m in \u001b[0;36m<module>\u001b[0;34m\u001b[0m\n\u001b[1;32m      1\u001b[0m \u001b[0;31m#Visulizando el modelo\u001b[0m\u001b[0;34m\u001b[0m\u001b[0;34m\u001b[0m\u001b[0;34m\u001b[0m\u001b[0m\n\u001b[0;32m----> 2\u001b[0;31m \u001b[0mmodel\u001b[0m\u001b[0;34m.\u001b[0m\u001b[0msummary\u001b[0m\u001b[0;34m(\u001b[0m\u001b[0;34m)\u001b[0m\u001b[0;34m\u001b[0m\u001b[0;34m\u001b[0m\u001b[0m\n\u001b[0m",
      "\u001b[0;32m~/anaconda3/lib/python3.7/site-packages/tensorflow/python/keras/engine/training.py\u001b[0m in \u001b[0;36msummary\u001b[0;34m(self, line_length, positions, print_fn)\u001b[0m\n\u001b[1;32m   2475\u001b[0m     \"\"\"\n\u001b[1;32m   2476\u001b[0m     \u001b[0;32mif\u001b[0m \u001b[0;32mnot\u001b[0m \u001b[0mself\u001b[0m\u001b[0;34m.\u001b[0m\u001b[0mbuilt\u001b[0m\u001b[0;34m:\u001b[0m\u001b[0;34m\u001b[0m\u001b[0;34m\u001b[0m\u001b[0m\n\u001b[0;32m-> 2477\u001b[0;31m       raise ValueError('This model has not yet been built. '\n\u001b[0m\u001b[1;32m   2478\u001b[0m                        \u001b[0;34m'Build the model first by calling `build()` or calling '\u001b[0m\u001b[0;34m\u001b[0m\u001b[0;34m\u001b[0m\u001b[0m\n\u001b[1;32m   2479\u001b[0m                        \u001b[0;34m'`fit()` with some data, or specify '\u001b[0m\u001b[0;34m\u001b[0m\u001b[0;34m\u001b[0m\u001b[0m\n",
      "\u001b[0;31mValueError\u001b[0m: This model has not yet been built. Build the model first by calling `build()` or calling `fit()` with some data, or specify an `input_shape` argument in the first layer(s) for automatic build."
     ]
    }
   ],
   "source": [
    "#Visulizando el modelo\n",
    "model.build()"
   ]
  },
  {
   "cell_type": "code",
   "execution_count": 104,
   "id": "d5877694",
   "metadata": {},
   "outputs": [],
   "source": [
    "#Crear un modelo que se construya automaticamente definiendo la \n",
    "#shape de la entrada de datos en la primera capa\n",
    "tf.random.set_seed(42)\n",
    "\n",
    "model = tf.keras.Sequential([\n",
    "    tf.keras.layers.Dense(10,input_shape=[1],name = \"input_layer\"),\n",
    "    tf.keras.layers.Dense(1,name=\"output_layer\")\n",
    "],name = \"model_1\")\n",
    "\n",
    "model.compile(loss=tf.keras.losses.mae,\n",
    "             optimizer=tf.keras.optimizers.SGD(),\n",
    "             metrics=[\"mae\"])\n"
   ]
  },
  {
   "cell_type": "code",
   "execution_count": 105,
   "id": "28909cee",
   "metadata": {},
   "outputs": [
    {
     "name": "stdout",
     "output_type": "stream",
     "text": [
      "Model: \"model_1\"\n",
      "_________________________________________________________________\n",
      "Layer (type)                 Output Shape              Param #   \n",
      "=================================================================\n",
      "input_layer (Dense)          (None, 10)                20        \n",
      "_________________________________________________________________\n",
      "output_layer (Dense)         (None, 1)                 11        \n",
      "=================================================================\n",
      "Total params: 31\n",
      "Trainable params: 31\n",
      "Non-trainable params: 0\n",
      "_________________________________________________________________\n"
     ]
    }
   ],
   "source": [
    "model.summary()"
   ]
  },
  {
   "cell_type": "code",
   "execution_count": 106,
   "id": "8ec14fc2",
   "metadata": {},
   "outputs": [],
   "source": [
    "#Total-params, qué número de patrones el modelo puede extraer.\n",
    "#Params entrenables, lo anterior. Cuando son diferentes, es porque\n",
    "#puede venir de un modelo preconfigurado, con patrones ya entrenados.\n",
    "#En este caso son 2, un peso y un offset."
   ]
  },
  {
   "cell_type": "code",
   "execution_count": 107,
   "id": "ab9b0ad9",
   "metadata": {},
   "outputs": [
    {
     "data": {
      "text/plain": [
       "<tensorflow.python.keras.callbacks.History at 0x7f67e876b150>"
      ]
     },
     "execution_count": 107,
     "metadata": {},
     "output_type": "execute_result"
    }
   ],
   "source": [
    "model.fit(X_train,Y_train,epochs = 100,verbose = 0)"
   ]
  },
  {
   "cell_type": "code",
   "execution_count": 108,
   "id": "0eac31d1",
   "metadata": {},
   "outputs": [
    {
     "data": {
      "image/png": "[encoded data removed]",
      "text/plain": [
       "<IPython.core.display.Image object>"
      ]
     },
     "execution_count": 108,
     "metadata": {},
     "output_type": "execute_result"
    }
   ],
   "source": [
    "#Mas visualización\n",
    "from tensorflow.keras.utils import plot_model\n",
    "\n",
    "plot_model(model=model,show_shapes=True)"
   ]
  },
  {
   "cell_type": "code",
   "execution_count": 109,
   "id": "d24109b5",
   "metadata": {},
   "outputs": [],
   "source": [
    "#Visualizar las predicciones de nuestros modelos\n",
    "#Para visualizar estas predicciones, es buena idea dibujarlas contra\n",
    "#las labels.\n",
    "#y_pred vs y_true"
   ]
  },
  {
   "cell_type": "code",
   "execution_count": 111,
   "id": "555d5282",
   "metadata": {},
   "outputs": [
    {
     "data": {
      "text/plain": [
       "array([[ 70.552185],\n",
       "       [ 75.13991 ],\n",
       "       [ 79.72764 ],\n",
       "       [ 84.315346],\n",
       "       [ 88.90308 ],\n",
       "       [ 93.49081 ],\n",
       "       [ 98.07852 ],\n",
       "       [102.666245],\n",
       "       [107.253975],\n",
       "       [111.84169 ]], dtype=float32)"
      ]
     },
     "execution_count": 111,
     "metadata": {},
     "output_type": "execute_result"
    }
   ],
   "source": [
    "#Algunas predicciones\n",
    "y_pred = model.predict(X_test)\n",
    "y_pred"
   ]
  },
  {
   "cell_type": "code",
   "execution_count": 113,
   "id": "ed99e8df",
   "metadata": {},
   "outputs": [
    {
     "data": {
      "text/plain": [
       "<tf.Tensor: shape=(10,), dtype=int32, numpy=array([ 70,  74,  78,  82,  86,  90,  94,  98, 102, 106], dtype=int32)>"
      ]
     },
     "execution_count": 113,
     "metadata": {},
     "output_type": "execute_result"
    }
   ],
   "source": [
    "Y_test"
   ]
  },
  {
   "cell_type": "code",
   "execution_count": 173,
   "id": "5f5e8576",
   "metadata": {},
   "outputs": [],
   "source": [
    "#Creación de función de ploteo\n",
    "def plot_predictions(train_data = X_train,\n",
    "                     train_labels=Y_train,\n",
    "                     test_data =X_test,\n",
    "                     test_labels=Y_test,\n",
    "                     predictions=y_pred):\n",
    "#\"Plotea los datos de entrenamiento y compara las prediccciones\"\n",
    "#\"con los valores verdaderos\"\n",
    "    plt.figure(figsize=(10,7))\n",
    "    plt.scatter(train_data,train_labels,c=\"b\",label=\"Training data\")\n",
    "    plt.scatter(test_data,test_labels,c=\"g\",label=\"Testing data\")\n",
    "    plt.scatter(test_data,predictions,c=\"r\",label=\"Predictions\")\n",
    "    plt.legend();"
   ]
  },
  {
   "cell_type": "code",
   "execution_count": 174,
   "id": "d85605c2",
   "metadata": {},
   "outputs": [
    {
     "data": {
      "image/png": "[encoded data removed]",
      "text/plain": [
       "<Figure size 720x504 with 1 Axes>"
      ]
     },
     "metadata": {
      "needs_background": "light"
     },
     "output_type": "display_data"
    }
   ],
   "source": [
    "plot_predictions(train_data = X_train,\n",
    "                     train_labels=Y_train,\n",
    "                     test_data =X_test,\n",
    "                     test_labels=Y_test,\n",
    "                     predictions=y_pred)"
   ]
  },
  {
   "cell_type": "code",
   "execution_count": 175,
   "id": "4051118c",
   "metadata": {},
   "outputs": [],
   "source": [
    "#Evaluando las predicciones de nuestros modelos con métricas\n",
    "#En un problema de regresión, suelen ser MAE and MSE, Huber...\n"
   ]
  },
  {
   "cell_type": "code",
   "execution_count": 176,
   "id": "9eae66f2",
   "metadata": {},
   "outputs": [
    {
     "name": "stdout",
     "output_type": "stream",
     "text": [
      "1/1 [==============================] - 0s 127ms/step - loss: 18.7453 - mae: 18.7453\n"
     ]
    },
    {
     "data": {
      "text/plain": [
       "[18.74532699584961, 18.74532699584961]"
      ]
     },
     "execution_count": 176,
     "metadata": {},
     "output_type": "execute_result"
    }
   ],
   "source": [
    "#Evaluar en el test set\n",
    "model.evaluate(X_test,Y_test)"
   ]
  },
  {
   "cell_type": "code",
   "execution_count": 177,
   "id": "d3d07854",
   "metadata": {},
   "outputs": [
    {
     "data": {
      "text/plain": [
       "3.1969398498535155"
      ]
     },
     "execution_count": 177,
     "metadata": {},
     "output_type": "execute_result"
    }
   ],
   "source": [
    " #Calcular el mae \n",
    "tf.reduce_sum(tf.abs(tf.subtract(tf.squeeze(tf.constant(y_pred)),\n",
    "                   tf.cast(Y_test,dtype=tf.float32)))).numpy()/len(Y_test)"
   ]
  },
  {
   "cell_type": "code",
   "execution_count": 178,
   "id": "7c54df8a",
   "metadata": {},
   "outputs": [
    {
     "data": {
      "text/plain": [
       "<tf.Tensor: shape=(), dtype=float32, numpy=3.19694>"
      ]
     },
     "execution_count": 178,
     "metadata": {},
     "output_type": "execute_result"
    }
   ],
   "source": [
    "#Calcular el mae\n",
    "tf.metrics.mean_absolute_error(Y_test,tf.squeeze(y_pred))"
   ]
  },
  {
   "cell_type": "code",
   "execution_count": 179,
   "id": "99a23843",
   "metadata": {},
   "outputs": [
    {
     "data": {
      "text/plain": [
       "<tf.Tensor: shape=(), dtype=float32, numpy=13.070127>"
      ]
     },
     "execution_count": 179,
     "metadata": {},
     "output_type": "execute_result"
    }
   ],
   "source": [
    "#Calcular el mse \n",
    "tf.keras.metrics.mean_squared_error(Y_test,tf.squeeze(y_pred))"
   ]
  },
  {
   "cell_type": "code",
   "execution_count": 180,
   "id": "86e2d53d",
   "metadata": {},
   "outputs": [
    {
     "data": {
      "text/plain": [
       "13.070126342773438"
      ]
     },
     "execution_count": 180,
     "metadata": {},
     "output_type": "execute_result"
    }
   ],
   "source": [
    "#Calcular el mse\n",
    "tf.reduce_sum(tf.square(tf.subtract(tf.squeeze(tf.constant(y_pred)),\n",
    "                   tf.cast(Y_test,dtype=tf.float32)))).numpy()/len(Y_test)"
   ]
  },
  {
   "cell_type": "code",
   "execution_count": 181,
   "id": "90a09825",
   "metadata": {},
   "outputs": [
    {
     "data": {
      "text/plain": [
       "<tf.Tensor: shape=(), dtype=float32, numpy=2.7069669>"
      ]
     },
     "execution_count": 181,
     "metadata": {},
     "output_type": "execute_result"
    }
   ],
   "source": [
    "#Probar hubber\n",
    "huber = tf.keras.losses.Huber()\n",
    "huber(Y_test,tf.squeeze(y_pred))"
   ]
  },
  {
   "cell_type": "code",
   "execution_count": 192,
   "id": "dec34881",
   "metadata": {},
   "outputs": [],
   "source": [
    "#Hacer algunas funciones para reutilizar MAE y MSE\n",
    "def mae(y_true,y_pred):\n",
    "    return tf.metrics.mean_absolute_error(y_true=y_true,y_pred=tf.squeeze(y_pred))\n",
    "\n",
    "def mse(y_true,y_pred):\n",
    "    return tf.metrics.mean_squared_error(y_true=y_true,y_pred=tf.squeeze(y_pred))"
   ]
  },
  {
   "cell_type": "code",
   "execution_count": 193,
   "id": "54c12e55",
   "metadata": {},
   "outputs": [],
   "source": [
    "##Hacer experimentos para mejorar el modelo\n",
    "#Tres experimentos para mejorar\n",
    "#model_1, el mismo que el original\n",
    "#model_2, 2 capas, 100 epochs\n",
    "#model_3, 2 capas, 500 epochs"
   ]
  },
  {
   "cell_type": "code",
   "execution_count": 194,
   "id": "16c2a942",
   "metadata": {},
   "outputs": [
    {
     "data": {
      "text/plain": [
       "<tensorflow.python.keras.callbacks.History at 0x7f67d5c59e10>"
      ]
     },
     "execution_count": 194,
     "metadata": {},
     "output_type": "execute_result"
    }
   ],
   "source": [
    "#model_1 \n",
    "tf.random.set_seed(42)\n",
    "\n",
    "model_1 =tf.keras.Sequential([\n",
    "    tf.keras.layers.Dense(1)\n",
    "])\n",
    "\n",
    "model_1.compile(loss=tf.keras.losses.mae,\n",
    "             optimizer=tf.keras.optimizers.SGD(),\n",
    "             metrics=[\"mae\"])\n",
    "\n",
    "model_1.fit(X_train,Y_train,epochs=100,verbose=0)"
   ]
  },
  {
   "cell_type": "code",
   "execution_count": 195,
   "id": "e0598972",
   "metadata": {},
   "outputs": [
    {
     "data": {
      "image/png": "[encoded data removed]",
      "text/plain": [
       "<Figure size 720x504 with 1 Axes>"
      ]
     },
     "metadata": {
      "needs_background": "light"
     },
     "output_type": "display_data"
    }
   ],
   "source": [
    "#Hacer y visualizar prediccions\n",
    "y_preds_1 = model_1.predict(X_test)\n",
    "plot_predictions(predictions=y_preds_1)"
   ]
  },
  {
   "cell_type": "code",
   "execution_count": 197,
   "id": "c2c73e9c",
   "metadata": {},
   "outputs": [
    {
     "data": {
      "text/plain": [
       "(<tf.Tensor: shape=(), dtype=float32, numpy=18.745327>,\n",
       " <tf.Tensor: shape=(), dtype=float32, numpy=353.57336>)"
      ]
     },
     "execution_count": 197,
     "metadata": {},
     "output_type": "execute_result"
    }
   ],
   "source": [
    "#Calcular las métricas dy_prede evaluación de metrics\n",
    "mae_1 = mae(Y_test,y_preds_1)\n",
    "mse_1 = mse(Y_test,y_preds_1)\n",
    "mae_1,mse_1"
   ]
  },
  {
   "cell_type": "code",
   "execution_count": 241,
   "id": "5df63221",
   "metadata": {},
   "outputs": [
    {
     "data": {
      "text/plain": [
       "<tensorflow.python.keras.callbacks.History at 0x7f67d51a7350>"
      ]
     },
     "execution_count": 241,
     "metadata": {},
     "output_type": "execute_result"
    }
   ],
   "source": [
    "#Model_2\n",
    "tf.random.set_seed(42)\n",
    "\n",
    "model_2 = tf.keras.Sequential([\n",
    "    tf.keras.layers.Dense(10),\n",
    "    tf.keras.layers.Dense(1)\n",
    "])\n",
    "\n",
    "model_2.compile(loss=tf.keras.losses.mae,\n",
    "              optimizer=tf.keras.optimizers.SGD(),\n",
    "              metrics=[\"mse\"]\n",
    "             )\n",
    "\n",
    "model_2.fit(X_train,Y_train,epochs=100,verbose=0)"
   ]
  },
  {
   "cell_type": "code",
   "execution_count": 242,
   "id": "01fe131f",
   "metadata": {},
   "outputs": [
    {
     "data": {
      "image/png": "[encoded data removed]",
      "text/plain": [
       "<Figure size 720x504 with 1 Axes>"
      ]
     },
     "metadata": {
      "needs_background": "light"
     },
     "output_type": "display_data"
    }
   ],
   "source": [
    "y_preds_2 = model_2.predict(X_test)\n",
    "plot_predictions(predictions=y_preds_2)"
   ]
  },
  {
   "cell_type": "code",
   "execution_count": 246,
   "id": "134832d0",
   "metadata": {},
   "outputs": [
    {
     "data": {
      "text/plain": [
       "(<tf.Tensor: shape=(), dtype=float32, numpy=3.19694>,\n",
       " <tf.Tensor: shape=(), dtype=float32, numpy=13.070127>)"
      ]
     },
     "execution_count": 246,
     "metadata": {},
     "output_type": "execute_result"
    }
   ],
   "source": [
    "#Calcular la evaluación con la métrica\n",
    "mae_2 =mae(Y_test,y_preds_2)\n",
    "mse_2 =mse(Y_test,y_preds_2)\n",
    "mae_2,mse_2"
   ]
  },
  {
   "cell_type": "code",
   "execution_count": 248,
   "id": "a6833dcc",
   "metadata": {},
   "outputs": [
    {
     "data": {
      "text/plain": [
       "<tensorflow.python.keras.callbacks.History at 0x7f67bfe49910>"
      ]
     },
     "execution_count": 248,
     "metadata": {},
     "output_type": "execute_result"
    }
   ],
   "source": [
    "#Build model_3\n",
    "\n",
    "model_3 = tf.keras.Sequential([\n",
    "    tf.keras.layers.Dense(10),\n",
    "    tf.keras.layers.Dense(1)\n",
    "])\n",
    "\n",
    "model_3.compile(loss=tf.keras.losses.mae,\n",
    "               optimizer=tf.keras.optimizers.SGD(),\n",
    "               metrics=[\"mae\"])\n",
    "\n",
    "model_3.fit(X_train,Y_train,epochs=500,verbose=0)"
   ]
  },
  {
   "cell_type": "code",
   "execution_count": 250,
   "id": "b7f52884",
   "metadata": {},
   "outputs": [
    {
     "data": {
      "image/png": "[encoded data removed]",
      "text/plain": [
       "<Figure size 720x504 with 1 Axes>"
      ]
     },
     "metadata": {
      "needs_background": "light"
     },
     "output_type": "display_data"
    }
   ],
   "source": [
    "y_preds_3 = model_3.predict(X_test)\n",
    "plot_predictions(predictions=y_preds_3)\n",
    "#Overfittea"
   ]
  },
  {
   "cell_type": "code",
   "execution_count": 251,
   "id": "0fe3d47e",
   "metadata": {},
   "outputs": [
    {
     "data": {
      "text/plain": [
       "(<tf.Tensor: shape=(), dtype=float32, numpy=68.71602>,\n",
       " <tf.Tensor: shape=(), dtype=float32, numpy=4808.3706>)"
      ]
     },
     "execution_count": 251,
     "metadata": {},
     "output_type": "execute_result"
    }
   ],
   "source": [
    "mae_3 = mae(Y_test,y_preds_3)\n",
    "mse_3 = mse(Y_test,y_preds_3)\n",
    "mae_3,mse_3"
   ]
  },
  {
   "cell_type": "code",
   "execution_count": 254,
   "id": "13391936",
   "metadata": {},
   "outputs": [
    {
     "data": {
      "text/html": [
       "<div>\n",
       "<style scoped>\n",
       "    .dataframe tbody tr th:only-of-type {\n",
       "        vertical-align: middle;\n",
       "    }\n",
       "\n",
       "    .dataframe tbody tr th {\n",
       "        vertical-align: top;\n",
       "    }\n",
       "\n",
       "    .dataframe thead th {\n",
       "        text-align: right;\n",
       "    }\n",
       "</style>\n",
       "<table border=\"1\" class=\"dataframe\">\n",
       "  <thead>\n",
       "    <tr style=\"text-align: right;\">\n",
       "      <th></th>\n",
       "      <th>model</th>\n",
       "      <th>mae</th>\n",
       "      <th>mse</th>\n",
       "    </tr>\n",
       "  </thead>\n",
       "  <tbody>\n",
       "    <tr>\n",
       "      <th>0</th>\n",
       "      <td>model_1</td>\n",
       "      <td>18.745327</td>\n",
       "      <td>353.573364</td>\n",
       "    </tr>\n",
       "    <tr>\n",
       "      <th>1</th>\n",
       "      <td>model_2</td>\n",
       "      <td>3.196940</td>\n",
       "      <td>13.070127</td>\n",
       "    </tr>\n",
       "    <tr>\n",
       "      <th>2</th>\n",
       "      <td>model_3</td>\n",
       "      <td>68.716019</td>\n",
       "      <td>4808.370605</td>\n",
       "    </tr>\n",
       "  </tbody>\n",
       "</table>\n",
       "</div>"
      ],
      "text/plain": [
       "     model        mae          mse\n",
       "0  model_1  18.745327   353.573364\n",
       "1  model_2   3.196940    13.070127\n",
       "2  model_3  68.716019  4808.370605"
      ]
     },
     "execution_count": 254,
     "metadata": {},
     "output_type": "execute_result"
    }
   ],
   "source": [
    "#Comparar los resultados de los experimentos\n",
    "#Crear un dataframe de pandas\n",
    "import pandas as pd\n",
    "model_results = [[\"model_1\",mae_1.numpy(),mse_1.numpy()],\n",
    "                [\"model_2\",mae_2.numpy(),mse_2.numpy()],\n",
    "                [\"model_3\",mae_3.numpy(),mse_3.numpy()]]\n",
    "all_results=pd.DataFrame(model_results,columns = [\"model\",\"mae\",\"mse\"])\n",
    "all_results"
   ]
  },
  {
   "cell_type": "code",
   "execution_count": 255,
   "id": "76787890",
   "metadata": {},
   "outputs": [
    {
     "name": "stdout",
     "output_type": "stream",
     "text": [
      "Model: \"sequential_48\"\n",
      "_________________________________________________________________\n",
      "Layer (type)                 Output Shape              Param #   \n",
      "=================================================================\n",
      "dense_71 (Dense)             (None, 10)                20        \n",
      "_________________________________________________________________\n",
      "dense_72 (Dense)             (None, 1)                 11        \n",
      "=================================================================\n",
      "Total params: 31\n",
      "Trainable params: 31\n",
      "Non-trainable params: 0\n",
      "_________________________________________________________________\n"
     ]
    }
   ],
   "source": [
    "model_2.summary()"
   ]
  },
  {
   "cell_type": "code",
   "execution_count": 256,
   "id": "8675c447",
   "metadata": {},
   "outputs": [],
   "source": [
    "#Trackeando los experimentos\n",
    "#Guardar resultados de modelos\n",
    "#TensorBoard, si no lo menciona, buscar\n",
    "#Weights & biases, buscarlo"
   ]
  },
  {
   "cell_type": "code",
   "execution_count": 257,
   "id": "53a47f74",
   "metadata": {},
   "outputs": [],
   "source": [
    "#Guardar modelos\n",
    "#Tensorflow serving , buscar\n",
    "#Hay dos formatos, SavedModel , HDF5"
   ]
  },
  {
   "cell_type": "code",
   "execution_count": 258,
   "id": "4abb0da4",
   "metadata": {},
   "outputs": [
    {
     "name": "stdout",
     "output_type": "stream",
     "text": [
      "INFO:tensorflow:Assets written to: best_model_SavedModel_format/assets\n"
     ]
    }
   ],
   "source": [
    "model_2.save(\"best_model_SavedModel_format\")"
   ]
  },
  {
   "cell_type": "code",
   "execution_count": 259,
   "id": "8be43b48",
   "metadata": {},
   "outputs": [
    {
     "name": "stdout",
     "output_type": "stream",
     "text": [
      "INFO:tensorflow:Assets written to: best_model_HDF5_format/assets\n"
     ]
    }
   ],
   "source": [
    "model_2.save(\"best_model_HDF5_format\")"
   ]
  },
  {
   "cell_type": "code",
   "execution_count": 261,
   "id": "fa96b1ea",
   "metadata": {},
   "outputs": [
    {
     "name": "stdout",
     "output_type": "stream",
     "text": [
      "Model: \"sequential_48\"\n",
      "_________________________________________________________________\n",
      "Layer (type)                 Output Shape              Param #   \n",
      "=================================================================\n",
      "dense_71 (Dense)             (None, 10)                20        \n",
      "_________________________________________________________________\n",
      "dense_72 (Dense)             (None, 1)                 11        \n",
      "=================================================================\n",
      "Total params: 31\n",
      "Trainable params: 31\n",
      "Non-trainable params: 0\n",
      "_________________________________________________________________\n"
     ]
    }
   ],
   "source": [
    "#Cargar modelo en el SavedModel format\n",
    "loaded_SavedModel_format = tf.keras.models.load_model(\"best_model_SavedModel_format\")\n",
    "loaded_SavedModel_format.summary()"
   ]
  },
  {
   "cell_type": "code",
   "execution_count": 262,
   "id": "34637b38",
   "metadata": {},
   "outputs": [
    {
     "name": "stdout",
     "output_type": "stream",
     "text": [
      "Model: \"sequential_48\"\n",
      "_________________________________________________________________\n",
      "Layer (type)                 Output Shape              Param #   \n",
      "=================================================================\n",
      "dense_71 (Dense)             (None, 10)                20        \n",
      "_________________________________________________________________\n",
      "dense_72 (Dense)             (None, 1)                 11        \n",
      "=================================================================\n",
      "Total params: 31\n",
      "Trainable params: 31\n",
      "Non-trainable params: 0\n",
      "_________________________________________________________________\n"
     ]
    }
   ],
   "source": [
    "model_2.summary()"
   ]
  },
  {
   "cell_type": "code",
   "execution_count": 273,
   "id": "a3455e41",
   "metadata": {},
   "outputs": [],
   "source": [
    "#Comparar los pesos usando predicciones\n",
    "model_2_preds = model_2.predict(X_test)\n",
    "loaded_SavedModel_format_preds = loaded_SavedModel_format.predict(X_test)"
   ]
  },
  {
   "cell_type": "code",
   "execution_count": 274,
   "id": "aa5e90d0",
   "metadata": {},
   "outputs": [
    {
     "data": {
      "text/plain": [
       "<tf.Tensor: shape=(), dtype=bool, numpy=True>"
      ]
     },
     "execution_count": 274,
     "metadata": {},
     "output_type": "execute_result"
    }
   ],
   "source": [
    "mae(y_true=Y_test,y_pred=model_2_preds) == mae(y_true=Y_test,y_pred=loaded_SavedModel_format_preds)"
   ]
  },
  {
   "cell_type": "code",
   "execution_count": 275,
   "id": "ba87a29f",
   "metadata": {},
   "outputs": [
    {
     "name": "stdout",
     "output_type": "stream",
     "text": [
      "Model: \"sequential_48\"\n",
      "_________________________________________________________________\n",
      "Layer (type)                 Output Shape              Param #   \n",
      "=================================================================\n",
      "dense_71 (Dense)             (None, 10)                20        \n",
      "_________________________________________________________________\n",
      "dense_72 (Dense)             (None, 1)                 11        \n",
      "=================================================================\n",
      "Total params: 31\n",
      "Trainable params: 31\n",
      "Non-trainable params: 0\n",
      "_________________________________________________________________\n"
     ]
    }
   ],
   "source": [
    "#Cargar un modelo usando el formato .h5\n",
    "loaded_h5_model = tf.keras.models.load_model(\"best_model_HDF5_format\")\n",
    "loaded_h5_model.summary()"
   ]
  },
  {
   "cell_type": "code",
   "execution_count": 276,
   "id": "9ed15a82",
   "metadata": {},
   "outputs": [
    {
     "data": {
      "text/plain": [
       "array([[ True],\n",
       "       [ True],\n",
       "       [ True],\n",
       "       [ True],\n",
       "       [ True],\n",
       "       [ True],\n",
       "       [ True],\n",
       "       [ True],\n",
       "       [ True],\n",
       "       [ True]])"
      ]
     },
     "execution_count": 276,
     "metadata": {},
     "output_type": "execute_result"
    }
   ],
   "source": [
    "loaded_h5_model_preds = loaded_h5_model.predict(X_test)\n",
    "loaded_h5_model_preds == model_2_preds"
   ]
  },
  {
   "cell_type": "code",
   "execution_count": 277,
   "id": "008a2205",
   "metadata": {},
   "outputs": [],
   "source": [
    "#Otro ejemplo más largo\n",
    "\n",
    "import tensorflow as tf\n",
    "import pandas as pd\n",
    "import matplotlib.pyplot as plt"
   ]
  },
  {
   "cell_type": "code",
   "execution_count": 280,
   "id": "56e1e3d0",
   "metadata": {},
   "outputs": [
    {
     "data": {
      "text/html": [
       "<div>\n",
       "<style scoped>\n",
       "    .dataframe tbody tr th:only-of-type {\n",
       "        vertical-align: middle;\n",
       "    }\n",
       "\n",
       "    .dataframe tbody tr th {\n",
       "        vertical-align: top;\n",
       "    }\n",
       "\n",
       "    .dataframe thead th {\n",
       "        text-align: right;\n",
       "    }\n",
       "</style>\n",
       "<table border=\"1\" class=\"dataframe\">\n",
       "  <thead>\n",
       "    <tr style=\"text-align: right;\">\n",
       "      <th></th>\n",
       "      <th>age</th>\n",
       "      <th>sex</th>\n",
       "      <th>bmi</th>\n",
       "      <th>children</th>\n",
       "      <th>smoker</th>\n",
       "      <th>region</th>\n",
       "      <th>charges</th>\n",
       "    </tr>\n",
       "  </thead>\n",
       "  <tbody>\n",
       "    <tr>\n",
       "      <th>0</th>\n",
       "      <td>19</td>\n",
       "      <td>female</td>\n",
       "      <td>27.900</td>\n",
       "      <td>0</td>\n",
       "      <td>yes</td>\n",
       "      <td>southwest</td>\n",
       "      <td>16884.92400</td>\n",
       "    </tr>\n",
       "    <tr>\n",
       "      <th>1</th>\n",
       "      <td>18</td>\n",
       "      <td>male</td>\n",
       "      <td>33.770</td>\n",
       "      <td>1</td>\n",
       "      <td>no</td>\n",
       "      <td>southeast</td>\n",
       "      <td>1725.55230</td>\n",
       "    </tr>\n",
       "    <tr>\n",
       "      <th>2</th>\n",
       "      <td>28</td>\n",
       "      <td>male</td>\n",
       "      <td>33.000</td>\n",
       "      <td>3</td>\n",
       "      <td>no</td>\n",
       "      <td>southeast</td>\n",
       "      <td>4449.46200</td>\n",
       "    </tr>\n",
       "    <tr>\n",
       "      <th>3</th>\n",
       "      <td>33</td>\n",
       "      <td>male</td>\n",
       "      <td>22.705</td>\n",
       "      <td>0</td>\n",
       "      <td>no</td>\n",
       "      <td>northwest</td>\n",
       "      <td>21984.47061</td>\n",
       "    </tr>\n",
       "    <tr>\n",
       "      <th>4</th>\n",
       "      <td>32</td>\n",
       "      <td>male</td>\n",
       "      <td>28.880</td>\n",
       "      <td>0</td>\n",
       "      <td>no</td>\n",
       "      <td>northwest</td>\n",
       "      <td>3866.85520</td>\n",
       "    </tr>\n",
       "    <tr>\n",
       "      <th>...</th>\n",
       "      <td>...</td>\n",
       "      <td>...</td>\n",
       "      <td>...</td>\n",
       "      <td>...</td>\n",
       "      <td>...</td>\n",
       "      <td>...</td>\n",
       "      <td>...</td>\n",
       "    </tr>\n",
       "    <tr>\n",
       "      <th>1333</th>\n",
       "      <td>50</td>\n",
       "      <td>male</td>\n",
       "      <td>30.970</td>\n",
       "      <td>3</td>\n",
       "      <td>no</td>\n",
       "      <td>northwest</td>\n",
       "      <td>10600.54830</td>\n",
       "    </tr>\n",
       "    <tr>\n",
       "      <th>1334</th>\n",
       "      <td>18</td>\n",
       "      <td>female</td>\n",
       "      <td>31.920</td>\n",
       "      <td>0</td>\n",
       "      <td>no</td>\n",
       "      <td>northeast</td>\n",
       "      <td>2205.98080</td>\n",
       "    </tr>\n",
       "    <tr>\n",
       "      <th>1335</th>\n",
       "      <td>18</td>\n",
       "      <td>female</td>\n",
       "      <td>36.850</td>\n",
       "      <td>0</td>\n",
       "      <td>no</td>\n",
       "      <td>southeast</td>\n",
       "      <td>1629.83350</td>\n",
       "    </tr>\n",
       "    <tr>\n",
       "      <th>1336</th>\n",
       "      <td>21</td>\n",
       "      <td>female</td>\n",
       "      <td>25.800</td>\n",
       "      <td>0</td>\n",
       "      <td>no</td>\n",
       "      <td>southwest</td>\n",
       "      <td>2007.94500</td>\n",
       "    </tr>\n",
       "    <tr>\n",
       "      <th>1337</th>\n",
       "      <td>61</td>\n",
       "      <td>female</td>\n",
       "      <td>29.070</td>\n",
       "      <td>0</td>\n",
       "      <td>yes</td>\n",
       "      <td>northwest</td>\n",
       "      <td>29141.36030</td>\n",
       "    </tr>\n",
       "  </tbody>\n",
       "</table>\n",
       "<p>1338 rows × 7 columns</p>\n",
       "</div>"
      ],
      "text/plain": [
       "      age     sex     bmi  children smoker     region      charges\n",
       "0      19  female  27.900         0    yes  southwest  16884.92400\n",
       "1      18    male  33.770         1     no  southeast   1725.55230\n",
       "2      28    male  33.000         3     no  southeast   4449.46200\n",
       "3      33    male  22.705         0     no  northwest  21984.47061\n",
       "4      32    male  28.880         0     no  northwest   3866.85520\n",
       "...   ...     ...     ...       ...    ...        ...          ...\n",
       "1333   50    male  30.970         3     no  northwest  10600.54830\n",
       "1334   18  female  31.920         0     no  northeast   2205.98080\n",
       "1335   18  female  36.850         0     no  southeast   1629.83350\n",
       "1336   21  female  25.800         0     no  southwest   2007.94500\n",
       "1337   61  female  29.070         0    yes  northwest  29141.36030\n",
       "\n",
       "[1338 rows x 7 columns]"
      ]
     },
     "execution_count": 280,
     "metadata": {},
     "output_type": "execute_result"
    }
   ],
   "source": [
    "#Leer el dataset de los seguros médicos \n",
    "insurance = pd.read_csv(\"https://raw.githubusercontent.com/stedy/Machine-Learning-with-R-datasets/master/insurance.csv\")\n",
    "insurance"
   ]
  },
  {
   "cell_type": "code",
   "execution_count": 284,
   "id": "b48a5833",
   "metadata": {},
   "outputs": [
    {
     "data": {
      "text/html": [
       "<div>\n",
       "<style scoped>\n",
       "    .dataframe tbody tr th:only-of-type {\n",
       "        vertical-align: middle;\n",
       "    }\n",
       "\n",
       "    .dataframe tbody tr th {\n",
       "        vertical-align: top;\n",
       "    }\n",
       "\n",
       "    .dataframe thead th {\n",
       "        text-align: right;\n",
       "    }\n",
       "</style>\n",
       "<table border=\"1\" class=\"dataframe\">\n",
       "  <thead>\n",
       "    <tr style=\"text-align: right;\">\n",
       "      <th></th>\n",
       "      <th>age</th>\n",
       "      <th>bmi</th>\n",
       "      <th>children</th>\n",
       "      <th>charges</th>\n",
       "      <th>sex_female</th>\n",
       "      <th>sex_male</th>\n",
       "      <th>smoker_no</th>\n",
       "      <th>smoker_yes</th>\n",
       "      <th>region_northeast</th>\n",
       "      <th>region_northwest</th>\n",
       "      <th>region_southeast</th>\n",
       "      <th>region_southwest</th>\n",
       "    </tr>\n",
       "  </thead>\n",
       "  <tbody>\n",
       "    <tr>\n",
       "      <th>0</th>\n",
       "      <td>19</td>\n",
       "      <td>27.900</td>\n",
       "      <td>0</td>\n",
       "      <td>16884.92400</td>\n",
       "      <td>1</td>\n",
       "      <td>0</td>\n",
       "      <td>0</td>\n",
       "      <td>1</td>\n",
       "      <td>0</td>\n",
       "      <td>0</td>\n",
       "      <td>0</td>\n",
       "      <td>1</td>\n",
       "    </tr>\n",
       "    <tr>\n",
       "      <th>1</th>\n",
       "      <td>18</td>\n",
       "      <td>33.770</td>\n",
       "      <td>1</td>\n",
       "      <td>1725.55230</td>\n",
       "      <td>0</td>\n",
       "      <td>1</td>\n",
       "      <td>1</td>\n",
       "      <td>0</td>\n",
       "      <td>0</td>\n",
       "      <td>0</td>\n",
       "      <td>1</td>\n",
       "      <td>0</td>\n",
       "    </tr>\n",
       "    <tr>\n",
       "      <th>2</th>\n",
       "      <td>28</td>\n",
       "      <td>33.000</td>\n",
       "      <td>3</td>\n",
       "      <td>4449.46200</td>\n",
       "      <td>0</td>\n",
       "      <td>1</td>\n",
       "      <td>1</td>\n",
       "      <td>0</td>\n",
       "      <td>0</td>\n",
       "      <td>0</td>\n",
       "      <td>1</td>\n",
       "      <td>0</td>\n",
       "    </tr>\n",
       "    <tr>\n",
       "      <th>3</th>\n",
       "      <td>33</td>\n",
       "      <td>22.705</td>\n",
       "      <td>0</td>\n",
       "      <td>21984.47061</td>\n",
       "      <td>0</td>\n",
       "      <td>1</td>\n",
       "      <td>1</td>\n",
       "      <td>0</td>\n",
       "      <td>0</td>\n",
       "      <td>1</td>\n",
       "      <td>0</td>\n",
       "      <td>0</td>\n",
       "    </tr>\n",
       "    <tr>\n",
       "      <th>4</th>\n",
       "      <td>32</td>\n",
       "      <td>28.880</td>\n",
       "      <td>0</td>\n",
       "      <td>3866.85520</td>\n",
       "      <td>0</td>\n",
       "      <td>1</td>\n",
       "      <td>1</td>\n",
       "      <td>0</td>\n",
       "      <td>0</td>\n",
       "      <td>1</td>\n",
       "      <td>0</td>\n",
       "      <td>0</td>\n",
       "    </tr>\n",
       "  </tbody>\n",
       "</table>\n",
       "</div>"
      ],
      "text/plain": [
       "   age     bmi  children      charges  sex_female  sex_male  smoker_no  \\\n",
       "0   19  27.900         0  16884.92400           1         0          0   \n",
       "1   18  33.770         1   1725.55230           0         1          1   \n",
       "2   28  33.000         3   4449.46200           0         1          1   \n",
       "3   33  22.705         0  21984.47061           0         1          1   \n",
       "4   32  28.880         0   3866.85520           0         1          1   \n",
       "\n",
       "   smoker_yes  region_northeast  region_northwest  region_southeast  \\\n",
       "0           1                 0                 0                 0   \n",
       "1           0                 0                 0                 1   \n",
       "2           0                 0                 0                 1   \n",
       "3           0                 0                 1                 0   \n",
       "4           0                 0                 1                 0   \n",
       "\n",
       "   region_southwest  \n",
       "0                 1  \n",
       "1                 0  \n",
       "2                 0  \n",
       "3                 0  \n",
       "4                 0  "
      ]
     },
     "execution_count": 284,
     "metadata": {},
     "output_type": "execute_result"
    }
   ],
   "source": [
    "insurance_one_hot = pd.get_dummies(insurance)\n",
    "insurance_one_hot.head()"
   ]
  },
  {
   "cell_type": "code",
   "execution_count": 289,
   "id": "4eec5d26",
   "metadata": {},
   "outputs": [
    {
     "data": {
      "text/html": [
       "<div>\n",
       "<style scoped>\n",
       "    .dataframe tbody tr th:only-of-type {\n",
       "        vertical-align: middle;\n",
       "    }\n",
       "\n",
       "    .dataframe tbody tr th {\n",
       "        vertical-align: top;\n",
       "    }\n",
       "\n",
       "    .dataframe thead th {\n",
       "        text-align: right;\n",
       "    }\n",
       "</style>\n",
       "<table border=\"1\" class=\"dataframe\">\n",
       "  <thead>\n",
       "    <tr style=\"text-align: right;\">\n",
       "      <th></th>\n",
       "      <th>age</th>\n",
       "      <th>bmi</th>\n",
       "      <th>children</th>\n",
       "      <th>sex_female</th>\n",
       "      <th>sex_male</th>\n",
       "      <th>smoker_no</th>\n",
       "      <th>smoker_yes</th>\n",
       "      <th>region_northeast</th>\n",
       "      <th>region_northwest</th>\n",
       "      <th>region_southeast</th>\n",
       "      <th>region_southwest</th>\n",
       "    </tr>\n",
       "  </thead>\n",
       "  <tbody>\n",
       "    <tr>\n",
       "      <th>0</th>\n",
       "      <td>19</td>\n",
       "      <td>27.900</td>\n",
       "      <td>0</td>\n",
       "      <td>1</td>\n",
       "      <td>0</td>\n",
       "      <td>0</td>\n",
       "      <td>1</td>\n",
       "      <td>0</td>\n",
       "      <td>0</td>\n",
       "      <td>0</td>\n",
       "      <td>1</td>\n",
       "    </tr>\n",
       "    <tr>\n",
       "      <th>1</th>\n",
       "      <td>18</td>\n",
       "      <td>33.770</td>\n",
       "      <td>1</td>\n",
       "      <td>0</td>\n",
       "      <td>1</td>\n",
       "      <td>1</td>\n",
       "      <td>0</td>\n",
       "      <td>0</td>\n",
       "      <td>0</td>\n",
       "      <td>1</td>\n",
       "      <td>0</td>\n",
       "    </tr>\n",
       "    <tr>\n",
       "      <th>2</th>\n",
       "      <td>28</td>\n",
       "      <td>33.000</td>\n",
       "      <td>3</td>\n",
       "      <td>0</td>\n",
       "      <td>1</td>\n",
       "      <td>1</td>\n",
       "      <td>0</td>\n",
       "      <td>0</td>\n",
       "      <td>0</td>\n",
       "      <td>1</td>\n",
       "      <td>0</td>\n",
       "    </tr>\n",
       "    <tr>\n",
       "      <th>3</th>\n",
       "      <td>33</td>\n",
       "      <td>22.705</td>\n",
       "      <td>0</td>\n",
       "      <td>0</td>\n",
       "      <td>1</td>\n",
       "      <td>1</td>\n",
       "      <td>0</td>\n",
       "      <td>0</td>\n",
       "      <td>1</td>\n",
       "      <td>0</td>\n",
       "      <td>0</td>\n",
       "    </tr>\n",
       "    <tr>\n",
       "      <th>4</th>\n",
       "      <td>32</td>\n",
       "      <td>28.880</td>\n",
       "      <td>0</td>\n",
       "      <td>0</td>\n",
       "      <td>1</td>\n",
       "      <td>1</td>\n",
       "      <td>0</td>\n",
       "      <td>0</td>\n",
       "      <td>1</td>\n",
       "      <td>0</td>\n",
       "      <td>0</td>\n",
       "    </tr>\n",
       "  </tbody>\n",
       "</table>\n",
       "</div>"
      ],
      "text/plain": [
       "   age     bmi  children  sex_female  sex_male  smoker_no  smoker_yes  \\\n",
       "0   19  27.900         0           1         0          0           1   \n",
       "1   18  33.770         1           0         1          1           0   \n",
       "2   28  33.000         3           0         1          1           0   \n",
       "3   33  22.705         0           0         1          1           0   \n",
       "4   32  28.880         0           0         1          1           0   \n",
       "\n",
       "   region_northeast  region_northwest  region_southeast  region_southwest  \n",
       "0                 0                 0                 0                 1  \n",
       "1                 0                 0                 1                 0  \n",
       "2                 0                 0                 1                 0  \n",
       "3                 0                 1                 0                 0  \n",
       "4                 0                 1                 0                 0  "
      ]
     },
     "execution_count": 289,
     "metadata": {},
     "output_type": "execute_result"
    }
   ],
   "source": [
    "#Crear X e Y\n",
    "X = insurance_one_hot.drop(\"charges\",axis=1)\n",
    "Y = insurance_one_hot[\"charges\"]\n",
    "X.head()"
   ]
  },
  {
   "cell_type": "code",
   "execution_count": 290,
   "id": "2a3346c5",
   "metadata": {},
   "outputs": [
    {
     "data": {
      "text/plain": [
       "0    16884.92400\n",
       "1     1725.55230\n",
       "2     4449.46200\n",
       "3    21984.47061\n",
       "4     3866.85520\n",
       "Name: charges, dtype: float64"
      ]
     },
     "execution_count": 290,
     "metadata": {},
     "output_type": "execute_result"
    }
   ],
   "source": [
    "Y.head()"
   ]
  },
  {
   "cell_type": "code",
   "execution_count": 291,
   "id": "42723c25",
   "metadata": {},
   "outputs": [
    {
     "data": {
      "text/plain": [
       "(1338, 1070, 268)"
      ]
     },
     "execution_count": 291,
     "metadata": {},
     "output_type": "execute_result"
    }
   ],
   "source": [
    "#Crear sets de entrenamiento y prueba\n",
    "from sklearn.model_selection import train_test_split\n",
    "\n",
    "X_train,X_test,Y_train,Y_test = train_test_split(X,Y,test_size=0.2,random_state=42)\n",
    "len(X),len(X_train),len(X_test)"
   ]
  },
  {
   "cell_type": "code",
   "execution_count": 298,
   "id": "f0fc7f43",
   "metadata": {},
   "outputs": [
    {
     "name": "stdout",
     "output_type": "stream",
     "text": [
      "Epoch 1/100\n",
      "34/34 [==============================] - 0s 534us/step - loss: 8637.0996 - mae: 8637.0996\n",
      "Epoch 2/100\n",
      "34/34 [==============================] - 0s 488us/step - loss: 7886.7769 - mae: 7886.7769\n",
      "Epoch 3/100\n",
      "34/34 [==============================] - 0s 506us/step - loss: 7558.1470 - mae: 7558.1470\n",
      "Epoch 4/100\n",
      "34/34 [==============================] - 0s 605us/step - loss: 7792.0225 - mae: 7792.0225\n",
      "Epoch 5/100\n",
      "34/34 [==============================] - 0s 841us/step - loss: 7748.3892 - mae: 7748.3892\n",
      "Epoch 6/100\n",
      "34/34 [==============================] - 0s 1ms/step - loss: 7595.3940 - mae: 7595.3940\n",
      "Epoch 7/100\n",
      "34/34 [==============================] - 0s 999us/step - loss: 7589.9849 - mae: 7589.9849\n",
      "Epoch 8/100\n",
      "34/34 [==============================] - 0s 839us/step - loss: 7698.5591 - mae: 7698.5591\n",
      "Epoch 9/100\n",
      "34/34 [==============================] - 0s 1ms/step - loss: 7496.7788 - mae: 7496.7788\n",
      "Epoch 10/100\n",
      "34/34 [==============================] - 0s 993us/step - loss: 7493.1733 - mae: 7493.1733\n",
      "Epoch 11/100\n",
      "34/34 [==============================] - 0s 984us/step - loss: 7769.7314 - mae: 7769.7314\n",
      "Epoch 12/100\n",
      "34/34 [==============================] - 0s 1ms/step - loss: 7706.9033 - mae: 7706.9033\n",
      "Epoch 13/100\n",
      "34/34 [==============================] - 0s 1ms/step - loss: 7687.7227 - mae: 7687.7227\n",
      "Epoch 14/100\n",
      "34/34 [==============================] - 0s 954us/step - loss: 7689.8999 - mae: 7689.8999\n",
      "Epoch 15/100\n",
      "34/34 [==============================] - 0s 870us/step - loss: 7393.5322 - mae: 7393.5322\n",
      "Epoch 16/100\n",
      "34/34 [==============================] - 0s 1ms/step - loss: 7780.6982 - mae: 7780.6982\n",
      "Epoch 17/100\n",
      "34/34 [==============================] - 0s 967us/step - loss: 7578.5093 - mae: 7578.5093\n",
      "Epoch 18/100\n",
      "34/34 [==============================] - 0s 897us/step - loss: 7750.8350 - mae: 7750.8350\n",
      "Epoch 19/100\n",
      "34/34 [==============================] - 0s 950us/step - loss: 7739.2139 - mae: 7739.2139\n",
      "Epoch 20/100\n",
      "34/34 [==============================] - 0s 1ms/step - loss: 7875.0635 - mae: 7875.0635\n",
      "Epoch 21/100\n",
      "34/34 [==============================] - 0s 961us/step - loss: 7466.6768 - mae: 7466.6768\n",
      "Epoch 22/100\n",
      "34/34 [==============================] - 0s 945us/step - loss: 7941.2310 - mae: 7941.2310\n",
      "Epoch 23/100\n",
      "34/34 [==============================] - 0s 1ms/step - loss: 7640.2725 - mae: 7640.2725\n",
      "Epoch 24/100\n",
      "34/34 [==============================] - 0s 1ms/step - loss: 7539.2656 - mae: 7539.2656\n",
      "Epoch 25/100\n",
      "34/34 [==============================] - 0s 956us/step - loss: 7619.9658 - mae: 7619.9658\n",
      "Epoch 26/100\n",
      "34/34 [==============================] - 0s 1ms/step - loss: 7644.1709 - mae: 7644.1709\n",
      "Epoch 27/100\n",
      "34/34 [==============================] - 0s 806us/step - loss: 7709.0361 - mae: 7709.0361\n",
      "Epoch 28/100\n",
      "34/34 [==============================] - 0s 1ms/step - loss: 7366.8662 - mae: 7366.8662\n",
      "Epoch 29/100\n",
      "34/34 [==============================] - 0s 922us/step - loss: 7444.3135 - mae: 7444.3135\n",
      "Epoch 30/100\n",
      "34/34 [==============================] - 0s 832us/step - loss: 7616.4087 - mae: 7616.4087\n",
      "Epoch 31/100\n",
      "34/34 [==============================] - 0s 995us/step - loss: 7686.3857 - mae: 7686.3857\n",
      "Epoch 32/100\n",
      "34/34 [==============================] - 0s 970us/step - loss: 7548.0981 - mae: 7548.0981\n",
      "Epoch 33/100\n",
      "34/34 [==============================] - 0s 1ms/step - loss: 7501.5527 - mae: 7501.5527\n",
      "Epoch 34/100\n",
      "34/34 [==============================] - 0s 1ms/step - loss: 7363.4155 - mae: 7363.4155\n",
      "Epoch 35/100\n",
      "34/34 [==============================] - 0s 1000us/step - loss: 7295.4468 - mae: 7295.4468\n",
      "Epoch 36/100\n",
      "34/34 [==============================] - 0s 806us/step - loss: 7569.8813 - mae: 7569.8813\n",
      "Epoch 37/100\n",
      "34/34 [==============================] - 0s 1ms/step - loss: 7548.2002 - mae: 7548.2002\n",
      "Epoch 38/100\n",
      "34/34 [==============================] - 0s 1ms/step - loss: 7424.3979 - mae: 7424.3979\n",
      "Epoch 39/100\n",
      "34/34 [==============================] - 0s 959us/step - loss: 7529.7739 - mae: 7529.7739\n",
      "Epoch 40/100\n",
      "34/34 [==============================] - 0s 861us/step - loss: 7467.3232 - mae: 7467.3232\n",
      "Epoch 41/100\n",
      "34/34 [==============================] - 0s 703us/step - loss: 7635.9282 - mae: 7635.9282\n",
      "Epoch 42/100\n",
      "34/34 [==============================] - 0s 1ms/step - loss: 7536.8398 - mae: 7536.8398\n",
      "Epoch 43/100\n",
      "34/34 [==============================] - 0s 1ms/step - loss: 7616.5845 - mae: 7616.5845\n",
      "Epoch 44/100\n",
      "34/34 [==============================] - 0s 971us/step - loss: 7439.4937 - mae: 7439.4937\n",
      "Epoch 45/100\n",
      "34/34 [==============================] - 0s 905us/step - loss: 7538.0151 - mae: 7538.0151\n",
      "Epoch 46/100\n",
      "34/34 [==============================] - 0s 946us/step - loss: 7415.1460 - mae: 7415.1460\n",
      "Epoch 47/100\n",
      "34/34 [==============================] - 0s 883us/step - loss: 7420.6938 - mae: 7420.6938\n",
      "Epoch 48/100\n",
      "34/34 [==============================] - 0s 1ms/step - loss: 7509.9839 - mae: 7509.9839\n",
      "Epoch 49/100\n",
      "34/34 [==============================] - 0s 824us/step - loss: 7541.1128 - mae: 7541.1128\n",
      "Epoch 50/100\n",
      "34/34 [==============================] - 0s 1ms/step - loss: 7467.8633 - mae: 7467.8633\n",
      "Epoch 51/100\n",
      "34/34 [==============================] - 0s 990us/step - loss: 7389.3550 - mae: 7389.3550\n",
      "Epoch 52/100\n",
      "34/34 [==============================] - 0s 934us/step - loss: 7499.7749 - mae: 7499.7749\n",
      "Epoch 53/100\n",
      "34/34 [==============================] - 0s 1ms/step - loss: 7523.9277 - mae: 7523.9277\n",
      "Epoch 54/100\n",
      "34/34 [==============================] - 0s 807us/step - loss: 7243.3120 - mae: 7243.3120\n",
      "Epoch 55/100\n",
      "34/34 [==============================] - 0s 863us/step - loss: 7429.5854 - mae: 7429.5854\n",
      "Epoch 56/100\n",
      "34/34 [==============================] - 0s 1ms/step - loss: 7313.4014 - mae: 7313.4014\n",
      "Epoch 57/100\n",
      "34/34 [==============================] - 0s 1ms/step - loss: 7526.3887 - mae: 7526.3887\n",
      "Epoch 58/100\n",
      "34/34 [==============================] - 0s 980us/step - loss: 7542.2661 - mae: 7542.2661\n",
      "Epoch 59/100\n",
      "34/34 [==============================] - 0s 930us/step - loss: 7576.9277 - mae: 7576.9277\n",
      "Epoch 60/100\n",
      "34/34 [==============================] - 0s 861us/step - loss: 7546.4058 - mae: 7546.4058\n",
      "Epoch 61/100\n",
      "34/34 [==============================] - 0s 905us/step - loss: 7351.2261 - mae: 7351.2261\n",
      "Epoch 62/100\n",
      "34/34 [==============================] - 0s 927us/step - loss: 7302.1436 - mae: 7302.1436\n",
      "Epoch 63/100\n",
      "34/34 [==============================] - 0s 857us/step - loss: 7393.0874 - mae: 7393.0874\n",
      "Epoch 64/100\n",
      "34/34 [==============================] - 0s 841us/step - loss: 7442.2886 - mae: 7442.2886\n",
      "Epoch 65/100\n",
      "34/34 [==============================] - 0s 885us/step - loss: 7492.6782 - mae: 7492.6782\n",
      "Epoch 66/100\n",
      "34/34 [==============================] - 0s 850us/step - loss: 7561.9165 - mae: 7561.9165\n",
      "Epoch 67/100\n",
      "34/34 [==============================] - 0s 854us/step - loss: 7340.5137 - mae: 7340.5137\n",
      "Epoch 68/100\n",
      "34/34 [==============================] - 0s 923us/step - loss: 7496.0854 - mae: 7496.0854\n",
      "Epoch 69/100\n",
      "34/34 [==============================] - 0s 840us/step - loss: 7617.0298 - mae: 7617.0298\n",
      "Epoch 70/100\n",
      "34/34 [==============================] - 0s 781us/step - loss: 7641.1953 - mae: 7641.1953\n",
      "Epoch 71/100\n",
      "34/34 [==============================] - 0s 834us/step - loss: 7084.2744 - mae: 7084.2744\n",
      "Epoch 72/100\n",
      "34/34 [==============================] - 0s 902us/step - loss: 7240.4907 - mae: 7240.4907\n",
      "Epoch 73/100\n",
      "34/34 [==============================] - 0s 937us/step - loss: 7283.4883 - mae: 7283.4883\n",
      "Epoch 74/100\n",
      "34/34 [==============================] - 0s 967us/step - loss: 7335.5063 - mae: 7335.5063\n",
      "Epoch 75/100\n",
      "34/34 [==============================] - 0s 736us/step - loss: 7275.6392 - mae: 7275.6392\n",
      "Epoch 76/100\n",
      "34/34 [==============================] - 0s 1ms/step - loss: 7313.1855 - mae: 7313.1855\n",
      "Epoch 77/100\n",
      "34/34 [==============================] - 0s 863us/step - loss: 7485.7583 - mae: 7485.7583\n",
      "Epoch 78/100\n",
      "34/34 [==============================] - 0s 887us/step - loss: 7352.2798 - mae: 7352.2798\n",
      "Epoch 79/100\n",
      "34/34 [==============================] - 0s 834us/step - loss: 7520.5703 - mae: 7520.5703\n",
      "Epoch 80/100\n",
      "34/34 [==============================] - 0s 997us/step - loss: 7279.3784 - mae: 7279.3784\n",
      "Epoch 81/100\n"
     ]
    },
    {
     "name": "stdout",
     "output_type": "stream",
     "text": [
      "34/34 [==============================] - 0s 758us/step - loss: 7273.8477 - mae: 7273.8477\n",
      "Epoch 82/100\n",
      "34/34 [==============================] - 0s 756us/step - loss: 7176.5210 - mae: 7176.5210\n",
      "Epoch 83/100\n",
      "34/34 [==============================] - 0s 837us/step - loss: 7425.6294 - mae: 7425.6294\n",
      "Epoch 84/100\n",
      "34/34 [==============================] - 0s 923us/step - loss: 7403.1289 - mae: 7403.1289\n",
      "Epoch 85/100\n",
      "34/34 [==============================] - 0s 874us/step - loss: 7356.0088 - mae: 7356.0088\n",
      "Epoch 86/100\n",
      "34/34 [==============================] - 0s 864us/step - loss: 7484.7271 - mae: 7484.7271\n",
      "Epoch 87/100\n",
      "34/34 [==============================] - 0s 800us/step - loss: 7217.6074 - mae: 7217.6074\n",
      "Epoch 88/100\n",
      "34/34 [==============================] - 0s 780us/step - loss: 7261.0000 - mae: 7261.0000\n",
      "Epoch 89/100\n",
      "34/34 [==============================] - 0s 951us/step - loss: 7134.1558 - mae: 7134.1558\n",
      "Epoch 90/100\n",
      "34/34 [==============================] - 0s 857us/step - loss: 7083.4351 - mae: 7083.4351\n",
      "Epoch 91/100\n",
      "34/34 [==============================] - 0s 858us/step - loss: 7254.1782 - mae: 7254.1782\n",
      "Epoch 92/100\n",
      "34/34 [==============================] - 0s 877us/step - loss: 7268.7456 - mae: 7268.7456\n",
      "Epoch 93/100\n",
      "34/34 [==============================] - 0s 843us/step - loss: 7470.5225 - mae: 7470.5225\n",
      "Epoch 94/100\n",
      "34/34 [==============================] - 0s 864us/step - loss: 7210.9541 - mae: 7210.9541\n",
      "Epoch 95/100\n",
      "34/34 [==============================] - 0s 701us/step - loss: 7395.6807 - mae: 7395.6807\n",
      "Epoch 96/100\n",
      "34/34 [==============================] - 0s 798us/step - loss: 7328.0884 - mae: 7328.0884\n",
      "Epoch 97/100\n",
      "34/34 [==============================] - 0s 969us/step - loss: 7230.4375 - mae: 7230.4375\n",
      "Epoch 98/100\n",
      "34/34 [==============================] - 0s 919us/step - loss: 7261.3936 - mae: 7261.3936\n",
      "Epoch 99/100\n",
      "34/34 [==============================] - 0s 816us/step - loss: 7342.5684 - mae: 7342.5684\n",
      "Epoch 100/100\n",
      "34/34 [==============================] - 0s 860us/step - loss: 7106.1709 - mae: 7106.1709\n"
     ]
    },
    {
     "data": {
      "text/plain": [
       "<tensorflow.python.keras.callbacks.History at 0x7f67d4674e50>"
      ]
     },
     "execution_count": 298,
     "metadata": {},
     "output_type": "execute_result"
    }
   ],
   "source": [
    "#Construir un modelo\n",
    "tf.random.set_seed(42)\n",
    "\n",
    "insurance_model = tf.keras.Sequential([\n",
    "    tf.keras.layers.Dense(10),\n",
    "    tf.keras.layers.Dense(1)\n",
    "])\n",
    "\n",
    "insurance_model.compile(loss=tf.keras.losses.mae,\n",
    "                       optimizer=tf.keras.optimizers.SGD(),\n",
    "                       metrics = [\"mae\"])\n",
    "\n",
    "insurance_model.fit(X_train,Y_train,epochs=100)"
   ]
  },
  {
   "cell_type": "code",
   "execution_count": 299,
   "id": "0be1c3eb",
   "metadata": {},
   "outputs": [
    {
     "name": "stdout",
     "output_type": "stream",
     "text": [
      "9/9 [==============================] - 0s 552us/step - loss: 7023.3286 - mae: 7023.3286\n"
     ]
    },
    {
     "data": {
      "text/plain": [
       "[7023.32861328125, 7023.32861328125]"
      ]
     },
     "execution_count": 299,
     "metadata": {},
     "output_type": "execute_result"
    }
   ],
   "source": [
    "#Comprobar los resultados en el test data\n",
    "insurance_model.evaluate(X_test,Y_test)"
   ]
  },
  {
   "cell_type": "code",
   "execution_count": 305,
   "id": "dcaf6c86",
   "metadata": {},
   "outputs": [
    {
     "name": "stdout",
     "output_type": "stream",
     "text": [
      "Epoch 1/100\n",
      "34/34 [==============================] - 0s 828us/step - loss: 13273.1602 - mae: 13273.1602\n",
      "Epoch 2/100\n",
      "34/34 [==============================] - 0s 941us/step - loss: 13104.4297 - mae: 13104.4297\n",
      "Epoch 3/100\n",
      "34/34 [==============================] - 0s 1ms/step - loss: 12749.5420 - mae: 12749.5420\n",
      "Epoch 4/100\n",
      "34/34 [==============================] - 0s 1ms/step - loss: 12055.7510 - mae: 12055.7510\n",
      "Epoch 5/100\n",
      "34/34 [==============================] - 0s 1ms/step - loss: 10905.8154 - mae: 10905.8154\n",
      "Epoch 6/100\n",
      "34/34 [==============================] - 0s 1ms/step - loss: 9457.7217 - mae: 9457.7217\n",
      "Epoch 7/100\n",
      "34/34 [==============================] - 0s 1ms/step - loss: 8147.6543 - mae: 8147.6543\n",
      "Epoch 8/100\n",
      "34/34 [==============================] - 0s 1ms/step - loss: 7528.8408 - mae: 7528.8408\n",
      "Epoch 9/100\n",
      "34/34 [==============================] - 0s 1ms/step - loss: 7429.1528 - mae: 7429.1528\n",
      "Epoch 10/100\n",
      "34/34 [==============================] - 0s 1ms/step - loss: 7409.0811 - mae: 7409.0811\n",
      "Epoch 11/100\n",
      "34/34 [==============================] - 0s 1ms/step - loss: 7390.8042 - mae: 7390.8042\n",
      "Epoch 12/100\n",
      "34/34 [==============================] - 0s 1ms/step - loss: 7368.9180 - mae: 7368.9180\n",
      "Epoch 13/100\n",
      "34/34 [==============================] - 0s 965us/step - loss: 7348.5195 - mae: 7348.5195\n",
      "Epoch 14/100\n",
      "34/34 [==============================] - 0s 965us/step - loss: 7326.4893 - mae: 7326.4893\n",
      "Epoch 15/100\n",
      "34/34 [==============================] - 0s 1ms/step - loss: 7307.5815 - mae: 7307.5815\n",
      "Epoch 16/100\n",
      "34/34 [==============================] - 0s 969us/step - loss: 7285.7734 - mae: 7285.7734\n",
      "Epoch 17/100\n",
      "34/34 [==============================] - 0s 1ms/step - loss: 7265.7100 - mae: 7265.7100\n",
      "Epoch 18/100\n",
      "34/34 [==============================] - 0s 976us/step - loss: 7242.5488 - mae: 7242.5488\n",
      "Epoch 19/100\n",
      "34/34 [==============================] - 0s 956us/step - loss: 7220.5068 - mae: 7220.5068\n",
      "Epoch 20/100\n",
      "34/34 [==============================] - 0s 1ms/step - loss: 7197.1978 - mae: 7197.1978\n",
      "Epoch 21/100\n",
      "34/34 [==============================] - 0s 1ms/step - loss: 7179.0195 - mae: 7179.0195\n",
      "Epoch 22/100\n",
      "34/34 [==============================] - 0s 1ms/step - loss: 7151.2104 - mae: 7151.2104\n",
      "Epoch 23/100\n",
      "34/34 [==============================] - 0s 1ms/step - loss: 7126.4639 - mae: 7126.4639\n",
      "Epoch 24/100\n",
      "34/34 [==============================] - 0s 1ms/step - loss: 7101.9199 - mae: 7101.9199\n",
      "Epoch 25/100\n",
      "34/34 [==============================] - 0s 1ms/step - loss: 7084.3379 - mae: 7084.3379\n",
      "Epoch 26/100\n",
      "34/34 [==============================] - 0s 1ms/step - loss: 7052.3296 - mae: 7052.3296\n",
      "Epoch 27/100\n",
      "34/34 [==============================] - 0s 1ms/step - loss: 7024.3506 - mae: 7024.3506\n",
      "Epoch 28/100\n",
      "34/34 [==============================] - 0s 1ms/step - loss: 6996.6963 - mae: 6996.6963\n",
      "Epoch 29/100\n",
      "34/34 [==============================] - 0s 1ms/step - loss: 6969.0112 - mae: 6969.0112\n",
      "Epoch 30/100\n",
      "34/34 [==============================] - 0s 1ms/step - loss: 6942.1899 - mae: 6942.1899\n",
      "Epoch 31/100\n",
      "34/34 [==============================] - 0s 1ms/step - loss: 6911.7280 - mae: 6911.7280\n",
      "Epoch 32/100\n",
      "34/34 [==============================] - 0s 1ms/step - loss: 6884.0205 - mae: 6884.0205\n",
      "Epoch 33/100\n",
      "34/34 [==============================] - 0s 1ms/step - loss: 6853.4648 - mae: 6853.4648\n",
      "Epoch 34/100\n",
      "34/34 [==============================] - 0s 1ms/step - loss: 6823.0674 - mae: 6823.0674\n",
      "Epoch 35/100\n",
      "34/34 [==============================] - 0s 1ms/step - loss: 6789.6855 - mae: 6789.6855\n",
      "Epoch 36/100\n",
      "34/34 [==============================] - 0s 1ms/step - loss: 6755.7646 - mae: 6755.7646\n",
      "Epoch 37/100\n",
      "34/34 [==============================] - 0s 1ms/step - loss: 6720.2026 - mae: 6720.2026\n",
      "Epoch 38/100\n",
      "34/34 [==============================] - 0s 1ms/step - loss: 6689.7158 - mae: 6689.7158\n",
      "Epoch 39/100\n",
      "34/34 [==============================] - 0s 1ms/step - loss: 6652.4614 - mae: 6652.4614\n",
      "Epoch 40/100\n",
      "34/34 [==============================] - 0s 1ms/step - loss: 6618.1016 - mae: 6618.1016\n",
      "Epoch 41/100\n",
      "34/34 [==============================] - 0s 1ms/step - loss: 6585.8633 - mae: 6585.8633\n",
      "Epoch 42/100\n",
      "34/34 [==============================] - 0s 1ms/step - loss: 6559.4956 - mae: 6559.4956\n",
      "Epoch 43/100\n",
      "34/34 [==============================] - 0s 1ms/step - loss: 6530.0439 - mae: 6530.0439\n",
      "Epoch 44/100\n",
      "34/34 [==============================] - 0s 1ms/step - loss: 6506.8071 - mae: 6506.8071\n",
      "Epoch 45/100\n",
      "34/34 [==============================] - 0s 1ms/step - loss: 6493.5718 - mae: 6493.5718\n",
      "Epoch 46/100\n",
      "34/34 [==============================] - 0s 1ms/step - loss: 6475.9258 - mae: 6475.9258\n",
      "Epoch 47/100\n",
      "34/34 [==============================] - 0s 1ms/step - loss: 6458.8979 - mae: 6458.8979\n",
      "Epoch 48/100\n",
      "34/34 [==============================] - 0s 1ms/step - loss: 6445.1494 - mae: 6445.1494\n",
      "Epoch 49/100\n",
      "34/34 [==============================] - 0s 1ms/step - loss: 6430.9639 - mae: 6430.9639\n",
      "Epoch 50/100\n",
      "34/34 [==============================] - 0s 1ms/step - loss: 6417.7510 - mae: 6417.7510\n",
      "Epoch 51/100\n",
      "34/34 [==============================] - 0s 935us/step - loss: 6403.2754 - mae: 6403.2754\n",
      "Epoch 52/100\n",
      "34/34 [==============================] - 0s 972us/step - loss: 6392.4141 - mae: 6392.4141\n",
      "Epoch 53/100\n",
      "34/34 [==============================] - 0s 1ms/step - loss: 6378.7451 - mae: 6378.7451\n",
      "Epoch 54/100\n",
      "34/34 [==============================] - 0s 1ms/step - loss: 6364.9131 - mae: 6364.9131\n",
      "Epoch 55/100\n",
      "34/34 [==============================] - 0s 1ms/step - loss: 6351.5269 - mae: 6351.5269\n",
      "Epoch 56/100\n",
      "34/34 [==============================] - 0s 1ms/step - loss: 6337.6602 - mae: 6337.6602\n",
      "Epoch 57/100\n",
      "34/34 [==============================] - 0s 1ms/step - loss: 6324.8369 - mae: 6324.8369\n",
      "Epoch 58/100\n",
      "34/34 [==============================] - 0s 1ms/step - loss: 6310.1948 - mae: 6310.1948\n",
      "Epoch 59/100\n",
      "34/34 [==============================] - 0s 1ms/step - loss: 6295.6035 - mae: 6295.6035\n",
      "Epoch 60/100\n",
      "34/34 [==============================] - 0s 1ms/step - loss: 6284.8696 - mae: 6284.8696\n",
      "Epoch 61/100\n",
      "34/34 [==============================] - 0s 1ms/step - loss: 6265.6411 - mae: 6265.6411\n",
      "Epoch 62/100\n",
      "34/34 [==============================] - 0s 1ms/step - loss: 6253.0103 - mae: 6253.0103\n",
      "Epoch 63/100\n",
      "34/34 [==============================] - 0s 1ms/step - loss: 6234.9292 - mae: 6234.9292\n",
      "Epoch 64/100\n",
      "34/34 [==============================] - 0s 1ms/step - loss: 6218.0430 - mae: 6218.0430\n",
      "Epoch 65/100\n",
      "34/34 [==============================] - 0s 1ms/step - loss: 6201.1899 - mae: 6201.1899\n",
      "Epoch 66/100\n",
      "34/34 [==============================] - 0s 1ms/step - loss: 6183.9590 - mae: 6183.9590\n",
      "Epoch 67/100\n",
      "34/34 [==============================] - 0s 1ms/step - loss: 6171.2993 - mae: 6171.2993\n",
      "Epoch 68/100\n",
      "34/34 [==============================] - 0s 1ms/step - loss: 6148.8398 - mae: 6148.8398\n",
      "Epoch 69/100\n",
      "34/34 [==============================] - 0s 1ms/step - loss: 6132.5981 - mae: 6132.5981\n",
      "Epoch 70/100\n",
      "34/34 [==============================] - 0s 1ms/step - loss: 6112.3848 - mae: 6112.3848\n",
      "Epoch 71/100\n",
      "34/34 [==============================] - 0s 1ms/step - loss: 6092.7202 - mae: 6092.7202\n",
      "Epoch 72/100\n",
      "34/34 [==============================] - 0s 1ms/step - loss: 6073.7422 - mae: 6073.7422\n",
      "Epoch 73/100\n",
      "34/34 [==============================] - 0s 1ms/step - loss: 6059.4873 - mae: 6059.4873\n",
      "Epoch 74/100\n",
      "34/34 [==============================] - 0s 1ms/step - loss: 6031.3843 - mae: 6031.3843\n",
      "Epoch 75/100\n",
      "34/34 [==============================] - 0s 1ms/step - loss: 6010.3350 - mae: 6010.3350\n",
      "Epoch 76/100\n",
      "34/34 [==============================] - 0s 1ms/step - loss: 5995.2173 - mae: 5995.2173\n",
      "Epoch 77/100\n",
      "34/34 [==============================] - 0s 1ms/step - loss: 5963.0718 - mae: 5963.0718\n",
      "Epoch 78/100\n",
      "34/34 [==============================] - 0s 1ms/step - loss: 5940.0605 - mae: 5940.0605\n",
      "Epoch 79/100\n",
      "34/34 [==============================] - 0s 1ms/step - loss: 5915.1064 - mae: 5915.1064\n",
      "Epoch 80/100\n",
      "34/34 [==============================] - 0s 1ms/step - loss: 5887.9990 - mae: 5887.9990\n",
      "Epoch 81/100\n"
     ]
    },
    {
     "name": "stdout",
     "output_type": "stream",
     "text": [
      "34/34 [==============================] - 0s 1ms/step - loss: 5861.6987 - mae: 5861.6987\n",
      "Epoch 82/100\n",
      "34/34 [==============================] - 0s 1ms/step - loss: 5834.3076 - mae: 5834.3076\n",
      "Epoch 83/100\n",
      "34/34 [==============================] - 0s 798us/step - loss: 5805.8242 - mae: 5805.8242\n",
      "Epoch 84/100\n",
      "34/34 [==============================] - 0s 1ms/step - loss: 5772.3232 - mae: 5772.3232\n",
      "Epoch 85/100\n",
      "34/34 [==============================] - 0s 1ms/step - loss: 5745.1514 - mae: 5745.1514\n",
      "Epoch 86/100\n",
      "34/34 [==============================] - 0s 1ms/step - loss: 5711.3477 - mae: 5711.3477\n",
      "Epoch 87/100\n",
      "34/34 [==============================] - 0s 1ms/step - loss: 5674.5215 - mae: 5674.5215\n",
      "Epoch 88/100\n",
      "34/34 [==============================] - 0s 1ms/step - loss: 5639.4927 - mae: 5639.4927\n",
      "Epoch 89/100\n",
      "34/34 [==============================] - 0s 1ms/step - loss: 5600.6650 - mae: 5600.6650\n",
      "Epoch 90/100\n",
      "34/34 [==============================] - 0s 1ms/step - loss: 5559.4326 - mae: 5559.4326\n",
      "Epoch 91/100\n",
      "34/34 [==============================] - 0s 1ms/step - loss: 5523.6187 - mae: 5523.6187\n",
      "Epoch 92/100\n",
      "34/34 [==============================] - 0s 1ms/step - loss: 5474.1250 - mae: 5474.1250\n",
      "Epoch 93/100\n",
      "34/34 [==============================] - 0s 1ms/step - loss: 5432.2656 - mae: 5432.2656\n",
      "Epoch 94/100\n",
      "34/34 [==============================] - 0s 953us/step - loss: 5386.0527 - mae: 5386.0527\n",
      "Epoch 95/100\n",
      "34/34 [==============================] - 0s 1ms/step - loss: 5333.1812 - mae: 5333.1812\n",
      "Epoch 96/100\n",
      "34/34 [==============================] - 0s 1ms/step - loss: 5288.8159 - mae: 5288.8159\n",
      "Epoch 97/100\n",
      "34/34 [==============================] - 0s 1ms/step - loss: 5234.6792 - mae: 5234.6792\n",
      "Epoch 98/100\n",
      "34/34 [==============================] - 0s 1ms/step - loss: 5170.9355 - mae: 5170.9355\n",
      "Epoch 99/100\n",
      "34/34 [==============================] - 0s 1ms/step - loss: 5112.9443 - mae: 5112.9443\n",
      "Epoch 100/100\n",
      "34/34 [==============================] - 0s 995us/step - loss: 5059.8447 - mae: 5059.8447\n"
     ]
    },
    {
     "data": {
      "text/plain": [
       "<tensorflow.python.keras.callbacks.History at 0x7f67d41b9f90>"
      ]
     },
     "execution_count": 305,
     "metadata": {},
     "output_type": "execute_result"
    }
   ],
   "source": [
    "#Mejorar el modelo\n",
    "#Añadir una capa y entrenar más\n",
    "\n",
    "tf.random.set_seed(42)\n",
    "\n",
    "insurance_model_2 = tf.keras.Sequential([\n",
    "    tf.keras.layers.Dense(100),\n",
    "    tf.keras.layers.Dense(10),\n",
    "    tf.keras.layers.Dense(1)\n",
    "])\n",
    "\n",
    "insurance_model_2.compile(loss=tf.keras.losses.mae,\n",
    "                         optimizer = tf.keras.optimizers.Adam(),\n",
    "                         metrics = [\"mae\"])\n",
    "\n",
    "insurance_model_2.fit(X_train,Y_train,epochs=100)\n"
   ]
  },
  {
   "cell_type": "code",
   "execution_count": 303,
   "id": "964c0d78",
   "metadata": {},
   "outputs": [
    {
     "name": "stdout",
     "output_type": "stream",
     "text": [
      "9/9 [==============================] - 0s 550us/step - loss: 4924.4956 - mae: 4924.4956\n"
     ]
    },
    {
     "data": {
      "text/plain": [
       "[4924.49560546875, 4924.49560546875]"
      ]
     },
     "execution_count": 303,
     "metadata": {},
     "output_type": "execute_result"
    }
   ],
   "source": [
    "insurance_model_2.evaluate(X_test,Y_test)"
   ]
  },
  {
   "cell_type": "code",
   "execution_count": 325,
   "id": "04760a9e",
   "metadata": {},
   "outputs": [],
   "source": [
    "#La otra variación\n",
    "tf.random.set_seed(42)\n",
    "\n",
    "callback = tf.keras.callbacks.EarlyStopping(monitor='loss',\n",
    "                                            min_delta=10,patience=20)\n",
    "\n",
    "insurance_model_3 = tf.keras.Sequential([\n",
    "    tf.keras.layers.Dense(100),\n",
    "    tf.keras.layers.Dense(10),\n",
    "    tf.keras.layers.Dense(1)\n",
    "])\n",
    "\n",
    "insurance_model_3.compile(loss=tf.keras.losses.mae,\n",
    "                         optimizer = tf.keras.optimizers.Adam(),\n",
    "                         metrics=[\"mae\"])\n",
    "\n",
    "history = insurance_model_3.fit(X_train,Y_train,epochs=400,\n",
    "                               callbacks=[callback],verbose = 0)"
   ]
  },
  {
   "cell_type": "code",
   "execution_count": 326,
   "id": "581ff76d",
   "metadata": {},
   "outputs": [
    {
     "name": "stdout",
     "output_type": "stream",
     "text": [
      "9/9 [==============================] - 0s 735us/step - loss: 3168.7883 - mae: 3168.7883\n"
     ]
    },
    {
     "data": {
      "text/plain": [
       "[3168.788330078125, 3168.788330078125]"
      ]
     },
     "execution_count": 326,
     "metadata": {},
     "output_type": "execute_result"
    }
   ],
   "source": [
    "insurance_model_3.evaluate(X_test,Y_test)"
   ]
  },
  {
   "cell_type": "code",
   "execution_count": 327,
   "id": "721426a2",
   "metadata": {},
   "outputs": [
    {
     "data": {
      "text/plain": [
       "Text(0.5, 0, 'epochs')"
      ]
     },
     "execution_count": 327,
     "metadata": {},
     "output_type": "execute_result"
    },
    {
     "data": {
      "image/png": "[encoded data removed]",
      "text/plain": [
       "<Figure size 432x288 with 1 Axes>"
      ]
     },
     "metadata": {
      "needs_background": "light"
     },
     "output_type": "display_data"
    }
   ],
   "source": [
    "#Plot history, esto es la curva de entrenaiento\n",
    "pd.DataFrame(history.history).plot()\n",
    "plt.ylabel(\"loss\")\n",
    "plt.xlabel(\"epochs\")"
   ]
  },
  {
   "cell_type": "code",
   "execution_count": 328,
   "id": "4f204511",
   "metadata": {},
   "outputs": [],
   "source": [
    "#Cuánto hay que entrenar? Depende mucho del problema. Tensorflow tiene \n",
    "#solución, el EarlyStoppingCallback"
   ]
  },
  {
   "cell_type": "code",
   "execution_count": 330,
   "id": "5d210c0d",
   "metadata": {},
   "outputs": [
    {
     "data": {
      "text/plain": [
       "<AxesSubplot:ylabel='Frequency'>"
      ]
     },
     "execution_count": 330,
     "metadata": {},
     "output_type": "execute_result"
    },
    {
     "data": {
      "image/png": "[encoded data removed]",
      "text/plain": [
       "<Figure size 432x288 with 1 Axes>"
      ]
     },
     "metadata": {
      "needs_background": "light"
     },
     "output_type": "display_data"
    }
   ],
   "source": [
    "#Preprocesado de datos\n",
    "X[\"age\"].plot(kind = \"hist\")"
   ]
  },
  {
   "cell_type": "code",
   "execution_count": 332,
   "id": "4e36075e",
   "metadata": {},
   "outputs": [
    {
     "data": {
      "text/plain": [
       "<AxesSubplot:ylabel='Frequency'>"
      ]
     },
     "execution_count": 332,
     "metadata": {},
     "output_type": "execute_result"
    },
    {
     "data": {
      "image/png": "[encoded data removed]",
      "text/plain": [
       "<Figure size 432x288 with 1 Axes>"
      ]
     },
     "metadata": {
      "needs_background": "light"
     },
     "output_type": "display_data"
    }
   ],
   "source": [
    "X[\"bmi\"].plot(kind=\"hist\")"
   ]
  },
  {
   "cell_type": "code",
   "execution_count": 333,
   "id": "28b833c7",
   "metadata": {},
   "outputs": [],
   "source": [
    "#Normalización: Todos los valores entre 0 y 1\n",
    "#Standarización: Se quita la media y se divide los valores entre la std"
   ]
  },
  {
   "cell_type": "code",
   "execution_count": 334,
   "id": "be2564b0",
   "metadata": {},
   "outputs": [],
   "source": [
    "import pandas as pd\n",
    "import matplotlib.pyplot as plt\n",
    "import tensorflow as tf\n",
    "\n",
    "#Leer el insurance dataframe\n",
    "insurance = pd.read_csv(\"https://raw.githubusercontent.com/stedy/Machine-Learning-with-R-datasets/master/insurance.csv\")"
   ]
  },
  {
   "cell_type": "code",
   "execution_count": 338,
   "id": "28c97d3a",
   "metadata": {},
   "outputs": [],
   "source": [
    "#Prepara los datos, usamos scikit-learn\n",
    "from sklearn.compose import make_column_transformer\n",
    "from sklearn.preprocessing import MinMaxScaler,OneHotEncoder\n",
    "from sklearn.model_selection import train_test_split\n",
    "\n",
    "#Crear un transformador de columnas\n",
    "ct = make_column_transformer((MinMaxScaler(),[\"age\",\"bmi\",\"children\"]),\n",
    "#Transformamos estos valores a rango 0-1 con el Scaler\n",
    "            (OneHotEncoder(handle_unknown=\"ignore\"),[\"sex\",\"smoker\",\"region\"]))\n",
    "#Crear X e Y\n",
    "X = insurance.drop(\"charges\",axis=1)\n",
    "Y = insurance[\"charges\"]\n",
    "\n",
    "#Crear sets\n",
    "X_train,X_test,Y_train,Y_test = train_test_split(X,Y,test_size=0.2,random_state=42)\n",
    "\n",
    "#Usar el transformador de columnas, solo con el set de entrenamiento\n",
    "ct.fit(X_train)\n",
    "#Se ajusta solo al train para no incorporar información del test set\n",
    "#Normalizar y escalar ambos sets\n",
    "X_train_normal = ct.transform(X_train)\n",
    "X_test_normal = ct.transform(X_test)"
   ]
  },
  {
   "cell_type": "code",
   "execution_count": 342,
   "id": "7daa78e7",
   "metadata": {},
   "outputs": [
    {
     "data": {
      "text/plain": [
       "array([0.60869565, 0.10734463, 0.4       , 1.        , 0.        ,\n",
       "       1.        , 0.        , 0.        , 1.        , 0.        ,\n",
       "       0.        ])"
      ]
     },
     "execution_count": 342,
     "metadata": {},
     "output_type": "execute_result"
    }
   ],
   "source": [
    "X_train_normal[0]"
   ]
  },
  {
   "cell_type": "code",
   "execution_count": 343,
   "id": "d0b91854",
   "metadata": {},
   "outputs": [
    {
     "data": {
      "text/plain": [
       "((1070, 6), (1070, 11))"
      ]
     },
     "execution_count": 343,
     "metadata": {},
     "output_type": "execute_result"
    }
   ],
   "source": [
    "X_train.shape,X_train_normal.shape"
   ]
  },
  {
   "cell_type": "code",
   "execution_count": 361,
   "id": "59df9b98",
   "metadata": {},
   "outputs": [],
   "source": [
    "#Construír el modelo\n",
    "tf.random.set_seed(42)\n",
    "\n",
    "model_final = tf.keras.Sequential([\n",
    "    tf.keras.layers.Dense(100),\n",
    "    tf.keras.layers.Dense(10),\n",
    "    tf.keras.layers.Dense(1)\n",
    "])\n",
    "\n",
    "model_final.compile(loss=tf.keras.losses.mae,\n",
    "                   optimizer=tf.keras.optimizers.Adam(),\n",
    "                   metrics=[\"mae\"])\n",
    "\n",
    "history =model_final.fit(X_train_normal,Y_train,epochs=100,verbose = 0)\n"
   ]
  },
  {
   "cell_type": "code",
   "execution_count": 362,
   "id": "cab35150",
   "metadata": {},
   "outputs": [
    {
     "data": {
      "text/plain": [
       "[<matplotlib.lines.Line2D at 0x7f67d533f590>]"
      ]
     },
     "execution_count": 362,
     "metadata": {},
     "output_type": "execute_result"
    },
    {
     "data": {
      "image/png": "[encoded data removed]",
      "text/plain": [
       "<Figure size 432x288 with 1 Axes>"
      ]
     },
     "metadata": {
      "needs_background": "light"
     },
     "output_type": "display_data"
    }
   ],
   "source": [
    "plt.plot(history.history[\"mae\"])"
   ]
  },
  {
   "cell_type": "code",
   "execution_count": 357,
   "id": "e422f2a4",
   "metadata": {},
   "outputs": [
    {
     "name": "stdout",
     "output_type": "stream",
     "text": [
      "9/9 [==============================] - 0s 1ms/step - loss: 3438.7844 - mae: 3438.7844\n"
     ]
    },
    {
     "data": {
      "text/plain": [
       "[3438.784423828125, 3438.784423828125]"
      ]
     },
     "execution_count": 357,
     "metadata": {},
     "output_type": "execute_result"
    }
   ],
   "source": [
    "model_final.evaluate(X_test_normal,Y_test)"
   ]
  },
  {
   "cell_type": "code",
   "execution_count": 427,
   "id": "70c4cef2",
   "metadata": {},
   "outputs": [
    {
     "data": {
      "text/plain": [
       "[<matplotlib.lines.Line2D at 0x7f6753551a10>]"
      ]
     },
     "execution_count": 427,
     "metadata": {},
     "output_type": "execute_result"
    },
    {
     "data": {
      "image/png": "[encoded data removed]",
      "text/plain": [
       "<Figure size 432x288 with 1 Axes>"
      ]
     },
     "metadata": {
      "needs_background": "light"
     },
     "output_type": "display_data"
    }
   ],
   "source": [
    "#Ejercicios\n",
    "#1\n",
    "X = tf.range(2,102,2)\n",
    "Y = tf.range(5,155,3)\n",
    "X_train = X[:int(0.8*len(X))]\n",
    "Y_train = Y[:int(0.8*len(Y))]\n",
    "X_test = X[int(0.8*len(X)):]\n",
    "Y_test = Y[int(0.8*len(X)):]\n",
    "model_1 = tf.keras.Sequential([\n",
    "        #tf.keras.layers.Dense(2),\n",
    "        tf.keras.layers.Dense(1)\n",
    "    ])\n",
    "\n",
    "model_1.compile(loss=tf.keras.losses.mae,\n",
    "               optimizer=tf.keras.optimizers.Adam(learning_rate=10e-2),\n",
    "               metrics=[\"mae\"])\n",
    "history = model_1.fit(X_train,Y_train,epochs=300,verbose=0)\n",
    "plt.plot(history.history[\"mae\"])"
   ]
  },
  {
   "cell_type": "code",
   "execution_count": 428,
   "id": "ea1146d1",
   "metadata": {},
   "outputs": [
    {
     "name": "stdout",
     "output_type": "stream",
     "text": [
      "1/1 [==============================] - 0s 105ms/step - loss: 0.0714 - mae: 0.0714\n"
     ]
    },
    {
     "data": {
      "text/plain": [
       "[0.07141952216625214, 0.07141952216625214]"
      ]
     },
     "execution_count": 428,
     "metadata": {},
     "output_type": "execute_result"
    }
   ],
   "source": [
    "model_1.evaluate(X_test,Y_test)"
   ]
  },
  {
   "cell_type": "code",
   "execution_count": 429,
   "id": "146975a2",
   "metadata": {},
   "outputs": [
    {
     "data": {
      "text/plain": [
       "<matplotlib.collections.PathCollection at 0x7f67534eeed0>"
      ]
     },
     "execution_count": 429,
     "metadata": {},
     "output_type": "execute_result"
    },
    {
     "data": {
      "image/png": "[encoded data removed]",
      "text/plain": [
       "<Figure size 432x288 with 1 Axes>"
      ]
     },
     "metadata": {
      "needs_background": "light"
     },
     "output_type": "display_data"
    }
   ],
   "source": [
    "plt.scatter(X_test,model_1.predict(X_test),c = \"b\")\n",
    "plt.scatter(X_test,Y_test,c=\"g\")"
   ]
  },
  {
   "cell_type": "code",
   "execution_count": 447,
   "id": "f3f41d8d",
   "metadata": {},
   "outputs": [],
   "source": [
    "#3\n",
    "import pandas as pd\n",
    "import matplotlib.pyplot as plt\n",
    "import tensorflow as tf\n",
    "\n",
    "#Leer el insurance dataframe\n",
    "insurance = pd.read_csv(\"https://raw.githubusercontent.com/stedy/Machine-Learning-with-R-datasets/master/insurance.csv\")\n"
   ]
  },
  {
   "cell_type": "code",
   "execution_count": 449,
   "id": "60c3d867",
   "metadata": {},
   "outputs": [],
   "source": [
    "#Preprocess\n",
    "from sklearn.compose import make_column_transformer\n",
    "from sklearn.preprocessing import MinMaxScaler,OneHotEncoder\n",
    "from sklearn.model_selection import train_test_split\n",
    "\n",
    "ct = make_column_transformer((MinMaxScaler(),[\"age\",\"bmi\",\"children\"]),\n",
    "                            (OneHotEncoder(handle_unknown=\"ignore\"),[\"sex\",\"smoker\",\"region\"]))\n",
    "X = insurance.drop(\"charges\",axis=1)\n",
    "Y = insurance[\"charges\"]\n",
    "\n",
    "X_train,X_test,Y_train,Y_test = train_test_split(X,Y,test_size=0.2)\n",
    "\n",
    "ct.fit(X_train)\n",
    "\n",
    "X_train_normal = ct.transform(X_train)\n",
    "X_test_normal = ct.transform(X_train)"
   ]
  },
  {
   "cell_type": "code",
   "execution_count": 457,
   "id": "342d261e",
   "metadata": {},
   "outputs": [],
   "source": [
    "#Prepara los datos, usamos scikit-learn\n",
    "from sklearn.compose import make_column_transformer\n",
    "from sklearn.preprocessing import MinMaxScaler,OneHotEncoder\n",
    "from sklearn.model_selection import train_test_split\n",
    "\n",
    "#Crear un transformador de columnas\n",
    "ct = make_column_transformer((MinMaxScaler(),[\"age\",\"bmi\",\"children\"]),\n",
    "#Transformamos estos valores a rango 0-1 con el Scaler\n",
    "            (OneHotEncoder(handle_unknown=\"ignore\"),[\"sex\",\"smoker\",\"region\"]))\n",
    "#Crear X e Y\n",
    "X = insurance.drop(\"charges\",axis=1)\n",
    "Y = insurance[\"charges\"]\n",
    "\n",
    "#Crear sets\n",
    "X_train,X_test,Y_train,Y_test = train_test_split(X,Y,test_size=0.2,random_state=42)\n",
    "\n",
    "#Usar el transformador de columnas, solo con el set de entrenamiento\n",
    "ct.fit(X_train)\n",
    "#Se ajusta solo al train para no incorporar información del test set\n",
    "#Normalizar y escalar ambos sets\n",
    "X_train_normal = ct.transform(X_train)\n",
    "X_test_normal = ct.transform(X_test)"
   ]
  },
  {
   "cell_type": "code",
   "execution_count": 482,
   "id": "b3847bb6",
   "metadata": {},
   "outputs": [
    {
     "data": {
      "text/plain": [
       "[<matplotlib.lines.Line2D at 0x7f674f7e1710>]"
      ]
     },
     "execution_count": 482,
     "metadata": {},
     "output_type": "execute_result"
    },
    {
     "data": {
      "image/png": "[encoded data removed]",
      "text/plain": [
       "<Figure size 432x288 with 1 Axes>"
      ]
     },
     "metadata": {
      "needs_background": "light"
     },
     "output_type": "display_data"
    }
   ],
   "source": [
    "model_3 = tf.keras.Sequential([\n",
    "    tf.keras.layers.Dense(500),\n",
    "    tf.keras.layers.Dense(100),\n",
    "    tf.keras.layers.Dense(10),\n",
    "    tf.keras.layers.Dense(1)\n",
    "])\n",
    "\n",
    "model_3.compile(\n",
    "    loss = tf.keras.losses.mae,\n",
    "    optimizer = tf.keras.optimizers.Adam(lr=10e-2),\n",
    "    metrics = [\"mae\"]\n",
    ")\n",
    "\n",
    "history =model_3.fit(X_train_normal,Y_train,epochs=300,verbose=0)\n",
    "plt.plot(history.history[\"mae\"])"
   ]
  },
  {
   "cell_type": "code",
   "execution_count": 483,
   "id": "883beed8",
   "metadata": {},
   "outputs": [
    {
     "name": "stdout",
     "output_type": "stream",
     "text": [
      "9/9 [==============================] - 0s 2ms/step - loss: 3316.4861 - mae: 3316.4861\n"
     ]
    },
    {
     "data": {
      "text/plain": [
       "[3316.486083984375, 3316.486083984375]"
      ]
     },
     "execution_count": 483,
     "metadata": {},
     "output_type": "execute_result"
    }
   ],
   "source": [
    "model_3.evaluate(X_test_normal,Y_test)"
   ]
  },
  {
   "cell_type": "code",
   "execution_count": 485,
   "id": "3b908876",
   "metadata": {},
   "outputs": [
    {
     "name": "stdout",
     "output_type": "stream",
     "text": [
      "Downloading data from https://storage.googleapis.com/tensorflow/tf-keras-datasets/boston_housing.npz\n",
      "57344/57026 [==============================] - 0s 1us/step\n"
     ]
    }
   ],
   "source": [
    "#4\n",
    "(X_train,Y_train),(X_test,Y_test) = tf.keras.datasets.boston_housing.load_data(\n",
    "     path=\"boston_housing.npz\",\n",
    "     test_split = 0.2,seed=120)"
   ]
  },
  {
   "cell_type": "code",
   "execution_count": 488,
   "id": "3026ee2d",
   "metadata": {},
   "outputs": [
    {
     "data": {
      "text/plain": [
       "array([[1.06718e+01, 0.00000e+00, 1.81000e+01, ..., 2.02000e+01,\n",
       "        4.30600e+01, 2.39800e+01],\n",
       "       [6.44405e+00, 0.00000e+00, 1.81000e+01, ..., 2.02000e+01,\n",
       "        9.79500e+01, 1.20300e+01],\n",
       "       [4.42228e+00, 0.00000e+00, 1.81000e+01, ..., 2.02000e+01,\n",
       "        3.31290e+02, 2.13200e+01],\n",
       "       ...,\n",
       "       [9.92485e+00, 0.00000e+00, 1.81000e+01, ..., 2.02000e+01,\n",
       "        3.88520e+02, 1.64400e+01],\n",
       "       [1.50380e-01, 0.00000e+00, 2.56500e+01, ..., 1.91000e+01,\n",
       "        3.70310e+02, 2.54100e+01],\n",
       "       [3.76619e+01, 0.00000e+00, 1.81000e+01, ..., 2.02000e+01,\n",
       "        1.88200e+01, 1.45200e+01]])"
      ]
     },
     "execution_count": 488,
     "metadata": {},
     "output_type": "execute_result"
    }
   ],
   "source": [
    "from sklearn.compose import make_column_transformer\n",
    "from sklearn.preprocessing import MinMaxScaler\n",
    "\n",
    "ct = make_column_transformer((MinMaxScaler(),))"
   ]
  },
  {
   "cell_type": "code",
   "execution_count": 504,
   "id": "83bd4286",
   "metadata": {},
   "outputs": [
    {
     "data": {
      "text/plain": [
       "[<matplotlib.lines.Line2D at 0x7f666c989cd0>]"
      ]
     },
     "execution_count": 504,
     "metadata": {},
     "output_type": "execute_result"
    },
    {
     "data": {
      "image/png": "[encoded data removed]",
      "text/plain": [
       "<Figure size 432x288 with 1 Axes>"
      ]
     },
     "metadata": {
      "needs_background": "light"
     },
     "output_type": "display_data"
    }
   ],
   "source": [
    "#AL no estar en dataframe no los podermos normalizar\n",
    "model_4 = tf.keras.Sequential([\n",
    "    tf.keras.layers.Dense(100),\n",
    "    tf.keras.layers.Dense(10),\n",
    "    tf.keras.layers.Dense(1)\n",
    "])\n",
    "\n",
    "model_4.compile(\n",
    "    loss = tf.keras.losses.mae,\n",
    "    optimizer = tf.keras.optimizers.Adam(learning_rate=10e-3),\n",
    "    metrics = [\"mae\"]\n",
    ")\n",
    "\n",
    "history = model_4.fit(X_train,Y_train,epochs=500,verbose = 0)\n",
    "plt.plot(history.history[\"mae\"])"
   ]
  },
  {
   "cell_type": "code",
   "execution_count": 505,
   "id": "77efe368",
   "metadata": {},
   "outputs": [
    {
     "name": "stdout",
     "output_type": "stream",
     "text": [
      "4/4 [==============================] - 0s 2ms/step - loss: 2.9357 - mae: 2.9357\n"
     ]
    },
    {
     "data": {
      "text/plain": [
       "[2.935652732849121, 2.935652732849121]"
      ]
     },
     "execution_count": 505,
     "metadata": {},
     "output_type": "execute_result"
    }
   ],
   "source": [
    "model_4.evaluate(X_test,Y_test)\n"
   ]
  },
  {
   "cell_type": "code",
   "execution_count": 509,
   "id": "86a02ddb",
   "metadata": {},
   "outputs": [
    {
     "data": {
      "text/plain": [
       "<matplotlib.collections.PathCollection at 0x7f6664f95d90>"
      ]
     },
     "execution_count": 509,
     "metadata": {},
     "output_type": "execute_result"
    },
    {
     "data": {
      "image/png": "[encoded data removed]",
      "text/plain": [
       "<Figure size 432x288 with 1 Axes>"
      ]
     },
     "metadata": {
      "needs_background": "light"
     },
     "output_type": "display_data"
    }
   ],
   "source": [
    "plt.plot(Y_test,Y_test,c = \"b\")\n",
    "plt.scatter(Y_test,model_4.predict(X_test),c=\"g\")"
   ]
  },
  {
   "cell_type": "code",
   "execution_count": null,
   "id": "469f53b1",
   "metadata": {},
   "outputs": [],
   "source": []
  }
 ],
 "metadata": {
  "kernelspec": {
   "display_name": "Python 3",
   "language": "python",
   "name": "python3"
  },
  "language_info": {
   "codemirror_mode": {
    "name": "ipython",
    "version": 3
   },
   "file_extension": ".py",
   "mimetype": "text/x-python",
   "name": "python",
   "nbconvert_exporter": "python",
   "pygments_lexer": "ipython3",
   "version": "3.7.6"
  }
 },
 "nbformat": 4,
 "nbformat_minor": 5
}
