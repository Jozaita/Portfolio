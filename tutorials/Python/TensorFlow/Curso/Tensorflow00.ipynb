{
 "cells": [
  {
   "cell_type": "code",
   "execution_count": 1,
   "metadata": {},
   "outputs": [],
   "source": [
    "#Fundamentos de Tensorflow\n",
    "#Introducción a tensores\n",
    "#Sacar info de tensores\n",
    "#Manipulación de tensores\n",
    "#Tensores y numpy\n",
    "# @tf.function \n",
    "#Uso de GPU con tensorflow\n",
    "#Ejercicios"
   ]
  },
  {
   "cell_type": "code",
   "execution_count": 2,
   "metadata": {},
   "outputs": [],
   "source": [
    "#Introducción a tensores"
   ]
  },
  {
   "cell_type": "code",
   "execution_count": 3,
   "metadata": {},
   "outputs": [
    {
     "name": "stdout",
     "output_type": "stream",
     "text": [
      "2.5.0\n"
     ]
    }
   ],
   "source": [
    "#Importar tensorflow\n",
    "import tensorflow as tf\n",
    "print(tf.__version__)"
   ]
  },
  {
   "cell_type": "code",
   "execution_count": 4,
   "metadata": {},
   "outputs": [
    {
     "data": {
      "text/plain": [
       "<tf.Tensor: shape=(), dtype=int32, numpy=7>"
      ]
     },
     "execution_count": 4,
     "metadata": {},
     "output_type": "execute_result"
    }
   ],
   "source": [
    "#Crear tensores con tf.constant()\n",
    "scalar = tf.constant(7)\n",
    "scalar"
   ]
  },
  {
   "cell_type": "code",
   "execution_count": 5,
   "metadata": {},
   "outputs": [
    {
     "data": {
      "text/plain": [
       "0"
      ]
     },
     "execution_count": 5,
     "metadata": {},
     "output_type": "execute_result"
    }
   ],
   "source": [
    "#Número de dimensiones de un tendor \n",
    "scalar.ndim"
   ]
  },
  {
   "cell_type": "code",
   "execution_count": 6,
   "metadata": {},
   "outputs": [
    {
     "data": {
      "text/plain": [
       "<tf.Tensor: shape=(2,), dtype=int32, numpy=array([10, 10], dtype=int32)>"
      ]
     },
     "execution_count": 6,
     "metadata": {},
     "output_type": "execute_result"
    }
   ],
   "source": [
    "#Vectores\n",
    "vector = tf.constant([10,10])\n",
    "vector"
   ]
  },
  {
   "cell_type": "code",
   "execution_count": 7,
   "metadata": {},
   "outputs": [
    {
     "data": {
      "text/plain": [
       "1"
      ]
     },
     "execution_count": 7,
     "metadata": {},
     "output_type": "execute_result"
    }
   ],
   "source": [
    "#Dimensiones de un vector\n",
    "vector.ndim"
   ]
  },
  {
   "cell_type": "code",
   "execution_count": 8,
   "metadata": {},
   "outputs": [
    {
     "data": {
      "text/plain": [
       "<tf.Tensor: shape=(2, 2), dtype=int32, numpy=\n",
       "array([[10,  7],\n",
       "       [ 7, 10]], dtype=int32)>"
      ]
     },
     "execution_count": 8,
     "metadata": {},
     "output_type": "execute_result"
    }
   ],
   "source": [
    "#Matrices\n",
    "matrix = tf.constant([[10,7],\n",
    "                     [7,10]])\n",
    "matrix"
   ]
  },
  {
   "cell_type": "code",
   "execution_count": 9,
   "metadata": {},
   "outputs": [
    {
     "data": {
      "text/plain": [
       "2"
      ]
     },
     "execution_count": 9,
     "metadata": {},
     "output_type": "execute_result"
    }
   ],
   "source": [
    "#Dimensiones de una matriz\n",
    "matrix.ndim"
   ]
  },
  {
   "cell_type": "code",
   "execution_count": 10,
   "metadata": {},
   "outputs": [
    {
     "data": {
      "text/plain": [
       "<tf.Tensor: shape=(3, 2), dtype=float16, numpy=\n",
       "array([[10.,  7.],\n",
       "       [ 3.,  2.],\n",
       "       [ 8.,  9.]], dtype=float16)>"
      ]
     },
     "execution_count": 10,
     "metadata": {},
     "output_type": "execute_result"
    }
   ],
   "source": [
    "#Crear otra matriz\n",
    "another_matrix = tf.constant([[10.,7.],\n",
    "                              [3.,2.],\n",
    "                              [8.,9.]],dtype = tf.float16)\n",
    "another_matrix"
   ]
  },
  {
   "cell_type": "code",
   "execution_count": 11,
   "metadata": {},
   "outputs": [
    {
     "data": {
      "text/plain": [
       "2"
      ]
     },
     "execution_count": 11,
     "metadata": {},
     "output_type": "execute_result"
    }
   ],
   "source": [
    "another_matrix.ndim"
   ]
  },
  {
   "cell_type": "code",
   "execution_count": 12,
   "metadata": {},
   "outputs": [
    {
     "data": {
      "text/plain": [
       "<tf.Tensor: shape=(3, 2, 3), dtype=int32, numpy=\n",
       "array([[[ 1,  2,  3],\n",
       "        [ 4,  5,  6]],\n",
       "\n",
       "       [[ 7,  8,  9],\n",
       "        [10, 11, 12]],\n",
       "\n",
       "       [[13, 14, 15],\n",
       "        [16, 17, 18]]], dtype=int32)>"
      ]
     },
     "execution_count": 12,
     "metadata": {},
     "output_type": "execute_result"
    }
   ],
   "source": [
    "#Tensores\n",
    "tensor =tf.constant([[[1,2,3],\n",
    "                   [4,5,6]],\n",
    "                   [[7,8,9],\n",
    "                   [10,11,12]],\n",
    "                   [[13,14,15],\n",
    "                   [16,17,18]]])\n",
    "tensor"
   ]
  },
  {
   "cell_type": "code",
   "execution_count": 13,
   "metadata": {},
   "outputs": [
    {
     "data": {
      "text/plain": [
       "3"
      ]
     },
     "execution_count": 13,
     "metadata": {},
     "output_type": "execute_result"
    }
   ],
   "source": [
    "tensor.ndim"
   ]
  },
  {
   "cell_type": "code",
   "execution_count": 14,
   "metadata": {},
   "outputs": [],
   "source": [
    "#Hemos creado\n",
    "#Scalar: número\n",
    "#Vector: ńúmero con dirección\n",
    "#Matriz: Un array 2D de números\n",
    "#Tensor: Un array n-dimensional"
   ]
  },
  {
   "cell_type": "code",
   "execution_count": 15,
   "metadata": {},
   "outputs": [
    {
     "data": {
      "text/plain": [
       "(<tf.Variable 'Variable:0' shape=(2,) dtype=int32, numpy=array([10,  7], dtype=int32)>,\n",
       " <tf.Tensor: shape=(2,), dtype=int32, numpy=array([10,  7], dtype=int32)>)"
      ]
     },
     "execution_count": 15,
     "metadata": {},
     "output_type": "execute_result"
    }
   ],
   "source": [
    "#Creación de tensores con tf.Variable\n",
    "changeable_tensor = tf.Variable([10,7])\n",
    "unchangeable_tensor = tf.constant([10,7])\n",
    "changeable_tensor, unchangeable_tensor"
   ]
  },
  {
   "cell_type": "code",
   "execution_count": 16,
   "metadata": {},
   "outputs": [
    {
     "ename": "TypeError",
     "evalue": "'ResourceVariable' object does not support item assignment",
     "output_type": "error",
     "traceback": [
      "\u001b[0;31m---------------------------------------------------------------------------\u001b[0m",
      "\u001b[0;31mTypeError\u001b[0m                                 Traceback (most recent call last)",
      "\u001b[0;32m<ipython-input-16-207fe66beb41>\u001b[0m in \u001b[0;36m<module>\u001b[0;34m\u001b[0m\n\u001b[1;32m      1\u001b[0m \u001b[0;31m#Cambiar elementos en el tensor variable\u001b[0m\u001b[0;34m\u001b[0m\u001b[0;34m\u001b[0m\u001b[0;34m\u001b[0m\u001b[0m\n\u001b[0;32m----> 2\u001b[0;31m \u001b[0mchangeable_tensor\u001b[0m\u001b[0;34m[\u001b[0m\u001b[0;36m0\u001b[0m\u001b[0;34m]\u001b[0m \u001b[0;34m=\u001b[0m \u001b[0;36m7\u001b[0m\u001b[0;34m\u001b[0m\u001b[0;34m\u001b[0m\u001b[0m\n\u001b[0m\u001b[1;32m      3\u001b[0m \u001b[0mchangeable_tensor\u001b[0m\u001b[0;34m\u001b[0m\u001b[0;34m\u001b[0m\u001b[0m\n",
      "\u001b[0;31mTypeError\u001b[0m: 'ResourceVariable' object does not support item assignment"
     ]
    }
   ],
   "source": [
    "#Cambiar elementos en el tensor variable \n",
    "changeable_tensor[0] = 7\n",
    "changeable_tensor"
   ]
  },
  {
   "cell_type": "code",
   "execution_count": null,
   "metadata": {},
   "outputs": [],
   "source": [
    "# Usar .assign\n",
    "changeable_tensor[0].assign(7)\n",
    "changeable_tensor"
   ]
  },
  {
   "cell_type": "code",
   "execution_count": 17,
   "metadata": {},
   "outputs": [
    {
     "ename": "AttributeError",
     "evalue": "'tensorflow.python.framework.ops.EagerTensor' object has no attribute 'assign'",
     "output_type": "error",
     "traceback": [
      "\u001b[0;31m---------------------------------------------------------------------------\u001b[0m",
      "\u001b[0;31mAttributeError\u001b[0m                            Traceback (most recent call last)",
      "\u001b[0;32m<ipython-input-17-a79d398ab34f>\u001b[0m in \u001b[0;36m<module>\u001b[0;34m\u001b[0m\n\u001b[1;32m      1\u001b[0m \u001b[0;31m#Probar en el unchangeable\u001b[0m\u001b[0;34m\u001b[0m\u001b[0;34m\u001b[0m\u001b[0;34m\u001b[0m\u001b[0m\n\u001b[0;32m----> 2\u001b[0;31m \u001b[0munchangeable_tensor\u001b[0m\u001b[0;34m[\u001b[0m\u001b[0;36m0\u001b[0m\u001b[0;34m]\u001b[0m\u001b[0;34m.\u001b[0m\u001b[0massign\u001b[0m\u001b[0;34m(\u001b[0m\u001b[0;36m7\u001b[0m\u001b[0;34m)\u001b[0m\u001b[0;34m\u001b[0m\u001b[0;34m\u001b[0m\u001b[0m\n\u001b[0m",
      "\u001b[0;32m~/anaconda3/lib/python3.7/site-packages/tensorflow/python/framework/ops.py\u001b[0m in \u001b[0;36m__getattr__\u001b[0;34m(self, name)\u001b[0m\n\u001b[1;32m    399\u001b[0m         \u001b[0;32mimport\u001b[0m \u001b[0mtensorflow\u001b[0m\u001b[0;34m.\u001b[0m\u001b[0mpython\u001b[0m\u001b[0;34m.\u001b[0m\u001b[0mops\u001b[0m\u001b[0;34m.\u001b[0m\u001b[0mnumpy_ops\u001b[0m\u001b[0;34m.\u001b[0m\u001b[0mnp_config\u001b[0m\u001b[0;34m\u001b[0m\u001b[0;34m\u001b[0m\u001b[0m\n\u001b[1;32m    400\u001b[0m         np_config.enable_numpy_behavior()\"\"\".format(type(self).__name__, name))\n\u001b[0;32m--> 401\u001b[0;31m     \u001b[0mself\u001b[0m\u001b[0;34m.\u001b[0m\u001b[0m__getattribute__\u001b[0m\u001b[0;34m(\u001b[0m\u001b[0mname\u001b[0m\u001b[0;34m)\u001b[0m\u001b[0;34m\u001b[0m\u001b[0;34m\u001b[0m\u001b[0m\n\u001b[0m\u001b[1;32m    402\u001b[0m \u001b[0;34m\u001b[0m\u001b[0m\n\u001b[1;32m    403\u001b[0m   \u001b[0;34m@\u001b[0m\u001b[0mstaticmethod\u001b[0m\u001b[0;34m\u001b[0m\u001b[0;34m\u001b[0m\u001b[0m\n",
      "\u001b[0;31mAttributeError\u001b[0m: 'tensorflow.python.framework.ops.EagerTensor' object has no attribute 'assign'"
     ]
    }
   ],
   "source": [
    "#Probar en el unchangeable\n",
    "unchangeable_tensor[0].assign(7)"
   ]
  },
  {
   "cell_type": "code",
   "execution_count": 18,
   "metadata": {},
   "outputs": [
    {
     "data": {
      "text/plain": [
       "(<tf.Tensor: shape=(3, 2), dtype=float32, numpy=\n",
       " array([[-0.7565803 , -0.06854702],\n",
       "        [ 0.07595026, -1.2573844 ],\n",
       "        [-0.23193763, -1.8107855 ]], dtype=float32)>,\n",
       " <tf.Tensor: shape=(3, 2), dtype=float32, numpy=\n",
       " array([[ 0.6467872 , -0.70762324],\n",
       "        [-0.05593427, -0.52378434],\n",
       "        [-0.02676746, -0.8452239 ]], dtype=float32)>,\n",
       " <tf.Tensor: shape=(3, 2), dtype=bool, numpy=\n",
       " array([[False, False],\n",
       "        [False, False],\n",
       "        [False, False]])>)"
      ]
     },
     "execution_count": 18,
     "metadata": {},
     "output_type": "execute_result"
    }
   ],
   "source": [
    "#Creando tensores aleatorios\n",
    "random_1 = tf.random.Generator.from_seed(42) #la seed\n",
    "random_1 = random_1.normal(shape=(3,2))\n",
    "random_2 = tf.random.Generator.from_seed(500)\n",
    "random_2 = random_2.normal(shape =(3,2))\n",
    "\n",
    "#Son iguales\n",
    "random_1,random_2,random_1 == random_2"
   ]
  },
  {
   "cell_type": "code",
   "execution_count": 19,
   "metadata": {},
   "outputs": [],
   "source": [
    "#Cambiar el orden de los elementos de un tensor\n",
    "not_shuffled = tf.constant([\n",
    "                            [10,7],\n",
    "                            [3,4],\n",
    "                            [2,5]])\n"
   ]
  },
  {
   "cell_type": "code",
   "execution_count": 20,
   "metadata": {},
   "outputs": [
    {
     "data": {
      "text/plain": [
       "<tf.Tensor: shape=(3, 2), dtype=int32, numpy=\n",
       "array([[10,  7],\n",
       "       [ 3,  4],\n",
       "       [ 2,  5]], dtype=int32)>"
      ]
     },
     "execution_count": 20,
     "metadata": {},
     "output_type": "execute_result"
    }
   ],
   "source": [
    "#Deberes\n",
    "tf.random.set_seed(42)\n",
    "tf.random.shuffle(not_shuffled,seed=6)"
   ]
  },
  {
   "cell_type": "code",
   "execution_count": 21,
   "metadata": {},
   "outputs": [
    {
     "data": {
      "text/plain": [
       "<tf.Tensor: shape=(10, 7), dtype=float32, numpy=\n",
       "array([[1., 1., 1., 1., 1., 1., 1.],\n",
       "       [1., 1., 1., 1., 1., 1., 1.],\n",
       "       [1., 1., 1., 1., 1., 1., 1.],\n",
       "       [1., 1., 1., 1., 1., 1., 1.],\n",
       "       [1., 1., 1., 1., 1., 1., 1.],\n",
       "       [1., 1., 1., 1., 1., 1., 1.],\n",
       "       [1., 1., 1., 1., 1., 1., 1.],\n",
       "       [1., 1., 1., 1., 1., 1., 1.],\n",
       "       [1., 1., 1., 1., 1., 1., 1.],\n",
       "       [1., 1., 1., 1., 1., 1., 1.]], dtype=float32)>"
      ]
     },
     "execution_count": 21,
     "metadata": {},
     "output_type": "execute_result"
    }
   ],
   "source": [
    "#Otras maneras de hacer tensores\n",
    "tf.ones([10,7])"
   ]
  },
  {
   "cell_type": "code",
   "execution_count": 22,
   "metadata": {},
   "outputs": [
    {
     "data": {
      "text/plain": [
       "<tf.Tensor: shape=(10, 7), dtype=float32, numpy=\n",
       "array([[0., 0., 0., 0., 0., 0., 0.],\n",
       "       [0., 0., 0., 0., 0., 0., 0.],\n",
       "       [0., 0., 0., 0., 0., 0., 0.],\n",
       "       [0., 0., 0., 0., 0., 0., 0.],\n",
       "       [0., 0., 0., 0., 0., 0., 0.],\n",
       "       [0., 0., 0., 0., 0., 0., 0.],\n",
       "       [0., 0., 0., 0., 0., 0., 0.],\n",
       "       [0., 0., 0., 0., 0., 0., 0.],\n",
       "       [0., 0., 0., 0., 0., 0., 0.],\n",
       "       [0., 0., 0., 0., 0., 0., 0.]], dtype=float32)>"
      ]
     },
     "execution_count": 22,
     "metadata": {},
     "output_type": "execute_result"
    }
   ],
   "source": [
    "tf.zeros([10,7])"
   ]
  },
  {
   "cell_type": "code",
   "execution_count": 23,
   "metadata": {},
   "outputs": [
    {
     "data": {
      "text/plain": [
       "array([ 1,  2,  3,  4,  5,  6,  7,  8,  9, 10, 11, 12, 13, 14, 15, 16, 17,\n",
       "       18, 19, 20, 21, 22, 23, 24], dtype=int32)"
      ]
     },
     "execution_count": 23,
     "metadata": {},
     "output_type": "execute_result"
    }
   ],
   "source": [
    "#Cambiar numpy arrays en tensores\n",
    "import numpy as np\n",
    "\n",
    "numpy_A = np.arange(1,25,dtype=np.int32)\n",
    "numpy_A"
   ]
  },
  {
   "cell_type": "code",
   "execution_count": 24,
   "metadata": {},
   "outputs": [
    {
     "data": {
      "text/plain": [
       "(<tf.Tensor: shape=(12, 2), dtype=int32, numpy=\n",
       " array([[ 1,  2],\n",
       "        [ 3,  4],\n",
       "        [ 5,  6],\n",
       "        [ 7,  8],\n",
       "        [ 9, 10],\n",
       "        [11, 12],\n",
       "        [13, 14],\n",
       "        [15, 16],\n",
       "        [17, 18],\n",
       "        [19, 20],\n",
       "        [21, 22],\n",
       "        [23, 24]], dtype=int32)>,\n",
       " <tf.Tensor: shape=(24,), dtype=int32, numpy=\n",
       " array([ 1,  2,  3,  4,  5,  6,  7,  8,  9, 10, 11, 12, 13, 14, 15, 16, 17,\n",
       "        18, 19, 20, 21, 22, 23, 24], dtype=int32)>)"
      ]
     },
     "execution_count": 24,
     "metadata": {},
     "output_type": "execute_result"
    }
   ],
   "source": [
    "A = tf.constant(numpy_A,shape = (12,2))\n",
    "B = tf.constant(numpy_A)\n",
    "A, B"
   ]
  },
  {
   "cell_type": "code",
   "execution_count": 25,
   "metadata": {},
   "outputs": [
    {
     "data": {
      "text/plain": [
       "<tf.Tensor: shape=(2, 3, 4, 5), dtype=float32, numpy=\n",
       "array([[[[0., 0., 0., 0., 0.],\n",
       "         [0., 0., 0., 0., 0.],\n",
       "         [0., 0., 0., 0., 0.],\n",
       "         [0., 0., 0., 0., 0.]],\n",
       "\n",
       "        [[0., 0., 0., 0., 0.],\n",
       "         [0., 0., 0., 0., 0.],\n",
       "         [0., 0., 0., 0., 0.],\n",
       "         [0., 0., 0., 0., 0.]],\n",
       "\n",
       "        [[0., 0., 0., 0., 0.],\n",
       "         [0., 0., 0., 0., 0.],\n",
       "         [0., 0., 0., 0., 0.],\n",
       "         [0., 0., 0., 0., 0.]]],\n",
       "\n",
       "\n",
       "       [[[0., 0., 0., 0., 0.],\n",
       "         [0., 0., 0., 0., 0.],\n",
       "         [0., 0., 0., 0., 0.],\n",
       "         [0., 0., 0., 0., 0.]],\n",
       "\n",
       "        [[0., 0., 0., 0., 0.],\n",
       "         [0., 0., 0., 0., 0.],\n",
       "         [0., 0., 0., 0., 0.],\n",
       "         [0., 0., 0., 0., 0.]],\n",
       "\n",
       "        [[0., 0., 0., 0., 0.],\n",
       "         [0., 0., 0., 0., 0.],\n",
       "         [0., 0., 0., 0., 0.],\n",
       "         [0., 0., 0., 0., 0.]]]], dtype=float32)>"
      ]
     },
     "execution_count": 25,
     "metadata": {},
     "output_type": "execute_result"
    }
   ],
   "source": [
    "#Sacar información de tensor\n",
    "rank_4_tensor = tf.zeros([2,3,4,5])\n",
    "rank_4_tensor"
   ]
  },
  {
   "cell_type": "code",
   "execution_count": 26,
   "metadata": {},
   "outputs": [
    {
     "data": {
      "text/plain": [
       "(TensorShape([2, 3, 4, 5]), 4, <tf.Tensor: shape=(), dtype=int32, numpy=120>)"
      ]
     },
     "execution_count": 26,
     "metadata": {},
     "output_type": "execute_result"
    }
   ],
   "source": [
    "rank_4_tensor.shape,rank_4_tensor.ndim,tf.size(rank_4_tensor)"
   ]
  },
  {
   "cell_type": "code",
   "execution_count": 27,
   "metadata": {},
   "outputs": [
    {
     "name": "stdout",
     "output_type": "stream",
     "text": [
      "Datatype of every element: <dtype: 'float32'>\n",
      "Number of dimensiones: 4\n",
      "Shape of tensor: (2, 3, 4, 5)\n",
      "Elements along the 0 axis: 2\n",
      "Elements along the last axis: 5\n",
      "Total number of elements in our tensor: 120\n"
     ]
    }
   ],
   "source": [
    "#Otros atributes\n",
    "print(\"Datatype of every element:\", rank_4_tensor.dtype)\n",
    "print(\"Number of dimensiones:\",rank_4_tensor.ndim)\n",
    "print(\"Shape of tensor:\", rank_4_tensor.shape)\n",
    "print(\"Elements along the 0 axis:\", rank_4_tensor.shape[0])\n",
    "print(\"Elements along the last axis:\", rank_4_tensor.shape[-1])\n",
    "print(\"Total number of elements in our tensor:\",tf.size(rank_4_tensor).numpy())"
   ]
  },
  {
   "cell_type": "code",
   "execution_count": 28,
   "metadata": {},
   "outputs": [
    {
     "data": {
      "text/plain": [
       "<tf.Tensor: shape=(2, 2, 2, 2), dtype=float32, numpy=\n",
       "array([[[[0., 0.],\n",
       "         [0., 0.]],\n",
       "\n",
       "        [[0., 0.],\n",
       "         [0., 0.]]],\n",
       "\n",
       "\n",
       "       [[[0., 0.],\n",
       "         [0., 0.]],\n",
       "\n",
       "        [[0., 0.],\n",
       "         [0., 0.]]]], dtype=float32)>"
      ]
     },
     "execution_count": 28,
     "metadata": {},
     "output_type": "execute_result"
    }
   ],
   "source": [
    "#Indexing tensores\n",
    "#Dos primeros elementos de cada dimensión\n",
    "rank_4_tensor[:2,:2,:2,:2]"
   ]
  },
  {
   "cell_type": "code",
   "execution_count": 29,
   "metadata": {},
   "outputs": [
    {
     "data": {
      "text/plain": [
       "<tf.Tensor: shape=(2, 3, 1, 1), dtype=float32, numpy=\n",
       "array([[[[0.]],\n",
       "\n",
       "        [[0.]],\n",
       "\n",
       "        [[0.]]],\n",
       "\n",
       "\n",
       "       [[[0.]],\n",
       "\n",
       "        [[0.]],\n",
       "\n",
       "        [[0.]]]], dtype=float32)>"
      ]
     },
     "execution_count": 29,
     "metadata": {},
     "output_type": "execute_result"
    }
   ],
   "source": [
    "#Conseguir el primer elemento de cada dimensión para cada índice excepto en la del final\n",
    "rank_4_tensor[:,:,:1,:1]"
   ]
  },
  {
   "cell_type": "code",
   "execution_count": 30,
   "metadata": {},
   "outputs": [
    {
     "data": {
      "text/plain": [
       "(TensorShape([2, 2]), 2)"
      ]
     },
     "execution_count": 30,
     "metadata": {},
     "output_type": "execute_result"
    }
   ],
   "source": [
    "#Crear un tensor 2D\n",
    "rank_2_tensor = tf.constant([[10,7],\n",
    "                           [3,4]])\n",
    "rank_2_tensor.shape,rank_2_tensor.ndim"
   ]
  },
  {
   "cell_type": "code",
   "execution_count": 31,
   "metadata": {},
   "outputs": [
    {
     "data": {
      "text/plain": [
       "array([7, 4], dtype=int32)"
      ]
     },
     "execution_count": 31,
     "metadata": {},
     "output_type": "execute_result"
    }
   ],
   "source": [
    "#Conseguir un último elemento de nuestro tensor bidimensional\n",
    "rank_2_tensor[:,-1].numpy()"
   ]
  },
  {
   "cell_type": "code",
   "execution_count": 32,
   "metadata": {},
   "outputs": [
    {
     "data": {
      "text/plain": [
       "<tf.Tensor: shape=(2, 2, 1), dtype=int32, numpy=\n",
       "array([[[10],\n",
       "        [ 7]],\n",
       "\n",
       "       [[ 3],\n",
       "        [ 4]]], dtype=int32)>"
      ]
     },
     "execution_count": 32,
     "metadata": {},
     "output_type": "execute_result"
    }
   ],
   "source": [
    "#Añadir una dimensión etra a un tensor\n",
    "rank_3_tensor = rank_2_tensor[...,tf.newaxis]\n",
    "rank_3_tensor"
   ]
  },
  {
   "cell_type": "code",
   "execution_count": 33,
   "metadata": {},
   "outputs": [
    {
     "data": {
      "text/plain": [
       "<tf.Tensor: shape=(2, 2, 1), dtype=int32, numpy=\n",
       "array([[[10],\n",
       "        [ 7]],\n",
       "\n",
       "       [[ 3],\n",
       "        [ 4]]], dtype=int32)>"
      ]
     },
     "execution_count": 33,
     "metadata": {},
     "output_type": "execute_result"
    }
   ],
   "source": [
    "#Alternativa a tf.newaxis\n",
    "tf.expand_dims(rank_2_tensor,axis=-1)"
   ]
  },
  {
   "cell_type": "code",
   "execution_count": 34,
   "metadata": {},
   "outputs": [
    {
     "data": {
      "text/plain": [
       "<tf.Tensor: shape=(1, 2, 2), dtype=int32, numpy=\n",
       "array([[[10,  7],\n",
       "        [ 3,  4]]], dtype=int32)>"
      ]
     },
     "execution_count": 34,
     "metadata": {},
     "output_type": "execute_result"
    }
   ],
   "source": [
    "tf.expand_dims(rank_2_tensor,axis=0)"
   ]
  },
  {
   "cell_type": "code",
   "execution_count": 35,
   "metadata": {},
   "outputs": [
    {
     "data": {
      "text/plain": [
       "<tf.Tensor: shape=(2, 2), dtype=int32, numpy=\n",
       "array([[20, 17],\n",
       "       [13, 14]], dtype=int32)>"
      ]
     },
     "execution_count": 35,
     "metadata": {},
     "output_type": "execute_result"
    }
   ],
   "source": [
    "#Manipulación de tensores\n",
    "tensor = tf.constant([[10,7],[3,4]])\n",
    "tensor +10"
   ]
  },
  {
   "cell_type": "code",
   "execution_count": 36,
   "metadata": {},
   "outputs": [
    {
     "data": {
      "text/plain": [
       "<tf.Tensor: shape=(2, 2), dtype=int32, numpy=\n",
       "array([[10,  7],\n",
       "       [ 3,  4]], dtype=int32)>"
      ]
     },
     "execution_count": 36,
     "metadata": {},
     "output_type": "execute_result"
    }
   ],
   "source": [
    "#Tensor original sigue igual\n",
    "tensor"
   ]
  },
  {
   "cell_type": "code",
   "execution_count": 37,
   "metadata": {},
   "outputs": [
    {
     "data": {
      "text/plain": [
       "<tf.Tensor: shape=(2, 2), dtype=int32, numpy=\n",
       "array([[100,  70],\n",
       "       [ 30,  40]], dtype=int32)>"
      ]
     },
     "execution_count": 37,
     "metadata": {},
     "output_type": "execute_result"
    }
   ],
   "source": [
    "#Multiplicación\n",
    "tensor*10"
   ]
  },
  {
   "cell_type": "code",
   "execution_count": 38,
   "metadata": {},
   "outputs": [
    {
     "data": {
      "text/plain": [
       "<tf.Tensor: shape=(2, 2), dtype=int32, numpy=\n",
       "array([[ 0, -3],\n",
       "       [-7, -6]], dtype=int32)>"
      ]
     },
     "execution_count": 38,
     "metadata": {},
     "output_type": "execute_result"
    }
   ],
   "source": [
    "#Resta\n",
    "tensor - 10"
   ]
  },
  {
   "cell_type": "code",
   "execution_count": 39,
   "metadata": {},
   "outputs": [
    {
     "data": {
      "text/plain": [
       "<tf.Tensor: shape=(2, 2), dtype=int32, numpy=\n",
       "array([[100,  70],\n",
       "       [ 30,  40]], dtype=int32)>"
      ]
     },
     "execution_count": 39,
     "metadata": {},
     "output_type": "execute_result"
    }
   ],
   "source": [
    "#También hay funciones de tensorflow para esto\n",
    "tf.multiply(tensor,10) #más rápido que los operadores"
   ]
  },
  {
   "cell_type": "code",
   "execution_count": 40,
   "metadata": {},
   "outputs": [
    {
     "data": {
      "text/plain": [
       "<tf.Tensor: shape=(2, 2), dtype=int32, numpy=\n",
       "array([[121,  98],\n",
       "       [ 42,  37]], dtype=int32)>"
      ]
     },
     "execution_count": 40,
     "metadata": {},
     "output_type": "execute_result"
    }
   ],
   "source": [
    "#Multiplicación de matrices\n",
    "tf.matmul(tensor,tensor)"
   ]
  },
  {
   "cell_type": "code",
   "execution_count": 41,
   "metadata": {},
   "outputs": [
    {
     "data": {
      "text/plain": [
       "<tf.Tensor: shape=(2, 2), dtype=int32, numpy=\n",
       "array([[121,  98],\n",
       "       [ 42,  37]], dtype=int32)>"
      ]
     },
     "execution_count": 41,
     "metadata": {},
     "output_type": "execute_result"
    }
   ],
   "source": [
    "#Operador multiplicador de matrices\n",
    "tensor @ tensor"
   ]
  },
  {
   "cell_type": "code",
   "execution_count": 42,
   "metadata": {},
   "outputs": [
    {
     "data": {
      "text/plain": [
       "TensorShape([2, 2])"
      ]
     },
     "execution_count": 42,
     "metadata": {},
     "output_type": "execute_result"
    }
   ],
   "source": [
    "tensor.shape"
   ]
  },
  {
   "cell_type": "code",
   "execution_count": 43,
   "metadata": {},
   "outputs": [
    {
     "data": {
      "text/plain": [
       "(<tf.Tensor: shape=(3, 2), dtype=int32, numpy=\n",
       " array([[1, 2],\n",
       "        [3, 4],\n",
       "        [5, 6]], dtype=int32)>,\n",
       " <tf.Tensor: shape=(3, 2), dtype=int32, numpy=\n",
       " array([[ 7,  8],\n",
       "        [ 9, 10],\n",
       "        [11, 12]], dtype=int32)>)"
      ]
     },
     "execution_count": 43,
     "metadata": {},
     "output_type": "execute_result"
    }
   ],
   "source": [
    "#Crear tensor (3,2)\n",
    "X = tf.constant([[1,2],\n",
    "                [3,4],\n",
    "                [5,6]])\n",
    "#Crear otro tensor (3,2)\n",
    "Y = tf.constant([[7,8],\n",
    "                [9,10],\n",
    "                [11,12]])\n",
    "X,Y"
   ]
  },
  {
   "cell_type": "code",
   "execution_count": 44,
   "metadata": {},
   "outputs": [
    {
     "ename": "InvalidArgumentError",
     "evalue": "In[0] mismatch In[1] shape: 2 vs. 3: [3,2] [3,2] 0 0 [Op:MatMul]",
     "output_type": "error",
     "traceback": [
      "\u001b[0;31m---------------------------------------------------------------------------\u001b[0m",
      "\u001b[0;31mInvalidArgumentError\u001b[0m                      Traceback (most recent call last)",
      "\u001b[0;32m<ipython-input-44-9f30b3869e89>\u001b[0m in \u001b[0;36m<module>\u001b[0;34m\u001b[0m\n\u001b[1;32m      1\u001b[0m \u001b[0;31m#Multiplicación\u001b[0m\u001b[0;34m\u001b[0m\u001b[0;34m\u001b[0m\u001b[0;34m\u001b[0m\u001b[0m\n\u001b[0;32m----> 2\u001b[0;31m \u001b[0mtf\u001b[0m\u001b[0;34m.\u001b[0m\u001b[0mmatmul\u001b[0m\u001b[0;34m(\u001b[0m\u001b[0mX\u001b[0m\u001b[0;34m,\u001b[0m\u001b[0mY\u001b[0m\u001b[0;34m)\u001b[0m\u001b[0;34m\u001b[0m\u001b[0;34m\u001b[0m\u001b[0m\n\u001b[0m",
      "\u001b[0;32m~/anaconda3/lib/python3.7/site-packages/tensorflow/python/util/dispatch.py\u001b[0m in \u001b[0;36mwrapper\u001b[0;34m(*args, **kwargs)\u001b[0m\n\u001b[1;32m    204\u001b[0m     \u001b[0;34m\"\"\"Call target, and fall back on dispatchers if there is a TypeError.\"\"\"\u001b[0m\u001b[0;34m\u001b[0m\u001b[0;34m\u001b[0m\u001b[0m\n\u001b[1;32m    205\u001b[0m     \u001b[0;32mtry\u001b[0m\u001b[0;34m:\u001b[0m\u001b[0;34m\u001b[0m\u001b[0;34m\u001b[0m\u001b[0m\n\u001b[0;32m--> 206\u001b[0;31m       \u001b[0;32mreturn\u001b[0m \u001b[0mtarget\u001b[0m\u001b[0;34m(\u001b[0m\u001b[0;34m*\u001b[0m\u001b[0margs\u001b[0m\u001b[0;34m,\u001b[0m \u001b[0;34m**\u001b[0m\u001b[0mkwargs\u001b[0m\u001b[0;34m)\u001b[0m\u001b[0;34m\u001b[0m\u001b[0;34m\u001b[0m\u001b[0m\n\u001b[0m\u001b[1;32m    207\u001b[0m     \u001b[0;32mexcept\u001b[0m \u001b[0;34m(\u001b[0m\u001b[0mTypeError\u001b[0m\u001b[0;34m,\u001b[0m \u001b[0mValueError\u001b[0m\u001b[0;34m)\u001b[0m\u001b[0;34m:\u001b[0m\u001b[0;34m\u001b[0m\u001b[0;34m\u001b[0m\u001b[0m\n\u001b[1;32m    208\u001b[0m       \u001b[0;31m# Note: convert_to_eager_tensor currently raises a ValueError, not a\u001b[0m\u001b[0;34m\u001b[0m\u001b[0;34m\u001b[0m\u001b[0;34m\u001b[0m\u001b[0m\n",
      "\u001b[0;32m~/anaconda3/lib/python3.7/site-packages/tensorflow/python/ops/math_ops.py\u001b[0m in \u001b[0;36mmatmul\u001b[0;34m(a, b, transpose_a, transpose_b, adjoint_a, adjoint_b, a_is_sparse, b_is_sparse, name)\u001b[0m\n\u001b[1;32m   3488\u001b[0m     \u001b[0;32melse\u001b[0m\u001b[0;34m:\u001b[0m\u001b[0;34m\u001b[0m\u001b[0;34m\u001b[0m\u001b[0m\n\u001b[1;32m   3489\u001b[0m       return gen_math_ops.mat_mul(\n\u001b[0;32m-> 3490\u001b[0;31m           a, b, transpose_a=transpose_a, transpose_b=transpose_b, name=name)\n\u001b[0m\u001b[1;32m   3491\u001b[0m \u001b[0;34m\u001b[0m\u001b[0m\n\u001b[1;32m   3492\u001b[0m \u001b[0;34m\u001b[0m\u001b[0m\n",
      "\u001b[0;32m~/anaconda3/lib/python3.7/site-packages/tensorflow/python/ops/gen_math_ops.py\u001b[0m in \u001b[0;36mmat_mul\u001b[0;34m(a, b, transpose_a, transpose_b, name)\u001b[0m\n\u001b[1;32m   5698\u001b[0m       \u001b[0;32mreturn\u001b[0m \u001b[0m_result\u001b[0m\u001b[0;34m\u001b[0m\u001b[0;34m\u001b[0m\u001b[0m\n\u001b[1;32m   5699\u001b[0m     \u001b[0;32mexcept\u001b[0m \u001b[0m_core\u001b[0m\u001b[0;34m.\u001b[0m\u001b[0m_NotOkStatusException\u001b[0m \u001b[0;32mas\u001b[0m \u001b[0me\u001b[0m\u001b[0;34m:\u001b[0m\u001b[0;34m\u001b[0m\u001b[0;34m\u001b[0m\u001b[0m\n\u001b[0;32m-> 5700\u001b[0;31m       \u001b[0m_ops\u001b[0m\u001b[0;34m.\u001b[0m\u001b[0mraise_from_not_ok_status\u001b[0m\u001b[0;34m(\u001b[0m\u001b[0me\u001b[0m\u001b[0;34m,\u001b[0m \u001b[0mname\u001b[0m\u001b[0;34m)\u001b[0m\u001b[0;34m\u001b[0m\u001b[0;34m\u001b[0m\u001b[0m\n\u001b[0m\u001b[1;32m   5701\u001b[0m     \u001b[0;32mexcept\u001b[0m \u001b[0m_core\u001b[0m\u001b[0;34m.\u001b[0m\u001b[0m_FallbackException\u001b[0m\u001b[0;34m:\u001b[0m\u001b[0;34m\u001b[0m\u001b[0;34m\u001b[0m\u001b[0m\n\u001b[1;32m   5702\u001b[0m       \u001b[0;32mpass\u001b[0m\u001b[0;34m\u001b[0m\u001b[0;34m\u001b[0m\u001b[0m\n",
      "\u001b[0;32m~/anaconda3/lib/python3.7/site-packages/tensorflow/python/framework/ops.py\u001b[0m in \u001b[0;36mraise_from_not_ok_status\u001b[0;34m(e, name)\u001b[0m\n\u001b[1;32m   6895\u001b[0m   \u001b[0mmessage\u001b[0m \u001b[0;34m=\u001b[0m \u001b[0me\u001b[0m\u001b[0;34m.\u001b[0m\u001b[0mmessage\u001b[0m \u001b[0;34m+\u001b[0m \u001b[0;34m(\u001b[0m\u001b[0;34m\" name: \"\u001b[0m \u001b[0;34m+\u001b[0m \u001b[0mname\u001b[0m \u001b[0;32mif\u001b[0m \u001b[0mname\u001b[0m \u001b[0;32mis\u001b[0m \u001b[0;32mnot\u001b[0m \u001b[0;32mNone\u001b[0m \u001b[0;32melse\u001b[0m \u001b[0;34m\"\"\u001b[0m\u001b[0;34m)\u001b[0m\u001b[0;34m\u001b[0m\u001b[0;34m\u001b[0m\u001b[0m\n\u001b[1;32m   6896\u001b[0m   \u001b[0;31m# pylint: disable=protected-access\u001b[0m\u001b[0;34m\u001b[0m\u001b[0;34m\u001b[0m\u001b[0;34m\u001b[0m\u001b[0m\n\u001b[0;32m-> 6897\u001b[0;31m   \u001b[0msix\u001b[0m\u001b[0;34m.\u001b[0m\u001b[0mraise_from\u001b[0m\u001b[0;34m(\u001b[0m\u001b[0mcore\u001b[0m\u001b[0;34m.\u001b[0m\u001b[0m_status_to_exception\u001b[0m\u001b[0;34m(\u001b[0m\u001b[0me\u001b[0m\u001b[0;34m.\u001b[0m\u001b[0mcode\u001b[0m\u001b[0;34m,\u001b[0m \u001b[0mmessage\u001b[0m\u001b[0;34m)\u001b[0m\u001b[0;34m,\u001b[0m \u001b[0;32mNone\u001b[0m\u001b[0;34m)\u001b[0m\u001b[0;34m\u001b[0m\u001b[0;34m\u001b[0m\u001b[0m\n\u001b[0m\u001b[1;32m   6898\u001b[0m   \u001b[0;31m# pylint: enable=protected-access\u001b[0m\u001b[0;34m\u001b[0m\u001b[0;34m\u001b[0m\u001b[0;34m\u001b[0m\u001b[0m\n\u001b[1;32m   6899\u001b[0m \u001b[0;34m\u001b[0m\u001b[0m\n",
      "\u001b[0;32m~/anaconda3/lib/python3.7/site-packages/six.py\u001b[0m in \u001b[0;36mraise_from\u001b[0;34m(value, from_value)\u001b[0m\n",
      "\u001b[0;31mInvalidArgumentError\u001b[0m: In[0] mismatch In[1] shape: 2 vs. 3: [3,2] [3,2] 0 0 [Op:MatMul]"
     ]
    }
   ],
   "source": [
    "#Multiplicación\n",
    "tf.matmul(X,Y)"
   ]
  },
  {
   "cell_type": "code",
   "execution_count": 45,
   "metadata": {},
   "outputs": [
    {
     "data": {
      "text/plain": [
       "<tf.Tensor: shape=(2, 3), dtype=int32, numpy=\n",
       "array([[ 7,  8,  9],\n",
       "       [10, 11, 12]], dtype=int32)>"
      ]
     },
     "execution_count": 45,
     "metadata": {},
     "output_type": "execute_result"
    }
   ],
   "source": [
    "#Cambiar la shape de Y \n",
    "tf.reshape(Y, shape = (2,3))"
   ]
  },
  {
   "cell_type": "code",
   "execution_count": 46,
   "metadata": {},
   "outputs": [
    {
     "data": {
      "text/plain": [
       "<tf.Tensor: shape=(3, 3), dtype=int32, numpy=\n",
       "array([[ 27,  30,  33],\n",
       "       [ 61,  68,  75],\n",
       "       [ 95, 106, 117]], dtype=int32)>"
      ]
     },
     "execution_count": 46,
     "metadata": {},
     "output_type": "execute_result"
    }
   ],
   "source": [
    "#Multiplicar ahora\n",
    "X @ tf.reshape(Y, shape=((2,3)))"
   ]
  },
  {
   "cell_type": "code",
   "execution_count": 47,
   "metadata": {},
   "outputs": [
    {
     "data": {
      "text/plain": [
       "<tf.Tensor: shape=(3, 3), dtype=int32, numpy=\n",
       "array([[ 27,  30,  33],\n",
       "       [ 61,  68,  75],\n",
       "       [ 95, 106, 117]], dtype=int32)>"
      ]
     },
     "execution_count": 47,
     "metadata": {},
     "output_type": "execute_result"
    }
   ],
   "source": [
    "tf.matmul(X,tf.reshape(Y,shape=(2,3)))"
   ]
  },
  {
   "cell_type": "code",
   "execution_count": 48,
   "metadata": {},
   "outputs": [
    {
     "data": {
      "text/plain": [
       "<tf.Tensor: shape=(2, 2), dtype=int32, numpy=\n",
       "array([[ 58,  64],\n",
       "       [139, 154]], dtype=int32)>"
      ]
     },
     "execution_count": 48,
     "metadata": {},
     "output_type": "execute_result"
    }
   ],
   "source": [
    "#Cambiar las dimensiones de X en vez de Y\n",
    "tf.matmul(tf.reshape(X,shape=(2,3)),Y)"
   ]
  },
  {
   "cell_type": "code",
   "execution_count": 49,
   "metadata": {},
   "outputs": [
    {
     "data": {
      "text/plain": [
       "(<tf.Tensor: shape=(2, 3), dtype=int32, numpy=\n",
       " array([[1, 3, 5],\n",
       "        [2, 4, 6]], dtype=int32)>,\n",
       " <tf.Tensor: shape=(2, 3), dtype=int32, numpy=\n",
       " array([[1, 2, 3],\n",
       "        [4, 5, 6]], dtype=int32)>)"
      ]
     },
     "execution_count": 49,
     "metadata": {},
     "output_type": "execute_result"
    }
   ],
   "source": [
    "#Trasponer una matriz\n",
    "tf.transpose(X),tf.reshape(X,shape=(2,3))\n",
    "#Trasponer cambia el eje mientras que reshape solo reordena"
   ]
  },
  {
   "cell_type": "code",
   "execution_count": 50,
   "metadata": {},
   "outputs": [
    {
     "data": {
      "text/plain": [
       "<tf.Tensor: shape=(2, 2), dtype=int32, numpy=\n",
       "array([[ 89,  98],\n",
       "       [116, 128]], dtype=int32)>"
      ]
     },
     "execution_count": 50,
     "metadata": {},
     "output_type": "execute_result"
    }
   ],
   "source": [
    " #Multiplicación de matrices con la traspuesta\n",
    "tf.matmul(tf.transpose(X),Y)"
   ]
  },
  {
   "cell_type": "code",
   "execution_count": 51,
   "metadata": {},
   "outputs": [
    {
     "data": {
      "text/plain": [
       "<tf.Tensor: shape=(2, 2), dtype=int32, numpy=\n",
       "array([[ 89,  98],\n",
       "       [116, 128]], dtype=int32)>"
      ]
     },
     "execution_count": 51,
     "metadata": {},
     "output_type": "execute_result"
    }
   ],
   "source": [
    "#Producto escalar\n",
    "tf.tensordot(tf.transpose(X),Y,axes = 1)"
   ]
  },
  {
   "cell_type": "code",
   "execution_count": 52,
   "metadata": {},
   "outputs": [
    {
     "data": {
      "text/plain": [
       "<tf.Tensor: shape=(3, 3), dtype=int32, numpy=\n",
       "array([[ 23,  29,  35],\n",
       "       [ 53,  67,  81],\n",
       "       [ 83, 105, 127]], dtype=int32)>"
      ]
     },
     "execution_count": 52,
     "metadata": {},
     "output_type": "execute_result"
    }
   ],
   "source": [
    "#Lo mismo pero con y traspuesta\n",
    "tf.matmul(X,tf.transpose(Y))"
   ]
  },
  {
   "cell_type": "code",
   "execution_count": 53,
   "metadata": {},
   "outputs": [
    {
     "data": {
      "text/plain": [
       "<tf.Tensor: shape=(3, 3), dtype=int32, numpy=\n",
       "array([[ 27,  30,  33],\n",
       "       [ 61,  68,  75],\n",
       "       [ 95, 106, 117]], dtype=int32)>"
      ]
     },
     "execution_count": 53,
     "metadata": {},
     "output_type": "execute_result"
    }
   ],
   "source": [
    "#Lo mismo con Y reshaped\n",
    "tf.matmul(X,tf.reshape(Y,shape=(2,3)))"
   ]
  },
  {
   "cell_type": "code",
   "execution_count": 54,
   "metadata": {},
   "outputs": [
    {
     "name": "stdout",
     "output_type": "stream",
     "text": [
      "Y normal:\n",
      "tf.Tensor(\n",
      "[[ 7  8]\n",
      " [ 9 10]\n",
      " [11 12]], shape=(3, 2), dtype=int32) \n",
      "\n",
      "Y reshaped to (2,3):\n",
      "tf.Tensor(\n",
      "[[ 7  8  9]\n",
      " [10 11 12]], shape=(2, 3), dtype=int32) \n",
      "\n",
      "Y transposed:\n",
      "tf.Tensor(\n",
      "[[ 7  9 11]\n",
      " [ 8 10 12]], shape=(2, 3), dtype=int32) \n",
      "\n"
     ]
    }
   ],
   "source": [
    "#Comprobar valores de Y, reformar Y y transponer\n",
    "print(\"Y normal:\")\n",
    "print(Y,\"\\n\")\n",
    "print(\"Y reshaped to (2,3):\")\n",
    "print(tf.reshape(Y,(2,3)),\"\\n\")\n",
    "print(\"Y transposed:\")\n",
    "print(tf.transpose(Y),\"\\n\")"
   ]
  },
  {
   "cell_type": "code",
   "execution_count": 55,
   "metadata": {},
   "outputs": [
    {
     "data": {
      "text/plain": [
       "tf.float32"
      ]
     },
     "execution_count": 55,
     "metadata": {},
     "output_type": "execute_result"
    }
   ],
   "source": [
    "#Cambiando el tipo de datos\n",
    "B = tf.constant([1.7,7.4])\n",
    "B.dtype"
   ]
  },
  {
   "cell_type": "code",
   "execution_count": 56,
   "metadata": {},
   "outputs": [
    {
     "data": {
      "text/plain": [
       "tf.int32"
      ]
     },
     "execution_count": 56,
     "metadata": {},
     "output_type": "execute_result"
    }
   ],
   "source": [
    "C = tf.constant([7,10])\n",
    "C.dtype"
   ]
  },
  {
   "cell_type": "code",
   "execution_count": 57,
   "metadata": {},
   "outputs": [
    {
     "data": {
      "text/plain": [
       "tf.float16"
      ]
     },
     "execution_count": 57,
     "metadata": {},
     "output_type": "execute_result"
    }
   ],
   "source": [
    "#Cambiar de float32 a float16\n",
    "D = tf.cast(B,dtype=tf.float16)\n",
    "D.dtype"
   ]
  },
  {
   "cell_type": "code",
   "execution_count": 58,
   "metadata": {},
   "outputs": [
    {
     "data": {
      "text/plain": [
       "tf.float32"
      ]
     },
     "execution_count": 58,
     "metadata": {},
     "output_type": "execute_result"
    }
   ],
   "source": [
    "#Cambiar de int32 a float32\n",
    "E = tf.cast(C,dtype=tf.float32)\n",
    "E.dtype"
   ]
  },
  {
   "cell_type": "code",
   "execution_count": 59,
   "metadata": {},
   "outputs": [
    {
     "data": {
      "text/plain": [
       "tf.float16"
      ]
     },
     "execution_count": 59,
     "metadata": {},
     "output_type": "execute_result"
    }
   ],
   "source": [
    "E_float16 = tf.cast(E,dtype=tf.float16)\n",
    "E_float16.dtype"
   ]
  },
  {
   "cell_type": "code",
   "execution_count": 60,
   "metadata": {},
   "outputs": [
    {
     "data": {
      "text/plain": [
       "<tf.Tensor: shape=(2,), dtype=int32, numpy=array([ -7, -10], dtype=int32)>"
      ]
     },
     "execution_count": 60,
     "metadata": {},
     "output_type": "execute_result"
    }
   ],
   "source": [
    "#Tensores agregados\n",
    "#Agregar tensores es condensar sus valores\n",
    "#Valor absoluto\n",
    "D = tf.constant([-7,-10])\n",
    "D"
   ]
  },
  {
   "cell_type": "code",
   "execution_count": 61,
   "metadata": {},
   "outputs": [
    {
     "data": {
      "text/plain": [
       "<tf.Tensor: shape=(2,), dtype=int32, numpy=array([ 7, 10], dtype=int32)>"
      ]
     },
     "execution_count": 61,
     "metadata": {},
     "output_type": "execute_result"
    }
   ],
   "source": [
    "tf.abs(D)"
   ]
  },
  {
   "cell_type": "code",
   "execution_count": 62,
   "metadata": {},
   "outputs": [
    {
     "data": {
      "text/plain": [
       "(<tf.Tensor: shape=(), dtype=int32, numpy=50>, TensorShape([50]), 1)"
      ]
     },
     "execution_count": 62,
     "metadata": {},
     "output_type": "execute_result"
    }
   ],
   "source": [
    "#Más formas\n",
    "E = tf.constant(np.random.randint(0,100,size=50))\n",
    "tf.size(E),E.shape,E.ndim"
   ]
  },
  {
   "cell_type": "code",
   "execution_count": 63,
   "metadata": {},
   "outputs": [
    {
     "data": {
      "text/plain": [
       "<tf.Tensor: shape=(), dtype=int64, numpy=0>"
      ]
     },
     "execution_count": 63,
     "metadata": {},
     "output_type": "execute_result"
    }
   ],
   "source": [
    "tf.reduce_min(E)"
   ]
  },
  {
   "cell_type": "code",
   "execution_count": 64,
   "metadata": {},
   "outputs": [
    {
     "data": {
      "text/plain": [
       "<tf.Tensor: shape=(), dtype=int64, numpy=96>"
      ]
     },
     "execution_count": 64,
     "metadata": {},
     "output_type": "execute_result"
    }
   ],
   "source": [
    "tf.reduce_max(E)"
   ]
  },
  {
   "cell_type": "code",
   "execution_count": 65,
   "metadata": {},
   "outputs": [
    {
     "data": {
      "text/plain": [
       "<tf.Tensor: shape=(), dtype=float16, numpy=51.2>"
      ]
     },
     "execution_count": 65,
     "metadata": {},
     "output_type": "execute_result"
    }
   ],
   "source": [
    "tf.reduce_mean(tf.cast(E,dtype=tf.float16))"
   ]
  },
  {
   "cell_type": "code",
   "execution_count": 66,
   "metadata": {},
   "outputs": [
    {
     "data": {
      "text/plain": [
       "<tf.Tensor: shape=(), dtype=int64, numpy=2561>"
      ]
     },
     "execution_count": 66,
     "metadata": {},
     "output_type": "execute_result"
    }
   ],
   "source": [
    "tf.math.reduce_sum(E)"
   ]
  },
  {
   "cell_type": "code",
   "execution_count": 72,
   "metadata": {},
   "outputs": [],
   "source": [
    "import tensorflow_probability as tfp\n",
    "#tf.math.reduce_std(tf.cast(E,dtype=tf.float16))"
   ]
  },
  {
   "cell_type": "code",
   "execution_count": 74,
   "metadata": {},
   "outputs": [
    {
     "data": {
      "text/plain": [
       "<tf.Tensor: shape=(), dtype=int64, numpy=827>"
      ]
     },
     "execution_count": 74,
     "metadata": {},
     "output_type": "execute_result"
    }
   ],
   "source": [
    "tfp.stats.variance(E)"
   ]
  },
  {
   "cell_type": "code",
   "execution_count": 78,
   "metadata": {},
   "outputs": [
    {
     "data": {
      "text/plain": [
       "<tf.Tensor: shape=(), dtype=float16, numpy=28.77>"
      ]
     },
     "execution_count": 78,
     "metadata": {},
     "output_type": "execute_result"
    }
   ],
   "source": [
    "tf.math.reduce_std(tf.cast(E,dtype = tf.float16))"
   ]
  },
  {
   "cell_type": "code",
   "execution_count": 81,
   "metadata": {},
   "outputs": [
    {
     "data": {
      "text/plain": [
       "<tf.Tensor: shape=(50,), dtype=float32, numpy=\n",
       "array([0.6645621 , 0.44100678, 0.3528825 , 0.46448255, 0.03366041,\n",
       "       0.68467236, 0.74011743, 0.8724445 , 0.22632635, 0.22319686,\n",
       "       0.3103881 , 0.7223358 , 0.13318717, 0.5480639 , 0.5746088 ,\n",
       "       0.8996835 , 0.00946367, 0.5212307 , 0.6345445 , 0.1993283 ,\n",
       "       0.72942245, 0.54583454, 0.10756552, 0.6767061 , 0.6602763 ,\n",
       "       0.33695042, 0.60141766, 0.21062577, 0.8527372 , 0.44062173,\n",
       "       0.9485276 , 0.23752594, 0.81179297, 0.5263394 , 0.494308  ,\n",
       "       0.21612847, 0.8457197 , 0.8718841 , 0.3083862 , 0.6868038 ,\n",
       "       0.23764038, 0.7817228 , 0.9671384 , 0.06870162, 0.79873943,\n",
       "       0.66028714, 0.5871513 , 0.16461694, 0.7381023 , 0.32054043],\n",
       "      dtype=float32)>"
      ]
     },
     "execution_count": 81,
     "metadata": {},
     "output_type": "execute_result"
    }
   ],
   "source": [
    "#Posición de máximo y mínimo de un tensor\n",
    "tf.random.set_seed(42)\n",
    "F = tf.random.uniform(shape=([50]))\n",
    "F"
   ]
  },
  {
   "cell_type": "code",
   "execution_count": 82,
   "metadata": {},
   "outputs": [
    {
     "data": {
      "text/plain": [
       "<tf.Tensor: shape=(), dtype=int64, numpy=42>"
      ]
     },
     "execution_count": 82,
     "metadata": {},
     "output_type": "execute_result"
    }
   ],
   "source": [
    "#Encuentra la posición del máximo\n",
    "tf.argmax(F)"
   ]
  },
  {
   "cell_type": "code",
   "execution_count": 83,
   "metadata": {},
   "outputs": [
    {
     "data": {
      "text/plain": [
       "<tf.Tensor: shape=(), dtype=float32, numpy=0.9671384>"
      ]
     },
     "execution_count": 83,
     "metadata": {},
     "output_type": "execute_result"
    }
   ],
   "source": [
    "F[tf.argmax(F)]"
   ]
  },
  {
   "cell_type": "code",
   "execution_count": 84,
   "metadata": {},
   "outputs": [
    {
     "data": {
      "text/plain": [
       "<tf.Tensor: shape=(), dtype=float32, numpy=0.9671384>"
      ]
     },
     "execution_count": 84,
     "metadata": {},
     "output_type": "execute_result"
    }
   ],
   "source": [
    "tf.reduce_max(F)"
   ]
  },
  {
   "cell_type": "code",
   "execution_count": 85,
   "metadata": {},
   "outputs": [],
   "source": [
    "assert F[tf.argmax(F)] == tf.reduce_max(F)"
   ]
  },
  {
   "cell_type": "code",
   "execution_count": 86,
   "metadata": {},
   "outputs": [
    {
     "data": {
      "text/plain": [
       "<tf.Tensor: shape=(), dtype=int64, numpy=16>"
      ]
     },
     "execution_count": 86,
     "metadata": {},
     "output_type": "execute_result"
    }
   ],
   "source": [
    "tf.argmin(F)"
   ]
  },
  {
   "cell_type": "code",
   "execution_count": 88,
   "metadata": {},
   "outputs": [
    {
     "data": {
      "text/plain": [
       "<tf.Tensor: shape=(), dtype=float32, numpy=0.009463668>"
      ]
     },
     "execution_count": 88,
     "metadata": {},
     "output_type": "execute_result"
    }
   ],
   "source": [
    "F[tf.argmin(F)]"
   ]
  },
  {
   "cell_type": "code",
   "execution_count": 105,
   "metadata": {},
   "outputs": [
    {
     "data": {
      "text/plain": [
       "<tf.Tensor: shape=(1, 1, 1, 1, 50), dtype=float32, numpy=\n",
       "array([[[[[0.6645621 , 0.44100678, 0.3528825 , 0.46448255, 0.03366041,\n",
       "           0.68467236, 0.74011743, 0.8724445 , 0.22632635, 0.22319686,\n",
       "           0.3103881 , 0.7223358 , 0.13318717, 0.5480639 , 0.5746088 ,\n",
       "           0.8996835 , 0.00946367, 0.5212307 , 0.6345445 , 0.1993283 ,\n",
       "           0.72942245, 0.54583454, 0.10756552, 0.6767061 , 0.6602763 ,\n",
       "           0.33695042, 0.60141766, 0.21062577, 0.8527372 , 0.44062173,\n",
       "           0.9485276 , 0.23752594, 0.81179297, 0.5263394 , 0.494308  ,\n",
       "           0.21612847, 0.8457197 , 0.8718841 , 0.3083862 , 0.6868038 ,\n",
       "           0.23764038, 0.7817228 , 0.9671384 , 0.06870162, 0.79873943,\n",
       "           0.66028714, 0.5871513 , 0.16461694, 0.7381023 , 0.32054043]]]]],\n",
       "      dtype=float32)>"
      ]
     },
     "execution_count": 105,
     "metadata": {},
     "output_type": "execute_result"
    }
   ],
   "source": [
    "##Squeezing un tensor (eliminar dimensiones sueltas)\n",
    "tf.random.set_seed(42)\n",
    "G = tf.constant(tf.random.uniform(shape=[50]),shape = (1,1,1,1,50))\n",
    "G"
   ]
  },
  {
   "cell_type": "code",
   "execution_count": 106,
   "metadata": {},
   "outputs": [
    {
     "data": {
      "text/plain": [
       "<tf.Tensor: shape=(50,), dtype=float32, numpy=\n",
       "array([0.6645621 , 0.44100678, 0.3528825 , 0.46448255, 0.03366041,\n",
       "       0.68467236, 0.74011743, 0.8724445 , 0.22632635, 0.22319686,\n",
       "       0.3103881 , 0.7223358 , 0.13318717, 0.5480639 , 0.5746088 ,\n",
       "       0.8996835 , 0.00946367, 0.5212307 , 0.6345445 , 0.1993283 ,\n",
       "       0.72942245, 0.54583454, 0.10756552, 0.6767061 , 0.6602763 ,\n",
       "       0.33695042, 0.60141766, 0.21062577, 0.8527372 , 0.44062173,\n",
       "       0.9485276 , 0.23752594, 0.81179297, 0.5263394 , 0.494308  ,\n",
       "       0.21612847, 0.8457197 , 0.8718841 , 0.3083862 , 0.6868038 ,\n",
       "       0.23764038, 0.7817228 , 0.9671384 , 0.06870162, 0.79873943,\n",
       "       0.66028714, 0.5871513 , 0.16461694, 0.7381023 , 0.32054043],\n",
       "      dtype=float32)>"
      ]
     },
     "execution_count": 106,
     "metadata": {},
     "output_type": "execute_result"
    }
   ],
   "source": [
    "G_squeezed = tf.squeeze(G)\n",
    "G_squeezed"
   ]
  },
  {
   "cell_type": "code",
   "execution_count": 108,
   "metadata": {},
   "outputs": [
    {
     "data": {
      "text/plain": [
       "<tf.Tensor: shape=(4, 4), dtype=float32, numpy=\n",
       "array([[1., 0., 0., 0.],\n",
       "       [0., 1., 0., 0.],\n",
       "       [0., 0., 1., 0.],\n",
       "       [0., 0., 0., 1.]], dtype=float32)>"
      ]
     },
     "execution_count": 108,
     "metadata": {},
     "output_type": "execute_result"
    }
   ],
   "source": [
    "#Tensores de one-hot encoding\n",
    "#Crear una lista de indices\n",
    "some_list = [0,1,2,3]\n",
    "#One hot encode\n",
    "tf.one_hot(some_list,len(some_list))"
   ]
  },
  {
   "cell_type": "code",
   "execution_count": 110,
   "metadata": {},
   "outputs": [
    {
     "data": {
      "text/plain": [
       "<tf.Tensor: shape=(4, 10), dtype=string, numpy=\n",
       "array([[b'aka_b', b'bbeas', b'bbeas', b'bbeas', b'bbeas', b'bbeas',\n",
       "        b'bbeas', b'bbeas', b'bbeas', b'bbeas'],\n",
       "       [b'bbeas', b'aka_b', b'bbeas', b'bbeas', b'bbeas', b'bbeas',\n",
       "        b'bbeas', b'bbeas', b'bbeas', b'bbeas'],\n",
       "       [b'bbeas', b'bbeas', b'aka_b', b'bbeas', b'bbeas', b'bbeas',\n",
       "        b'bbeas', b'bbeas', b'bbeas', b'bbeas'],\n",
       "       [b'bbeas', b'bbeas', b'bbeas', b'aka_b', b'bbeas', b'bbeas',\n",
       "        b'bbeas', b'bbeas', b'bbeas', b'bbeas']], dtype=object)>"
      ]
     },
     "execution_count": 110,
     "metadata": {},
     "output_type": "execute_result"
    }
   ],
   "source": [
    "#Valores de usuario para el one hot\n",
    "tf.one_hot(some_list,10,on_value = \"aka_b\",off_value=\"bbeas\")"
   ]
  },
  {
   "cell_type": "code",
   "execution_count": 111,
   "metadata": {},
   "outputs": [
    {
     "data": {
      "text/plain": [
       "<tf.Tensor: shape=(9,), dtype=int32, numpy=array([1, 2, 3, 4, 5, 6, 7, 8, 9], dtype=int32)>"
      ]
     },
     "execution_count": 111,
     "metadata": {},
     "output_type": "execute_result"
    }
   ],
   "source": [
    "#Raíz cuadrada, cuadrados y logaritmos\n",
    "H = tf.range(1,10)\n",
    "H"
   ]
  },
  {
   "cell_type": "code",
   "execution_count": 112,
   "metadata": {},
   "outputs": [
    {
     "data": {
      "text/plain": [
       "<tf.Tensor: shape=(9,), dtype=int32, numpy=array([ 1,  4,  9, 16, 25, 36, 49, 64, 81], dtype=int32)>"
      ]
     },
     "execution_count": 112,
     "metadata": {},
     "output_type": "execute_result"
    }
   ],
   "source": [
    "tf.square(H)"
   ]
  },
  {
   "cell_type": "code",
   "execution_count": 115,
   "metadata": {},
   "outputs": [
    {
     "data": {
      "text/plain": [
       "<tf.Tensor: shape=(9,), dtype=float32, numpy=\n",
       "array([0.99999994, 1.4142134 , 1.7320508 , 1.9999999 , 2.236068  ,\n",
       "       2.4494896 , 2.6457512 , 2.8284268 , 3.        ], dtype=float32)>"
      ]
     },
     "execution_count": 115,
     "metadata": {},
     "output_type": "execute_result"
    }
   ],
   "source": [
    "tf.sqrt(tf.cast(H,dtype=tf.float32))"
   ]
  },
  {
   "cell_type": "code",
   "execution_count": 119,
   "metadata": {},
   "outputs": [
    {
     "data": {
      "text/plain": [
       "<tf.Tensor: shape=(9,), dtype=float32, numpy=\n",
       "array([0.       , 0.6931472, 1.0986123, 1.3862944, 1.609438 , 1.7917595,\n",
       "       1.9459102, 2.0794415, 2.1972246], dtype=float32)>"
      ]
     },
     "execution_count": 119,
     "metadata": {},
     "output_type": "execute_result"
    }
   ],
   "source": [
    "tf.math.log(tf.cast(H,dtype = tf.float32))"
   ]
  },
  {
   "cell_type": "code",
   "execution_count": 123,
   "metadata": {},
   "outputs": [
    {
     "data": {
      "text/plain": [
       "<tf.Tensor: shape=(3,), dtype=float64, numpy=array([ 3.,  7., 10.])>"
      ]
     },
     "execution_count": 123,
     "metadata": {},
     "output_type": "execute_result"
    }
   ],
   "source": [
    "#Tensores y numpy \n",
    "#Crer tensor de array Numpy\n",
    "J = tf.constant(np.array([3.,7.,10.]))\n",
    "J"
   ]
  },
  {
   "cell_type": "code",
   "execution_count": 124,
   "metadata": {},
   "outputs": [
    {
     "data": {
      "text/plain": [
       "(array([ 3.,  7., 10.]), numpy.ndarray)"
      ]
     },
     "execution_count": 124,
     "metadata": {},
     "output_type": "execute_result"
    }
   ],
   "source": [
    "#Convert tensor to numpy array\n",
    "np.array(J), type(np.array(J))"
   ]
  },
  {
   "cell_type": "code",
   "execution_count": 126,
   "metadata": {},
   "outputs": [
    {
     "data": {
      "text/plain": [
       "(array([ 3.,  7., 10.]), numpy.ndarray)"
      ]
     },
     "execution_count": 126,
     "metadata": {},
     "output_type": "execute_result"
    }
   ],
   "source": [
    "J.numpy(),type(J.numpy())"
   ]
  },
  {
   "cell_type": "code",
   "execution_count": 128,
   "metadata": {},
   "outputs": [
    {
     "data": {
      "text/plain": [
       "3.0"
      ]
     },
     "execution_count": 128,
     "metadata": {},
     "output_type": "execute_result"
    }
   ],
   "source": [
    "J = tf.constant([3.])\n",
    "J.numpy()[0]"
   ]
  },
  {
   "cell_type": "code",
   "execution_count": 131,
   "metadata": {},
   "outputs": [
    {
     "data": {
      "text/plain": [
       "(tf.float64, tf.float32)"
      ]
     },
     "execution_count": 131,
     "metadata": {},
     "output_type": "execute_result"
    }
   ],
   "source": [
    "#Tipos pretederminados para ambos\n",
    "numpy_J = tf.constant(np.array([3.,7.,10.]))\n",
    "tensor_J = tf.constant([3.,7.,10.])\n",
    "\n",
    "numpy_J.dtype,tensor_J.dtype"
   ]
  },
  {
   "cell_type": "code",
   "execution_count": 133,
   "metadata": {},
   "outputs": [
    {
     "data": {
      "text/plain": [
       "[]"
      ]
     },
     "execution_count": 133,
     "metadata": {},
     "output_type": "execute_result"
    }
   ],
   "source": [
    "#Encontrar acceso a la GPU\n",
    "tf.config.list_physical_devices(\"GPU\")"
   ]
  },
  {
   "cell_type": "code",
   "execution_count": 153,
   "metadata": {},
   "outputs": [
    {
     "data": {
      "text/plain": [
       "(TensorShape([]),\n",
       " TensorShape([2]),\n",
       " TensorShape([4, 5]),\n",
       " TensorShape([2, 2, 4]))"
      ]
     },
     "execution_count": 153,
     "metadata": {},
     "output_type": "execute_result"
    }
   ],
   "source": [
    "#Ejercicios\n",
    "#1.\n",
    "escalar = tf.constant(3)\n",
    "\n",
    "vector = tf.constant([3,2])\n",
    "\n",
    "matrix = tf.constant(tf.range([20]),shape = [4,5])\n",
    "\n",
    "tensor = tf.constant(tf.eye(4),shape = [2,2,4])\n",
    "#2\n",
    "escalar.shape,vector.shape,matrix.shape,tensor.shape"
   ]
  },
  {
   "cell_type": "code",
   "execution_count": 157,
   "metadata": {},
   "outputs": [],
   "source": [
    "#3\n",
    "tensor_r_1 = tf.random.uniform(shape=[5,300])\n",
    "tensor_r_2 = tf.random.uniform(shape=[5,300])\n",
    "tensor_r_1,tensor_r_2"
   ]
  },
  {
   "cell_type": "code",
   "execution_count": 159,
   "metadata": {},
   "outputs": [
    {
     "data": {
      "text/plain": [
       "<tf.Tensor: shape=(5, 5), dtype=float32, numpy=\n",
       "array([[79.870186, 78.38937 , 75.612785, 75.593025, 69.97791 ],\n",
       "       [77.54845 , 73.29372 , 75.974174, 73.42592 , 70.43666 ],\n",
       "       [79.4402  , 74.5689  , 76.65013 , 77.14311 , 72.57941 ],\n",
       "       [83.247635, 78.040634, 77.689896, 74.93364 , 68.960014],\n",
       "       [75.75107 , 75.892   , 71.79898 , 74.770935, 70.34851 ]],\n",
       "      dtype=float32)>"
      ]
     },
     "execution_count": 159,
     "metadata": {},
     "output_type": "execute_result"
    }
   ],
   "source": [
    "#4\n",
    "tf.matmul(tensor_r_1,tf.transpose(tensor_r_2))"
   ]
  },
  {
   "cell_type": "code",
   "execution_count": 163,
   "metadata": {},
   "outputs": [
    {
     "data": {
      "text/plain": [
       "<tf.Tensor: shape=(300, 300), dtype=float32, numpy=\n",
       "array([[1.4247695 , 1.1520683 , 1.7657367 , ..., 1.0479691 , 1.2181218 ,\n",
       "        0.89086586],\n",
       "       [0.39736137, 0.47433212, 0.5314674 , ..., 0.4343188 , 0.43589312,\n",
       "        0.4407212 ],\n",
       "       [1.891231  , 1.5539471 , 2.197358  , ..., 1.6780128 , 0.9632791 ,\n",
       "        0.8943179 ],\n",
       "       ...,\n",
       "       [1.3911294 , 1.149694  , 1.5437838 , ..., 1.1839103 , 0.5128547 ,\n",
       "        0.37942365],\n",
       "       [1.3872374 , 1.0981553 , 1.6878893 , ..., 1.0683857 , 1.0181445 ,\n",
       "        0.7981023 ],\n",
       "       [0.7960243 , 0.70283204, 0.93279386, ..., 0.68523777, 0.47122037,\n",
       "        0.37649754]], dtype=float32)>"
      ]
     },
     "execution_count": 163,
     "metadata": {},
     "output_type": "execute_result"
    }
   ],
   "source": [
    "#5\n",
    "tf.tensordot(tensor_r_1,tensor_r_2,axes = [0,0])"
   ]
  },
  {
   "cell_type": "code",
   "execution_count": 164,
   "metadata": {},
   "outputs": [],
   "source": [
    "#6\n",
    "tensor_r_3 = tf.random.uniform([224,224,3],minval=0,maxval=1)"
   ]
  },
  {
   "cell_type": "code",
   "execution_count": 167,
   "metadata": {},
   "outputs": [
    {
     "data": {
      "text/plain": [
       "<tf.Tensor: shape=(224, 3), dtype=float32, numpy=\n",
       "array([[1.09994411e-03, 7.80105591e-04, 2.68447399e-03],\n",
       "       [1.07777119e-03, 1.92117691e-03, 1.17659569e-03],\n",
       "       [4.49180603e-03, 2.62963772e-03, 1.58709288e-02],\n",
       "       [4.94253635e-03, 1.02962255e-02, 1.05512142e-03],\n",
       "       [1.74450874e-03, 2.51471996e-03, 4.08947468e-03],\n",
       "       [6.15584850e-03, 6.20245934e-04, 4.65774536e-03],\n",
       "       [5.74409962e-03, 7.48217106e-03, 4.52625751e-03],\n",
       "       [2.52890587e-03, 4.82547283e-03, 3.66997719e-03],\n",
       "       [7.67171383e-03, 5.51939011e-04, 7.99894333e-05],\n",
       "       [1.72662735e-03, 1.83343887e-03, 2.77113914e-03],\n",
       "       [3.16035748e-03, 2.40206718e-04, 1.31487846e-04],\n",
       "       [6.81471825e-03, 2.73418427e-03, 6.95323944e-03],\n",
       "       [1.68180466e-03, 1.30307674e-03, 4.77170944e-03],\n",
       "       [1.68609619e-03, 1.31559372e-03, 1.08122826e-04],\n",
       "       [1.68454647e-03, 4.33313847e-03, 1.55150890e-03],\n",
       "       [2.02190876e-03, 3.74293327e-03, 7.11095333e-03],\n",
       "       [2.96819210e-03, 2.17580795e-03, 8.19921494e-04],\n",
       "       [2.47049332e-03, 1.86471939e-02, 7.65442848e-04],\n",
       "       [8.19456577e-03, 7.45153427e-03, 1.39737129e-03],\n",
       "       [1.66261196e-03, 2.82275677e-03, 2.88248062e-04],\n",
       "       [2.12609768e-03, 1.66903734e-02, 1.26404762e-02],\n",
       "       [4.70876694e-05, 9.05847549e-03, 9.23991203e-04],\n",
       "       [1.13724470e-02, 1.46257877e-03, 5.70368767e-03],\n",
       "       [1.33085251e-03, 5.51092625e-03, 2.18391418e-03],\n",
       "       [6.97493553e-03, 1.12504959e-02, 2.49505043e-04],\n",
       "       [1.80077553e-03, 5.58137894e-04, 2.34997272e-03],\n",
       "       [7.05039501e-03, 2.06649303e-03, 1.00493431e-03],\n",
       "       [4.72748280e-03, 2.88367271e-04, 8.37850571e-03],\n",
       "       [4.36019897e-03, 8.09919834e-03, 5.03182411e-04],\n",
       "       [9.35125351e-03, 7.24875927e-03, 1.09148026e-03],\n",
       "       [4.61423397e-03, 6.48653507e-03, 3.37123871e-04],\n",
       "       [1.79886818e-04, 2.22194195e-03, 8.01801682e-04],\n",
       "       [1.25527382e-03, 5.15222549e-04, 1.65867805e-03],\n",
       "       [1.16646290e-03, 4.06742096e-04, 4.94885445e-03],\n",
       "       [8.58294964e-03, 1.14953518e-03, 5.08511066e-03],\n",
       "       [4.70280647e-04, 1.91736221e-03, 5.13553619e-04],\n",
       "       [5.91313839e-03, 1.35713816e-02, 1.08848810e-02],\n",
       "       [1.33538246e-03, 1.11162663e-03, 1.72505379e-02],\n",
       "       [1.98602676e-03, 2.46250629e-03, 1.68228149e-03],\n",
       "       [4.55617905e-04, 8.23843479e-03, 5.54502010e-03],\n",
       "       [2.63226032e-03, 7.49504566e-03, 7.51960278e-03],\n",
       "       [2.24983692e-03, 9.60302353e-03, 4.14228439e-03],\n",
       "       [3.76975536e-03, 2.32672691e-03, 3.16488743e-03],\n",
       "       [1.20341778e-03, 6.08801842e-04, 5.22255898e-04],\n",
       "       [9.81807709e-04, 8.83340836e-05, 1.00302696e-03],\n",
       "       [4.51600552e-03, 4.26399708e-03, 7.10368156e-04],\n",
       "       [6.38222694e-03, 2.08055973e-03, 7.99620152e-03],\n",
       "       [6.66379929e-04, 2.62260437e-05, 6.91318512e-03],\n",
       "       [1.84047222e-03, 4.78827953e-03, 7.74502754e-04],\n",
       "       [2.29728222e-03, 3.85022163e-03, 8.91947746e-03],\n",
       "       [4.64332104e-03, 2.65300274e-03, 6.42895699e-04],\n",
       "       [3.48734856e-03, 2.57420540e-03, 1.66535378e-03],\n",
       "       [1.25575066e-03, 1.07585192e-02, 3.49712372e-03],\n",
       "       [9.22310352e-03, 1.59978867e-04, 1.81317329e-04],\n",
       "       [6.92260265e-03, 1.73139572e-03, 6.56521320e-03],\n",
       "       [7.73358345e-03, 3.45528126e-03, 3.70240211e-03],\n",
       "       [3.51428986e-03, 2.05755234e-03, 1.36535168e-02],\n",
       "       [4.24575806e-03, 6.44207001e-04, 8.94355774e-03],\n",
       "       [9.87052917e-03, 2.63214111e-04, 9.78338718e-03],\n",
       "       [1.77156925e-03, 7.60459900e-03, 1.75261497e-03],\n",
       "       [3.64673138e-03, 9.91344452e-04, 3.93295288e-03],\n",
       "       [8.35371017e-03, 1.63772106e-02, 2.94911861e-03],\n",
       "       [2.90000439e-03, 9.59515572e-04, 1.05464458e-02],\n",
       "       [6.71434402e-03, 2.97856331e-03, 3.69548798e-06],\n",
       "       [2.10547447e-03, 7.02655315e-03, 7.77006149e-03],\n",
       "       [6.97648525e-03, 2.40802765e-05, 1.64914131e-03],\n",
       "       [6.79111481e-03, 4.66322899e-03, 8.79883766e-04],\n",
       "       [9.44614410e-04, 3.41904163e-03, 5.35583496e-03],\n",
       "       [1.58059597e-03, 5.37633896e-04, 4.82106209e-03],\n",
       "       [1.54697895e-03, 6.79492950e-04, 3.14116478e-04],\n",
       "       [2.13801861e-03, 7.63809681e-03, 7.97247887e-03],\n",
       "       [7.20703602e-03, 6.30354881e-03, 1.37615204e-03],\n",
       "       [4.46069241e-03, 7.07042217e-03, 6.44242764e-03],\n",
       "       [1.79731846e-03, 6.01387024e-03, 9.04464722e-03],\n",
       "       [3.59761715e-03, 6.57618046e-03, 5.23757935e-03],\n",
       "       [1.09410286e-03, 1.44913197e-02, 5.65397739e-03],\n",
       "       [2.29644775e-03, 1.09348297e-02, 3.82351875e-03],\n",
       "       [1.08289719e-03, 7.35437870e-03, 2.09355354e-03],\n",
       "       [9.83715057e-04, 4.43100929e-04, 1.66451931e-03],\n",
       "       [4.27031517e-03, 6.67273998e-03, 1.58727169e-03],\n",
       "       [1.59426928e-02, 3.90696526e-03, 1.98984146e-03],\n",
       "       [5.45680523e-03, 7.74264336e-04, 2.18528509e-02],\n",
       "       [2.70104408e-03, 2.41851807e-03, 8.09073448e-04],\n",
       "       [2.55703926e-04, 5.15866280e-03, 1.55448914e-04],\n",
       "       [2.48420238e-03, 2.26712227e-03, 2.01737881e-03],\n",
       "       [5.43236732e-04, 1.60801411e-03, 8.67199898e-03],\n",
       "       [1.72147751e-02, 3.95298004e-04, 8.21471214e-04],\n",
       "       [1.92582607e-03, 1.71313286e-02, 1.76088810e-02],\n",
       "       [8.09359550e-03, 8.92877579e-04, 3.65018845e-03],\n",
       "       [5.90753555e-03, 1.33224726e-02, 2.26604939e-03],\n",
       "       [5.08272648e-03, 6.54256344e-03, 1.45149231e-03],\n",
       "       [2.21812725e-03, 4.78184223e-03, 2.24924088e-03],\n",
       "       [9.83476639e-05, 1.67095661e-03, 3.23545933e-03],\n",
       "       [1.29938126e-03, 7.01606274e-03, 3.67164612e-03],\n",
       "       [1.51185989e-02, 2.11162567e-02, 7.72964954e-03],\n",
       "       [1.46255493e-02, 2.64835358e-03, 1.98304653e-03],\n",
       "       [1.02484226e-03, 8.03291798e-03, 1.37388706e-03],\n",
       "       [6.43610954e-04, 8.10503960e-04, 7.84039497e-04],\n",
       "       [9.05156136e-04, 5.04231453e-03, 1.42223835e-02],\n",
       "       [9.06109810e-04, 4.58359718e-04, 2.50041485e-03],\n",
       "       [2.45838165e-02, 1.33706331e-02, 7.85517693e-03],\n",
       "       [4.28068638e-03, 1.06905699e-02, 1.57749653e-03],\n",
       "       [1.28135681e-02, 2.75397301e-03, 1.73807144e-03],\n",
       "       [1.43909454e-02, 8.24213028e-04, 1.67191029e-03],\n",
       "       [2.48014927e-03, 9.92059708e-04, 7.26687908e-03],\n",
       "       [1.23858452e-03, 5.40423393e-03, 2.98571587e-03],\n",
       "       [1.00851059e-04, 8.54849815e-04, 1.00159645e-03],\n",
       "       [2.78282166e-03, 1.29044056e-03, 2.41136551e-03],\n",
       "       [4.40871716e-03, 4.63938713e-03, 5.71942329e-03],\n",
       "       [3.13675404e-03, 1.07312202e-02, 1.47068501e-03],\n",
       "       [8.10623169e-04, 1.19054317e-02, 1.18887424e-03],\n",
       "       [1.34727955e-02, 9.93371010e-04, 3.79705429e-03],\n",
       "       [3.59892845e-04, 2.51650810e-03, 6.45327568e-03],\n",
       "       [7.64954090e-03, 6.88672066e-04, 1.14607811e-03],\n",
       "       [3.21626663e-04, 5.95676899e-03, 2.23720074e-03],\n",
       "       [4.08172607e-04, 1.46746635e-04, 3.10981274e-03],\n",
       "       [1.81651115e-03, 7.23183155e-03, 4.81009483e-04],\n",
       "       [7.02035427e-03, 2.22587585e-03, 1.01882219e-02],\n",
       "       [2.46357918e-03, 2.97105312e-03, 1.91259384e-03],\n",
       "       [1.69141293e-02, 6.81746006e-03, 3.09419632e-03],\n",
       "       [1.17325783e-03, 1.28102303e-03, 7.50696659e-03],\n",
       "       [1.98972225e-03, 3.87191772e-03, 3.60560417e-03],\n",
       "       [8.98241997e-03, 1.36566162e-03, 1.31130219e-04],\n",
       "       [4.36306000e-04, 1.00222826e-02, 1.55138969e-03],\n",
       "       [6.05225563e-03, 4.52530384e-03, 8.55576992e-03],\n",
       "       [2.95269489e-03, 4.30858135e-03, 8.77857208e-04],\n",
       "       [7.24399090e-03, 2.10201740e-03, 1.51348114e-03],\n",
       "       [1.04665756e-02, 5.80000877e-03, 8.00967216e-04],\n",
       "       [1.26451254e-02, 7.89642334e-04, 7.02857971e-04],\n",
       "       [1.23882294e-03, 2.93922424e-03, 2.43067741e-04],\n",
       "       [9.90867615e-04, 3.67641449e-04, 5.36835194e-03],\n",
       "       [5.59699535e-03, 1.59406662e-03, 1.64985657e-03],\n",
       "       [6.78598881e-03, 4.87601757e-03, 5.74469566e-04],\n",
       "       [5.68878651e-03, 4.71973419e-03, 1.49905682e-03],\n",
       "       [9.00030136e-05, 1.26135349e-03, 2.71630287e-03],\n",
       "       [3.57258320e-03, 1.86800957e-03, 1.75757408e-02],\n",
       "       [1.29189491e-02, 8.81886482e-03, 9.70363617e-04],\n",
       "       [4.58049774e-03, 1.79696083e-03, 5.86438179e-03],\n",
       "       [3.47340107e-03, 6.63292408e-03, 2.24065781e-03],\n",
       "       [1.41986609e-02, 3.12387943e-03, 8.79025459e-03],\n",
       "       [2.64036655e-03, 6.42776489e-04, 3.82173061e-03],\n",
       "       [3.71956825e-03, 7.55107403e-03, 5.62608242e-03],\n",
       "       [1.16670132e-03, 2.10762024e-03, 9.41157341e-04],\n",
       "       [1.60801411e-03, 1.41202211e-02, 7.81369209e-03],\n",
       "       [1.40872002e-02, 3.20959091e-03, 7.95602798e-04],\n",
       "       [2.15542316e-03, 1.07661486e-02, 1.16797686e-02],\n",
       "       [2.90548801e-03, 2.88128853e-04, 7.63058662e-04],\n",
       "       [4.23717499e-03, 5.40494919e-04, 4.75049019e-03],\n",
       "       [6.28745556e-03, 1.06483698e-02, 2.94327736e-03],\n",
       "       [3.78203392e-03, 5.20133972e-03, 2.14958191e-03],\n",
       "       [1.11591816e-03, 1.02970600e-02, 3.84891033e-03],\n",
       "       [1.88982487e-03, 5.26046753e-03, 1.11567974e-03],\n",
       "       [4.67193127e-03, 4.44102287e-03, 1.54161453e-03],\n",
       "       [1.13672018e-02, 2.80296803e-03, 7.82167912e-03],\n",
       "       [1.78670883e-03, 5.72395325e-03, 8.01444054e-04],\n",
       "       [3.59237194e-03, 2.97188759e-03, 8.17143917e-03],\n",
       "       [1.60050392e-03, 1.15334988e-03, 2.22086906e-04],\n",
       "       [1.16569996e-02, 1.46448612e-03, 9.86039639e-03],\n",
       "       [1.26314163e-03, 4.23729420e-03, 5.66244125e-05],\n",
       "       [3.29554081e-03, 1.58209801e-02, 3.91960144e-03],\n",
       "       [1.12229586e-02, 1.10697746e-03, 1.11663342e-03],\n",
       "       [4.03797626e-03, 2.57757902e-02, 5.04493713e-04],\n",
       "       [4.45961952e-03, 3.08787823e-03, 3.58223915e-04],\n",
       "       [4.08804417e-03, 2.87652016e-03, 7.38024712e-04],\n",
       "       [6.58500195e-03, 1.08480453e-03, 7.07149506e-04],\n",
       "       [7.93933868e-04, 5.73348999e-03, 5.70106506e-03],\n",
       "       [1.05834007e-03, 2.06768513e-03, 1.00568533e-02],\n",
       "       [3.08275223e-04, 6.19769096e-04, 5.91409206e-03],\n",
       "       [5.70666790e-03, 4.33051586e-03, 6.56378269e-03],\n",
       "       [1.37904882e-02, 8.92746449e-03, 1.32516623e-02],\n",
       "       [2.41863728e-03, 3.17931175e-03, 4.14371490e-04],\n",
       "       [6.36577606e-05, 1.23511553e-02, 2.18939781e-03],\n",
       "       [7.48980045e-03, 4.39918041e-03, 4.57727909e-03],\n",
       "       [1.37488842e-02, 3.61812115e-03, 2.02631950e-03],\n",
       "       [3.64971161e-03, 6.78968430e-03, 1.51563883e-02],\n",
       "       [4.06503677e-04, 1.12628937e-03, 2.57480145e-03],\n",
       "       [7.82501698e-03, 4.53555584e-03, 5.08856773e-03],\n",
       "       [1.05930567e-02, 5.64396381e-03, 1.25501156e-02],\n",
       "       [2.53772736e-03, 1.03187561e-02, 4.21774387e-03],\n",
       "       [2.59208679e-03, 2.27797031e-02, 9.21487808e-05],\n",
       "       [3.36515903e-03, 4.77039814e-03, 3.96692753e-03],\n",
       "       [3.37958336e-04, 1.45708323e-02, 4.39465046e-03],\n",
       "       [8.33737850e-03, 1.36280060e-03, 1.33526325e-03],\n",
       "       [9.89437103e-06, 2.40743160e-03, 2.54106522e-03],\n",
       "       [3.48126888e-03, 1.11305714e-02, 5.20586967e-04],\n",
       "       [7.10010529e-04, 7.90238380e-04, 2.50041485e-03],\n",
       "       [3.38041782e-03, 5.83291054e-03, 1.47116184e-03],\n",
       "       [3.16119194e-03, 3.45429182e-02, 4.50253487e-03],\n",
       "       [1.00970268e-04, 2.40170956e-03, 7.85946846e-04],\n",
       "       [1.92332268e-03, 4.32610512e-04, 7.97379017e-03],\n",
       "       [5.66303730e-03, 2.92301178e-03, 5.92553616e-03],\n",
       "       [5.91909885e-03, 5.88023663e-03, 3.51667404e-05],\n",
       "       [5.76388836e-03, 4.11403179e-03, 3.68714333e-04],\n",
       "       [3.83710861e-03, 3.49903107e-03, 6.90615177e-03],\n",
       "       [1.56248808e-02, 8.31687450e-03, 3.39376926e-03],\n",
       "       [6.30021095e-04, 2.86817551e-03, 1.96576118e-03],\n",
       "       [9.75608826e-04, 1.34770870e-02, 1.61017179e-02],\n",
       "       [2.26795673e-03, 1.13286972e-02, 1.04261637e-02],\n",
       "       [1.25277042e-03, 9.27090645e-04, 4.12666798e-03],\n",
       "       [4.26530838e-03, 8.20398331e-04, 1.47414207e-03],\n",
       "       [1.20317936e-03, 3.43775749e-03, 5.14662266e-03],\n",
       "       [8.63790512e-04, 5.54335117e-03, 4.14955616e-03],\n",
       "       [1.20961666e-02, 1.89638138e-03, 1.55270100e-03],\n",
       "       [8.51988792e-04, 4.71258163e-03, 1.36661530e-03],\n",
       "       [4.51087952e-04, 1.97196007e-03, 8.34202766e-03],\n",
       "       [7.91180134e-03, 1.40546560e-02, 8.34465027e-07],\n",
       "       [9.32216644e-05, 2.94423103e-03, 6.66856766e-04],\n",
       "       [6.56676292e-03, 9.98318195e-03, 6.21914864e-04],\n",
       "       [1.49905682e-03, 1.11936331e-02, 8.63623619e-03],\n",
       "       [7.48777390e-03, 2.83896923e-03, 5.37562370e-03],\n",
       "       [4.79221344e-05, 7.74979591e-04, 4.09042835e-03],\n",
       "       [4.22108173e-03, 2.45893002e-03, 8.57353210e-04],\n",
       "       [1.87802315e-03, 1.09994411e-03, 6.33060932e-03],\n",
       "       [2.97200680e-03, 9.19103622e-05, 1.61494017e-02],\n",
       "       [9.92965698e-03, 4.12487984e-03, 3.22580338e-03],\n",
       "       [3.65424156e-03, 4.49073315e-03, 9.61339474e-03],\n",
       "       [2.06053257e-03, 7.02309608e-03, 4.64916229e-06],\n",
       "       [5.58018684e-04, 9.14931297e-04, 2.29334831e-03],\n",
       "       [6.87396526e-03, 4.08399105e-03, 1.80315971e-03],\n",
       "       [1.04570389e-03, 2.94160843e-03, 7.28607178e-04],\n",
       "       [3.96966934e-05, 6.00111485e-03, 8.31007957e-04],\n",
       "       [2.47895718e-03, 6.05583191e-04, 4.59790230e-03],\n",
       "       [3.65638733e-03, 1.06151104e-02, 8.46266747e-04],\n",
       "       [6.35063648e-03, 2.89368629e-03, 8.93712044e-04]], dtype=float32)>"
      ]
     },
     "execution_count": 167,
     "metadata": {},
     "output_type": "execute_result"
    }
   ],
   "source": [
    "#7\n",
    "tf.reduce_min(tensor_r_3,axis=0)"
   ]
  },
  {
   "cell_type": "code",
   "execution_count": 169,
   "metadata": {},
   "outputs": [
    {
     "data": {
      "text/plain": [
       "<tf.Tensor: shape=(224, 224, 3), dtype=float32, numpy=\n",
       "array([[[0.5749372 , 0.19900596, 0.7038239 ],\n",
       "        [0.05541027, 0.5884645 , 0.5430788 ],\n",
       "        [0.9185413 , 0.37144518, 0.84554374],\n",
       "        ...,\n",
       "        [0.6570301 , 0.7645861 , 0.48230588],\n",
       "        [0.41497958, 0.4241538 , 0.5199896 ],\n",
       "        [0.59315014, 0.23632371, 0.15606153]],\n",
       "\n",
       "       [[0.34459436, 0.24155474, 0.8630327 ],\n",
       "        [0.92559505, 0.41881108, 0.9492458 ],\n",
       "        [0.21597803, 0.15805602, 0.9682605 ],\n",
       "        ...,\n",
       "        [0.45298254, 0.6097312 , 0.45232892],\n",
       "        [0.04503286, 0.48371267, 0.7752477 ],\n",
       "        [0.644374  , 0.65862846, 0.11632323]],\n",
       "\n",
       "       [[0.18631506, 0.29340136, 0.3898226 ],\n",
       "        [0.8457128 , 0.86194694, 0.05938876],\n",
       "        [0.22856331, 0.74509835, 0.32373703],\n",
       "        ...,\n",
       "        [0.03299081, 0.8350847 , 0.77849007],\n",
       "        [0.5707276 , 0.7097032 , 0.07139933],\n",
       "        [0.6495327 , 0.17728817, 0.2139225 ]],\n",
       "\n",
       "       ...,\n",
       "\n",
       "       [[0.79031277, 0.3867849 , 0.21375918],\n",
       "        [0.25417638, 0.3020934 , 0.27064204],\n",
       "        [0.11525929, 0.42353046, 0.17679155],\n",
       "        ...,\n",
       "        [0.19160533, 0.7955607 , 0.04731905],\n",
       "        [0.82823336, 0.9449781 , 0.5071925 ],\n",
       "        [0.08030343, 0.71183395, 0.11125267]],\n",
       "\n",
       "       [[0.0182724 , 0.24598098, 0.28284335],\n",
       "        [0.55315006, 0.02655053, 0.94707537],\n",
       "        [0.35371137, 0.7348622 , 0.7635373 ],\n",
       "        ...,\n",
       "        [0.57624304, 0.02165937, 0.5579735 ],\n",
       "        [0.26192856, 0.75120795, 0.66724217],\n",
       "        [0.20921767, 0.18773961, 0.22273731]],\n",
       "\n",
       "       [[0.84338987, 0.42743158, 0.08734417],\n",
       "        [0.4523027 , 0.2841288 , 0.01409531],\n",
       "        [0.2512418 , 0.31763363, 0.5714514 ],\n",
       "        ...,\n",
       "        [0.99613905, 0.59350085, 0.2457118 ],\n",
       "        [0.38211465, 0.4309833 , 0.0525862 ],\n",
       "        [0.53084314, 0.14226651, 0.91185606]]], dtype=float32)>"
      ]
     },
     "execution_count": 169,
     "metadata": {},
     "output_type": "execute_result"
    }
   ],
   "source": [
    "#8\n",
    "tensor_r_4 = tf.random.uniform([1,224,224,3])\n",
    "tf.squeeze(tensor_r_4)"
   ]
  },
  {
   "cell_type": "code",
   "execution_count": 175,
   "metadata": {},
   "outputs": [
    {
     "data": {
      "text/plain": [
       "<tf.Tensor: shape=(), dtype=int64, numpy=2>"
      ]
     },
     "execution_count": 175,
     "metadata": {},
     "output_type": "execute_result"
    }
   ],
   "source": [
    "#9\n",
    "tensor_10 = tf.random.uniform(shape =[10],minval=0,maxval= 15,dtype=tf.int32)\n",
    "tf.argmax(tensor_10)"
   ]
  },
  {
   "cell_type": "code",
   "execution_count": 180,
   "metadata": {},
   "outputs": [
    {
     "data": {
      "text/plain": [
       "<tf.Tensor: shape=(10, 15), dtype=float32, numpy=\n",
       "array([[0., 0., 0., 0., 0., 0., 0., 1., 0., 0., 0., 0., 0., 0., 0.],\n",
       "       [0., 0., 0., 0., 0., 0., 0., 0., 0., 0., 1., 0., 0., 0., 0.],\n",
       "       [0., 0., 0., 0., 0., 0., 0., 0., 0., 0., 0., 0., 0., 0., 1.],\n",
       "       [0., 0., 0., 1., 0., 0., 0., 0., 0., 0., 0., 0., 0., 0., 0.],\n",
       "       [0., 0., 0., 0., 0., 0., 0., 0., 0., 1., 0., 0., 0., 0., 0.],\n",
       "       [0., 0., 0., 0., 1., 0., 0., 0., 0., 0., 0., 0., 0., 0., 0.],\n",
       "       [1., 0., 0., 0., 0., 0., 0., 0., 0., 0., 0., 0., 0., 0., 0.],\n",
       "       [0., 1., 0., 0., 0., 0., 0., 0., 0., 0., 0., 0., 0., 0., 0.],\n",
       "       [0., 0., 0., 0., 0., 1., 0., 0., 0., 0., 0., 0., 0., 0., 0.],\n",
       "       [0., 0., 0., 0., 0., 0., 0., 0., 1., 0., 0., 0., 0., 0., 0.]],\n",
       "      dtype=float32)>"
      ]
     },
     "execution_count": 180,
     "metadata": {},
     "output_type": "execute_result"
    }
   ],
   "source": [
    "tf.one_hot(tensor_10,15)"
   ]
  },
  {
   "cell_type": "code",
   "execution_count": null,
   "metadata": {},
   "outputs": [],
   "source": []
  }
 ],
 "metadata": {
  "kernelspec": {
   "display_name": "Python 3",
   "language": "python",
   "name": "python3"
  },
  "language_info": {
   "codemirror_mode": {
    "name": "ipython",
    "version": 3
   },
   "file_extension": ".py",
   "mimetype": "text/x-python",
   "name": "python",
   "nbconvert_exporter": "python",
   "pygments_lexer": "ipython3",
   "version": "3.7.6"
  }
 },
 "nbformat": 4,
 "nbformat_minor": 4
}
