{
 "cells": [
  {
   "cell_type": "code",
   "execution_count": 246,
   "id": "4eabf5b4",
   "metadata": {},
   "outputs": [],
   "source": [
    "from functools import total_ordering"
   ]
  },
  {
   "cell_type": "code",
   "execution_count": 265,
   "id": "f31503ee",
   "metadata": {},
   "outputs": [],
   "source": [
    "@total_ordering\n",
    "class Mod:\n",
    "    \n",
    "    def __init__(self,value,modulus):\n",
    "        \n",
    "        if not(isinstance(value,int)):\n",
    "            raise ValueError(\"Value should be an integer\")\n",
    "                    \n",
    "        if not(isinstance(modulus,int)):\n",
    "            raise ValueError(\"Modulus should be an integer\")\n",
    "            \n",
    "\n",
    "        self._value = value % modulus\n",
    "        self._modulus = modulus\n",
    "            \n",
    "    @property\n",
    "    def value(self):\n",
    "        return self._value\n",
    "    \n",
    "    @property\n",
    "    def modulus(self):\n",
    "        return self._modulus\n",
    "    \n",
    "    def __repr__(self):\n",
    "        return f\"Mod(value = {self.value}, modulus = {self.modulus})\"\n",
    "    \n",
    "    \n",
    "    @staticmethod\n",
    "    def validate_modulus(object_1,object_2):\n",
    "        if object_1.modulus == object_2.modulus:\n",
    "            return True\n",
    "        else:\n",
    "            return NotImplemented\n",
    "    \n",
    "    def __eq__(self,other):\n",
    "        \n",
    "        if isinstance(other,int):\n",
    "            return other % self.modulus == self.value \n",
    "        \n",
    "        if isinstance(other,Mod):\n",
    "            return self.value == other.value and self.modulus == other.modulus\n",
    "                \n",
    "        else: \n",
    "            return NotImplemented\n",
    "        \n",
    "    def __gt__(self,other):\n",
    "        \n",
    "        if isinstance(other,Mod):\n",
    "            if self.validate_modulus(self,other):\n",
    "                \n",
    "                return self.value > other.value\n",
    "\n",
    "        \n",
    "        if isinstance(other,int):\n",
    "            return self.value > (other % self.modulus)\n",
    "              \n",
    "        else: \n",
    "            return NotImplemented\n",
    "    \n",
    "   \n",
    "        \n",
    "    def __hash__(self):\n",
    "        return hash(str(self.value)+\"_\"+str(self.modulus))\n",
    "    \n",
    "    def __int__(self):\n",
    "        return self.value\n",
    "        \n",
    "    def __add__(self,other):\n",
    "        \n",
    "        if isinstance(other,Mod):\n",
    "            if self.validate_modulus(self,other):\n",
    "                return Mod(self.value + other.value,self.modulus)\n",
    "        \n",
    "        elif isinstance(other,int):\n",
    "            return Mod(self.value + other,self.modulus)\n",
    "        \n",
    "        else: \n",
    "            return NotImplemented\n",
    "        \n",
    "    \n",
    "    def __sub__ (self,other):\n",
    "        \n",
    "        if isinstance(other,Mod):\n",
    "            if self.validate_modulus(self,other):\n",
    "                return Mod(self.value - other.value,self.modulus)\n",
    "        \n",
    "        elif isinstance(other,int):\n",
    "            return Mod(self.value - other,self.modulus)\n",
    "                \n",
    "        else: \n",
    "            return NotImplemented\n",
    "        \n",
    "    def __mul__(self,other):\n",
    "        \n",
    "        if isinstance(other,Mod):\n",
    "            if self.validate_modulus(self,other):\n",
    "                return Mod(self.value * other.value,self.modulus)\n",
    "        \n",
    "        elif isinstance(other,int):\n",
    "            return Mod(self.value * other,self.modulus)\n",
    "                \n",
    "        else: \n",
    "            return NotImplemented\n",
    "    \n",
    "    def __pow__(self,other):\n",
    "                \n",
    "        if isinstance(other,Mod):\n",
    "            if self.validate_modulus(self,other):\n",
    "                return Mod(self.value ** other.value,self.modulus)\n",
    "        \n",
    "        elif isinstance(other,int):\n",
    "            return Mod(self.value ** other,self.modulus)\n",
    "                \n",
    "        else: \n",
    "            return NotImplemented\n",
    "        \n",
    "    def __iadd__(self,other):\n",
    "                \n",
    "        if isinstance(other,Mod):\n",
    "            \n",
    "            if self.validate_modulus(self,other):\n",
    "                self._value = (self.value + other.value) % self.modulus\n",
    "                \n",
    "        elif isinstance(other,int):\n",
    "            \n",
    "            self._value = (self.value + other) % self.modulus\n",
    "                    \n",
    "        else: \n",
    "            return NotImplemented\n",
    "            \n",
    "        return self\n",
    "    \n",
    "    def __isub__(self,other):\n",
    "                \n",
    "        if isinstance(other,Mod):\n",
    "            \n",
    "            if self.validate_modulus(self,other):\n",
    "                self._value = (self.value - other.value) % self.modulus\n",
    "                \n",
    "        elif isinstance(other,int):\n",
    "            \n",
    "            self._value = (self.value - other) % self.modulus\n",
    "                    \n",
    "        else: \n",
    "            return NotImplemented\n",
    "            \n",
    "        return self\n",
    "    \n",
    "    def __imul__(self,other):\n",
    "                \n",
    "        if isinstance(other,Mod):\n",
    "            \n",
    "            if self.validate_modulus(self,other):\n",
    "                self._value = (self.value * other.value) % self.modulus\n",
    "                \n",
    "        elif isinstance(other,int):\n",
    "            \n",
    "            self._value = (self.value * other) % self.modulus\n",
    "                \n",
    "        else: \n",
    "            return NotImplemented\n",
    "            \n",
    "        return self\n",
    "    \n",
    "    def __ipow__(self,other):\n",
    "                \n",
    "        if isinstance(other,Mod):\n",
    "            \n",
    "            if self.validate_modulus(self,other):\n",
    "                self._value = (self.value ** other.value) % self.modulus\n",
    "                \n",
    "        elif isinstance(other,int):\n",
    "            \n",
    "            self._value = (self.value ** other) % self.modulus\n",
    "                    \n",
    "        else: \n",
    "            return NotImplemented\n",
    "            \n",
    "        return self\n",
    "        \n",
    "        \n",
    "        \n"
   ]
  },
  {
   "cell_type": "code",
   "execution_count": 266,
   "id": "b3c684ad",
   "metadata": {},
   "outputs": [],
   "source": [
    "m_1 = Mod(4,3)\n",
    "m_2 = Mod(6,4)\n",
    "m_3 = Mod(5,3)"
   ]
  },
  {
   "cell_type": "code",
   "execution_count": 267,
   "id": "0cfc5ce4",
   "metadata": {},
   "outputs": [
    {
     "data": {
      "text/plain": [
       "True"
      ]
     },
     "execution_count": 267,
     "metadata": {},
     "output_type": "execute_result"
    }
   ],
   "source": [
    "m_1 < m_3"
   ]
  },
  {
   "cell_type": "code",
   "execution_count": 268,
   "id": "b1eafd12",
   "metadata": {},
   "outputs": [
    {
     "data": {
      "text/plain": [
       "Mod(value = 1, modulus = 3)"
      ]
     },
     "execution_count": 268,
     "metadata": {},
     "output_type": "execute_result"
    }
   ],
   "source": [
    "m_1"
   ]
  },
  {
   "cell_type": "code",
   "execution_count": 269,
   "id": "830fa09a",
   "metadata": {},
   "outputs": [
    {
     "data": {
      "text/plain": [
       "Mod(value = 2, modulus = 3)"
      ]
     },
     "execution_count": 269,
     "metadata": {},
     "output_type": "execute_result"
    }
   ],
   "source": [
    "m_1 - m_3"
   ]
  },
  {
   "cell_type": "code",
   "execution_count": 270,
   "id": "5ee0685d",
   "metadata": {},
   "outputs": [
    {
     "data": {
      "text/plain": [
       "139903767472704"
      ]
     },
     "execution_count": 270,
     "metadata": {},
     "output_type": "execute_result"
    }
   ],
   "source": [
    "id(m_1)"
   ]
  },
  {
   "cell_type": "code",
   "execution_count": 271,
   "id": "27d58dce",
   "metadata": {},
   "outputs": [],
   "source": [
    "m_2 **= 4"
   ]
  },
  {
   "cell_type": "code",
   "execution_count": 272,
   "id": "d3b0df19",
   "metadata": {},
   "outputs": [
    {
     "data": {
      "text/plain": [
       "139903767472704"
      ]
     },
     "execution_count": 272,
     "metadata": {},
     "output_type": "execute_result"
    }
   ],
   "source": [
    "id(m_1)"
   ]
  },
  {
   "cell_type": "code",
   "execution_count": 273,
   "id": "b6b5e908",
   "metadata": {},
   "outputs": [
    {
     "data": {
      "text/plain": [
       "Mod(value = 0, modulus = 4)"
      ]
     },
     "execution_count": 273,
     "metadata": {},
     "output_type": "execute_result"
    }
   ],
   "source": [
    "m_2"
   ]
  },
  {
   "cell_type": "code",
   "execution_count": 275,
   "id": "160bbd33",
   "metadata": {},
   "outputs": [
    {
     "ename": "TypeError",
     "evalue": "unsupported operand type(s) for +=: 'Mod' and 'list'",
     "output_type": "error",
     "traceback": [
      "\u001b[0;31m---------------------------------------------------------------------------\u001b[0m",
      "\u001b[0;31mTypeError\u001b[0m                                 Traceback (most recent call last)",
      "\u001b[0;32m/tmp/ipykernel_32751/3979854898.py\u001b[0m in \u001b[0;36m<module>\u001b[0;34m\u001b[0m\n\u001b[0;32m----> 1\u001b[0;31m \u001b[0mm_1\u001b[0m\u001b[0;34m+=\u001b[0m \u001b[0;34m[\u001b[0m\u001b[0;34m]\u001b[0m\u001b[0;34m\u001b[0m\u001b[0;34m\u001b[0m\u001b[0m\n\u001b[0m",
      "\u001b[0;31mTypeError\u001b[0m: unsupported operand type(s) for +=: 'Mod' and 'list'"
     ]
    }
   ],
   "source": [
    "m_1+= []"
   ]
  },
  {
   "cell_type": "code",
   "execution_count": null,
   "id": "5964f87f",
   "metadata": {},
   "outputs": [],
   "source": []
  }
 ],
 "metadata": {
  "kernelspec": {
   "display_name": "Python 3 (ipykernel)",
   "language": "python",
   "name": "python3"
  },
  "language_info": {
   "codemirror_mode": {
    "name": "ipython",
    "version": 3
   },
   "file_extension": ".py",
   "mimetype": "text/x-python",
   "name": "python",
   "nbconvert_exporter": "python",
   "pygments_lexer": "ipython3",
   "version": "3.10.6"
  }
 },
 "nbformat": 4,
 "nbformat_minor": 5
}
