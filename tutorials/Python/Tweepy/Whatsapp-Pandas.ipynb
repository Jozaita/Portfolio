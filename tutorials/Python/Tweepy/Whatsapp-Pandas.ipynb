{
 "cells": [
  {
   "cell_type": "code",
   "execution_count": 1,
   "id": "f7325e3f",
   "metadata": {},
   "outputs": [],
   "source": [
    "import re\n",
    "import pandas as pd\n",
    "import datetime\n",
    "import numpy as np\n",
    "import matplotlib.pyplot as plt\n",
    "\n",
    "def clean_whatsapp(whatsapp_txt):\n",
    "    with open(whatsapp_txt,\"r\") as f:\n",
    "        file = f.read()\n",
    "    separation_pattern = re.compile(r'\\d{2}/\\d{2}/\\d{2}, \\d{2}:\\d{2}')\n",
    "    messages = pd.DataFrame(data = [re.split(separation_pattern,file)[1:],re.findall(separation_pattern,file)],index = [\"text\",\"date\"])\n",
    "    messages = messages.T\n",
    "    prev = 0\n",
    "    authors = []\n",
    "    text = []\n",
    "    date = []\n",
    "    for i,item in messages.iterrows():\n",
    "        #print(item)\n",
    "        if \":\" in item[\"text\"]:\n",
    "            author = item[\"text\"].split(\":\")[0][3:]\n",
    "            authors.append(author)\n",
    "            text.append(item[\"text\"].split(\":\")[1][1:-1])\n",
    "            date.append(item[\"date\"])\n",
    "        else:\n",
    "            authors.append(\"Server\")\n",
    "            text.append(item[\"text\"][3:-1])\n",
    "            date.append(item[\"date\"])\n",
    "    messages_cleaned = pd.DataFrame({\"text\":text,\"author\":authors,\"date\":pd.to_datetime(date)})\n",
    "    return messages_cleaned"
   ]
  },
  {
   "cell_type": "markdown",
   "id": "605d494a",
   "metadata": {},
   "source": [
    "### NLTK cleaning"
   ]
  },
  {
   "cell_type": "code",
   "execution_count": 2,
   "id": "b99ca388",
   "metadata": {},
   "outputs": [],
   "source": [
    "import nltk\n",
    "import string\n",
    "from nltk.corpus import stopwords"
   ]
  },
  {
   "cell_type": "code",
   "execution_count": 3,
   "id": "34641861",
   "metadata": {},
   "outputs": [],
   "source": [
    "def text_process(mess):\n",
    "    \"\"\"\n",
    "    Takes in a string of text, then performs the following:\n",
    "    1. Remove all punctuation\n",
    "    2. Remove all stopwords\n",
    "    3. Returns a list of the cleaned text\n",
    "    \"\"\"\n",
    "    # Check characters to see if they are in punctuation\n",
    "    nopunc = [char.lower() for char in mess if char not in string.punctuation]\n",
    "\n",
    "    # Join the characters again to form the string.\n",
    "    nopunc = ''.join(nopunc)\n",
    "    \n",
    "    # Now just remove any stopwords\n",
    "    return [word for word in nopunc.split() if word.lower() not in stopwords.words('spanish')]"
   ]
  },
  {
   "cell_type": "code",
   "execution_count": 4,
   "id": "f1123427",
   "metadata": {},
   "outputs": [
    {
     "data": {
      "text/html": [
       "<div>\n",
       "<style scoped>\n",
       "    .dataframe tbody tr th:only-of-type {\n",
       "        vertical-align: middle;\n",
       "    }\n",
       "\n",
       "    .dataframe tbody tr th {\n",
       "        vertical-align: top;\n",
       "    }\n",
       "\n",
       "    .dataframe thead th {\n",
       "        text-align: right;\n",
       "    }\n",
       "</style>\n",
       "<table border=\"1\" class=\"dataframe\">\n",
       "  <thead>\n",
       "    <tr style=\"text-align: right;\">\n",
       "      <th></th>\n",
       "      <th>text</th>\n",
       "      <th>author</th>\n",
       "      <th>date</th>\n",
       "    </tr>\n",
       "  </thead>\n",
       "  <tbody>\n",
       "    <tr>\n",
       "      <th>0</th>\n",
       "      <td>Messages and calls are end-to-end encrypted. N...</td>\n",
       "      <td>Server</td>\n",
       "      <td>2020-07-24 00:06:00</td>\n",
       "    </tr>\n",
       "    <tr>\n",
       "      <th>1</th>\n",
       "      <td>Comesaña created group \"Charlotte\"</td>\n",
       "      <td>Server</td>\n",
       "      <td>2019-01-04 00:15:00</td>\n",
       "    </tr>\n",
       "    <tr>\n",
       "      <th>2</th>\n",
       "      <td>You were added</td>\n",
       "      <td>Server</td>\n",
       "      <td>2019-01-04 00:15:00</td>\n",
       "    </tr>\n",
       "    <tr>\n",
       "      <th>3</th>\n",
       "      <td>Vais a ir a rivela mañana al final?</td>\n",
       "      <td>Evita</td>\n",
       "      <td>2020-07-23 21:35:00</td>\n",
       "    </tr>\n",
       "    <tr>\n",
       "      <th>4</th>\n",
       "      <td>Si tal puedo adelantar el curro y salir sobre ...</td>\n",
       "      <td>Evita</td>\n",
       "      <td>2020-07-23 21:35:00</td>\n",
       "    </tr>\n",
       "  </tbody>\n",
       "</table>\n",
       "</div>"
      ],
      "text/plain": [
       "                                                text  author  \\\n",
       "0  Messages and calls are end-to-end encrypted. N...  Server   \n",
       "1                 Comesaña created group \"Charlotte\"  Server   \n",
       "2                                     You were added  Server   \n",
       "3                Vais a ir a rivela mañana al final?   Evita   \n",
       "4  Si tal puedo adelantar el curro y salir sobre ...   Evita   \n",
       "\n",
       "                 date  \n",
       "0 2020-07-24 00:06:00  \n",
       "1 2019-01-04 00:15:00  \n",
       "2 2019-01-04 00:15:00  \n",
       "3 2020-07-23 21:35:00  \n",
       "4 2020-07-23 21:35:00  "
      ]
     },
     "execution_count": 4,
     "metadata": {},
     "output_type": "execute_result"
    }
   ],
   "source": [
    "df =  clean_whatsapp(\"WhatsApp Chat with Charlotte.txt\")\n",
    "df.head()"
   ]
  },
  {
   "cell_type": "code",
   "execution_count": 5,
   "id": "db52629c",
   "metadata": {},
   "outputs": [
    {
     "name": "stderr",
     "output_type": "stream",
     "text": [
      "2022-07-13 17:54:39.623712: W tensorflow/stream_executor/platform/default/dso_loader.cc:64] Could not load dynamic library 'libcudart.so.11.0'; dlerror: libcudart.so.11.0: cannot open shared object file: No such file or directory\n",
      "2022-07-13 17:54:39.623747: I tensorflow/stream_executor/cuda/cudart_stub.cc:29] Ignore above cudart dlerror if you do not have a GPU set up on your machine.\n"
     ]
    },
    {
     "ename": "AttributeError",
     "evalue": "'numpy.ndarray' object has no attribute 'unique'",
     "output_type": "error",
     "traceback": [
      "\u001b[0;31m---------------------------------------------------------------------------\u001b[0m",
      "\u001b[0;31mAttributeError\u001b[0m                            Traceback (most recent call last)",
      "Input \u001b[0;32mIn [5]\u001b[0m, in \u001b[0;36m<cell line: 9>\u001b[0;34m()\u001b[0m\n\u001b[1;32m      5\u001b[0m df_guess \u001b[38;5;241m=\u001b[39m df[[\u001b[38;5;124m\"\u001b[39m\u001b[38;5;124mtext\u001b[39m\u001b[38;5;124m\"\u001b[39m,\u001b[38;5;124m\"\u001b[39m\u001b[38;5;124mauthor\u001b[39m\u001b[38;5;124m\"\u001b[39m]]\n\u001b[1;32m      6\u001b[0m X_train, X_test, y_train, y_test \u001b[38;5;241m=\u001b[39m train_test_split(\n\u001b[1;32m      7\u001b[0m     df_guess[\u001b[38;5;124m\"\u001b[39m\u001b[38;5;124mtext\u001b[39m\u001b[38;5;124m\"\u001b[39m]\u001b[38;5;241m.\u001b[39mto_numpy(), df_guess[\u001b[38;5;124m\"\u001b[39m\u001b[38;5;124mauthor\u001b[39m\u001b[38;5;124m\"\u001b[39m]\u001b[38;5;241m.\u001b[39mto_numpy(), test_size\u001b[38;5;241m=\u001b[39m\u001b[38;5;241m0.33\u001b[39m, random_state\u001b[38;5;241m=\u001b[39m\u001b[38;5;241m42\u001b[39m)\n\u001b[0;32m----> 9\u001b[0m labels_dic \u001b[38;5;241m=\u001b[39m {j:i \u001b[38;5;28;01mfor\u001b[39;00m i,j \u001b[38;5;129;01min\u001b[39;00m \u001b[38;5;28menumerate\u001b[39m(\u001b[43my_train\u001b[49m\u001b[38;5;241;43m.\u001b[39;49m\u001b[43munique\u001b[49m())}\n\u001b[1;32m     10\u001b[0m y_train\u001b[38;5;241m.\u001b[39mreplace(labels_dic,inplace\u001b[38;5;241m=\u001b[39m\u001b[38;5;28;01mTrue\u001b[39;00m)\n\u001b[1;32m     11\u001b[0m y_test\u001b[38;5;241m.\u001b[39mreplace(labels_dic,inplace\u001b[38;5;241m=\u001b[39m\u001b[38;5;28;01mTrue\u001b[39;00m)\n",
      "\u001b[0;31mAttributeError\u001b[0m: 'numpy.ndarray' object has no attribute 'unique'"
     ]
    }
   ],
   "source": [
    "#Guess author \n",
    "from sklearn.model_selection import train_test_split\n",
    "from tensorflow.data import Dataset\n",
    "\n",
    "df_guess = df[[\"text\",\"author\"]]\n",
    "X_train, X_test, y_train, y_test = train_test_split(\n",
    "    df_guess[\"text\"].to_numpy(), df_guess[\"author\"].to_numpy(), test_size=0.33, random_state=42)\n",
    "\n",
    "labels_dic = {j:i for i,j in enumerate(y_train.unique())}\n",
    "y_train.replace(labels_dic,inplace=True)\n",
    "y_test.replace(labels_dic,inplace=True)\n",
    "#train_dataset = Dataset.from_tensor_slices()"
   ]
  },
  {
   "cell_type": "code",
   "execution_count": null,
   "id": "c6453ed9",
   "metadata": {},
   "outputs": [],
   "source": [
    "#Text vectorizer \n",
    "import tensorflow as tf\n",
    "from tensorflow.keras.layers import TextVectorization,Embedding\n",
    "from tensorflow.keras import layers,models\n",
    "\n",
    "text_vectorizer = TextVectorization(max_tokens = None,#how many words\n",
    "                                    standardize = \"lower_and_strip_punctuation\",\n",
    "                                    split = \"whitespace\",\n",
    "                                    ngrams = None,\n",
    "                                    output_mode = \"int\",\n",
    "                                    output_sequence_length = None,\n",
    "                                    pad_to_max_tokens = None)\n",
    "text_vectorizer.adapt(df_guess[\"text\"])\n",
    "#Embedding\n",
    "embedding = Embedding(input_dim = len(text_vectorizer.get_vocabulary()),\n",
    "                            output_dim = 128,\n",
    "                            input_length = 15)\n",
    "#Model \n",
    "token_input = layers.Input(shape=(1,),dtype=tf.string)\n",
    "token_vectors = text_vectorizer(token_input)\n",
    "token_embeddings = embedding(token_vectors)\n",
    "x = layers.Dense(1,activation=\"softmax\")(token_embeddings)\n",
    "\n",
    "model_guess = models.Model(inputs = token_input, outputs = x)\n",
    "\n",
    "model_guess.compile(loss=tf.keras.losses.CategoricalCrossentropy(),\n",
    "                   optimizer= tf.keras.optimizers.Adam(),\n",
    "                   metrics = [\"accuracy\"])"
   ]
  },
  {
   "cell_type": "code",
   "execution_count": null,
   "id": "78e04236",
   "metadata": {},
   "outputs": [],
   "source": [
    "X_train.values"
   ]
  },
  {
   "cell_type": "code",
   "execution_count": null,
   "id": "d12831e4",
   "metadata": {},
   "outputs": [],
   "source": [
    "model_guess.fit(x = X_train,\n",
    "               y = y_train,\n",
    "               epochs = 100)"
   ]
  },
  {
   "cell_type": "markdown",
   "id": "4ef11d72",
   "metadata": {},
   "source": [
    "### Vectorization"
   ]
  },
  {
   "cell_type": "code",
   "execution_count": null,
   "id": "2c59e0d8",
   "metadata": {},
   "outputs": [],
   "source": [
    "from sklearn.feature_extraction.text import CountVectorizer"
   ]
  },
  {
   "cell_type": "code",
   "execution_count": null,
   "id": "73b5202c",
   "metadata": {},
   "outputs": [],
   "source": [
    "bow_transformer = CountVectorizer(analyzer=text_process).fit(messages_cleaned[\"text\"])"
   ]
  },
  {
   "cell_type": "code",
   "execution_count": null,
   "id": "bd2a336b",
   "metadata": {},
   "outputs": [],
   "source": [
    "messages_bow = bow_transformer.transform(messages_cleaned[\"text\"])"
   ]
  },
  {
   "cell_type": "code",
   "execution_count": null,
   "id": "d3c16ce7",
   "metadata": {},
   "outputs": [],
   "source": [
    "sparsity = (100.0 * messages_bow.nnz / (messages_bow.shape[0] * messages_bow.shape[1]))\n",
    "print('sparsity: {}'.format(round(sparsity,3)))"
   ]
  },
  {
   "cell_type": "markdown",
   "id": "6ccd80ec",
   "metadata": {},
   "source": [
    "### TF-IDF"
   ]
  },
  {
   "cell_type": "code",
   "execution_count": null,
   "id": "b3614b5e",
   "metadata": {},
   "outputs": [],
   "source": [
    "from sklearn.feature_extraction.text import TfidfTransformer"
   ]
  },
  {
   "cell_type": "code",
   "execution_count": null,
   "id": "9cef8539",
   "metadata": {},
   "outputs": [],
   "source": [
    "tfidf_transformer = TfidfTransformer().fit(messages_bow)\n",
    "messages_tfidf = tfidf_transformer.transform(messages_bow)"
   ]
  },
  {
   "cell_type": "code",
   "execution_count": null,
   "id": "24e6d87f",
   "metadata": {},
   "outputs": [],
   "source": [
    "print(tfidf_transformer.idf_[bow_transformer.vocabulary_['hierba']])\n",
    "print(tfidf_transformer.idf_[bow_transformer.vocabulary_['bbeas']])"
   ]
  },
  {
   "cell_type": "markdown",
   "id": "656fe576",
   "metadata": {},
   "source": [
    "### Analysis pipeline"
   ]
  },
  {
   "cell_type": "code",
   "execution_count": null,
   "id": "6a07f614",
   "metadata": {},
   "outputs": [],
   "source": [
    "from sklearn.naive_bayes import MultinomialNB\n",
    "from sklearn.ensemble import RandomForestClassifier\n",
    "from sklearn.pipeline import Pipeline\n",
    "from sklearn.model_selection import train_test_split\n",
    "from sklearn.neural_network import MLPClassifier"
   ]
  },
  {
   "cell_type": "code",
   "execution_count": null,
   "id": "59d998c6",
   "metadata": {},
   "outputs": [],
   "source": [
    "msg_train, msg_test, auth_train, auth_test = train_test_split(messages_cleaned[\"text\"], messages_cleaned[\"author\"], test_size=0.33, random_state=42)\n",
    "text_pipeline = Pipeline([\n",
    "    (\"Vectorize\",CountVectorizer(analyzer=text_process)),\n",
    "    (\"tfidf\",TfidfTransformer()),\n",
    "    (\"classifier\",MLPClassifier())\n",
    "])"
   ]
  },
  {
   "cell_type": "code",
   "execution_count": null,
   "id": "49b7e43a",
   "metadata": {},
   "outputs": [],
   "source": [
    "text_pipeline.fit(msg_train,auth_train)"
   ]
  },
  {
   "cell_type": "code",
   "execution_count": null,
   "id": "4f157007",
   "metadata": {},
   "outputs": [],
   "source": [
    "predictions = text_pipeline.predict(msg_test)"
   ]
  },
  {
   "cell_type": "code",
   "execution_count": null,
   "id": "4440fb1e",
   "metadata": {},
   "outputs": [],
   "source": [
    "from sklearn.metrics import classification_report\n",
    "print (classification_report(auth_test, predictions))"
   ]
  },
  {
   "cell_type": "code",
   "execution_count": null,
   "id": "8073b505",
   "metadata": {},
   "outputs": [],
   "source": []
  },
  {
   "cell_type": "code",
   "execution_count": null,
   "id": "58231cdf",
   "metadata": {},
   "outputs": [],
   "source": []
  },
  {
   "cell_type": "code",
   "execution_count": null,
   "id": "e3df350d",
   "metadata": {},
   "outputs": [],
   "source": []
  }
 ],
 "metadata": {
  "kernelspec": {
   "display_name": "Python 3 (ipykernel)",
   "language": "python",
   "name": "python3"
  },
  "language_info": {
   "codemirror_mode": {
    "name": "ipython",
    "version": 3
   },
   "file_extension": ".py",
   "mimetype": "text/x-python",
   "name": "python",
   "nbconvert_exporter": "python",
   "pygments_lexer": "ipython3",
   "version": "3.8.10"
  }
 },
 "nbformat": 4,
 "nbformat_minor": 5
}
