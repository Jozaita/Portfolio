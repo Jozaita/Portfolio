{
 "cells": [
  {
   "cell_type": "code",
   "execution_count": 1,
   "id": "a3815ed4",
   "metadata": {},
   "outputs": [],
   "source": [
    "import gym\n",
    "import numpy as np\n",
    "import random\n",
    "from tqdm import tqdm"
   ]
  },
  {
   "cell_type": "code",
   "execution_count": 2,
   "id": "0434995d",
   "metadata": {},
   "outputs": [],
   "source": [
    "# Training parameters\n",
    "n_training_episodes = 2400  # Total training episodes\n",
    "learning_rate = 0.7          # Learning rate\n",
    "\n",
    "# Evaluation parameters\n",
    "n_eval_episodes = 100        # Total number of test episodes\n",
    "\n",
    "# Environment parameters\n",
    "max_steps = 99              # Max steps per episode\n",
    "gamma = 0.99                # Discounting rate\n",
    "eval_seed = []               # The evaluation seed of the environment\n",
    "\n",
    "# Exploration parameters\n",
    "epsilon = 1.0                 # Exploration rate\n",
    "max_epsilon = 1            # Exploration probability at start\n",
    "min_epsilon = 0.01            # Minimum exploration probability \n",
    "decay_rate = 0.0025            # Exponential decay rate for exploration prob"
   ]
  },
  {
   "cell_type": "code",
   "execution_count": 3,
   "id": "c18a513d",
   "metadata": {},
   "outputs": [
    {
     "data": {
      "text/plain": [
       "[<matplotlib.lines.Line2D at 0x7ff076022520>]"
      ]
     },
     "execution_count": 3,
     "metadata": {},
     "output_type": "execute_result"
    },
    {
     "data": {
      "image/png": "[encoded data removed]",
      "text/plain": [
       "<Figure size 432x288 with 1 Axes>"
      ]
     },
     "metadata": {
      "needs_background": "light"
     },
     "output_type": "display_data"
    }
   ],
   "source": [
    "import matplotlib.pyplot as plt\n",
    "plt.plot([min_epsilon + (max_epsilon - min_epsilon)*np.exp(-decay_rate*episode) for episode in range(n_training_episodes)])"
   ]
  },
  {
   "cell_type": "code",
   "execution_count": 4,
   "id": "c876332d",
   "metadata": {},
   "outputs": [],
   "source": [
    "#Define policies\n",
    "#Define epsilon-greedy for exploring policy\n",
    "def epsilon_greedy(Q_table,state,epsilon):\n",
    "    \"\"\"Epsilon greedy policy.\"\"\"\n",
    "    \n",
    "    if random.random() < epsilon : \n",
    "        #With probability epsilon, select random action\n",
    "        action = random.randint(0,Q_table.shape[1]-1)\n",
    "    else:\n",
    "        #Else, select action with argmax\n",
    "        action = np.argmax(Q_table[state])\n",
    "    \n",
    "    return action\n",
    "    \n",
    "#Define greedy policy for updating\n",
    "def greedy(Q_table,state):\n",
    "    \"\"\"Greedy policy\"\"\"\n",
    "    return np.argmax(Q_table[state])"
   ]
  },
  {
   "cell_type": "code",
   "execution_count": 5,
   "id": "28de5c02",
   "metadata": {},
   "outputs": [],
   "source": [
    "env = gym.make(\"Taxi-v3\")\n",
    "#env = gym.make(\"FrozenLake-v1\",map_name=\"4x4\",is_slippery=False)\n",
    "#Define Q table \n",
    "Q_table = np.zeros ((env.observation_space.n,env.action_space.n))\n",
    "\n",
    "\n",
    "def train(env = env, num_episodes = n_training_episodes, min_epsilon = min_epsilon, max_epsilon = max_epsilon,\n",
    "          decay_rate = decay_rate,max_steps = max_steps, Q_table = Q_table, lr = learning_rate,gamma = gamma):\n",
    "    \n",
    "    ## Loop for episodes\n",
    "    for episode in tqdm(range(num_episodes)):\n",
    "        ## Epsilon callback \n",
    "        epsilon = min_epsilon + (max_epsilon - min_epsilon)*np.exp(-decay_rate*episode)\n",
    "        ## Initialize episode \n",
    "        state = env.reset()\n",
    "        step = 0 \n",
    "        done = False\n",
    "        \n",
    "        ## Define the number of steps per episode      \n",
    "        for step in range(int(max_steps)):\n",
    "            ## Choose action \n",
    "            action = epsilon_greedy(Q_table,state,epsilon)\n",
    "            ## Step \n",
    "            new_state, reward, done, info = env.step(action)\n",
    "            ## Update the Q_table\n",
    "            Q_table[state,action] += lr*(reward+gamma*max(Q_table[new_state]) - Q_table[state,action])\n",
    "            ## Si acabamos, cortamos\n",
    "            if done: \n",
    "                break\n",
    "            ## Actualizar \n",
    "            state = new_state\n",
    "    return Q_table"
   ]
  },
  {
   "cell_type": "code",
   "execution_count": 6,
   "id": "b3382a2f",
   "metadata": {},
   "outputs": [
    {
     "name": "stderr",
     "output_type": "stream",
     "text": [
      "100%|█████████████████████████████████████| 2400/2400 [00:00<00:00, 2762.10it/s]\n"
     ]
    }
   ],
   "source": [
    "Q_table = train()\n"
   ]
  },
  {
   "cell_type": "code",
   "execution_count": 7,
   "id": "8f96c015",
   "metadata": {},
   "outputs": [],
   "source": [
    "def evaluate(env = env,Q_table = Q_table,episodes_eval = n_eval_episodes,max_steps = max_steps):\n",
    "    global_rewards = []\n",
    "    ##Loop for episodes\n",
    "    for episode in tqdm(range(episodes_eval)):\n",
    "        ## Initialize episode \n",
    "        state = env.reset()\n",
    "        step = 0 \n",
    "        done = False\n",
    "        episode_rewards = 0\n",
    "        ## Define the number of steps per episode      \n",
    "        for step in range(int(max_steps)):\n",
    "            ## Choose action \n",
    "            action = greedy(Q_table,state)\n",
    "            ## Step \n",
    "            new_state, reward, done, info = env.step(action)\n",
    "            ## Accumulate rewards\n",
    "            episode_rewards += reward \n",
    "            if done: \n",
    "                break\n",
    "            ## Actualizar \n",
    "            state = new_state\n",
    "        ## Save variables\n",
    "        global_rewards.append(episode_rewards)\n",
    "            \n",
    "    \n",
    "    return global_rewards \n",
    "        \n",
    "        \n",
    "    "
   ]
  },
  {
   "cell_type": "code",
   "execution_count": 8,
   "id": "c666493b",
   "metadata": {},
   "outputs": [
    {
     "name": "stderr",
     "output_type": "stream",
     "text": [
      "100%|███████████████████████████████████████| 100/100 [00:00<00:00, 4442.18it/s]"
     ]
    },
    {
     "name": "stdout",
     "output_type": "stream",
     "text": [
      "Mean rewards: 7.95, std rewards: 2.662235902394827\n"
     ]
    },
    {
     "name": "stderr",
     "output_type": "stream",
     "text": [
      "\n"
     ]
    }
   ],
   "source": [
    "global_rewards = evaluate()\n",
    "\n",
    "print(f\"Mean rewards: {np.mean(global_rewards)}, std rewards: {np.std(global_rewards)}\")"
   ]
  },
  {
   "cell_type": "code",
   "execution_count": null,
   "id": "4cdc4a88",
   "metadata": {},
   "outputs": [],
   "source": []
  }
 ],
 "metadata": {
  "kernelspec": {
   "display_name": "Python 3 (ipykernel)",
   "language": "python",
   "name": "python3"
  },
  "language_info": {
   "codemirror_mode": {
    "name": "ipython",
    "version": 3
   },
   "file_extension": ".py",
   "mimetype": "text/x-python",
   "name": "python",
   "nbconvert_exporter": "python",
   "pygments_lexer": "ipython3",
   "version": "3.8.10"
  }
 },
 "nbformat": 4,
 "nbformat_minor": 5
}
