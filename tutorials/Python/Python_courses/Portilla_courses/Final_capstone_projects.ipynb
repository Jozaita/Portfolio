{
 "cells": [
  {
   "cell_type": "markdown",
   "id": "e8f8127e",
   "metadata": {},
   "source": [
    "### Find pi to the Nth digit\n",
    "\n",
    "The most efficient is the Chudnosky algorithm, but we are using Leibnitz Series. "
   ]
  },
  {
   "cell_type": "code",
   "execution_count": 78,
   "id": "78f4e72e",
   "metadata": {},
   "outputs": [],
   "source": [
    "def generate_pi(n):\n",
    "    pi_previous = -2\n",
    "    pi_current = 0\n",
    "    k = 0\n",
    "    while abs(pi_current - pi_previous) > 10**(-n-1):\n",
    "        pi_previous = pi_current\n",
    "        pi_current += 4*((-1)**k/(2*k+1))\n",
    "        k += 1\n",
    "    return round(pi_current,n+1)"
   ]
  },
  {
   "cell_type": "code",
   "execution_count": 81,
   "id": "cf41efe3",
   "metadata": {},
   "outputs": [
    {
     "data": {
      "text/plain": [
       "3.1415927"
      ]
     },
     "execution_count": 81,
     "metadata": {},
     "output_type": "execute_result"
    }
   ],
   "source": [
    "generate_pi(6)"
   ]
  },
  {
   "cell_type": "markdown",
   "id": "14ec5290",
   "metadata": {},
   "source": [
    "### Find e to the Nth digit \n",
    "\n",
    "The same with e, we take advantage of :\n",
    "\n",
    "$ e = \\sum_{0}^{\\infty} \\dfrac{1}{n!} $"
   ]
  },
  {
   "cell_type": "code",
   "execution_count": 87,
   "id": "f39a0e6f",
   "metadata": {},
   "outputs": [],
   "source": [
    "from math import factorial\n",
    "def generate_e(n):\n",
    "    e_previous = -2\n",
    "    e_current = 0\n",
    "    k = 0\n",
    "    while abs(e_current - e_previous) > 10**(-n-1):\n",
    "        e_previous = e_current\n",
    "        e_current += 1/factorial(k)\n",
    "        k += 1\n",
    "    return round(e_current,n+1)"
   ]
  },
  {
   "cell_type": "code",
   "execution_count": 88,
   "id": "93c57c34",
   "metadata": {},
   "outputs": [
    {
     "data": {
      "text/plain": [
       "2.7182818"
      ]
     },
     "execution_count": 88,
     "metadata": {},
     "output_type": "execute_result"
    }
   ],
   "source": [
    "generate_e(6)"
   ]
  },
  {
   "cell_type": "markdown",
   "id": "78ef387c",
   "metadata": {},
   "source": [
    "### Generate Fibonacci Sequence"
   ]
  },
  {
   "cell_type": "code",
   "execution_count": 96,
   "id": "622c574e",
   "metadata": {},
   "outputs": [],
   "source": [
    "def fibonacci_seq(n):\n",
    "    a,b = 0,1\n",
    "    for _ in range(n):\n",
    "        \n",
    "        b += a\n",
    "        a = b-a\n",
    "        yield b"
   ]
  },
  {
   "cell_type": "code",
   "execution_count": 105,
   "id": "025efa59",
   "metadata": {},
   "outputs": [
    {
     "data": {
      "text/plain": [
       "[1, 2, 3, 5, 8, 13, 21, 34, 55, 89]"
      ]
     },
     "execution_count": 105,
     "metadata": {},
     "output_type": "execute_result"
    }
   ],
   "source": [
    "list(fibonacci_seq(10))"
   ]
  },
  {
   "cell_type": "markdown",
   "id": "4123e1a1",
   "metadata": {},
   "source": [
    "### Display prime factors"
   ]
  },
  {
   "cell_type": "code",
   "execution_count": 245,
   "id": "3e2a989b",
   "metadata": {},
   "outputs": [],
   "source": [
    "def prime_factors(n):\n",
    "    prime_factors = []\n",
    "    i = 2\n",
    "    if n > 2: \n",
    "        while i<=n/2:\n",
    "            while n%i == 0:\n",
    "                n /= i\n",
    "                prime_factors.append(i)\n",
    "            i += 1\n",
    "    prime_factors.append(int(n))\n",
    "    return list(set(prime_factors))"
   ]
  },
  {
   "cell_type": "code",
   "execution_count": 248,
   "id": "128780bc",
   "metadata": {},
   "outputs": [
    {
     "data": {
      "text/plain": [
       "[1, 2]"
      ]
     },
     "execution_count": 248,
     "metadata": {},
     "output_type": "execute_result"
    }
   ],
   "source": [
    "prime_factors(4)"
   ]
  },
  {
   "cell_type": "markdown",
   "id": "2f9a6afc",
   "metadata": {},
   "source": [
    "### Next Prime Number "
   ]
  },
  {
   "cell_type": "code",
   "execution_count": 250,
   "id": "89f76091",
   "metadata": {},
   "outputs": [
    {
     "name": "stdout",
     "output_type": "stream",
     "text": [
      "The next prime is 2\n",
      "Wanna know the next prime?:(0/1) 0\n",
      "The next prime is 3\n",
      "Wanna know the next prime?:(0/1) 0\n",
      "The next prime is 5\n",
      "Wanna know the next prime?:(0/1) 0\n",
      "The next prime is 7\n",
      "Wanna know the next prime?:(0/1) 0\n",
      "The next prime is 11\n",
      "Wanna know the next prime?:(0/1) 0\n",
      "The next prime is 13\n",
      "Wanna know the next prime?:(0/1) 0\n",
      "The next prime is 17\n",
      "Wanna know the next prime?:(0/1) 0\n",
      "The next prime is 19\n",
      "Wanna know the next prime?:(0/1) 0\n",
      "The next prime is 23\n",
      "Wanna know the next prime?:(0/1) 0\n",
      "The next prime is 29\n",
      "Wanna know the next prime?:(0/1) 0\n",
      "The next prime is 31\n",
      "Wanna know the next prime?:(0/1) 0\n",
      "The next prime is 37\n",
      "Wanna know the next prime?:(0/1) 0\n",
      "The next prime is 41\n",
      "Wanna know the next prime?:(0/1) 0\n",
      "The next prime is 43\n",
      "Wanna know the next prime?:(0/1) 0\n",
      "The next prime is 47\n",
      "Wanna know the next prime?:(0/1) 0\n",
      "The next prime is 53\n",
      "Wanna know the next prime?:(0/1) 0\n",
      "The next prime is 59\n"
     ]
    },
    {
     "ename": "KeyboardInterrupt",
     "evalue": "Interrupted by user",
     "output_type": "error",
     "traceback": [
      "\u001b[0;31m---------------------------------------------------------------------------\u001b[0m",
      "\u001b[0;31mKeyboardInterrupt\u001b[0m                         Traceback (most recent call last)",
      "\u001b[0;32m/tmp/ipykernel_285821/3013727043.py\u001b[0m in \u001b[0;36m<module>\u001b[0;34m\u001b[0m\n\u001b[1;32m      4\u001b[0m     \u001b[0;32mif\u001b[0m \u001b[0mlen\u001b[0m\u001b[0;34m(\u001b[0m\u001b[0mprime_factors\u001b[0m\u001b[0;34m(\u001b[0m\u001b[0mn\u001b[0m\u001b[0;34m)\u001b[0m\u001b[0;34m)\u001b[0m \u001b[0;34m==\u001b[0m \u001b[0;36m1\u001b[0m\u001b[0;34m:\u001b[0m\u001b[0;34m\u001b[0m\u001b[0;34m\u001b[0m\u001b[0m\n\u001b[1;32m      5\u001b[0m         \u001b[0mprint\u001b[0m\u001b[0;34m(\u001b[0m\u001b[0;34mf\"The next prime is {n}\"\u001b[0m\u001b[0;34m)\u001b[0m\u001b[0;34m\u001b[0m\u001b[0;34m\u001b[0m\u001b[0m\n\u001b[0;32m----> 6\u001b[0;31m         \u001b[0mstop\u001b[0m \u001b[0;34m=\u001b[0m \u001b[0mbool\u001b[0m\u001b[0;34m(\u001b[0m\u001b[0mint\u001b[0m\u001b[0;34m(\u001b[0m\u001b[0minput\u001b[0m\u001b[0;34m(\u001b[0m\u001b[0;34m\"Wanna know the next prime?:(0/1) \"\u001b[0m\u001b[0;34m)\u001b[0m\u001b[0;34m)\u001b[0m\u001b[0;34m)\u001b[0m\u001b[0;34m\u001b[0m\u001b[0;34m\u001b[0m\u001b[0m\n\u001b[0m\u001b[1;32m      7\u001b[0m         \u001b[0mn\u001b[0m\u001b[0;34m+=\u001b[0m\u001b[0;36m1\u001b[0m\u001b[0;34m\u001b[0m\u001b[0;34m\u001b[0m\u001b[0m\n\u001b[1;32m      8\u001b[0m     \u001b[0;32melse\u001b[0m\u001b[0;34m:\u001b[0m\u001b[0;34m\u001b[0m\u001b[0;34m\u001b[0m\u001b[0m\n",
      "\u001b[0;32m~/.local/lib/python3.8/site-packages/ipykernel/kernelbase.py\u001b[0m in \u001b[0;36mraw_input\u001b[0;34m(self, prompt)\u001b[0m\n\u001b[1;32m   1004\u001b[0m                 \u001b[0;34m\"raw_input was called, but this frontend does not support input requests.\"\u001b[0m\u001b[0;34m\u001b[0m\u001b[0;34m\u001b[0m\u001b[0m\n\u001b[1;32m   1005\u001b[0m             )\n\u001b[0;32m-> 1006\u001b[0;31m         return self._input_request(\n\u001b[0m\u001b[1;32m   1007\u001b[0m             \u001b[0mstr\u001b[0m\u001b[0;34m(\u001b[0m\u001b[0mprompt\u001b[0m\u001b[0;34m)\u001b[0m\u001b[0;34m,\u001b[0m\u001b[0;34m\u001b[0m\u001b[0;34m\u001b[0m\u001b[0m\n\u001b[1;32m   1008\u001b[0m             \u001b[0mself\u001b[0m\u001b[0;34m.\u001b[0m\u001b[0m_parent_ident\u001b[0m\u001b[0;34m[\u001b[0m\u001b[0;34m\"shell\"\u001b[0m\u001b[0;34m]\u001b[0m\u001b[0;34m,\u001b[0m\u001b[0;34m\u001b[0m\u001b[0;34m\u001b[0m\u001b[0m\n",
      "\u001b[0;32m~/.local/lib/python3.8/site-packages/ipykernel/kernelbase.py\u001b[0m in \u001b[0;36m_input_request\u001b[0;34m(self, prompt, ident, parent, password)\u001b[0m\n\u001b[1;32m   1049\u001b[0m             \u001b[0;32mexcept\u001b[0m \u001b[0mKeyboardInterrupt\u001b[0m\u001b[0;34m:\u001b[0m\u001b[0;34m\u001b[0m\u001b[0;34m\u001b[0m\u001b[0m\n\u001b[1;32m   1050\u001b[0m                 \u001b[0;31m# re-raise KeyboardInterrupt, to truncate traceback\u001b[0m\u001b[0;34m\u001b[0m\u001b[0;34m\u001b[0m\u001b[0;34m\u001b[0m\u001b[0m\n\u001b[0;32m-> 1051\u001b[0;31m                 \u001b[0;32mraise\u001b[0m \u001b[0mKeyboardInterrupt\u001b[0m\u001b[0;34m(\u001b[0m\u001b[0;34m\"Interrupted by user\"\u001b[0m\u001b[0;34m)\u001b[0m \u001b[0;32mfrom\u001b[0m \u001b[0;32mNone\u001b[0m\u001b[0;34m\u001b[0m\u001b[0;34m\u001b[0m\u001b[0m\n\u001b[0m\u001b[1;32m   1052\u001b[0m             \u001b[0;32mexcept\u001b[0m \u001b[0mException\u001b[0m\u001b[0;34m:\u001b[0m\u001b[0;34m\u001b[0m\u001b[0;34m\u001b[0m\u001b[0m\n\u001b[1;32m   1053\u001b[0m                 \u001b[0mself\u001b[0m\u001b[0;34m.\u001b[0m\u001b[0mlog\u001b[0m\u001b[0;34m.\u001b[0m\u001b[0mwarning\u001b[0m\u001b[0;34m(\u001b[0m\u001b[0;34m\"Invalid Message:\"\u001b[0m\u001b[0;34m,\u001b[0m \u001b[0mexc_info\u001b[0m\u001b[0;34m=\u001b[0m\u001b[0;32mTrue\u001b[0m\u001b[0;34m)\u001b[0m\u001b[0;34m\u001b[0m\u001b[0;34m\u001b[0m\u001b[0m\n",
      "\u001b[0;31mKeyboardInterrupt\u001b[0m: Interrupted by user"
     ]
    }
   ],
   "source": [
    "stop = False\n",
    "n = 2\n",
    "while stop == False:\n",
    "    if len(prime_factors(n)) == 1:\n",
    "        print(f\"The next prime is {n}\")\n",
    "        stop = bool(int(input(\"Wanna know the next prime?:(0/1) \")))\n",
    "        n+=1\n",
    "    else:\n",
    "        n +=1\n",
    "            "
   ]
  },
  {
   "cell_type": "markdown",
   "id": "ccd0a4b0",
   "metadata": {},
   "source": [
    "### Mortgage calculator"
   ]
  },
  {
   "cell_type": "code",
   "execution_count": 291,
   "id": "48bf3367",
   "metadata": {},
   "outputs": [],
   "source": [
    "import datetime\n",
    "import numpy as np\n",
    "\n",
    "def mortgage(quantity,interest,payment):\n",
    "    total_cost = quantity*(1+interest*0.01)\n",
    "    n_payments = np.ceil(total_cost/payment)\n",
    "    mode = input(\"Monthly/Weekly,Daily: \")\n",
    "    if mode == \"Monthly\":\n",
    "        total_time = datetime.timedelta(days = 31)*n_payments\n",
    "    if mode == \"Weekly\":\n",
    "        total_time = datetime.timedelta(days = 7)*n_payments\n",
    "    if mode == \"Daily\":\n",
    "        total_time = datetime.timedelta(days = 1)*n_payments\n",
    "    \n",
    "    print(f\"The total cost of the mortgage is {total_cost}\\n\")\n",
    "    print(f\"Time elapsed (in days): {total_time.days}\")\n",
    "    \n",
    "    "
   ]
  },
  {
   "cell_type": "code",
   "execution_count": 294,
   "id": "632b18c7",
   "metadata": {},
   "outputs": [
    {
     "name": "stdout",
     "output_type": "stream",
     "text": [
      "Monthly/Weekly,Daily: Monthly\n",
      "The total cost of the mortgage is 1120.0\n",
      "\n",
      "Time elapsed (in days): 372\n"
     ]
    }
   ],
   "source": [
    "mortgage(1000,12,100)"
   ]
  },
  {
   "cell_type": "markdown",
   "id": "73652f16",
   "metadata": {},
   "source": [
    "### Binary to decimal calculator\n"
   ]
  },
  {
   "cell_type": "code",
   "execution_count": 436,
   "id": "b560f6e8",
   "metadata": {},
   "outputs": [],
   "source": [
    "def binary_calculator(n,mode):\n",
    "    if mode ==\"decimal_to_binary\":\n",
    "        i = 0\n",
    "        while n//2**i != 0:\n",
    "            i += 1\n",
    "        binary = [0]*(i)\n",
    "        binary[0] = 1\n",
    "        n -= 2**(i-1)\n",
    "        while n>0:\n",
    "            i = 0\n",
    "            while n//2**i!= 0:\n",
    "                i +=1\n",
    "            n -= 2**(i-1)\n",
    "            binary[-i] = 1\n",
    "        return binary\n",
    "    if mode  == \"binary_to_decimal\":\n",
    "        number = 0\n",
    "        for i,item in enumerate(n):\n",
    "            number += item*2**(len(n)-i-1)\n",
    "        return number"
   ]
  },
  {
   "cell_type": "code",
   "execution_count": 437,
   "id": "8972572a",
   "metadata": {},
   "outputs": [
    {
     "data": {
      "text/plain": [
       "[1, 1, 0, 0, 0, 0, 0, 1]"
      ]
     },
     "execution_count": 437,
     "metadata": {},
     "output_type": "execute_result"
    }
   ],
   "source": [
    "binary_calculator(193,\"decimal_to_binary\")"
   ]
  },
  {
   "cell_type": "code",
   "execution_count": 438,
   "id": "df033dc2",
   "metadata": {},
   "outputs": [
    {
     "data": {
      "text/plain": [
       "193"
      ]
     },
     "execution_count": 438,
     "metadata": {},
     "output_type": "execute_result"
    }
   ],
   "source": [
    "binary_calculator([1, 1, 0, 0, 0, 0, 0, 1],\"binary_to_decimal\")"
   ]
  },
  {
   "cell_type": "markdown",
   "id": "1ff5f3ea",
   "metadata": {},
   "source": [
    "### Alarm clock"
   ]
  },
  {
   "cell_type": "code",
   "execution_count": 513,
   "id": "6f884111",
   "metadata": {},
   "outputs": [],
   "source": [
    "from playsound import playsound\n",
    "import datetime\n",
    "\n",
    "def cuenta_atras(deadline): \n",
    "    sound = datetime.datetime.now()+datetime.timedelta(0,deadline)\n",
    "    while True:\n",
    "        if (sound - datetime.datetime.now()).total_seconds() < 10e-2:\n",
    "            playsound(\"test.mp3\")\n",
    "            break\n",
    "def alarma(fecha):\n",
    "    sound = datetime.datetime(fecha[0],fecha[1],fecha[2],fecha[3],fecha[4])\n",
    "    while True:\n",
    "        if (sound - datetime.datetime.now()).total_seconds() < 10e-2:\n",
    "                playsound(\"test.mp3\")\n",
    "                break\n",
    "    "
   ]
  },
  {
   "cell_type": "code",
   "execution_count": 515,
   "id": "f3f0692b",
   "metadata": {},
   "outputs": [],
   "source": [
    "cuenta_atras(10)"
   ]
  },
  {
   "cell_type": "code",
   "execution_count": 516,
   "id": "798ee690",
   "metadata": {},
   "outputs": [],
   "source": [
    "alarma((2022,1,6,3,38))"
   ]
  },
  {
   "cell_type": "markdown",
   "id": "08070f42",
   "metadata": {},
   "source": [
    "### Distance between two cities "
   ]
  },
  {
   "cell_type": "code",
   "execution_count": 5,
   "id": "30c22d49",
   "metadata": {},
   "outputs": [],
   "source": [
    "from geopy.geocoders import Nominatim\n",
    "import math\n",
    "\n",
    "def distance_cities(city_1,city_2):\n",
    "    geolocator = Nominatim(user_agent=\"Python_test\")\n",
    "    location_1 = geolocator.geocode(city_1)\n",
    "    location_2 = geolocator.geocode(city_2)\n",
    "    lat_1,lon_1 = location_1.latitude,location_1.longitude\n",
    "    lat_2,lon_2 = location_2.latitude,location_2.longitude\n",
    "    lat_1,lat_2,lon_1,lon_2 = map(math.radians,[lat_1,lat_2,lon_1,lon_2])\n",
    "    # haversine formula \n",
    "    dlon = lon_2 - lon_1 \n",
    "    dlat = lat_2 - lat_1 \n",
    "    a = math.sin(dlat/2)**2 + math.cos(lat_1) * math.cos(lat_2) * math.sin(dlon/2)**2\n",
    "    c = 2 * math.asin(math.sqrt(a)) \n",
    "    r = 6371 # Radius of earth in kilometers. Use 3956 for miles. Determines return value units.\n",
    "    #return c * r\n",
    "    return dlon"
   ]
  },
  {
   "cell_type": "code",
   "execution_count": 8,
   "id": "ea59f5f3",
   "metadata": {},
   "outputs": [
    {
     "data": {
      "text/plain": [
       "20.10453474231733"
      ]
     },
     "execution_count": 8,
     "metadata": {},
     "output_type": "execute_result"
    }
   ],
   "source": [
    "distance_cities(\"Ourense\",\"Roma\")/6.28*360"
   ]
  },
  {
   "cell_type": "markdown",
   "id": "5f0f6f18",
   "metadata": {},
   "source": [
    "### Credit card validator"
   ]
  },
  {
   "cell_type": "code",
   "execution_count": 564,
   "id": "d8263673",
   "metadata": {},
   "outputs": [],
   "source": [
    "def credit_checksum(num):\n",
    "    #Luhn algorithm\n",
    "    number = int(str(num)[:-1])\n",
    "    checksum = 0\n",
    "    for i,digit in enumerate(str(number)):\n",
    "        item_sum = int(digit)*(i%2+1)\n",
    "        if item_sum > 10:\n",
    "            item_sum = sum([int(digit) for digit in str(item_sum)])\n",
    "        checksum += item_sum\n",
    "    last_digit = checksum%10\n",
    "    if last_digit == int(str(num)[-1]):\n",
    "        print(\"Valid\")\n",
    "    else:\n",
    "        print(\"Invalid\")\n",
    "        "
   ]
  },
  {
   "cell_type": "code",
   "execution_count": 567,
   "id": "40e08efb",
   "metadata": {},
   "outputs": [
    {
     "name": "stdout",
     "output_type": "stream",
     "text": [
      "Invalid\n"
     ]
    }
   ],
   "source": [
    "credit_checksum(123452)"
   ]
  },
  {
   "cell_type": "markdown",
   "id": "dfc3eebe",
   "metadata": {},
   "source": [
    "### Happy numbers "
   ]
  },
  {
   "cell_type": "code",
   "execution_count": 595,
   "id": "f87a23e9",
   "metadata": {},
   "outputs": [],
   "source": [
    "def find_happy_number(limit,precision):\n",
    "    happy_list = []\n",
    "    i=2\n",
    "    i_2 = i\n",
    "    while i_2 < limit:\n",
    "        i_2 = i\n",
    "        k = 0\n",
    "        while i != 1:\n",
    "            happy_num = sum([int(digit)**2 for digit in str(i)])\n",
    "            i = happy_num\n",
    "            k += 1\n",
    "            if k == precision:\n",
    "                break\n",
    "        if i == 1:\n",
    "            happy_list.append(i_2)\n",
    "        i = i_2 + 1\n",
    "    return happy_list"
   ]
  },
  {
   "cell_type": "code",
   "execution_count": 596,
   "id": "7d602f9c",
   "metadata": {},
   "outputs": [
    {
     "data": {
      "text/plain": [
       "[7,\n",
       " 10,\n",
       " 13,\n",
       " 19,\n",
       " 23,\n",
       " 28,\n",
       " 31,\n",
       " 32,\n",
       " 44,\n",
       " 49,\n",
       " 68,\n",
       " 70,\n",
       " 79,\n",
       " 82,\n",
       " 86,\n",
       " 91,\n",
       " 94,\n",
       " 97,\n",
       " 100,\n",
       " 103,\n",
       " 109,\n",
       " 129,\n",
       " 130,\n",
       " 133,\n",
       " 139,\n",
       " 167,\n",
       " 176,\n",
       " 188,\n",
       " 190,\n",
       " 192,\n",
       " 193]"
      ]
     },
     "execution_count": 596,
     "metadata": {},
     "output_type": "execute_result"
    }
   ],
   "source": [
    "find_happy_number(200,10e3)"
   ]
  },
  {
   "cell_type": "markdown",
   "id": "67fcec08",
   "metadata": {},
   "source": [
    "### Limit calculator"
   ]
  },
  {
   "cell_type": "code",
   "execution_count": 623,
   "id": "8790d90c",
   "metadata": {},
   "outputs": [],
   "source": [
    "import sympy as sym\n",
    "\n",
    "def limit_calculator(f,limit):    \n",
    "    x = sym.symbols(\"x\")\n",
    "    return sym.limit(f,x,limit)"
   ]
  },
  {
   "cell_type": "code",
   "execution_count": 625,
   "id": "c8fff290",
   "metadata": {},
   "outputs": [
    {
     "data": {
      "text/latex": [
       "$\\displaystyle 1$"
      ],
      "text/plain": [
       "1"
      ]
     },
     "execution_count": 625,
     "metadata": {},
     "output_type": "execute_result"
    }
   ],
   "source": [
    "limit_calculator(\"sin(x)/x\",0)"
   ]
  },
  {
   "cell_type": "code",
   "execution_count": 620,
   "id": "64bce0bc",
   "metadata": {},
   "outputs": [
    {
     "data": {
      "text/latex": [
       "$\\displaystyle 5$"
      ],
      "text/plain": [
       "5"
      ]
     },
     "execution_count": 620,
     "metadata": {},
     "output_type": "execute_result"
    }
   ],
   "source": []
  },
  {
   "cell_type": "code",
   "execution_count": null,
   "id": "c4cf3d78",
   "metadata": {},
   "outputs": [],
   "source": []
  }
 ],
 "metadata": {
  "kernelspec": {
   "display_name": "Python 3 (ipykernel)",
   "language": "python",
   "name": "python3"
  },
  "language_info": {
   "codemirror_mode": {
    "name": "ipython",
    "version": 3
   },
   "file_extension": ".py",
   "mimetype": "text/x-python",
   "name": "python",
   "nbconvert_exporter": "python",
   "pygments_lexer": "ipython3",
   "version": "3.8.10"
  }
 },
 "nbformat": 4,
 "nbformat_minor": 5
}
