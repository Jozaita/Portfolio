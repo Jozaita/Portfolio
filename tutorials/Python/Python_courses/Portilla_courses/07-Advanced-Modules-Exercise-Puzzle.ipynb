{
 "cells": [
  {
   "cell_type": "markdown",
   "metadata": {},
   "source": [
    "___\n",
    "\n",
    "<a href='https://www.udemy.com/user/joseportilla/'><img src='../../Pierian_Data_Logo.png'/></a>\n",
    "___\n",
    "<center><em>Content Copyright by Pierian Data</em></center>"
   ]
  },
  {
   "cell_type": "markdown",
   "metadata": {},
   "source": [
    "# Advanced Modules Exercise Puzzle\n",
    "\n",
    "It's time to test your new skills, this puzzle project will combine multiple skills sets, including unzipping files with Python, using os module to automatically search through lots of files.\n",
    "\n",
    "## Your Goal\n",
    "\n",
    "This is a puzzle, so we don't want to give you too much guidance and instead have you figure out things on your own.\n",
    "\n",
    "There is a .zip file called 'unzip_me_for_instructions.zip', unzip it, open the .txt file with Python, read the instructions and see if you can figure out what you need to do!\n",
    "\n",
    "**If you get stuck or don't know where to start, here is a [guide/hints](https://docs.google.com/document/d/1JxydUr4n4fSR0EwwuwT-aHia-yPK6r-oTBuVT2sqheo/edit?usp=sharing)**"
   ]
  },
  {
   "cell_type": "code",
   "execution_count": 1,
   "metadata": {},
   "outputs": [],
   "source": [
    "import os\n",
    "import zipfile "
   ]
  },
  {
   "cell_type": "code",
   "execution_count": 2,
   "metadata": {},
   "outputs": [
    {
     "data": {
      "text/plain": [
       "['08-Advanced-Modules-Exercise-Solutions.ipynb',\n",
       " 'unzip_me_for_instructions.zip',\n",
       " 'extracted_content',\n",
       " '07-Advanced-Modules-Exercise-Puzzle.ipynb',\n",
       " '.ipynb_checkpoints']"
      ]
     },
     "execution_count": 2,
     "metadata": {},
     "output_type": "execute_result"
    }
   ],
   "source": [
    "os.listdir()"
   ]
  },
  {
   "cell_type": "code",
   "execution_count": 3,
   "metadata": {},
   "outputs": [
    {
     "data": {
      "text/plain": [
       "['08-Advanced-Modules-Exercise-Solutions.ipynb',\n",
       " 'unzip_me_for_instructions.zip',\n",
       " 'extracted_content',\n",
       " '07-Advanced-Modules-Exercise-Puzzle.ipynb',\n",
       " '.ipynb_checkpoints']"
      ]
     },
     "execution_count": 3,
     "metadata": {},
     "output_type": "execute_result"
    }
   ],
   "source": [
    "instructions = zipfile.ZipFile(\"unzip_me_for_instructions.zip\",\"r\")\n",
    "instructions.extractall()\n",
    "os.listdir()"
   ]
  },
  {
   "cell_type": "code",
   "execution_count": 4,
   "metadata": {},
   "outputs": [],
   "source": [
    "os.chdir(\"extracted_content\")"
   ]
  },
  {
   "cell_type": "code",
   "execution_count": 5,
   "metadata": {},
   "outputs": [
    {
     "data": {
      "text/plain": [
       "['Five', 'Instructions.txt', 'Four', 'Two', 'Three', 'One']"
      ]
     },
     "execution_count": 5,
     "metadata": {},
     "output_type": "execute_result"
    }
   ],
   "source": [
    "os.listdir()"
   ]
  },
  {
   "cell_type": "code",
   "execution_count": 6,
   "metadata": {},
   "outputs": [
    {
     "name": "stdout",
     "output_type": "stream",
     "text": [
      "Good work on unzipping the file!\n",
      "You should now see 5 folders, each with a lot of random .txt files.\n",
      "Within one of these text files is a telephone number formated ###-###-#### \n",
      "Use the Python os module and regular expressions to iterate through each file, open it, and search for a telephone number.\n",
      "Good luck!\n"
     ]
    }
   ],
   "source": [
    "with open(\"Instructions.txt\",\"r\") as file:\n",
    "    print(file.read())"
   ]
  },
  {
   "cell_type": "code",
   "execution_count": 7,
   "metadata": {},
   "outputs": [],
   "source": [
    "import re \n",
    "\n",
    "pattern = re.compile(r\"(\\d{3})-(\\d{3})-(\\d{4})\")"
   ]
  },
  {
   "cell_type": "code",
   "execution_count": 16,
   "metadata": {},
   "outputs": [
    {
     "name": "stdout",
     "output_type": "stream",
     "text": [
      "EMTGPSXQEJX.txt\n",
      "******\n",
      "719-266-2837\n"
     ]
    }
   ],
   "source": [
    "for folder, subfolder, subfile in os.walk(os.getcwd()):\n",
    "    os.chdir(folder)\n",
    "    for file in subfile: \n",
    "        with open(file,\"r\") as f:\n",
    "            text = f.read()\n",
    "            if pattern.search(text) != None:\n",
    "                print(file)\n",
    "                print(\"******\")\n",
    "                print(pattern.search(text).group())\n",
    "    os.chdir(\"..\")"
   ]
  },
  {
   "cell_type": "code",
   "execution_count": null,
   "metadata": {},
   "outputs": [],
   "source": []
  }
 ],
 "metadata": {
  "anaconda-cloud": {},
  "kernelspec": {
   "display_name": "Python 3 (ipykernel)",
   "language": "python",
   "name": "python3"
  },
  "language_info": {
   "codemirror_mode": {
    "name": "ipython",
    "version": 3
   },
   "file_extension": ".py",
   "mimetype": "text/x-python",
   "name": "python",
   "nbconvert_exporter": "python",
   "pygments_lexer": "ipython3",
   "version": "3.8.10"
  }
 },
 "nbformat": 4,
 "nbformat_minor": 2
}
