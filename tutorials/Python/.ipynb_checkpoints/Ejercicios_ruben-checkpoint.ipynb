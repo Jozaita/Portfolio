{
 "cells": [
  {
   "cell_type": "markdown",
   "id": "6b19561f",
   "metadata": {},
   "source": [
    "# Exercise 1"
   ]
  },
  {
   "cell_type": "markdown",
   "id": "3d3098f8",
   "metadata": {},
   "source": [
    "<h3><u>Function 1: Calculating the number of students</u></h3><br>\n",
    "<p> In order to create a crawler, I will use the libraries requests and beautifulsoup. Requests will be used as an auxiliary library to get the data from a given URL. Beautifulsoup will then parse this data and look into the table of contents (in the right part of the page) and provide the information about the number of students.</p><br>\n",
    "<p>In the following, we present the function.</p>\n"
   ]
  },
  {
   "cell_type": "code",
   "execution_count": 1,
   "id": "cc2362b8",
   "metadata": {},
   "outputs": [],
   "source": [
    "#Importing the libraries\n",
    "import requests \n",
    "import bs4"
   ]
  },
  {
   "cell_type": "code",
   "execution_count": 2,
   "id": "82c17d07",
   "metadata": {},
   "outputs": [],
   "source": [
    "# We hard-code the url of University Carlos III de Madrid, the function variable \n",
    "url = \"https://es.wikipedia.org/wiki/Universidad_Carlos_III_de_Madrid\""
   ]
  },
  {
   "cell_type": "code",
   "execution_count": 3,
   "id": "37aa4d8d",
   "metadata": {},
   "outputs": [],
   "source": [
    "def get_number_students(url):\n",
    "    #Requests library gets the data\n",
    "    res = requests.get(url)\n",
    "    #BS4 parses the data\n",
    "    soup = bs4.BeautifulSoup(res.text,\"lxml\")\n",
    "    #BS4 finds the information box of the right\n",
    "    table = soup.find('table',class_='infobox')\n",
    "    #For all the elements in the information box\n",
    "    for item in table.find_all(\"tr\"):\n",
    "        #Try statement so it does not crash if its eventually used in other pages\n",
    "        try:\n",
    "            #If the title of one of the elements of the table is equal to \"Estudiantes\"\n",
    "            if item.th.get_text() == \"Estudiantes\":\n",
    "                #We get the value of the corresponding item\n",
    "                value = item.td.get_text().replace(\"\\n\", \"\")\n",
    "                #Return that value\n",
    "                return f\"Number of students: {value}\"\n",
    "        except:\n",
    "            #As it is a test application, we silent the exceptions.\n",
    "            continue\n"
   ]
  },
  {
   "cell_type": "code",
   "execution_count": 4,
   "id": "645ccd93",
   "metadata": {},
   "outputs": [
    {
     "data": {
      "text/plain": [
       "'Number of students: 22.913'"
      ]
     },
     "execution_count": 4,
     "metadata": {},
     "output_type": "execute_result"
    }
   ],
   "source": [
    "get_number_students(url)"
   ]
  },
  {
   "cell_type": "markdown",
   "id": "036afe78",
   "metadata": {},
   "source": [
    "<h3><u>Function 2: Calculating the number of references in a web page</u></h3><br>\n",
    "<p> Coming from the previous context, we will extend the use of the beautifulsoup to couting the number of references to external pages in a certain url. Again, the url will be the one from the university Carlos III de Madrid.</p><br>\n",
    "\n"
   ]
  },
  {
   "cell_type": "code",
   "execution_count": 5,
   "id": "28dfd5d2",
   "metadata": {},
   "outputs": [],
   "source": [
    "def get_number_references(url):\n",
    "    #Getting the webpage data usinf the requests library \n",
    "    res = requests.get(url)\n",
    "    #Parsing the data with beautifulsoup \n",
    "    soup = bs4.BeautifulSoup(res.text,'lxml')\n",
    "    #Getting all the references, this is all the <a> tags, and computing its length\n",
    "    n_ref = len(soup.find_all(\"a\"))\n",
    "    return f\"Number of references: {n_ref}\""
   ]
  },
  {
   "cell_type": "code",
   "execution_count": 6,
   "id": "0df72456",
   "metadata": {},
   "outputs": [
    {
     "data": {
      "text/plain": [
       "'Number of references: 251'"
      ]
     },
     "execution_count": 6,
     "metadata": {},
     "output_type": "execute_result"
    }
   ],
   "source": [
    "get_number_references(url)"
   ]
  },
  {
   "cell_type": "markdown",
   "id": "498a97a0",
   "metadata": {},
   "source": [
    "# Exercise 2"
   ]
  },
  {
   "cell_type": "markdown",
   "id": "15b7cc12",
   "metadata": {},
   "source": [
    "<h3><u>Prediction exercise</u></h3><br>\n",
    "<p>In this exercise, we have a training dataset with a particular target variable (VTR) that is not present in the test dataset. In order to predict this variable, we will be using a neural network using the library Pytorch. As auxiliary libraries we will use numpy to use arrays, pandas to use dataframes and matplotlib to visualize some results.</p><br>\n",
    "<p>In the following, we present the function.</p>\n"
   ]
  },
  {
   "cell_type": "code",
   "execution_count": 7,
   "id": "fce5e266",
   "metadata": {},
   "outputs": [],
   "source": [
    "#Import the libraries that are needed\n",
    "import numpy as np\n",
    "import pandas as pd\n",
    "import torch\n",
    "import torch.nn as nn\n",
    "import matplotlib.pyplot as plt\n"
   ]
  },
  {
   "cell_type": "code",
   "execution_count": 8,
   "id": "d6008022",
   "metadata": {},
   "outputs": [],
   "source": [
    "#Firstly, we load the .csv files corresponding to training and test, removing the columns that are not desired.\n",
    "df_train = pd.read_csv(\"df_train .csv\").drop(\"Unnamed: 0\",axis=1)\n",
    "df_test = pd.read_csv(\"df_test_predict.csv\").drop(\"Unnamed: 0\",axis=1)"
   ]
  },
  {
   "cell_type": "code",
   "execution_count": 9,
   "id": "d335f8a5",
   "metadata": {},
   "outputs": [
    {
     "name": "stdout",
     "output_type": "stream",
     "text": [
      "TRAINING\n",
      " appType                      0\n",
      "creatSize                    0\n",
      "creatType                    0\n",
      "deviceOs                     0\n",
      "domain                      20\n",
      "tsHour                       0\n",
      "tsDow                        0\n",
      "appType_video_start          0\n",
      "appType_video_complete       0\n",
      "appType_vtr                  0\n",
      "creatSize_video_start        0\n",
      "creatSize_video_complete     0\n",
      "creatSize_vtr                0\n",
      "creatType_video_start        0\n",
      "creatType_video_complete     0\n",
      "creatType_vtr                0\n",
      "deviceOs_video_start         0\n",
      "deviceOs_video_complete      0\n",
      "deviceOs_vtr                 0\n",
      "domain_video_start           0\n",
      "domain_video_complete        0\n",
      "domain_vtr                   0\n",
      "tsHour_video_start           0\n",
      "tsHour_video_complete        0\n",
      "tsHour_vtr                   0\n",
      "tsDow_video_start            0\n",
      "tsDow_video_complete         0\n",
      "tsDow_vtr                    0\n",
      "VTR                          0\n",
      "dtype: int64 \n",
      "\n",
      " TEST appType                     0\n",
      "creatSize                   0\n",
      "creatType                   0\n",
      "deviceOs                    0\n",
      "domain                      5\n",
      "tsHour                      0\n",
      "tsDow                       0\n",
      "appType_video_start         0\n",
      "appType_video_complete      0\n",
      "appType_vtr                 0\n",
      "creatSize_video_start       0\n",
      "creatSize_video_complete    0\n",
      "creatSize_vtr               0\n",
      "creatType_video_start       0\n",
      "creatType_video_complete    0\n",
      "creatType_vtr               0\n",
      "deviceOs_video_start        0\n",
      "deviceOs_video_complete     0\n",
      "deviceOs_vtr                0\n",
      "domain_video_start          0\n",
      "domain_video_complete       0\n",
      "domain_vtr                  0\n",
      "tsHour_video_start          0\n",
      "tsHour_video_complete       0\n",
      "tsHour_vtr                  0\n",
      "tsDow_video_start           0\n",
      "tsDow_video_complete        0\n",
      "tsDow_vtr                   0\n",
      "dtype: int64\n"
     ]
    }
   ],
   "source": [
    "print(\"TRAINING\\n\",df_train.isnull().sum(),\"\\n\\n\",\"TEST\",df_test.isnull().sum())"
   ]
  },
  {
   "cell_type": "code",
   "execution_count": 10,
   "id": "aa17340d",
   "metadata": {},
   "outputs": [],
   "source": [
    "#We fill the corresponding missing values. As the domain function is categorical,\n",
    "#we introduce the value \"missing\" for the null values\n",
    "df_train.fillna(\"missing\",inplace=True)\n",
    "df_test.fillna(\"missing\",inplace=True)"
   ]
  },
  {
   "cell_type": "code",
   "execution_count": 11,
   "id": "6a8426ee",
   "metadata": {},
   "outputs": [],
   "source": [
    "# We define app type, domain, device and time variables as categorical \n",
    "cat_cols = df_test.columns[:7]\n",
    "# The rest are continuous variables\n",
    "cont_cols = df_test.columns[7:]"
   ]
  },
  {
   "cell_type": "code",
   "execution_count": 12,
   "id": "e66cc1b8",
   "metadata": {},
   "outputs": [],
   "source": [
    "# We define them as categories using the pandas definition\n",
    "for cat_col in cat_cols: \n",
    "    df_train[cat_col] = df_train[cat_col].astype(\"category\")\n",
    "    df_test[cat_col] = df_test[cat_col].astype(\"category\")"
   ]
  },
  {
   "cell_type": "code",
   "execution_count": 13,
   "id": "cc82e3ad",
   "metadata": {},
   "outputs": [],
   "source": [
    "# Both for training and test, we code the values in the categorical values with integer numbers\n",
    "cat_train = np.stack([df_train[cat_col].cat.codes.values for cat_col in cat_cols],1)\n",
    "cat_test = np.stack([df_test[cat_col].cat.codes.values for cat_col in cat_cols],1)\n",
    "\n",
    "# And convert them into tensors\n",
    "cat_train = torch.tensor(cat_train,dtype=torch.int64)\n",
    "cat_test = torch.tensor(cat_test,dtype=torch.int64)"
   ]
  },
  {
   "cell_type": "code",
   "execution_count": 14,
   "id": "863baa58",
   "metadata": {},
   "outputs": [],
   "source": [
    "# We create the correspondent numpy arrays for the columns with continuous variables\n",
    "cont_train = np.stack([df_train[col].values for col in cont_cols], 1)\n",
    "cont_train = torch.tensor(cont_train, dtype=torch.float)\n",
    "\n",
    "# And convert them into tensors\n",
    "cont_test = np.stack([df_test[col].values for col in cont_cols], 1)\n",
    "cont_test = torch.tensor(cont_test, dtype=torch.float)"
   ]
  },
  {
   "cell_type": "code",
   "execution_count": 15,
   "id": "e51d3451",
   "metadata": {},
   "outputs": [
    {
     "data": {
      "image/png": "[encoded data removed]",
      "text/plain": [
       "<Figure size 432x288 with 1 Axes>"
      ]
     },
     "metadata": {
      "needs_background": "light"
     },
     "output_type": "display_data"
    }
   ],
   "source": [
    "# We plot the distribution of the target variable in the training set, to see how to analyze the problem\n",
    "plt.hist(df_train[\"VTR\"],bins=101);"
   ]
  },
  {
   "cell_type": "markdown",
   "id": "f3c813ba",
   "metadata": {},
   "source": [
    "<p>As we can see, we have some values (1,0, 0.5) that predominate among all the possible values. Given this multimodal distribution, we analyze the problem as a classification one. We will consider 50 possible categories, corresponding to the 50 most populated values, and an alternative value for the rest of the values.</p>"
   ]
  },
  {
   "cell_type": "code",
   "execution_count": 16,
   "id": "7076e13f",
   "metadata": {},
   "outputs": [],
   "source": [
    "# We create a dictionary of the 50 most populated values\n",
    "# The keys of the dictionary are these most populated values, and they map to a range(50)\n",
    "dic_values = {v:i for i,v in enumerate(df_train[\"VTR\"].value_counts().head(50).index)}\n",
    "\n",
    "# We map the dictionary into the target variable of the training dataset\n",
    "# We also assign an extra category (51) to the ones that are not in the 50 most popular\n",
    "y_values = df_train[\"VTR\"].map(dic_values).fillna(len(dic_values)+1).values\n",
    "\n",
    "# We make it a tensor\n",
    "y_train = torch.tensor(y_values, dtype=torch.int64)"
   ]
  },
  {
   "cell_type": "markdown",
   "id": "16d3dff3",
   "metadata": {},
   "source": [
    "<p>The data to train the neural network is ready. At these point, we proceed to create the neural network mode. For the categorical variables we will create an embedding layer, so we need to define the embedding size. An usual rule of thumb is considering the minimum between the half of the categories and 50.</p>"
   ]
  },
  {
   "cell_type": "code",
   "execution_count": 17,
   "id": "b6d1309e",
   "metadata": {},
   "outputs": [],
   "source": [
    "# We get the sizes of the categorical columns\n",
    "cat_szs = [len(df_train[col].cat.categories) for col in cat_cols]\n",
    "# We compute the embedding sizes\n",
    "emb_szs = [(size, min(50, (size+1)//2)) for size in cat_szs]"
   ]
  },
  {
   "cell_type": "markdown",
   "id": "076f06bb",
   "metadata": {},
   "source": [
    "<p>In the following, we define the model. We present now a brief summary: </p><br>\n",
    "<ul>\n",
    "    <li>Initialize method: This neural network needs some parameters to be initialized: the embedding sizes(<code>emb_szs</code>), the number of continuous variables (<code>n_cont</code>), the dimension of the output (<code>out_sz</code>), the size of the layers (<code>layers</code>), and the probability for the dropout (<code>p</code>). Now, we proceed to explain the instance attributes: </li>\n",
    "    <ul>\n",
    "        <li> <code>self.embeds</code>: a list of embedding modules. These modules translate reduces the dimensionality of the input categorical data.\n",
    "        <li> <code>self.emb_drop</code>: a dropout layer to avoid overfitting in the categorical data.\n",
    "        <li> <code>self.bn_cont</code>: a normalization layer for the continuous data.\n",
    "        <li> <code>self.layers</code>: the layers of our NN. These layers are composed of building blocks of a certain size (given in the <code>__init__</code>), and contain a linear layer, an activation layer (with a rectified linear unit), a normalization layer and a dropout layer. At the end of these building blocks, we include a linear layer that translates the output of the building blocks to the one defined in <code>out_sz</code>. \n",
    "    </ul>\n",
    "    <li>Forward method: This method defines the propagation of the data inside the network. Here we can differentiate the categorical and the continuous variables.</li>\n",
    "    <ul>\n",
    "        <li>Categorical variables: Each categorical variable goes through an embedding layer, that reduces it dimensionality. After that, they are pushed through a dropout layer.  </li>\n",
    "        <li>Continuous variables: We just apply a normalization.</li>\n",
    "        <li>Once we have these steps, we group categorical and continuous variables, and push them throughout all the layers.</li>\n",
    "    </ul>\n",
    "</ul>"
   ]
  },
  {
   "cell_type": "code",
   "execution_count": 18,
   "id": "7476bfb8",
   "metadata": {},
   "outputs": [],
   "source": [
    "class TabularModel(nn.Module):\n",
    "\n",
    "    def __init__(self, emb_szs, n_cont, out_sz, layers, p=0.5):\n",
    "        # Inherting from nn.Module the basic functionality\n",
    "        super().__init__()\n",
    "        # Embedding list\n",
    "        self.embeds = nn.ModuleList([nn.Embedding(ni, nf) for ni,nf in emb_szs])\n",
    "        # Dropout layer\n",
    "        self.emb_drop = nn.Dropout(p)\n",
    "        # Normalization layer\n",
    "        self.bn_cont = nn.BatchNorm1d(n_cont)\n",
    "        \n",
    "        layerlist = []\n",
    "        #Calculating the global input dimension\n",
    "        n_emb = sum((nf for ni,nf in emb_szs))\n",
    "        n_in = n_emb + n_cont\n",
    "        #Each of the building blocks\n",
    "        for i in layers:\n",
    "            layerlist.append(nn.Linear(n_in,i)) \n",
    "            layerlist.append(nn.ReLU(inplace=True))\n",
    "            layerlist.append(nn.BatchNorm1d(i))\n",
    "            layerlist.append(nn.Dropout(p))\n",
    "            n_in = i\n",
    "        layerlist.append(nn.Linear(layers[-1],out_sz))\n",
    "\n",
    "        #Sequential constructon of the NN    \n",
    "        self.layers = nn.Sequential(*layerlist)\n",
    "        \n",
    "    \n",
    "    def forward(self, x_cat, x_cont):\n",
    "        embeddings = []\n",
    "        #Passing the categorical variables to the embeddings\n",
    "        for i,e in enumerate(self.embeds):\n",
    "            embeddings.append(e(x_cat[:,i]))\n",
    "        # Putting all the categorical embeddings together\n",
    "        x = torch.cat(embeddings, 1)\n",
    "        # Applying dropout\n",
    "        x = self.emb_drop(x)\n",
    "        # Applying normalization\n",
    "        x_cont = self.bn_cont(x_cont)\n",
    "        #Reuniting categorical and continuous\n",
    "        x = torch.cat([x, x_cont], 1)\n",
    "        #Passing through the layers\n",
    "        x = self.layers(x)\n",
    "        return x"
   ]
  },
  {
   "cell_type": "code",
   "execution_count": 19,
   "id": "70247271",
   "metadata": {},
   "outputs": [],
   "source": [
    "# Set a random seed to have reproducible results\n",
    "torch.manual_seed(42)\n",
    "# Create an instance of the model\n",
    "model = TabularModel(emb_szs, cont_train.shape[1], 100, [200,100,50], p=0.4)"
   ]
  },
  {
   "cell_type": "code",
   "execution_count": 20,
   "id": "b1614ee3",
   "metadata": {},
   "outputs": [],
   "source": [
    "# Set the loss function to CrossEntropyLoss, given the problem\n",
    "criterion = nn.CrossEntropyLoss() \n",
    "# Adam optimizer\n",
    "optimizer = torch.optim.Adam(model.parameters(), lr=0.001)"
   ]
  },
  {
   "cell_type": "code",
   "execution_count": 21,
   "id": "d44ec780",
   "metadata": {},
   "outputs": [
    {
     "name": "stdout",
     "output_type": "stream",
     "text": [
      "epoch:   1  loss: 2.20177484\n",
      "epoch:  26  loss: 2.04188585\n",
      "epoch:  51  loss: 1.90299428\n",
      "epoch:  76  loss: 1.79784226\n",
      "epoch: 101  loss: 1.71253765\n",
      "epoch: 126  loss: 1.64345884\n",
      "epoch: 151  loss: 1.57701349\n",
      "epoch: 176  loss: 1.52701628\n",
      "epoch: 201  loss: 1.48741066\n",
      "epoch: 226  loss: 1.45470214\n",
      "epoch: 251  loss: 1.44030452\n",
      "epoch: 276  loss: 1.41859996\n",
      "epoch: 301  loss: 1.39844286\n",
      "epoch: 326  loss: 1.39045930\n",
      "epoch: 351  loss: 1.38114631\n",
      "epoch: 376  loss: 1.37125146\n",
      "epoch: 401  loss: 1.36620009\n",
      "epoch: 426  loss: 1.35862172\n",
      "epoch: 451  loss: 1.35217512\n",
      "epoch: 476  loss: 1.34759033\n",
      "epoch: 500  loss: 1.33912647\n",
      "\n",
      "Duration: 39 seconds\n"
     ]
    }
   ],
   "source": [
    "# We import time to time the evolution\n",
    "import time\n",
    "start_time = time.time()\n",
    "\n",
    "#Set the epochs\n",
    "epochs = 500\n",
    "#The losses list will contain the loss for different epochs\n",
    "losses = []\n",
    "\n",
    "for i in range(epochs):\n",
    "    i+=1 #For printing purposes\n",
    "    y_pred = model(cat_train, cont_train) #Pass the train data\n",
    "    loss = torch.sqrt(criterion(y_pred, y_train)) # Compute the loss\n",
    "    losses.append(loss.item()) # Append the loss\n",
    "    \n",
    "    if i%25 == 1:\n",
    "        #Some printing\n",
    "        print(f'epoch: {i:3}  loss: {loss.item():10.8f}')\n",
    "    \n",
    "    optimizer.zero_grad() #Avoid gradient accumulation\n",
    "    loss.backward() #Backpropagation of the error\n",
    "    optimizer.step() #Parameter update based on gradient\n",
    "\n",
    "print(f'epoch: {i:3}  loss: {loss.item():10.8f}') # print the last line\n",
    "print(f'\\nDuration: {time.time() - start_time:.0f} seconds') # print the time elapsed"
   ]
  },
  {
   "cell_type": "code",
   "execution_count": 22,
   "id": "0d9544b0",
   "metadata": {},
   "outputs": [
    {
     "data": {
      "image/png": "[encoded data removed]",
      "text/plain": [
       "<Figure size 432x288 with 1 Axes>"
      ]
     },
     "metadata": {
      "needs_background": "light"
     },
     "output_type": "display_data"
    }
   ],
   "source": [
    "#Visualize training\n",
    "plt.plot(range(epochs), losses)\n",
    "plt.ylabel('CrossEntropy Loss')\n",
    "plt.xlabel('epoch');"
   ]
  },
  {
   "cell_type": "code",
   "execution_count": 23,
   "id": "dd99e18c",
   "metadata": {},
   "outputs": [],
   "source": [
    "# Compute the predicted values for the test set\n",
    "with torch.no_grad():\n",
    "    y_test = model(cat_test, cont_test).argmax(axis=1) \n",
    "\n",
    "# Create a series with the numpy array \n",
    "# Translate the values to the original ones given the reverse dictionary \n",
    "predicted = pd.Series(y_test.numpy()).map({v:k for k,v in dic_values.items()})\n",
    "# Assign a random uniform number between 0 and 1 for the values that are not in the top 50 most populated \n",
    "predicted = predicted.apply(lambda l: l if not np.isnan(l) else np.random.uniform(0,1))"
   ]
  },
  {
   "cell_type": "code",
   "execution_count": 24,
   "id": "1bfa6d22",
   "metadata": {},
   "outputs": [
    {
     "data": {
      "text/plain": [
       "<matplotlib.legend.Legend at 0x7efb5dee7a30>"
      ]
     },
     "execution_count": 24,
     "metadata": {},
     "output_type": "execute_result"
    },
    {
     "data": {
      "image/png": "[encoded data removed]",
      "text/plain": [
       "<Figure size 432x288 with 1 Axes>"
      ]
     },
     "metadata": {
      "needs_background": "light"
     },
     "output_type": "display_data"
    }
   ],
   "source": [
    "#Visualize difference in distribution between predicted test set and label in training set\n",
    "predicted.plot(kind=\"hist\",alpha=.5,bins=51,density = True,label =\"Predicted test set\");\n",
    "df_train[\"VTR\"].plot(kind=\"hist\",alpha=.5,bins=51,density=True,label=\"Train set label\");\n",
    "plt.legend()"
   ]
  },
  {
   "cell_type": "code",
   "execution_count": 27,
   "id": "2bfd8552",
   "metadata": {},
   "outputs": [],
   "source": [
    "# Use pandas to save to a .csv the entire test set\n",
    "df_test[\"predicted_VTR\"] = predicted\n",
    "df_test.to_csv(\"Predictions.csv\")"
   ]
  },
  {
   "cell_type": "code",
   "execution_count": null,
   "id": "ca103991",
   "metadata": {},
   "outputs": [],
   "source": []
  }
 ],
 "metadata": {
  "kernelspec": {
   "display_name": "Python 3 (ipykernel)",
   "language": "python",
   "name": "python3"
  },
  "language_info": {
   "codemirror_mode": {
    "name": "ipython",
    "version": 3
   },
   "file_extension": ".py",
   "mimetype": "text/x-python",
   "name": "python",
   "nbconvert_exporter": "python",
   "pygments_lexer": "ipython3",
   "version": "3.10.6"
  }
 },
 "nbformat": 4,
 "nbformat_minor": 5
}
