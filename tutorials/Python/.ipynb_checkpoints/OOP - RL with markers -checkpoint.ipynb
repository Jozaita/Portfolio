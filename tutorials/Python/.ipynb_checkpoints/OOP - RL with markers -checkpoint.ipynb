{
 "cells": [
  {
   "cell_type": "markdown",
   "id": "df3dd1de",
   "metadata": {},
   "source": [
    "### RL without markers"
   ]
  },
  {
   "cell_type": "code",
   "execution_count": 1,
   "id": "7d8a64ac",
   "metadata": {},
   "outputs": [],
   "source": [
    "import numpy as np\n",
    "import pandas as pd\n",
    "import matplotlib.pyplot as plt\n",
    "import seaborn as sns"
   ]
  },
  {
   "cell_type": "code",
   "execution_count": 5,
   "id": "0b9f5e7c",
   "metadata": {},
   "outputs": [],
   "source": [
    "class Agent():\n",
    "    def __init__(self,n_predictors,marker,aspiration):\n",
    "        self.prob_vector = np.random.rand(n_predictors-1)\n",
    "        self.marker = marker\n",
    "        self.aspiration = aspiration\n",
    "        self.action = None\n",
    "        self.stimulus = None\n",
    "        self.outcome = None\n",
    "        self.label = label\n",
    "        \n",
    "    def update_vector(self):\n",
    "        lr = 10e-2\n",
    "        ##again, this is for binary, have to be rewritten for other purposes: \n",
    "        if self.stimulus > 0:\n",
    "            if self.action == 0 :\n",
    "                self.prob_vector[0] += (1-self.prob_vector[0])*lr*self.stimulus\n",
    "            else:\n",
    "                self.prob_vector[0] *= (1-lr*self.stimulus) \n",
    "        elif self.stimulus < 0:\n",
    "            if self.action == 0 :\n",
    "                self.prob_vector[0] += self.prob_vector[0]*lr*self.stimulus\n",
    "            else:\n",
    "                self.prob_vector[0] -= (1-self.prob_vector[0])*lr*self.stimulus\n",
    "        \n",
    "        if self.prob_vector[0] > 1:\n",
    "            self.prob_vector[0] = 1\n",
    "        if self.prob_vector[0] < 0:\n",
    "            self.prob_vector[0] = 0"
   ]
  },
  {
   "cell_type": "code",
   "execution_count": 6,
   "id": "34854b22",
   "metadata": {},
   "outputs": [],
   "source": [
    "class Population():\n",
    "    def __init__(self,n_agents,e):\n",
    "        self.n_agents = n_agents\n",
    "        #self.payoff_matrix = payoff_matrix\n",
    "        self.e = e\n",
    "    \n",
    "    def add_agents(self,n_predictors,marker_list,aspiration_list):\n",
    "        self.list_agents = [Agent(n_predictors,marker_list[i],aspiration_list[i]) for i in range(self.n_agents)]\n",
    "        \n",
    "    def interaction(self):\n",
    "        #########introducing_marker_interaction\n",
    "        if np.random.uniform() < e:\n",
    "            ##Marked\n",
    "            #f_s = feature_selection\n",
    "            f_s = np.random.choice(len(marker))\n",
    "            pair_agents = np.random.choice([x for x in popula.list_agents if x.marker[f_s] == np.random.randint(0,2)],2,replace=False)\n",
    "        else:\n",
    "        #########\n",
    "            pair_agents = np.random.choice(popula.list_agents,2,replace=False)\n",
    "        for agent in pair_agents:\n",
    "            ## For binary classification, here it should be included a multiclass \n",
    "            ###################Action given probability vector###################\n",
    "            ###############################just_here##############################\n",
    "            agent.action = int(np.random.uniform() > agent.prob_vector[0])#La buena es la 0\n",
    "        payoff_matrix = np.zeros((2,2))-1 \n",
    "        payoff_matrix[pair_agents[0].label,pair_agents[1].label] = 1\n",
    "        for i,agent in enumerate(pair_agents):\n",
    "            agent.outcome = self.payoff_matrix[pair_agents[i].action,pair_agents[abs(i-1)].action]\n",
    "            numerator = agent.outcome - agent.aspiration\n",
    "            denominator = max(abs(self.payoff_matrix.flatten()-agent.aspiration))\n",
    "            agent.stimulus = numerator/denominator\n",
    "            agent.update_vector()"
   ]
  },
  {
   "cell_type": "code",
   "execution_count": 20,
   "id": "4bbc83d2",
   "metadata": {},
   "outputs": [
    {
     "data": {
      "text/plain": [
       "<ErrorbarContainer object of 3 artists>"
      ]
     },
     "execution_count": 20,
     "metadata": {},
     "output_type": "execute_result"
    },
    {
     "data": {
      "image/png": "[encoded data removed]",
      "text/plain": [
       "<Figure size 432x288 with 1 Axes>"
      ]
     },
     "metadata": {
      "needs_background": "light"
     },
     "output_type": "display_data"
    }
   ],
   "source": [
    "n_agents = 100\n",
    "e = 0.5\n",
    "#payoff_matrix = np.eye(2)/2+1\n",
    "payoff_matrix = np.array([[-1,-1],[-1,1]])\n",
    "aspiration_list = np.zeros(n_agents)\n",
    "marker_list = np.random.randint(0,2,size = n_agents)\n",
    "popula = Population(n_agents,payoff_matrix,e)\n",
    "popula.add_agents(2,marker_list,aspiration_list)\n",
    "evol = []\n",
    "evol_2 = []\n",
    "i = 0\n",
    "for i in range(250*n_agents):\n",
    "    popula.interaction()\n",
    "    if i%(n_agents*5) == 0:\n",
    "        evol.append(np.mean([x.prob_vector[0] for x in popula.list_agents]))\n",
    "        evol_2.append(np.std([x.prob_vector[0] for x in popula.list_agents]))\n",
    "plt.errorbar(range(len(evol)),evol,yerr=evol_2)"
   ]
  },
  {
   "cell_type": "code",
   "execution_count": 118,
   "id": "724c5d74",
   "metadata": {},
   "outputs": [],
   "source": [
    "from sklearn.datasets import load_breast_cancer\n",
    "from sklearn.preprocessing import MinMaxScaler"
   ]
  },
  {
   "cell_type": "code",
   "execution_count": 119,
   "id": "6ea6a7ea",
   "metadata": {},
   "outputs": [
    {
     "data": {
      "text/plain": [
       "MinMaxScaler()"
      ]
     },
     "execution_count": 119,
     "metadata": {},
     "output_type": "execute_result"
    }
   ],
   "source": [
    "cancer = load_breast_cancer()\n",
    "sc = MinMaxScaler()\n",
    "sc.fit(cancer[\"data\"])"
   ]
  },
  {
   "cell_type": "code",
   "execution_count": 120,
   "id": "a25d8bdb",
   "metadata": {},
   "outputs": [],
   "source": [
    "cancer_data = []\n",
    "for i in range(len(cancer[\"data\"])):\n",
    "    cancer_data.append(np.around(np.tanh(sc.transform([cancer[\"data\"][i]]))))\n",
    "cancer_data = np.array(cancer_data).squeeze()"
   ]
  },
  {
   "cell_type": "code",
   "execution_count": 121,
   "id": "970528de",
   "metadata": {},
   "outputs": [
    {
     "data": {
      "text/plain": [
       "array([[0., 0., 0., ..., 1., 1., 0.],\n",
       "       [1., 0., 1., ..., 1., 0., 0.],\n",
       "       [1., 0., 1., ..., 1., 0., 0.],\n",
       "       ...,\n",
       "       [0., 1., 0., ..., 0., 0., 0.],\n",
       "       [1., 1., 1., ..., 1., 0., 0.],\n",
       "       [0., 0., 0., ..., 0., 0., 0.]])"
      ]
     },
     "execution_count": 121,
     "metadata": {},
     "output_type": "execute_result"
    }
   ],
   "source": [
    "cancer_data[0]"
   ]
  },
  {
   "cell_type": "code",
   "execution_count": null,
   "id": "7052b1f8",
   "metadata": {},
   "outputs": [],
   "source": []
  }
 ],
 "metadata": {
  "kernelspec": {
   "display_name": "Python 3 (ipykernel)",
   "language": "python",
   "name": "python3"
  },
  "language_info": {
   "codemirror_mode": {
    "name": "ipython",
    "version": 3
   },
   "file_extension": ".py",
   "mimetype": "text/x-python",
   "name": "python",
   "nbconvert_exporter": "python",
   "pygments_lexer": "ipython3",
   "version": "3.8.10"
  }
 },
 "nbformat": 4,
 "nbformat_minor": 5
}
