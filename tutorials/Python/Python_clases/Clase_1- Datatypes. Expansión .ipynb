{
 "cells": [
  {
   "cell_type": "markdown",
   "id": "3ba2fbb5",
   "metadata": {},
   "source": [
    "### Datatypes"
   ]
  },
  {
   "cell_type": "markdown",
   "id": "7ffc07fa",
   "metadata": {},
   "source": [
    "Tipos de datos: \n",
    "* Números: int (enteros), float (números con precisión decimal), estos últimos son los que maneja numpy.\n",
    "* Strings: iterables de caracteres ASCII \n",
    "* Listas: iterables de diferentes conjuntos de datos. Son mutables. \n",
    "* Diccionarios: iterables no asignables por posición, si no por una palabra clave. \n",
    "* Tuples: iterables de diferentes conjuntos de datos. Son inmutables. Muy usados en el desempaquetado de valores en funciones. \n",
    "* Sets: Conjuntos, dónde todos los elementos son únicos. \n",
    "* Booleanos: True/False, resultado de operaciones lógicas. Python entiende además de True/false, entiende 0/1, \"\", \"hola\"\n"
   ]
  },
  {
   "cell_type": "markdown",
   "id": "c5a2865c",
   "metadata": {},
   "source": [
    "### Números\n",
    "\n",
    "Más allá de las operaciones aritméticas normales..."
   ]
  },
  {
   "cell_type": "markdown",
   "id": "f604656c",
   "metadata": {},
   "source": [
    "#### División entera contra división float"
   ]
  },
  {
   "cell_type": "code",
   "execution_count": 10,
   "id": "d3c53112",
   "metadata": {},
   "outputs": [
    {
     "name": "stdout",
     "output_type": "stream",
     "text": [
      "División Float:\n",
      "1.1666666666666667\n",
      "División Entera : \n",
      "1\n"
     ]
    }
   ],
   "source": [
    "# En python 3 se hace de la siguiente manera, los operadores están alterados en el caso de Python 2 \n",
    "print(\"División Float:\")\n",
    "print(7/6)\n",
    "print(\"División Entera : \")\n",
    "print(7//6)"
   ]
  },
  {
   "cell_type": "markdown",
   "id": "13f18f89",
   "metadata": {},
   "source": [
    "#### Operador módulo \n",
    "\n",
    "Indica el resto de la operación, junto con la división entera, uno puede tener todos los elementos de una división tradicional. "
   ]
  },
  {
   "cell_type": "code",
   "execution_count": 13,
   "id": "158361a7",
   "metadata": {},
   "outputs": [
    {
     "data": {
      "text/plain": [
       "0"
      ]
     },
     "execution_count": 13,
     "metadata": {},
     "output_type": "execute_result"
    }
   ],
   "source": [
    "10%2"
   ]
  },
  {
   "cell_type": "markdown",
   "id": "7ec99e06",
   "metadata": {},
   "source": [
    "#### Pow() vs **\n",
    "\n",
    "Una diferencia de velocidad"
   ]
  },
  {
   "cell_type": "code",
   "execution_count": 15,
   "id": "c7c6eb4d",
   "metadata": {},
   "outputs": [
    {
     "name": "stdout",
     "output_type": "stream",
     "text": [
      "Función prehecha en Python:\n",
      "4096\n",
      "Exponenciación corriente:\n",
      "8\n"
     ]
    }
   ],
   "source": [
    "print(\"Función prehecha en Python:\")\n",
    "print(pow(2,12))\n",
    "print(\"Exponenciación corriente:\")\n",
    "print(2**3)"
   ]
  },
  {
   "cell_type": "markdown",
   "id": "9c314260",
   "metadata": {},
   "source": [
    "Las funciones prehechas están descritas en la librería estándar de Python. Son para casos muy usados, y a la hora de crear variables es preciso evitar estas palabras clave, que son funciones predefinidas. "
   ]
  },
  {
   "cell_type": "markdown",
   "id": "ab0152e6",
   "metadata": {},
   "source": [
    "### Otros ejemplos : valor absoluto y redondeo "
   ]
  },
  {
   "cell_type": "code",
   "execution_count": 14,
   "id": "7b2c0a3d",
   "metadata": {},
   "outputs": [
    {
     "data": {
      "text/plain": [
       "3.14"
      ]
     },
     "execution_count": 14,
     "metadata": {},
     "output_type": "execute_result"
    }
   ],
   "source": [
    "abs(-3.14)"
   ]
  },
  {
   "cell_type": "code",
   "execution_count": 25,
   "id": "af074817",
   "metadata": {},
   "outputs": [],
   "source": [
    "import numpy as np\n",
    "\n",
    "round(np.pi,2)\n",
    "#np.ceil(4.7)"
   ]
  },
  {
   "cell_type": "markdown",
   "id": "7ffbeb78",
   "metadata": {},
   "source": [
    "#### Tipos raros de números  "
   ]
  },
  {
   "cell_type": "markdown",
   "id": "5d6820e8",
   "metadata": {},
   "source": [
    " * Hexadecimales, números con base 16 "
   ]
  },
  {
   "cell_type": "code",
   "execution_count": 12,
   "id": "3b2950d2",
   "metadata": {},
   "outputs": [
    {
     "data": {
      "text/plain": [
       "'0x10'"
      ]
     },
     "execution_count": 12,
     "metadata": {},
     "output_type": "execute_result"
    }
   ],
   "source": [
    "hex(16)"
   ]
  },
  {
   "cell_type": "markdown",
   "id": "4da692f7",
   "metadata": {},
   "source": [
    " * Binarios"
   ]
  },
  {
   "cell_type": "code",
   "execution_count": 27,
   "id": "07bcab75",
   "metadata": {},
   "outputs": [
    {
     "data": {
      "text/plain": [
       "'0b10'"
      ]
     },
     "execution_count": 27,
     "metadata": {},
     "output_type": "execute_result"
    }
   ],
   "source": [
    "bin(2)"
   ]
  },
  {
   "cell_type": "markdown",
   "id": "f802b7e0",
   "metadata": {},
   "source": [
    "### Strings"
   ]
  },
  {
   "cell_type": "markdown",
   "id": "b2cccf45",
   "metadata": {},
   "source": [
    "* Son un conjunto ordenado de caracteres y, por lo tanto tienen longitud. "
   ]
  },
  {
   "cell_type": "code",
   "execution_count": 30,
   "id": "bd24ebad",
   "metadata": {},
   "outputs": [
    {
     "data": {
      "text/plain": [
       "4"
      ]
     },
     "execution_count": 30,
     "metadata": {},
     "output_type": "execute_result"
    }
   ],
   "source": [
    "len(\"HOLA\")"
   ]
  },
  {
   "cell_type": "markdown",
   "id": "90cb5e39",
   "metadata": {},
   "source": [
    " * Se puede acceder a cualquiera de sus elementos, y cortarlas por cualquier lugar "
   ]
  },
  {
   "cell_type": "code",
   "execution_count": 23,
   "id": "6458ff2d",
   "metadata": {},
   "outputs": [
    {
     "name": "stdout",
     "output_type": "stream",
     "text": [
      "tal\n",
      "Q\n"
     ]
    }
   ],
   "source": [
    "print(\"Qué tal todo\"[4:7])\n",
    "print(\"Qué tal todo\"[0])"
   ]
  },
  {
   "cell_type": "markdown",
   "id": "85b5c31f",
   "metadata": {},
   "source": [
    "### Propiedades"
   ]
  },
  {
   "cell_type": "markdown",
   "id": "be060e07",
   "metadata": {},
   "source": [
    "Concatenación "
   ]
  },
  {
   "cell_type": "code",
   "execution_count": 31,
   "id": "72cae720",
   "metadata": {},
   "outputs": [
    {
     "data": {
      "text/plain": [
       "'hola todo bien ? '"
      ]
     },
     "execution_count": 31,
     "metadata": {},
     "output_type": "execute_result"
    }
   ],
   "source": [
    "s = \"hola\"\n",
    "s + ' todo bien ? '"
   ]
  },
  {
   "cell_type": "markdown",
   "id": "5ae6094a",
   "metadata": {},
   "source": [
    "Creación rápida, de la misma manera que arrays o listas"
   ]
  },
  {
   "cell_type": "code",
   "execution_count": 32,
   "id": "5e483d4f",
   "metadata": {},
   "outputs": [
    {
     "data": {
      "text/plain": [
       "'a a a a a a a a a a a a a a a '"
      ]
     },
     "execution_count": 32,
     "metadata": {},
     "output_type": "execute_result"
    }
   ],
   "source": [
    "\"a \"*15"
   ]
  },
  {
   "cell_type": "markdown",
   "id": "c2bd4575",
   "metadata": {},
   "source": [
    "### Métodos "
   ]
  },
  {
   "cell_type": "code",
   "execution_count": 33,
   "id": "0cd23e3d",
   "metadata": {},
   "outputs": [
    {
     "name": "stdout",
     "output_type": "stream",
     "text": [
      "HOLA\n"
     ]
    }
   ],
   "source": [
    "print(s.upper())"
   ]
  },
  {
   "cell_type": "code",
   "execution_count": 34,
   "id": "5535f494",
   "metadata": {},
   "outputs": [
    {
     "name": "stdout",
     "output_type": "stream",
     "text": [
      "hola\n"
     ]
    }
   ],
   "source": [
    "print(s.lower())"
   ]
  },
  {
   "cell_type": "code",
   "execution_count": 36,
   "id": "f93bf225",
   "metadata": {},
   "outputs": [
    {
     "name": "stdout",
     "output_type": "stream",
     "text": [
      "['h', 'la mund', '']\n"
     ]
    }
   ],
   "source": [
    "s = \"hola mundo\"\n",
    "print(s.split(\"o\"))"
   ]
  },
  {
   "cell_type": "code",
   "execution_count": 37,
   "id": "810e93bf",
   "metadata": {},
   "outputs": [
    {
     "name": "stdout",
     "output_type": "stream",
     "text": [
      "Hola mundo\n"
     ]
    }
   ],
   "source": [
    "print(s.capitalize())"
   ]
  },
  {
   "cell_type": "markdown",
   "id": "5c277c0b",
   "metadata": {},
   "source": [
    "### Listas"
   ]
  },
  {
   "cell_type": "markdown",
   "id": "18d391c5",
   "metadata": {},
   "source": [
    "Métodos para listas "
   ]
  },
  {
   "cell_type": "markdown",
   "id": "efdfa6c0",
   "metadata": {},
   "source": [
    ".append: añadir elementos al final "
   ]
  },
  {
   "cell_type": "code",
   "execution_count": 42,
   "id": "10aff5bf",
   "metadata": {},
   "outputs": [],
   "source": [
    "list1 = [1,\"hola mundo\",{1:3,2:\"que pasa\"}]"
   ]
  },
  {
   "cell_type": "code",
   "execution_count": 49,
   "id": "cb2be5f0",
   "metadata": {},
   "outputs": [
    {
     "data": {
      "text/plain": [
       "[43, 'hola mundo', {1: 3, 2: 'que pasa'}, 4]"
      ]
     },
     "execution_count": 49,
     "metadata": {},
     "output_type": "execute_result"
    }
   ],
   "source": [
    "list1[0] = 43\n",
    "list1"
   ]
  },
  {
   "cell_type": "code",
   "execution_count": 46,
   "id": "3f78e662",
   "metadata": {},
   "outputs": [
    {
     "data": {
      "text/plain": [
       "[1, 'hola mundo', {1: 3, 2: 'que pasa'}, 4]"
      ]
     },
     "execution_count": 46,
     "metadata": {},
     "output_type": "execute_result"
    }
   ],
   "source": [
    "list1.append(4)\n",
    "\n",
    "list1"
   ]
  },
  {
   "cell_type": "markdown",
   "id": "bd3c290c",
   "metadata": {},
   "source": [
    ".extend: añadir listas nuevas "
   ]
  },
  {
   "cell_type": "code",
   "execution_count": 51,
   "id": "a930c526",
   "metadata": {},
   "outputs": [],
   "source": [
    "list1.append([5,6])\n"
   ]
  },
  {
   "cell_type": "code",
   "execution_count": 66,
   "id": "fb81bf38",
   "metadata": {},
   "outputs": [
    {
     "name": "stdout",
     "output_type": "stream",
     "text": [
      "[1, 2, 3, 4, 'hola']\n"
     ]
    }
   ],
   "source": [
    "x = [1, 2, 3]\n",
    "x.extend([4, \"hola\"])\n",
    "print(x)"
   ]
  },
  {
   "cell_type": "markdown",
   "id": "28d6c9ae",
   "metadata": {},
   "source": [
    ".insert: añadir elemento en una posición concreta "
   ]
  },
  {
   "cell_type": "code",
   "execution_count": 67,
   "id": "9900284d",
   "metadata": {},
   "outputs": [
    {
     "data": {
      "text/plain": [
       "[-1, 1, 2, 3, 4, 'hola']"
      ]
     },
     "execution_count": 67,
     "metadata": {},
     "output_type": "execute_result"
    }
   ],
   "source": [
    "x.insert(0,-1)\n",
    "x"
   ]
  },
  {
   "cell_type": "markdown",
   "id": "3e8e709f",
   "metadata": {},
   "source": [
    ".index: devuelve el índice de los elementos "
   ]
  },
  {
   "cell_type": "code",
   "execution_count": 68,
   "id": "290eddda",
   "metadata": {},
   "outputs": [
    {
     "data": {
      "text/plain": [
       "0"
      ]
     },
     "execution_count": 68,
     "metadata": {},
     "output_type": "execute_result"
    }
   ],
   "source": [
    "x.index(-1)"
   ]
  },
  {
   "cell_type": "markdown",
   "id": "dde13982",
   "metadata": {},
   "source": [
    ".pop: elimina un elemento de la lista y lo asigna a una variable "
   ]
  },
  {
   "cell_type": "code",
   "execution_count": 70,
   "id": "484ee4c1",
   "metadata": {},
   "outputs": [
    {
     "name": "stdout",
     "output_type": "stream",
     "text": [
      "hola\n",
      "\n",
      "\n",
      "[-1, 1, 2, 3, 4]\n"
     ]
    }
   ],
   "source": [
    "el = x.pop(5)\n",
    "print(el)\n",
    "print(\"\\n\")\n",
    "print(x)"
   ]
  },
  {
   "cell_type": "code",
   "execution_count": 74,
   "id": "d3e6244c",
   "metadata": {},
   "outputs": [],
   "source": [
    "x.remove(1)"
   ]
  },
  {
   "cell_type": "code",
   "execution_count": 85,
   "id": "f750c8fa",
   "metadata": {},
   "outputs": [
    {
     "data": {
      "text/plain": [
       "[4, 3, 2]"
      ]
     },
     "execution_count": 85,
     "metadata": {},
     "output_type": "execute_result"
    }
   ],
   "source": []
  },
  {
   "cell_type": "markdown",
   "id": "50a5f5ac",
   "metadata": {},
   "source": [
    ".remove: elimina un elemento por su valor en vez de por su posición "
   ]
  },
  {
   "cell_type": "markdown",
   "id": "b2ec3b33",
   "metadata": {},
   "source": [
    "### Otros métodos útiles "
   ]
  },
  {
   "cell_type": "markdown",
   "id": "394c2a5a",
   "metadata": {},
   "source": [
    "* reverse: retorna la lista del revés. \n",
    "* sort: ordena los elementos de una lista, acorde a un criterio "
   ]
  },
  {
   "cell_type": "code",
   "execution_count": 88,
   "id": "aa2617f3",
   "metadata": {},
   "outputs": [
    {
     "data": {
      "text/plain": [
       "[2, 3, 4]"
      ]
     },
     "execution_count": 88,
     "metadata": {},
     "output_type": "execute_result"
    }
   ],
   "source": [
    "#x.sort()\n",
    "x"
   ]
  },
  {
   "cell_type": "markdown",
   "id": "1a8d9878",
   "metadata": {},
   "source": [
    "### Diccionarios "
   ]
  },
  {
   "cell_type": "markdown",
   "id": "e5d2317b",
   "metadata": {},
   "source": [
    "* Métodos fundamentales: .keys(),.values() devuelven las palabras clave y valores del diccionario. .items() devuelve ambos en forma de tupla "
   ]
  },
  {
   "cell_type": "markdown",
   "id": "55e3712e",
   "metadata": {},
   "source": [
    "Así como existen las list comprehension, este mismo concepto también existe en diccionarios. "
   ]
  },
  {
   "cell_type": "code",
   "execution_count": 117,
   "id": "9be14706",
   "metadata": {},
   "outputs": [
    {
     "data": {
      "text/plain": [
       "[0, 1, 4, 9, 16, 25, 36, 49, 64, 81]"
      ]
     },
     "execution_count": 117,
     "metadata": {},
     "output_type": "execute_result"
    }
   ],
   "source": [
    "[x**2 for x in range(10)]"
   ]
  },
  {
   "cell_type": "code",
   "execution_count": 120,
   "id": "3775aa0a",
   "metadata": {},
   "outputs": [
    {
     "data": {
      "text/plain": [
       "{0: 0, 1: 1, 2: 4, 3: 9, 4: 16, 5: 25, 6: 36, 7: 49, 8: 64, 9: 81}"
      ]
     },
     "execution_count": 120,
     "metadata": {},
     "output_type": "execute_result"
    }
   ],
   "source": [
    "d = {x:x**2 for x in range(10)}\n",
    "d"
   ]
  },
  {
   "cell_type": "code",
   "execution_count": 109,
   "id": "f6028c67",
   "metadata": {},
   "outputs": [],
   "source": [
    "d = {\"saludo_1\":\"hola\",2:\"como estas? \",3:\"bien \"}"
   ]
  },
  {
   "cell_type": "markdown",
   "id": "3a9fb855",
   "metadata": {},
   "source": [
    "### Sets"
   ]
  },
  {
   "cell_type": "code",
   "execution_count": 129,
   "id": "c0db2125",
   "metadata": {},
   "outputs": [
    {
     "data": {
      "text/plain": [
       "{1, 2}"
      ]
     },
     "execution_count": 129,
     "metadata": {},
     "output_type": "execute_result"
    }
   ],
   "source": [
    "s = set([1,1,1,2,1,1,1])\n",
    "s"
   ]
  },
  {
   "cell_type": "markdown",
   "id": "2ed4a2c0",
   "metadata": {},
   "source": [
    "* add: añade un elemento a un set "
   ]
  },
  {
   "cell_type": "code",
   "execution_count": 136,
   "id": "e0016577",
   "metadata": {},
   "outputs": [
    {
     "data": {
      "text/plain": [
       "{4}"
      ]
     },
     "execution_count": 136,
     "metadata": {},
     "output_type": "execute_result"
    }
   ],
   "source": [
    "s.add(4)\n",
    "s"
   ]
  },
  {
   "cell_type": "markdown",
   "id": "2e726a85",
   "metadata": {},
   "source": [
    "* clear: vacía el conjunto "
   ]
  },
  {
   "cell_type": "code",
   "execution_count": 134,
   "id": "a42e2485",
   "metadata": {},
   "outputs": [],
   "source": [
    "s.clear()"
   ]
  },
  {
   "cell_type": "markdown",
   "id": "a2f137a3",
   "metadata": {},
   "source": [
    "* Bastantes operaciones asociadas a teoría de conjuntos, entre las que destacaría difference, intersection, union, update... "
   ]
  },
  {
   "cell_type": "code",
   "execution_count": 143,
   "id": "2245a3c1",
   "metadata": {},
   "outputs": [
    {
     "data": {
      "text/plain": [
       "{1, 2, 3, 'hola'}"
      ]
     },
     "execution_count": 143,
     "metadata": {},
     "output_type": "execute_result"
    }
   ],
   "source": [
    "s_1 = {1,2,3}\n",
    "s_2 = {2,3,\"hola\"}\n",
    "s_2.union(s_1)"
   ]
  },
  {
   "cell_type": "markdown",
   "id": "640c9baa",
   "metadata": {},
   "source": [
    "### Tuplas  "
   ]
  },
  {
   "cell_type": "markdown",
   "id": "d9098df6",
   "metadata": {},
   "source": [
    "Mucho menos desarroladas que las listas, las tuplas se pueden explorar muy fácilmente a través de la documentación. "
   ]
  },
  {
   "cell_type": "code",
   "execution_count": 147,
   "id": "9df86ed0",
   "metadata": {},
   "outputs": [],
   "source": [
    "a = (1,2,3,2)"
   ]
  },
  {
   "cell_type": "code",
   "execution_count": 149,
   "id": "4f8a3f1f",
   "metadata": {},
   "outputs": [
    {
     "data": {
      "text/plain": [
       "1"
      ]
     },
     "execution_count": 149,
     "metadata": {},
     "output_type": "execute_result"
    }
   ],
   "source": [
    "a.index(2)"
   ]
  },
  {
   "cell_type": "code",
   "execution_count": null,
   "id": "2c793736",
   "metadata": {},
   "outputs": [],
   "source": []
  }
 ],
 "metadata": {
  "kernelspec": {
   "display_name": "Python 3 (ipykernel)",
   "language": "python",
   "name": "python3"
  },
  "language_info": {
   "codemirror_mode": {
    "name": "ipython",
    "version": 3
   },
   "file_extension": ".py",
   "mimetype": "text/x-python",
   "name": "python",
   "nbconvert_exporter": "python",
   "pygments_lexer": "ipython3",
   "version": "3.8.10"
  }
 },
 "nbformat": 4,
 "nbformat_minor": 5
}
